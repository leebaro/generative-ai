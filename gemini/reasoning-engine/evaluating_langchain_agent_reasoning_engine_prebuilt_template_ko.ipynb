{
  "cells": [
    {
      "cell_type": "code",
      "execution_count": null,
      "metadata": {
        "id": "ur8xi4C7S06n"
      },
      "outputs": [],
      "source": [
        "# Copyright 2024 Google LLC\n",
        "#\n",
        "# Licensed under the Apache License, Version 2.0 (the \"License\");\n",
        "# you may not use this file except in compliance with the License.\n",
        "# You may obtain a copy of the License at\n",
        "#\n",
        "#     https://www.apache.org/licenses/LICENSE-2.0\n",
        "#\n",
        "# Unless required by applicable law or agreed to in writing, software\n",
        "# distributed under the License is distributed on an \"AS IS\" BASIS,\n",
        "# WITHOUT WARRANTIES OR CONDITIONS OF ANY KIND, either express or implied.\n",
        "# See the License for the specific language governing permissions and\n",
        "# limitations under the License."
      ]
    },
    {
      "cell_type": "markdown",
      "metadata": {
        "id": "JAPoU8Sm5E6e"
      },
      "source": [
        "# Evaluating a LangChain Agent on Vertex AI Reasoning Engine (Prebuilt template)\n",
        "\n",
        "<table align=\"left\">\n",
        "  <td style=\"text-align: center\">\n",
        "    <a href=\"https://colab.research.google.com/github/GoogleCloudPlatform/generative-ai/blob/main/gemini/reasoning-engine/evaluating_langchain_agent_reasoning_engine_prebuilt_template.ipynb\">\n",
        "      <img width=\"32px\" src=\"https://www.gstatic.com/pantheon/images/bigquery/welcome_page/colab-logo.svg\" alt=\"Google Colaboratory logo\"><br> Open in Colab\n",
        "    </a>\n",
        "  </td>\n",
        "  <td style=\"text-align: center\">\n",
        "    <a href=\"https://console.cloud.google.com/vertex-ai/colab/import/https:%2F%2Fraw.githubusercontent.com%2FGoogleCloudPlatform%2Fgenerative-ai%2Fmain%2Fgemini%2Freasoning-engine%2Fevaluating_langchain_agent_reasoning_engine_prebuilt_template.ipynb\">\n",
        "      <img width=\"32px\" src=\"https://lh3.googleusercontent.com/JmcxdQi-qOpctIvWKgPtrzZdJJK-J3sWE1RsfjZNwshCFgE_9fULcNpuXYTilIR2hjwN\" alt=\"Google Cloud Colab Enterprise logo\"><br> Open in Colab Enterprise\n",
        "    </a>\n",
        "  </td>\n",
        "  <td style=\"text-align: center\">\n",
        "    <a href=\"https://console.cloud.google.com/vertex-ai/workbench/deploy-notebook?download_url=https://raw.githubusercontent.com/GoogleCloudPlatform/generative-ai/main/gemini/reasoning-engine/evaluating_langchain_agent_reasoning_engine_prebuilt_template.ipynb\">\n",
        "      <img src=\"https://www.gstatic.com/images/branding/gcpiconscolors/vertexai/v1/32px.svg\" alt=\"Vertex AI logo\"><br> Open in Vertex AI Workbench\n",
        "    </a>\n",
        "  </td>\n",
        "  <td style=\"text-align: center\">\n",
        "    <a href=\"https://github.com/GoogleCloudPlatform/generative-ai/blob/main/gemini/reasoning-engine/evaluating_langchain_agent_reasoning_engine_prebuilt_template.ipynb\">\n",
        "      <img width=\"32px\" src=\"https://upload.wikimedia.org/wikipedia/commons/9/91/Octicons-mark-github.svg\" alt=\"GitHub logo\"><br> View on GitHub\n",
        "    </a>\n",
        "  </td>\n",
        "</table>\n",
        "\n",
        "<div style=\"clear: both;\"></div>\n",
        "\n",
        "<b>Share to:</b>\n",
        "\n",
        "<a href=\"https://www.linkedin.com/sharing/share-offsite/?url=https%3A//github.com/GoogleCloudPlatform/generative-ai/blob/main/gemini/reasoning-engine/evaluating_langchain_agent_reasoning_engine_prebuilt_template.ipynb\" target=\"_blank\">\n",
        "  <img width=\"20px\" src=\"https://upload.wikimedia.org/wikipedia/commons/8/81/LinkedIn_icon.svg\" alt=\"LinkedIn logo\">\n",
        "</a>\n",
        "\n",
        "<a href=\"https://bsky.app/intent/compose?text=https%3A//github.com/GoogleCloudPlatform/generative-ai/blob/main/gemini/reasoning-engine/evaluating_langchain_agent_reasoning_engine_prebuilt_template.ipynb\" target=\"_blank\">\n",
        "  <img width=\"20px\" src=\"https://upload.wikimedia.org/wikipedia/commons/7/7a/Bluesky_Logo.svg\" alt=\"Bluesky logo\">\n",
        "</a>\n",
        "\n",
        "<a href=\"https://twitter.com/intent/tweet?url=https%3A//github.com/GoogleCloudPlatform/generative-ai/blob/main/gemini/reasoning-engine/evaluating_langchain_agent_reasoning_engine_prebuilt_template.ipynb\" target=\"_blank\">\n",
        "  <img width=\"20px\" src=\"https://upload.wikimedia.org/wikipedia/commons/5/53/X_logo_2023_original.svg\" alt=\"X logo\">\n",
        "</a>\n",
        "\n",
        "<a href=\"https://reddit.com/submit?url=https%3A//github.com/GoogleCloudPlatform/generative-ai/blob/main/gemini/reasoning-engine/evaluating_langchain_agent_reasoning_engine_prebuilt_template.ipynb\" target=\"_blank\">\n",
        "  <img width=\"20px\" src=\"https://redditinc.com/hubfs/Reddit%20Inc/Brand/Reddit_Logo.png\" alt=\"Reddit logo\">\n",
        "</a>\n",
        "\n",
        "<a href=\"https://www.facebook.com/sharer/sharer.php?u=https%3A//github.com/GoogleCloudPlatform/generative-ai/blob/main/gemini/reasoning-engine/evaluating_langchain_agent_reasoning_engine_prebuilt_template.ipynb\" target=\"_blank\">\n",
        "  <img width=\"20px\" src=\"https://upload.wikimedia.org/wikipedia/commons/5/51/Facebook_f_logo_%282019%29.svg\" alt=\"Facebook logo\">\n",
        "</a>"
      ]
    },
    {
      "cell_type": "markdown",
      "metadata": {
        "id": "84f0f73a0f76"
      },
      "source": [
        "| | |\n",
        "|-|-|\n",
        "| Authors |  [Naveksha Sood](https://github.com/navekshasood) [Ivan Nardini](https://github.com/inardini) |"
      ]
    },
    {
      "cell_type": "markdown",
      "metadata": {
        "id": "tvgnzT1CKxrO"
      },
      "source": [
        "## 개요\n",
        "\n",
        "모든 생성형 AI 애플리케이션과 마찬가지로, AI 에이전트 역시 안정적이고 효과적으로 작동하는지 확인하기 위해 철저한 평가가 필요합니다. 이러한 평가는 실시간(온라인)으로, 그리고 대규모 테스트 케이스 데이터 세트(오프라인)에서 모두 이루어져야 합니다. 에이전트 애플리케이션을 구축하는 개발자는 성능 평가에 있어 상당한 어려움에 직면합니다. 주관적인(사람의 피드백) 평가와 객관적인(측정 가능한 지표) 평가 모두 에이전트 동작에 대한 신뢰를 구축하는 데 필수적입니다.\n",
        "\n",
        "이 튜토리얼에서는 Vertex AI Gen AI Evaluation을 사용하여 퍼스트 파티 Reasoning Engine Agent를 평가하는 방법을 보여줍니다.\n",
        "\n",
        "이 튜토리얼에서는 다음 Google Cloud 서비스 및 리소스를 사용합니다.\n",
        "\n",
        "* Vertex AI Gen AI Evaluation\n",
        "* Vertex AI Reasoning Engine\n",
        "\n",
        "수행되는 단계는 다음과 같습니다.\n",
        "\n",
        "* LangChain을 사용하여 에이전트 구축 및 배포\n",
        "* 에이전트 평가 데이터 세트 준비\n",
        "* 단일 도구 사용 평가\n",
        "* 궤적 평가\n",
        "* 응답 평가"
      ]
    },
    {
      "cell_type": "markdown",
      "metadata": {
        "id": "61RBz8LLbxCR"
      },
      "source": [
        "## Get started"
      ]
    },
    {
      "cell_type": "markdown",
      "metadata": {
        "id": "No17Cw5hgx12"
      },
      "source": [
        "### Install Vertex AI SDK and other required packages\n"
      ]
    },
    {
      "cell_type": "code",
      "execution_count": 1,
      "metadata": {
        "id": "tFy3H3aPgx12"
      },
      "outputs": [
        {
          "name": "stdout",
          "output_type": "stream",
          "text": [
            "Note: you may need to restart the kernel to use updated packages.\n"
          ]
        }
      ],
      "source": [
        "%pip install --upgrade --user --quiet \"google-cloud-aiplatform[evaluation, langchain, reasoningengine]\" \\\n",
        "    \"langchain_google_vertexai\" \\\n",
        "    \"cloudpickle==3.0.0\" \\\n",
        "    \"pydantic>=2.10\" \\\n",
        "    \"requests\""
      ]
    },
    {
      "cell_type": "markdown",
      "metadata": {
        "id": "R5Xep4W9lq-Z"
      },
      "source": [
        "### Restart runtime\n",
        "\n",
        "To use the newly installed packages in this Jupyter runtime, you must restart the runtime. You can do this by running the cell below, which restarts the current kernel.\n",
        "\n",
        "The restart might take a minute or longer. After it's restarted, continue to the next step."
      ]
    },
    {
      "cell_type": "code",
      "execution_count": null,
      "metadata": {
        "id": "XRvKdaPDTznN"
      },
      "outputs": [],
      "source": [
        "# import IPython\n",
        "\n",
        "# app = IPython.Application.instance()\n",
        "# app.kernel.do_shutdown(True)"
      ]
    },
    {
      "cell_type": "markdown",
      "metadata": {
        "id": "SbmM4z7FOBpM"
      },
      "source": [
        "<div class=\"alert alert-block alert-warning\">\n",
        "<b>⚠️ The kernel is going to restart. In Colab or Colab Enterprise, you might see an error message that says \"Your session crashed for an unknown reason.\" This is expected. Wait until it's finished before continuing to the next step. ⚠️</b>\n",
        "</div>\n"
      ]
    },
    {
      "cell_type": "markdown",
      "metadata": {
        "id": "dmWOrTJ3gx13"
      },
      "source": [
        "### Authenticate your notebook environment (Colab only)\n",
        "\n",
        "If you're running this notebook on Google Colab, run the cell below to authenticate your environment."
      ]
    },
    {
      "cell_type": "code",
      "execution_count": 2,
      "metadata": {
        "id": "NyKGtVQjgx13"
      },
      "outputs": [],
      "source": [
        "# import sys\n",
        "\n",
        "# if \"google.colab\" in sys.modules:\n",
        "#     from google.colab import auth\n",
        "\n",
        "#     auth.authenticate_user()"
      ]
    },
    {
      "cell_type": "markdown",
      "metadata": {
        "id": "DF4l8DTdWgPY"
      },
      "source": [
        "### Set Google Cloud project information and initialize Vertex AI SDK\n",
        "\n",
        "To get started using Vertex AI, you must have an existing Google Cloud project and [enable the Vertex AI API](https://console.cloud.google.com/flows/enableapi?apiid=aiplatform.googleapis.com).\n",
        "\n",
        "Learn more about [setting up a project and a development environment](https://cloud.google.com/vertex-ai/docs/start/cloud-environment)."
      ]
    },
    {
      "cell_type": "code",
      "execution_count": 3,
      "metadata": {},
      "outputs": [
        {
          "data": {
            "text/plain": [
              "True"
            ]
          },
          "execution_count": 3,
          "metadata": {},
          "output_type": "execute_result"
        }
      ],
      "source": [
        "import dotenv\n",
        "import os\n",
        "\n",
        "dotenv.load_dotenv()"
      ]
    },
    {
      "cell_type": "code",
      "execution_count": 4,
      "metadata": {
        "id": "Nqwi-5ufWp_B"
      },
      "outputs": [
        {
          "name": "stdout",
          "output_type": "stream",
          "text": [
            "Creating gs://weverse-dev-mint-bucket/...\n",
            "Creating Tensorboard\n",
            "Create Tensorboard backing LRO: projects/377376242639/locations/us-central1/tensorboards/6791546985330507776/operations/6043520534572957696\n",
            "Tensorboard created. Resource name: projects/377376242639/locations/us-central1/tensorboards/6791546985330507776\n",
            "To use this Tensorboard in another session:\n",
            "tb = aiplatform.Tensorboard('projects/377376242639/locations/us-central1/tensorboards/6791546985330507776')\n"
          ]
        },
        {
          "data": {
            "text/html": [
              "\n",
              "        \n",
              "    <link rel=\"stylesheet\" href=\"https://fonts.googleapis.com/icon?family=Material+Icons\">\n",
              "    <style>\n",
              "      .view-vertex-resource,\n",
              "      .view-vertex-resource:hover,\n",
              "      .view-vertex-resource:visited {\n",
              "        position: relative;\n",
              "        display: inline-flex;\n",
              "        flex-direction: row;\n",
              "        height: 32px;\n",
              "        padding: 0 12px;\n",
              "          margin: 4px 18px;\n",
              "        gap: 4px;\n",
              "        border-radius: 4px;\n",
              "\n",
              "        align-items: center;\n",
              "        justify-content: center;\n",
              "        background-color: rgb(255, 255, 255);\n",
              "        color: rgb(51, 103, 214);\n",
              "\n",
              "        font-family: Roboto,\"Helvetica Neue\",sans-serif;\n",
              "        font-size: 13px;\n",
              "        font-weight: 500;\n",
              "        text-transform: uppercase;\n",
              "        text-decoration: none !important;\n",
              "\n",
              "        transition: box-shadow 280ms cubic-bezier(0.4, 0, 0.2, 1) 0s;\n",
              "        box-shadow: 0px 3px 1px -2px rgba(0,0,0,0.2), 0px 2px 2px 0px rgba(0,0,0,0.14), 0px 1px 5px 0px rgba(0,0,0,0.12);\n",
              "      }\n",
              "      .view-vertex-resource:active {\n",
              "        box-shadow: 0px 5px 5px -3px rgba(0,0,0,0.2),0px 8px 10px 1px rgba(0,0,0,0.14),0px 3px 14px 2px rgba(0,0,0,0.12);\n",
              "      }\n",
              "      .view-vertex-resource:active .view-vertex-ripple::before {\n",
              "        position: absolute;\n",
              "        top: 0;\n",
              "        bottom: 0;\n",
              "        left: 0;\n",
              "        right: 0;\n",
              "        border-radius: 4px;\n",
              "        pointer-events: none;\n",
              "\n",
              "        content: '';\n",
              "        background-color: rgb(51, 103, 214);\n",
              "        opacity: 0.12;\n",
              "      }\n",
              "      .view-vertex-icon {\n",
              "        font-size: 18px;\n",
              "      }\n",
              "    </style>\n",
              "  \n",
              "        <a class=\"view-vertex-resource\" id=\"view-vertex-resource-d71efd52-c285-400a-ae45-85b3485267e9\" href=\"#view-view-vertex-resource-d71efd52-c285-400a-ae45-85b3485267e9\">\n",
              "          <span class=\"material-icons view-vertex-icon\">science</span>\n",
              "          <span>View Experiment</span>\n",
              "        </a>\n",
              "        \n",
              "        <script>\n",
              "          (function () {\n",
              "            const link = document.getElementById('view-vertex-resource-d71efd52-c285-400a-ae45-85b3485267e9');\n",
              "            link.addEventListener('click', (e) => {\n",
              "              if (window.google?.colab?.openUrl) {\n",
              "                window.google.colab.openUrl('https://console.cloud.google.com/vertex-ai/experiments/locations/us-central1/experiments/evaluate-re-agent/runs?project=weverse-dev-mint');\n",
              "              } else {\n",
              "                window.open('https://console.cloud.google.com/vertex-ai/experiments/locations/us-central1/experiments/evaluate-re-agent/runs?project=weverse-dev-mint', '_blank');\n",
              "              }\n",
              "              e.stopPropagation();\n",
              "              e.preventDefault();\n",
              "            });\n",
              "          })();\n",
              "        </script>\n",
              "    "
            ],
            "text/plain": [
              "<IPython.core.display.HTML object>"
            ]
          },
          "metadata": {},
          "output_type": "display_data"
        }
      ],
      "source": [
        "# Use the environment variable if the user doesn't provide Project ID.\n",
        "import os\n",
        "\n",
        "import vertexai\n",
        "\n",
        "# PROJECT_ID = \"[your-project-id]\"  # @param {type: \"string\", placeholder: \"[your-project-id]\", isTemplate: true}\n",
        "PROJECT_ID = os.getenv(\"PROJECT_ID\")\n",
        "\n",
        "if not PROJECT_ID or PROJECT_ID == \"[your-project-id]\":\n",
        "    PROJECT_ID = str(os.environ.get(\"GOOGLE_CLOUD_PROJECT\"))\n",
        "\n",
        "LOCATION = os.environ.get(\"GOOGLE_CLOUD_REGION\", \"us-central1\")\n",
        "\n",
        "BUCKET_NAME = \"[your-bucket-name]\"  # @param {type: \"string\", placeholder: \"[your-bucket-name]\", isTemplate: true}\n",
        "\n",
        "if not BUCKET_NAME or BUCKET_NAME == \"[your-bucket-name]\":\n",
        "    BUCKET_NAME = f\"{PROJECT_ID}-bucket\"\n",
        "\n",
        "BUCKET_URI = f\"gs://{BUCKET_NAME}\"\n",
        "\n",
        "! gsutil mb -p $PROJECT_ID -l $LOCATION $BUCKET_URI\n",
        "\n",
        "EXPERIMENT_NAME = \"evaluate-re-agent\"  # @param {type:\"string\"}\n",
        "\n",
        "vertexai.init(\n",
        "    project=PROJECT_ID,\n",
        "    location=LOCATION,\n",
        "    staging_bucket=BUCKET_URI,\n",
        "    experiment=EXPERIMENT_NAME,\n",
        ")"
      ]
    },
    {
      "cell_type": "markdown",
      "metadata": {
        "id": "5303c05f7aa6"
      },
      "source": [
        "## Import libraries\n",
        "\n",
        "Import tutorial libraries."
      ]
    },
    {
      "cell_type": "code",
      "execution_count": 5,
      "metadata": {
        "id": "6fc324893334"
      },
      "outputs": [],
      "source": [
        "# General\n",
        "import random\n",
        "import string\n",
        "\n",
        "from IPython.display import HTML, Markdown, display\n",
        "\n",
        "# Build agent\n",
        "from google.cloud import aiplatform\n",
        "import pandas as pd\n",
        "import plotly.graph_objects as go\n",
        "from vertexai.preview import reasoning_engines\n",
        "\n",
        "# Evaluate agent\n",
        "from vertexai.preview.evaluation import EvalTask\n",
        "from vertexai.preview.evaluation.metrics import (\n",
        "    PointwiseMetric,\n",
        "    PointwiseMetricPromptTemplate,\n",
        "    TrajectorySingleToolUse,\n",
        ")"
      ]
    },
    {
      "cell_type": "code",
      "execution_count": 12,
      "metadata": {},
      "outputs": [],
      "source": [
        "import langchain\n",
        "\n",
        "langchain.debug = True"
      ]
    },
    {
      "cell_type": "markdown",
      "metadata": {
        "id": "MVnBDX54gz7j"
      },
      "source": [
        "## 헬퍼 함수 정의\n",
        "\n",
        "튜토리얼 결과를 출력하기 위한 헬퍼 함수 집합을 초기화합니다."
      ]
    },
    {
      "cell_type": "code",
      "execution_count": 6,
      "metadata": {
        "id": "uSgWjMD_g1_v"
      },
      "outputs": [],
      "source": [
        "def get_id(length: int = 8) -> str:\n",
        "    \"\"\"Generate a uuid of a specified length (default=8).\"\"\"\n",
        "    return \"\".join(random.choices(string.ascii_lowercase + string.digits, k=length))  # 지정된 길이(기본값=8)의 uuid를 생성합니다.\n",
        "\n",
        "\n",
        "def display_eval_report(eval_result: pd.DataFrame) -> None:\n",
        "    \"\"\"Display the evaluation results.\"\"\"\n",
        "    # eval_result.summary_metrics 딕셔너리에서 Pandas DataFrame을 생성합니다.\n",
        "    # orient=\"index\"는 딕셔너리의 키를 DataFrame의 인덱스로 사용하도록 지정합니다.\n",
        "    # .T는 DataFrame을 전치하여 요약 지표가 올바른 형식으로 표시되도록 합니다.\n",
        "    metrics_df = pd.DataFrame.from_dict(eval_result.summary_metrics, orient=\"index\").T\n",
        "    display(Markdown(\"### Summary Metrics\"))  # 요약 지표를 표시합니다.\n",
        "    display(metrics_df)  # 지표 데이터프레임을 표시합니다.\n",
        "\n",
        "    display(Markdown(f\"### Row-wise Metrics\"))  # 행별 지표를 표시합니다.\n",
        "    display(eval_result.metrics_table)  # 지표 테이블을 표시합니다.\n",
        "\n",
        "\n",
        "def display_drilldown(row: pd.Series) -> None:\n",
        "    \"\"\"Displays a drill-down view for trajectory data within a row.\"\"\"\n",
        "\n",
        "    style = \"white-space: pre-wrap; width: 800px; overflow-x: auto;\"  # 스타일을 정의합니다.\n",
        "\n",
        "    if not (\n",
        "        isinstance(row[\"predicted_trajectory\"], list)\n",
        "        and isinstance(row[\"reference_trajectory\"], list)\n",
        "    ):  # 예측된 궤적과 참조 궤적이 모두 리스트인지 확인합니다.\n",
        "        return  # 그렇지 않으면 반환합니다.\n",
        "\n",
        "    for predicted_trajectory, reference_trajectory in zip(\n",
        "        row[\"predicted_trajectory\"], row[\"reference_trajectory\"]\n",
        "    ):  # 예측된 궤적과 참조 궤적을 반복합니다.\n",
        "        display(\n",
        "            HTML(\n",
        "                f\"<h3>Tool Names:</h3><div style='{style}'>{predicted_trajectory['tool_name'], reference_trajectory['tool_name']}</div>\"\n",
        "            )\n",
        "        )  # 도구 이름을 표시합니다.\n",
        "\n",
        "        if not (\n",
        "            isinstance(predicted_trajectory.get(\"tool_input\"), dict)\n",
        "            and isinstance(reference_trajectory.get(\"tool_input\"), dict)\n",
        "        ):  # 예측된 궤적과 참조 궤적의 도구 입력이 모두 딕셔너리인지 확인합니다.\n",
        "            continue  # 그렇지 않으면 계속합니다.\n",
        "\n",
        "        for tool_input_key in predicted_trajectory[\"tool_input\"]:  # 예측된 궤적의 도구 입력을 반복합니다.\n",
        "            print(\"Tool Input Key: \", tool_input_key)  # 도구 입력 키를 출력합니다.\n",
        "\n",
        "            if tool_input_key in reference_trajectory[\"tool_input\"]:  # 도구 입력 키가 참조 궤적에 있는지 확인합니다.\n",
        "                print(\n",
        "                    \"Tool Values: \",\n",
        "                    predicted_trajectory[\"tool_input\"][tool_input_key],\n",
        "                    reference_trajectory[\"tool_input\"][tool_input_key],\n",
        "                )  # 도구 값을 출력합니다.\n",
        "            else:\n",
        "                print(\n",
        "                    \"Tool Values: \",\n",
        "                    predicted_trajectory[\"tool_input\"][tool_input_key],\n",
        "                    \"N/A\",\n",
        "                )  # 도구 값을 출력합니다.\n",
        "        print(\"\\n\")  # 새 줄을 출력합니다.\n",
        "    display(HTML(\"<hr>\"))  # 가로선을 표시합니다.\n",
        "\n",
        "\n",
        "def display_dataframe_rows(\n",
        "    df: pd.DataFrame,\n",
        "    columns: list[str] | None = None,\n",
        "    num_rows: int = 3,\n",
        "    display_drilldown: bool = False,\n",
        ") -> None:\n",
        "    \"\"\"Displays a subset of rows from a DataFrame, optionally including a drill-down view.\"\"\"\n",
        "\n",
        "    if columns:  # 열이 지정된 경우\n",
        "        df = df[columns]  # 데이터프레임을 해당 열로 필터링합니다.\n",
        "\n",
        "    base_style = \"font-family: monospace; font-size: 14px; white-space: pre-wrap; width: auto; overflow-x: auto;\"  # 기본 스타일을 정의합니다.\n",
        "    header_style = base_style + \"font-weight: bold;\"  # 헤더 스타일을 정의합니다.\n",
        "\n",
        "    for _, row in df.head(num_rows).iterrows():  # 데이터프레임의 처음 num_rows 행을 반복합니다.\n",
        "        for column in df.columns:  # 데이터프레임의 열을 반복합니다.\n",
        "            display(\n",
        "                HTML(\n",
        "                    f\"<span style='{header_style}'>{column.replace('_', ' ').title()}: </span>\"\n",
        "                )\n",
        "            )  # 헤더를 표시합니다.\n",
        "            display(HTML(f\"<span style='{base_style}'>{row[column]}</span><br>\"))  # 값을 표시합니다.\n",
        "\n",
        "        display(HTML(\"<hr>\"))  # 가로선을 표시합니다.\n",
        "\n",
        "        if (\n",
        "            display_drilldown\n",
        "            and \"predicted_trajectory\" in df.columns\n",
        "            and \"reference_trajectory\" in df.columns\n",
        "        ):  # 드릴다운을 표시해야 하는 경우\n",
        "            display_drilldown(row)  # 드릴다운을 표시합니다.\n",
        "\n",
        "\n",
        "def plot_bar_plot(\n",
        "    eval_result: pd.DataFrame, title: str, metrics: list[str] = None\n",
        ") -> None:\n",
        "    fig = go.Figure()  # Figure 객체를 생성합니다.\n",
        "    data = []  # 데이터를 저장할 리스트를 초기화합니다.\n",
        "\n",
        "    summary_metrics = eval_result.summary_metrics  # 요약 지표를 가져옵니다.\n",
        "    if metrics:  # 지표가 지정된 경우\n",
        "        summary_metrics = {\n",
        "            k: summary_metrics[k]\n",
        "            for k, v in summary_metrics.items()\n",
        "            if any(selected_metric in k for selected_metric in metrics)\n",
        "        }  # 지정된 지표만 필터링합니다.\n",
        "\n",
        "    data.append(\n",
        "        go.Bar(\n",
        "            x=list(summary_metrics.keys()),\n",
        "            y=list(summary_metrics.values()),\n",
        "            name=title,\n",
        "        )\n",
        "    )  # 막대 그래프 데이터를 추가합니다.\n",
        "\n",
        "    fig = go.Figure(data=data)  # Figure 객체를 생성합니다.\n",
        "\n",
        "    # Change the bar mode\n",
        "    fig.update_layout(barmode=\"group\")  # 레이아웃을 업데이트합니다.\n",
        "    fig.show()  # 그래프를 표시합니다.\n",
        "\n",
        "\n",
        "def display_radar_plot(eval_results, title: str, metrics=None):\n",
        "    \"\"\"Plot the radar plot.\"\"\"\n",
        "    fig = go.Figure()  # Figure 객체를 생성합니다.\n",
        "    summary_metrics = eval_results.summary_metrics  # 요약 지표를 가져옵니다.\n",
        "    if metrics:  # 지표가 지정된 경우\n",
        "        summary_metrics = {\n",
        "            k: summary_metrics[k]\n",
        "            for k, v in summary_metrics.items()\n",
        "            if any(selected_metric in k for selected_metric in metrics)\n",
        "        }  # 지정된 지표만 필터링합니다.\n",
        "\n",
        "    min_val = min(summary_metrics.values())  # 최소값을 가져옵니다.\n",
        "    max_val = max(summary_metrics.values())  # 최대값을 가져옵니다.\n",
        "\n",
        "    fig.add_trace(\n",
        "        go.Scatterpolar(\n",
        "            r=list(summary_metrics.values()),\n",
        "            theta=list(summary_metrics.keys()),\n",
        "            fill=\"toself\",\n",
        "            name=title,\n",
        "        )\n",
        "    )  # 레이더 차트 데이터를 추가합니다.\n",
        "    fig.update_layout(\n",
        "        title=title,\n",
        "        polar=dict(radialaxis=dict(visible=True, range=[min_val, max_val])),\n",
        "        showlegend=True,\n",
        "    )  # 레이아웃을 업데이트합니다.\n",
        "    fig.show()  # 그래프를 표시합니다."
      ]
    },
    {
      "cell_type": "markdown",
      "metadata": {
        "id": "bDaa2Mtsifmq"
      },
      "source": [
        "## Vertex AI Reasoning Engine의 사전 구축된 템플릿을 사용하여 LangChain 에이전트 구축 및 배포\n",
        "\n",
        "Gemini 모델 및 사용자가 정의한 사용자 정의 도구를 포함하여 LangChain을 사용하여 애플리케이션을 구축하고 배포합니다.\n"
      ]
    },
    {
      "cell_type": "markdown",
      "metadata": {
        "id": "KHwShhpOitKp"
      },
      "source": [
        "### 도구 설정\n",
        "\n",
        "시작하려면 에이전트가 작업을 수행하는 데 필요한 몇 가지 도구를 만드십시오. 이 Colab에는 데이터베이스가 있다고 가정하지만 실제 에이전트의 경우 데이터베이스 또는 타사 시스템에 연결합니다."
      ]
    },
    {
      "cell_type": "code",
      "execution_count": 7,
      "metadata": {
        "id": "gA2ZKvfeislw"
      },
      "outputs": [],
      "source": [
        "def get_product_details(product_name: str):\n",
        "    \"\"\"Gathers basic details about a product.\"\"\"\n",
        "    details = {\n",
        "        \"smartphone\": \"A cutting-edge smartphone with advanced camera features and lightning-fast processing.\",\n",
        "        \"usb charger\": \"A super fast and light usb charger\",\n",
        "        \"shoes\": \"High-performance running shoes designed for comfort, support, and speed.\",\n",
        "        \"headphones\": \"Wireless headphones with advanced noise cancellation technology for immersive audio.\",\n",
        "        \"speaker\": \"A voice-controlled smart speaker that plays music, sets alarms, and controls smart home devices.\",\n",
        "    }\n",
        "    return details.get(product_name, \"Product details not found.\")\n",
        "\n",
        "\n",
        "def get_product_price(product_name: str):\n",
        "    \"\"\"Gathers price about a product.\"\"\"\n",
        "    details = {\n",
        "        \"smartphone\": 500,\n",
        "        \"usb charger\": 10,\n",
        "        \"shoes\": 100,\n",
        "        \"headphones\": 50,\n",
        "        \"speaker\": 80,\n",
        "    }\n",
        "    return details.get(product_name, \"Product price not found.\")"
      ]
    },
    {
      "cell_type": "markdown",
      "metadata": {
        "id": "l4mk5XPui4Y1"
      },
      "source": [
        "### 모델 설정\n",
        "\n",
        "에이전트가 사용할 Gemini AI 모델을 선택하세요. Gemini와 다양한 기능에 대해 궁금하다면 [공식 문서](https://cloud.google.com/vertex-ai/generative-ai/docs/learn/models)에서 자세한 내용을 확인하세요."
      ]
    },
    {
      "cell_type": "code",
      "execution_count": 8,
      "metadata": {
        "id": "BaYeo6K2i-w1"
      },
      "outputs": [],
      "source": [
        "model = \"gemini-1.5-pro\""
      ]
    },
    {
      "cell_type": "markdown",
      "metadata": {
        "id": "tNlAY9cojEWz"
      },
      "source": [
        "### 에이전트 조립(assemble)\n",
        "\n",
        "[Vertex AI Reasoning Engine](https://cloud.google.com/vertex-ai/generative-ai/docs/reasoning-engine/deploy)을 사용하여 LangChain 에이전트를 만들려면 LangchainAgent 클래스를 사용하세요. 이 클래스는 표준 템플릿으로 에이전트를 빠르게 실행하는 도움이 됩니다. 처음부터 시작할 필요 없이 에이전트를 구축하는 바로 가기라고 생각하세요. LangchainAgent는 기본 구조와 초기 구성을 처리하므로 에이전트를 바로 사용할 수 있습니다.\n",
        "\n",
        "> 에이전트가 수행한 도구 호출을 반환하여 평가할 수 있도록 하는 추가 매개변수 `agent_executor_kwargs`에 유의하세요.\n",
        "\n",
        "Vertex AI Gen AI 평가는 'Queryable' 에이전트(이 경우와 같이)와 직접 작동하며 특정 구조(서명)로 사용자 정의 함수를 추가할 수도 있습니다."
      ]
    },
    {
      "cell_type": "code",
      "execution_count": 13,
      "metadata": {
        "id": "dAFdi7SujGP8"
      },
      "outputs": [],
      "source": [
        "local_1p_agent = reasoning_engines.LangchainAgent(\n",
        "    model=model,\n",
        "    tools=[get_product_details, get_product_price],\n",
        "    agent_executor_kwargs={\"return_intermediate_steps\": True},\n",
        ")"
      ]
    },
    {
      "cell_type": "markdown",
      "metadata": {
        "id": "_HGcs6PVjRj_"
      },
      "source": [
        "### 로컬 에이전트 테스트\n",
        "\n",
        "에이전트에 쿼리하세요."
      ]
    },
    {
      "cell_type": "code",
      "execution_count": 14,
      "metadata": {
        "id": "lGb58OJkjUs9"
      },
      "outputs": [
        {
          "name": "stdout",
          "output_type": "stream",
          "text": [
            "\u001b[32;1m\u001b[1;3m[chain/start]\u001b[0m \u001b[1m[chain:AgentExecutor] Entering Chain run with input:\n",
            "\u001b[0m{\n",
            "  \"input\": \"Get product details for shoes\"\n",
            "}\n",
            "\u001b[32;1m\u001b[1;3m[chain/start]\u001b[0m \u001b[1m[chain:AgentExecutor > chain:RunnableSequence] Entering Chain run with input:\n",
            "\u001b[0m{\n",
            "  \"input\": \"\"\n",
            "}\n",
            "\u001b[32;1m\u001b[1;3m[chain/start]\u001b[0m \u001b[1m[chain:AgentExecutor > chain:RunnableSequence > chain:RunnableParallel<input,agent_scratchpad>] Entering Chain run with input:\n",
            "\u001b[0m{\n",
            "  \"input\": \"\"\n",
            "}\n",
            "\u001b[32;1m\u001b[1;3m[chain/start]\u001b[0m \u001b[1m[chain:AgentExecutor > chain:RunnableSequence > chain:RunnableParallel<input,agent_scratchpad> > chain:RunnableLambda] Entering Chain run with input:\n",
            "\u001b[0m{\n",
            "  \"input\": \"\"\n",
            "}\n",
            "\u001b[32;1m\u001b[1;3m[chain/start]\u001b[0m \u001b[1m[chain:AgentExecutor > chain:RunnableSequence > chain:RunnableParallel<input,agent_scratchpad> > chain:RunnableLambda] Entering Chain run with input:\n",
            "\u001b[0m{\n",
            "  \"input\": \"\"\n",
            "}\n",
            "\u001b[36;1m\u001b[1;3m[chain/end]\u001b[0m \u001b[1m[chain:AgentExecutor > chain:RunnableSequence > chain:RunnableParallel<input,agent_scratchpad> > chain:RunnableLambda] [0ms] Exiting Chain run with output:\n",
            "\u001b[0m{\n",
            "  \"output\": \"Get product details for shoes\"\n",
            "}\n",
            "\u001b[36;1m\u001b[1;3m[chain/end]\u001b[0m \u001b[1m[chain:AgentExecutor > chain:RunnableSequence > chain:RunnableParallel<input,agent_scratchpad> > chain:RunnableLambda] [0ms] Exiting Chain run with output:\n",
            "\u001b[0m{\n",
            "  \"output\": []\n",
            "}\n",
            "\u001b[36;1m\u001b[1;3m[chain/end]\u001b[0m \u001b[1m[chain:AgentExecutor > chain:RunnableSequence > chain:RunnableParallel<input,agent_scratchpad>] [1ms] Exiting Chain run with output:\n",
            "\u001b[0m{\n",
            "  \"input\": \"Get product details for shoes\",\n",
            "  \"agent_scratchpad\": []\n",
            "}\n",
            "\u001b[32;1m\u001b[1;3m[chain/start]\u001b[0m \u001b[1m[chain:AgentExecutor > chain:RunnableSequence > prompt:ChatPromptTemplate] Entering Prompt run with input:\n",
            "\u001b[0m{\n",
            "  \"input\": \"Get product details for shoes\",\n",
            "  \"agent_scratchpad\": []\n",
            "}\n",
            "\u001b[36;1m\u001b[1;3m[chain/end]\u001b[0m \u001b[1m[chain:AgentExecutor > chain:RunnableSequence > prompt:ChatPromptTemplate] [0ms] Exiting Prompt run with output:\n",
            "\u001b[0m[outputs]\n",
            "\u001b[32;1m\u001b[1;3m[llm/start]\u001b[0m \u001b[1m[chain:AgentExecutor > chain:RunnableSequence > llm:ChatVertexAI] Entering LLM run with input:\n",
            "\u001b[0m{\n",
            "  \"prompts\": [\n",
            "    \"Human: Get product details for shoes\"\n",
            "  ]\n",
            "}\n",
            "\u001b[36;1m\u001b[1;3m[llm/end]\u001b[0m \u001b[1m[chain:AgentExecutor > chain:RunnableSequence > llm:ChatVertexAI] [3.36s] Exiting LLM run with output:\n",
            "\u001b[0m{\n",
            "  \"generations\": [\n",
            "    [\n",
            "      {\n",
            "        \"text\": \"\",\n",
            "        \"generation_info\": {\n",
            "          \"safety_ratings\": [\n",
            "            {\n",
            "              \"category\": \"HARM_CATEGORY_HATE_SPEECH\",\n",
            "              \"probability_label\": \"NEGLIGIBLE\",\n",
            "              \"probability_score\": 0.0966796875,\n",
            "              \"blocked\": false,\n",
            "              \"severity\": \"HARM_SEVERITY_NEGLIGIBLE\",\n",
            "              \"severity_score\": 0.11767578125\n",
            "            },\n",
            "            {\n",
            "              \"category\": \"HARM_CATEGORY_DANGEROUS_CONTENT\",\n",
            "              \"probability_label\": \"NEGLIGIBLE\",\n",
            "              \"probability_score\": 0.11279296875,\n",
            "              \"blocked\": false,\n",
            "              \"severity\": \"HARM_SEVERITY_NEGLIGIBLE\",\n",
            "              \"severity_score\": 0.11767578125\n",
            "            },\n",
            "            {\n",
            "              \"category\": \"HARM_CATEGORY_HARASSMENT\",\n",
            "              \"probability_label\": \"NEGLIGIBLE\",\n",
            "              \"probability_score\": 0.130859375,\n",
            "              \"blocked\": false,\n",
            "              \"severity\": \"HARM_SEVERITY_NEGLIGIBLE\",\n",
            "              \"severity_score\": 0.057373046875\n",
            "            },\n",
            "            {\n",
            "              \"category\": \"HARM_CATEGORY_SEXUALLY_EXPLICIT\",\n",
            "              \"probability_label\": \"NEGLIGIBLE\",\n",
            "              \"probability_score\": 0.059326171875,\n",
            "              \"blocked\": false,\n",
            "              \"severity\": \"HARM_SEVERITY_NEGLIGIBLE\",\n",
            "              \"severity_score\": 0.04736328125\n",
            "            }\n",
            "          ],\n",
            "          \"finish_reason\": \"STOP\"\n",
            "        },\n",
            "        \"type\": \"ChatGenerationChunk\",\n",
            "        \"message\": {\n",
            "          \"lc\": 1,\n",
            "          \"type\": \"constructor\",\n",
            "          \"id\": [\n",
            "            \"langchain\",\n",
            "            \"schema\",\n",
            "            \"messages\",\n",
            "            \"AIMessageChunk\"\n",
            "          ],\n",
            "          \"kwargs\": {\n",
            "            \"content\": \"\",\n",
            "            \"additional_kwargs\": {\n",
            "              \"function_call\": {\n",
            "                \"name\": \"get_product_details\",\n",
            "                \"arguments\": \"{\\\"product_name\\\": \\\"shoes\\\"}\"\n",
            "              }\n",
            "            },\n",
            "            \"response_metadata\": {\n",
            "              \"safety_ratings\": [\n",
            "                {\n",
            "                  \"category\": \"HARM_CATEGORY_HATE_SPEECH\",\n",
            "                  \"probability_label\": \"NEGLIGIBLE\",\n",
            "                  \"probability_score\": 0.0966796875,\n",
            "                  \"blocked\": false,\n",
            "                  \"severity\": \"HARM_SEVERITY_NEGLIGIBLE\",\n",
            "                  \"severity_score\": 0.11767578125\n",
            "                },\n",
            "                {\n",
            "                  \"category\": \"HARM_CATEGORY_DANGEROUS_CONTENT\",\n",
            "                  \"probability_label\": \"NEGLIGIBLE\",\n",
            "                  \"probability_score\": 0.11279296875,\n",
            "                  \"blocked\": false,\n",
            "                  \"severity\": \"HARM_SEVERITY_NEGLIGIBLE\",\n",
            "                  \"severity_score\": 0.11767578125\n",
            "                },\n",
            "                {\n",
            "                  \"category\": \"HARM_CATEGORY_HARASSMENT\",\n",
            "                  \"probability_label\": \"NEGLIGIBLE\",\n",
            "                  \"probability_score\": 0.130859375,\n",
            "                  \"blocked\": false,\n",
            "                  \"severity\": \"HARM_SEVERITY_NEGLIGIBLE\",\n",
            "                  \"severity_score\": 0.057373046875\n",
            "                },\n",
            "                {\n",
            "                  \"category\": \"HARM_CATEGORY_SEXUALLY_EXPLICIT\",\n",
            "                  \"probability_label\": \"NEGLIGIBLE\",\n",
            "                  \"probability_score\": 0.059326171875,\n",
            "                  \"blocked\": false,\n",
            "                  \"severity\": \"HARM_SEVERITY_NEGLIGIBLE\",\n",
            "                  \"severity_score\": 0.04736328125\n",
            "                }\n",
            "              ],\n",
            "              \"finish_reason\": \"STOP\"\n",
            "            },\n",
            "            \"type\": \"AIMessageChunk\",\n",
            "            \"id\": \"run-2d205a81-fd98-4523-8f53-0ae2b1f464b3\",\n",
            "            \"tool_calls\": [\n",
            "              {\n",
            "                \"name\": \"get_product_details\",\n",
            "                \"args\": {\n",
            "                  \"product_name\": \"shoes\"\n",
            "                },\n",
            "                \"id\": \"119b5f47-59be-4dad-9b06-84cfce0b9758\",\n",
            "                \"type\": \"tool_call\"\n",
            "              }\n",
            "            ],\n",
            "            \"usage_metadata\": {\n",
            "              \"input_tokens\": 42,\n",
            "              \"output_tokens\": 9,\n",
            "              \"total_tokens\": 51\n",
            "            },\n",
            "            \"tool_call_chunks\": [\n",
            "              {\n",
            "                \"name\": \"get_product_details\",\n",
            "                \"args\": \"{\\\"product_name\\\": \\\"shoes\\\"}\",\n",
            "                \"id\": \"119b5f47-59be-4dad-9b06-84cfce0b9758\",\n",
            "                \"index\": null,\n",
            "                \"type\": \"tool_call_chunk\"\n",
            "              }\n",
            "            ],\n",
            "            \"invalid_tool_calls\": []\n",
            "          }\n",
            "        }\n",
            "      }\n",
            "    ]\n",
            "  ],\n",
            "  \"llm_output\": null,\n",
            "  \"run\": null,\n",
            "  \"type\": \"LLMResult\"\n",
            "}\n",
            "\u001b[32;1m\u001b[1;3m[chain/start]\u001b[0m \u001b[1m[chain:AgentExecutor > chain:RunnableSequence > parser:ToolsAgentOutputParser] Entering Parser run with input:\n",
            "\u001b[0m[inputs]\n",
            "\u001b[36;1m\u001b[1;3m[chain/end]\u001b[0m \u001b[1m[chain:AgentExecutor > chain:RunnableSequence > parser:ToolsAgentOutputParser] [0ms] Exiting Parser run with output:\n",
            "\u001b[0m[outputs]\n",
            "\u001b[36;1m\u001b[1;3m[chain/end]\u001b[0m \u001b[1m[chain:AgentExecutor > chain:RunnableSequence] [3.37s] Exiting Chain run with output:\n",
            "\u001b[0m[outputs]\n",
            "\u001b[32;1m\u001b[1;3m[tool/start]\u001b[0m \u001b[1m[chain:AgentExecutor > tool:get_product_details] Entering Tool run with input:\n",
            "\u001b[0m\"{'product_name': 'shoes'}\"\n",
            "\u001b[36;1m\u001b[1;3m[tool/end]\u001b[0m \u001b[1m[chain:AgentExecutor > tool:get_product_details] [0ms] Exiting Tool run with output:\n",
            "\u001b[0m\"High-performance running shoes designed for comfort, support, and speed.\"\n",
            "\u001b[32;1m\u001b[1;3m[chain/start]\u001b[0m \u001b[1m[chain:AgentExecutor > chain:RunnableSequence] Entering Chain run with input:\n",
            "\u001b[0m{\n",
            "  \"input\": \"\"\n",
            "}\n",
            "\u001b[32;1m\u001b[1;3m[chain/start]\u001b[0m \u001b[1m[chain:AgentExecutor > chain:RunnableSequence > chain:RunnableParallel<input,agent_scratchpad>] Entering Chain run with input:\n",
            "\u001b[0m{\n",
            "  \"input\": \"\"\n",
            "}\n",
            "\u001b[32;1m\u001b[1;3m[chain/start]\u001b[0m \u001b[1m[chain:AgentExecutor > chain:RunnableSequence > chain:RunnableParallel<input,agent_scratchpad> > chain:RunnableLambda] Entering Chain run with input:\n",
            "\u001b[0m{\n",
            "  \"input\": \"\"\n",
            "}\n",
            "\u001b[32;1m\u001b[1;3m[chain/start]\u001b[0m \u001b[1m[chain:AgentExecutor > chain:RunnableSequence > chain:RunnableParallel<input,agent_scratchpad> > chain:RunnableLambda] Entering Chain run with input:\n",
            "\u001b[0m{\n",
            "  \"input\": \"\"\n",
            "}\n",
            "\u001b[36;1m\u001b[1;3m[chain/end]\u001b[0m \u001b[1m[chain:AgentExecutor > chain:RunnableSequence > chain:RunnableParallel<input,agent_scratchpad> > chain:RunnableLambda] [0ms] Exiting Chain run with output:\n",
            "\u001b[0m{\n",
            "  \"output\": \"Get product details for shoes\"\n",
            "}\n",
            "\u001b[36;1m\u001b[1;3m[chain/end]\u001b[0m \u001b[1m[chain:AgentExecutor > chain:RunnableSequence > chain:RunnableParallel<input,agent_scratchpad> > chain:RunnableLambda] [0ms] Exiting Chain run with output:\n",
            "\u001b[0m[outputs]\n",
            "\u001b[36;1m\u001b[1;3m[chain/end]\u001b[0m \u001b[1m[chain:AgentExecutor > chain:RunnableSequence > chain:RunnableParallel<input,agent_scratchpad>] [1ms] Exiting Chain run with output:\n",
            "\u001b[0m[outputs]\n",
            "\u001b[32;1m\u001b[1;3m[chain/start]\u001b[0m \u001b[1m[chain:AgentExecutor > chain:RunnableSequence > prompt:ChatPromptTemplate] Entering Prompt run with input:\n",
            "\u001b[0m[inputs]\n",
            "\u001b[36;1m\u001b[1;3m[chain/end]\u001b[0m \u001b[1m[chain:AgentExecutor > chain:RunnableSequence > prompt:ChatPromptTemplate] [0ms] Exiting Prompt run with output:\n",
            "\u001b[0m[outputs]\n",
            "\u001b[32;1m\u001b[1;3m[llm/start]\u001b[0m \u001b[1m[chain:AgentExecutor > chain:RunnableSequence > llm:ChatVertexAI] Entering LLM run with input:\n",
            "\u001b[0m{\n",
            "  \"prompts\": [\n",
            "    \"Human: Get product details for shoes\\nAI: {'name': 'get_product_details', 'arguments': '{\\\"product_name\\\": \\\"shoes\\\"}'}\\nTool: High-performance running shoes designed for comfort, support, and speed.\"\n",
            "  ]\n",
            "}\n",
            "\u001b[36;1m\u001b[1;3m[llm/end]\u001b[0m \u001b[1m[chain:AgentExecutor > chain:RunnableSequence > llm:ChatVertexAI] [1.33s] Exiting LLM run with output:\n",
            "\u001b[0m{\n",
            "  \"generations\": [\n",
            "    [\n",
            "      {\n",
            "        \"text\": \"High-performance running shoes designed for comfort, support, and speed. \\n\",\n",
            "        \"generation_info\": {\n",
            "          \"safety_ratings\": [\n",
            "            {\n",
            "              \"category\": \"HARM_CATEGORY_HATE_SPEECH\",\n",
            "              \"probability_label\": \"NEGLIGIBLE\",\n",
            "              \"probability_score\": 0.08740234375,\n",
            "              \"blocked\": false,\n",
            "              \"severity\": \"HARM_SEVERITY_NEGLIGIBLE\",\n",
            "              \"severity_score\": 0.059326171875\n",
            "            },\n",
            "            {\n",
            "              \"category\": \"HARM_CATEGORY_DANGEROUS_CONTENT\",\n",
            "              \"probability_label\": \"NEGLIGIBLE\",\n",
            "              \"probability_score\": 0.064453125,\n",
            "              \"blocked\": false,\n",
            "              \"severity\": \"HARM_SEVERITY_NEGLIGIBLE\",\n",
            "              \"severity_score\": 0.048828125\n",
            "            },\n",
            "            {\n",
            "              \"category\": \"HARM_CATEGORY_HARASSMENT\",\n",
            "              \"probability_label\": \"NEGLIGIBLE\",\n",
            "              \"probability_score\": 0.119140625,\n",
            "              \"blocked\": false,\n",
            "              \"severity\": \"HARM_SEVERITY_NEGLIGIBLE\",\n",
            "              \"severity_score\": 0.068359375\n",
            "            },\n",
            "            {\n",
            "              \"category\": \"HARM_CATEGORY_SEXUALLY_EXPLICIT\",\n",
            "              \"probability_label\": \"NEGLIGIBLE\",\n",
            "              \"probability_score\": 0.05029296875,\n",
            "              \"blocked\": false,\n",
            "              \"severity\": \"HARM_SEVERITY_NEGLIGIBLE\",\n",
            "              \"severity_score\": 0.048095703125\n",
            "            }\n",
            "          ],\n",
            "          \"finish_reason\": \"STOP\"\n",
            "        },\n",
            "        \"type\": \"ChatGenerationChunk\",\n",
            "        \"message\": {\n",
            "          \"lc\": 1,\n",
            "          \"type\": \"constructor\",\n",
            "          \"id\": [\n",
            "            \"langchain\",\n",
            "            \"schema\",\n",
            "            \"messages\",\n",
            "            \"AIMessageChunk\"\n",
            "          ],\n",
            "          \"kwargs\": {\n",
            "            \"content\": \"High-performance running shoes designed for comfort, support, and speed. \\n\",\n",
            "            \"response_metadata\": {\n",
            "              \"safety_ratings\": [\n",
            "                {\n",
            "                  \"category\": \"HARM_CATEGORY_HATE_SPEECH\",\n",
            "                  \"probability_label\": \"NEGLIGIBLE\",\n",
            "                  \"probability_score\": 0.08740234375,\n",
            "                  \"blocked\": false,\n",
            "                  \"severity\": \"HARM_SEVERITY_NEGLIGIBLE\",\n",
            "                  \"severity_score\": 0.059326171875\n",
            "                },\n",
            "                {\n",
            "                  \"category\": \"HARM_CATEGORY_DANGEROUS_CONTENT\",\n",
            "                  \"probability_label\": \"NEGLIGIBLE\",\n",
            "                  \"probability_score\": 0.064453125,\n",
            "                  \"blocked\": false,\n",
            "                  \"severity\": \"HARM_SEVERITY_NEGLIGIBLE\",\n",
            "                  \"severity_score\": 0.048828125\n",
            "                },\n",
            "                {\n",
            "                  \"category\": \"HARM_CATEGORY_HARASSMENT\",\n",
            "                  \"probability_label\": \"NEGLIGIBLE\",\n",
            "                  \"probability_score\": 0.119140625,\n",
            "                  \"blocked\": false,\n",
            "                  \"severity\": \"HARM_SEVERITY_NEGLIGIBLE\",\n",
            "                  \"severity_score\": 0.068359375\n",
            "                },\n",
            "                {\n",
            "                  \"category\": \"HARM_CATEGORY_SEXUALLY_EXPLICIT\",\n",
            "                  \"probability_label\": \"NEGLIGIBLE\",\n",
            "                  \"probability_score\": 0.05029296875,\n",
            "                  \"blocked\": false,\n",
            "                  \"severity\": \"HARM_SEVERITY_NEGLIGIBLE\",\n",
            "                  \"severity_score\": 0.048095703125\n",
            "                }\n",
            "              ],\n",
            "              \"finish_reason\": \"STOP\"\n",
            "            },\n",
            "            \"type\": \"AIMessageChunk\",\n",
            "            \"id\": \"run-748e7750-eedc-44c7-bf7d-9d796b0a4aed\",\n",
            "            \"usage_metadata\": {\n",
            "              \"input_tokens\": 71,\n",
            "              \"output_tokens\": 16,\n",
            "              \"total_tokens\": 87\n",
            "            },\n",
            "            \"tool_calls\": [],\n",
            "            \"invalid_tool_calls\": []\n",
            "          }\n",
            "        }\n",
            "      }\n",
            "    ]\n",
            "  ],\n",
            "  \"llm_output\": null,\n",
            "  \"run\": null,\n",
            "  \"type\": \"LLMResult\"\n",
            "}\n",
            "\u001b[32;1m\u001b[1;3m[chain/start]\u001b[0m \u001b[1m[chain:AgentExecutor > chain:RunnableSequence > parser:ToolsAgentOutputParser] Entering Parser run with input:\n",
            "\u001b[0m[inputs]\n",
            "\u001b[36;1m\u001b[1;3m[chain/end]\u001b[0m \u001b[1m[chain:AgentExecutor > chain:RunnableSequence > parser:ToolsAgentOutputParser] [0ms] Exiting Parser run with output:\n",
            "\u001b[0m[outputs]\n",
            "\u001b[36;1m\u001b[1;3m[chain/end]\u001b[0m \u001b[1m[chain:AgentExecutor > chain:RunnableSequence] [1.34s] Exiting Chain run with output:\n",
            "\u001b[0m[outputs]\n",
            "\u001b[36;1m\u001b[1;3m[chain/end]\u001b[0m \u001b[1m[chain:AgentExecutor] [4.70s] Exiting Chain run with output:\n",
            "\u001b[0m[outputs]\n"
          ]
        },
        {
          "data": {
            "text/markdown": [
              "High-performance running shoes designed for comfort, support, and speed. \n"
            ],
            "text/plain": [
              "<IPython.core.display.Markdown object>"
            ]
          },
          "metadata": {},
          "output_type": "display_data"
        }
      ],
      "source": [
        "response = local_1p_agent.query(input=\"Get product details for shoes\")\n",
        "display(Markdown(response[\"output\"]))"
      ]
    },
    {
      "cell_type": "code",
      "execution_count": 15,
      "metadata": {
        "id": "INqf60zPWP6L"
      },
      "outputs": [
        {
          "name": "stdout",
          "output_type": "stream",
          "text": [
            "\u001b[32;1m\u001b[1;3m[chain/start]\u001b[0m \u001b[1m[chain:AgentExecutor] Entering Chain run with input:\n",
            "\u001b[0m{\n",
            "  \"input\": \"Get product price for shoes\"\n",
            "}\n",
            "\u001b[32;1m\u001b[1;3m[chain/start]\u001b[0m \u001b[1m[chain:AgentExecutor > chain:RunnableSequence] Entering Chain run with input:\n",
            "\u001b[0m{\n",
            "  \"input\": \"\"\n",
            "}\n",
            "\u001b[32;1m\u001b[1;3m[chain/start]\u001b[0m \u001b[1m[chain:AgentExecutor > chain:RunnableSequence > chain:RunnableParallel<input,agent_scratchpad>] Entering Chain run with input:\n",
            "\u001b[0m{\n",
            "  \"input\": \"\"\n",
            "}\n",
            "\u001b[32;1m\u001b[1;3m[chain/start]\u001b[0m \u001b[1m[chain:AgentExecutor > chain:RunnableSequence > chain:RunnableParallel<input,agent_scratchpad> > chain:RunnableLambda] Entering Chain run with input:\n",
            "\u001b[0m{\n",
            "  \"input\": \"\"\n",
            "}\n",
            "\u001b[32;1m\u001b[1;3m[chain/start]\u001b[0m \u001b[1m[chain:AgentExecutor > chain:RunnableSequence > chain:RunnableParallel<input,agent_scratchpad> > chain:RunnableLambda] Entering Chain run with input:\n",
            "\u001b[0m{\n",
            "  \"input\": \"\"\n",
            "}\n",
            "\u001b[36;1m\u001b[1;3m[chain/end]\u001b[0m \u001b[1m[chain:AgentExecutor > chain:RunnableSequence > chain:RunnableParallel<input,agent_scratchpad> > chain:RunnableLambda] [1ms] Exiting Chain run with output:\n",
            "\u001b[0m{\n",
            "  \"output\": \"Get product price for shoes\"\n",
            "}\n",
            "\u001b[36;1m\u001b[1;3m[chain/end]\u001b[0m \u001b[1m[chain:AgentExecutor > chain:RunnableSequence > chain:RunnableParallel<input,agent_scratchpad> > chain:RunnableLambda] [1ms] Exiting Chain run with output:\n",
            "\u001b[0m{\n",
            "  \"output\": []\n",
            "}\n",
            "\u001b[36;1m\u001b[1;3m[chain/end]\u001b[0m \u001b[1m[chain:AgentExecutor > chain:RunnableSequence > chain:RunnableParallel<input,agent_scratchpad>] [2ms] Exiting Chain run with output:\n",
            "\u001b[0m{\n",
            "  \"input\": \"Get product price for shoes\",\n",
            "  \"agent_scratchpad\": []\n",
            "}\n",
            "\u001b[32;1m\u001b[1;3m[chain/start]\u001b[0m \u001b[1m[chain:AgentExecutor > chain:RunnableSequence > prompt:ChatPromptTemplate] Entering Prompt run with input:\n",
            "\u001b[0m{\n",
            "  \"input\": \"Get product price for shoes\",\n",
            "  \"agent_scratchpad\": []\n",
            "}\n",
            "\u001b[36;1m\u001b[1;3m[chain/end]\u001b[0m \u001b[1m[chain:AgentExecutor > chain:RunnableSequence > prompt:ChatPromptTemplate] [0ms] Exiting Prompt run with output:\n",
            "\u001b[0m[outputs]\n",
            "\u001b[32;1m\u001b[1;3m[llm/start]\u001b[0m \u001b[1m[chain:AgentExecutor > chain:RunnableSequence > llm:ChatVertexAI] Entering LLM run with input:\n",
            "\u001b[0m{\n",
            "  \"prompts\": [\n",
            "    \"Human: Get product price for shoes\"\n",
            "  ]\n",
            "}\n",
            "\u001b[36;1m\u001b[1;3m[llm/end]\u001b[0m \u001b[1m[chain:AgentExecutor > chain:RunnableSequence > llm:ChatVertexAI] [1.36s] Exiting LLM run with output:\n",
            "\u001b[0m{\n",
            "  \"generations\": [\n",
            "    [\n",
            "      {\n",
            "        \"text\": \"\",\n",
            "        \"generation_info\": {\n",
            "          \"safety_ratings\": [\n",
            "            {\n",
            "              \"category\": \"HARM_CATEGORY_HATE_SPEECH\",\n",
            "              \"probability_label\": \"NEGLIGIBLE\",\n",
            "              \"probability_score\": 0.0927734375,\n",
            "              \"blocked\": false,\n",
            "              \"severity\": \"HARM_SEVERITY_NEGLIGIBLE\",\n",
            "              \"severity_score\": 0.11767578125\n",
            "            },\n",
            "            {\n",
            "              \"category\": \"HARM_CATEGORY_DANGEROUS_CONTENT\",\n",
            "              \"probability_label\": \"NEGLIGIBLE\",\n",
            "              \"probability_score\": 0.1259765625,\n",
            "              \"blocked\": false,\n",
            "              \"severity\": \"HARM_SEVERITY_NEGLIGIBLE\",\n",
            "              \"severity_score\": 0.1201171875\n",
            "            },\n",
            "            {\n",
            "              \"category\": \"HARM_CATEGORY_HARASSMENT\",\n",
            "              \"probability_label\": \"NEGLIGIBLE\",\n",
            "              \"probability_score\": 0.134765625,\n",
            "              \"blocked\": false,\n",
            "              \"severity\": \"HARM_SEVERITY_NEGLIGIBLE\",\n",
            "              \"severity_score\": 0.064453125\n",
            "            },\n",
            "            {\n",
            "              \"category\": \"HARM_CATEGORY_SEXUALLY_EXPLICIT\",\n",
            "              \"probability_label\": \"NEGLIGIBLE\",\n",
            "              \"probability_score\": 0.053466796875,\n",
            "              \"blocked\": false,\n",
            "              \"severity\": \"HARM_SEVERITY_NEGLIGIBLE\",\n",
            "              \"severity_score\": 0.049560546875\n",
            "            }\n",
            "          ],\n",
            "          \"finish_reason\": \"STOP\"\n",
            "        },\n",
            "        \"type\": \"ChatGenerationChunk\",\n",
            "        \"message\": {\n",
            "          \"lc\": 1,\n",
            "          \"type\": \"constructor\",\n",
            "          \"id\": [\n",
            "            \"langchain\",\n",
            "            \"schema\",\n",
            "            \"messages\",\n",
            "            \"AIMessageChunk\"\n",
            "          ],\n",
            "          \"kwargs\": {\n",
            "            \"content\": \"\",\n",
            "            \"additional_kwargs\": {\n",
            "              \"function_call\": {\n",
            "                \"name\": \"get_product_price\",\n",
            "                \"arguments\": \"{\\\"product_name\\\": \\\"shoes\\\"}\"\n",
            "              }\n",
            "            },\n",
            "            \"response_metadata\": {\n",
            "              \"safety_ratings\": [\n",
            "                {\n",
            "                  \"category\": \"HARM_CATEGORY_HATE_SPEECH\",\n",
            "                  \"probability_label\": \"NEGLIGIBLE\",\n",
            "                  \"probability_score\": 0.0927734375,\n",
            "                  \"blocked\": false,\n",
            "                  \"severity\": \"HARM_SEVERITY_NEGLIGIBLE\",\n",
            "                  \"severity_score\": 0.11767578125\n",
            "                },\n",
            "                {\n",
            "                  \"category\": \"HARM_CATEGORY_DANGEROUS_CONTENT\",\n",
            "                  \"probability_label\": \"NEGLIGIBLE\",\n",
            "                  \"probability_score\": 0.1259765625,\n",
            "                  \"blocked\": false,\n",
            "                  \"severity\": \"HARM_SEVERITY_NEGLIGIBLE\",\n",
            "                  \"severity_score\": 0.1201171875\n",
            "                },\n",
            "                {\n",
            "                  \"category\": \"HARM_CATEGORY_HARASSMENT\",\n",
            "                  \"probability_label\": \"NEGLIGIBLE\",\n",
            "                  \"probability_score\": 0.134765625,\n",
            "                  \"blocked\": false,\n",
            "                  \"severity\": \"HARM_SEVERITY_NEGLIGIBLE\",\n",
            "                  \"severity_score\": 0.064453125\n",
            "                },\n",
            "                {\n",
            "                  \"category\": \"HARM_CATEGORY_SEXUALLY_EXPLICIT\",\n",
            "                  \"probability_label\": \"NEGLIGIBLE\",\n",
            "                  \"probability_score\": 0.053466796875,\n",
            "                  \"blocked\": false,\n",
            "                  \"severity\": \"HARM_SEVERITY_NEGLIGIBLE\",\n",
            "                  \"severity_score\": 0.049560546875\n",
            "                }\n",
            "              ],\n",
            "              \"finish_reason\": \"STOP\"\n",
            "            },\n",
            "            \"type\": \"AIMessageChunk\",\n",
            "            \"id\": \"run-43f7c283-6200-4c6a-ad43-1a517b35c7dc\",\n",
            "            \"tool_calls\": [\n",
            "              {\n",
            "                \"name\": \"get_product_price\",\n",
            "                \"args\": {\n",
            "                  \"product_name\": \"shoes\"\n",
            "                },\n",
            "                \"id\": \"ded77284-01ec-4df2-a156-31a8d4da66a8\",\n",
            "                \"type\": \"tool_call\"\n",
            "              }\n",
            "            ],\n",
            "            \"usage_metadata\": {\n",
            "              \"input_tokens\": 42,\n",
            "              \"output_tokens\": 9,\n",
            "              \"total_tokens\": 51\n",
            "            },\n",
            "            \"tool_call_chunks\": [\n",
            "              {\n",
            "                \"name\": \"get_product_price\",\n",
            "                \"args\": \"{\\\"product_name\\\": \\\"shoes\\\"}\",\n",
            "                \"id\": \"ded77284-01ec-4df2-a156-31a8d4da66a8\",\n",
            "                \"index\": null,\n",
            "                \"type\": \"tool_call_chunk\"\n",
            "              }\n",
            "            ],\n",
            "            \"invalid_tool_calls\": []\n",
            "          }\n",
            "        }\n",
            "      }\n",
            "    ]\n",
            "  ],\n",
            "  \"llm_output\": null,\n",
            "  \"run\": null,\n",
            "  \"type\": \"LLMResult\"\n",
            "}\n",
            "\u001b[32;1m\u001b[1;3m[chain/start]\u001b[0m \u001b[1m[chain:AgentExecutor > chain:RunnableSequence > parser:ToolsAgentOutputParser] Entering Parser run with input:\n",
            "\u001b[0m[inputs]\n",
            "\u001b[36;1m\u001b[1;3m[chain/end]\u001b[0m \u001b[1m[chain:AgentExecutor > chain:RunnableSequence > parser:ToolsAgentOutputParser] [0ms] Exiting Parser run with output:\n",
            "\u001b[0m[outputs]\n",
            "\u001b[36;1m\u001b[1;3m[chain/end]\u001b[0m \u001b[1m[chain:AgentExecutor > chain:RunnableSequence] [1.36s] Exiting Chain run with output:\n",
            "\u001b[0m[outputs]\n",
            "\u001b[32;1m\u001b[1;3m[tool/start]\u001b[0m \u001b[1m[chain:AgentExecutor > tool:get_product_price] Entering Tool run with input:\n",
            "\u001b[0m\"{'product_name': 'shoes'}\"\n",
            "\u001b[36;1m\u001b[1;3m[tool/end]\u001b[0m \u001b[1m[chain:AgentExecutor > tool:get_product_price] [0ms] Exiting Tool run with output:\n",
            "\u001b[0m\"100\"\n",
            "\u001b[32;1m\u001b[1;3m[chain/start]\u001b[0m \u001b[1m[chain:AgentExecutor > chain:RunnableSequence] Entering Chain run with input:\n",
            "\u001b[0m{\n",
            "  \"input\": \"\"\n",
            "}\n",
            "\u001b[32;1m\u001b[1;3m[chain/start]\u001b[0m \u001b[1m[chain:AgentExecutor > chain:RunnableSequence > chain:RunnableParallel<input,agent_scratchpad>] Entering Chain run with input:\n",
            "\u001b[0m{\n",
            "  \"input\": \"\"\n",
            "}\n",
            "\u001b[32;1m\u001b[1;3m[chain/start]\u001b[0m \u001b[1m[chain:AgentExecutor > chain:RunnableSequence > chain:RunnableParallel<input,agent_scratchpad> > chain:RunnableLambda] Entering Chain run with input:\n",
            "\u001b[0m{\n",
            "  \"input\": \"\"\n",
            "}\n",
            "\u001b[32;1m\u001b[1;3m[chain/start]\u001b[0m \u001b[1m[chain:AgentExecutor > chain:RunnableSequence > chain:RunnableParallel<input,agent_scratchpad> > chain:RunnableLambda] Entering Chain run with input:\n",
            "\u001b[0m{\n",
            "  \"input\": \"\"\n",
            "}\n",
            "\u001b[36;1m\u001b[1;3m[chain/end]\u001b[0m \u001b[1m[chain:AgentExecutor > chain:RunnableSequence > chain:RunnableParallel<input,agent_scratchpad> > chain:RunnableLambda] [1ms] Exiting Chain run with output:\n",
            "\u001b[0m{\n",
            "  \"output\": \"Get product price for shoes\"\n",
            "}\n",
            "\u001b[36;1m\u001b[1;3m[chain/end]\u001b[0m \u001b[1m[chain:AgentExecutor > chain:RunnableSequence > chain:RunnableParallel<input,agent_scratchpad> > chain:RunnableLambda] [0ms] Exiting Chain run with output:\n",
            "\u001b[0m[outputs]\n",
            "\u001b[36;1m\u001b[1;3m[chain/end]\u001b[0m \u001b[1m[chain:AgentExecutor > chain:RunnableSequence > chain:RunnableParallel<input,agent_scratchpad>] [2ms] Exiting Chain run with output:\n",
            "\u001b[0m[outputs]\n",
            "\u001b[32;1m\u001b[1;3m[chain/start]\u001b[0m \u001b[1m[chain:AgentExecutor > chain:RunnableSequence > prompt:ChatPromptTemplate] Entering Prompt run with input:\n",
            "\u001b[0m[inputs]\n",
            "\u001b[36;1m\u001b[1;3m[chain/end]\u001b[0m \u001b[1m[chain:AgentExecutor > chain:RunnableSequence > prompt:ChatPromptTemplate] [0ms] Exiting Prompt run with output:\n",
            "\u001b[0m[outputs]\n",
            "\u001b[32;1m\u001b[1;3m[llm/start]\u001b[0m \u001b[1m[chain:AgentExecutor > chain:RunnableSequence > llm:ChatVertexAI] Entering LLM run with input:\n",
            "\u001b[0m{\n",
            "  \"prompts\": [\n",
            "    \"Human: Get product price for shoes\\nAI: {'name': 'get_product_price', 'arguments': '{\\\"product_name\\\": \\\"shoes\\\"}'}\\nTool: 100\"\n",
            "  ]\n",
            "}\n",
            "\u001b[36;1m\u001b[1;3m[llm/end]\u001b[0m \u001b[1m[chain:AgentExecutor > chain:RunnableSequence > llm:ChatVertexAI] [7.64s] Exiting LLM run with output:\n",
            "\u001b[0m{\n",
            "  \"generations\": [\n",
            "    [\n",
            "      {\n",
            "        \"text\": \"The price for shoes is 100. \\n\",\n",
            "        \"generation_info\": {\n",
            "          \"safety_ratings\": [\n",
            "            {\n",
            "              \"category\": \"HARM_CATEGORY_HATE_SPEECH\",\n",
            "              \"probability_label\": \"NEGLIGIBLE\",\n",
            "              \"probability_score\": 0.08251953125,\n",
            "              \"blocked\": false,\n",
            "              \"severity\": \"HARM_SEVERITY_NEGLIGIBLE\",\n",
            "              \"severity_score\": 0.1083984375\n",
            "            },\n",
            "            {\n",
            "              \"category\": \"HARM_CATEGORY_DANGEROUS_CONTENT\",\n",
            "              \"probability_label\": \"NEGLIGIBLE\",\n",
            "              \"probability_score\": 0.103515625,\n",
            "              \"blocked\": false,\n",
            "              \"severity\": \"HARM_SEVERITY_NEGLIGIBLE\",\n",
            "              \"severity_score\": 0.0771484375\n",
            "            },\n",
            "            {\n",
            "              \"category\": \"HARM_CATEGORY_HARASSMENT\",\n",
            "              \"probability_label\": \"NEGLIGIBLE\",\n",
            "              \"probability_score\": 0.16015625,\n",
            "              \"blocked\": false,\n",
            "              \"severity\": \"HARM_SEVERITY_NEGLIGIBLE\",\n",
            "              \"severity_score\": 0.059326171875\n",
            "            },\n",
            "            {\n",
            "              \"category\": \"HARM_CATEGORY_SEXUALLY_EXPLICIT\",\n",
            "              \"probability_label\": \"NEGLIGIBLE\",\n",
            "              \"probability_score\": 0.040771484375,\n",
            "              \"blocked\": false,\n",
            "              \"severity\": \"HARM_SEVERITY_NEGLIGIBLE\",\n",
            "              \"severity_score\": 0.0673828125\n",
            "            }\n",
            "          ],\n",
            "          \"finish_reason\": \"STOP\"\n",
            "        },\n",
            "        \"type\": \"ChatGenerationChunk\",\n",
            "        \"message\": {\n",
            "          \"lc\": 1,\n",
            "          \"type\": \"constructor\",\n",
            "          \"id\": [\n",
            "            \"langchain\",\n",
            "            \"schema\",\n",
            "            \"messages\",\n",
            "            \"AIMessageChunk\"\n",
            "          ],\n",
            "          \"kwargs\": {\n",
            "            \"content\": \"The price for shoes is 100. \\n\",\n",
            "            \"response_metadata\": {\n",
            "              \"safety_ratings\": [\n",
            "                {\n",
            "                  \"category\": \"HARM_CATEGORY_HATE_SPEECH\",\n",
            "                  \"probability_label\": \"NEGLIGIBLE\",\n",
            "                  \"probability_score\": 0.08251953125,\n",
            "                  \"blocked\": false,\n",
            "                  \"severity\": \"HARM_SEVERITY_NEGLIGIBLE\",\n",
            "                  \"severity_score\": 0.1083984375\n",
            "                },\n",
            "                {\n",
            "                  \"category\": \"HARM_CATEGORY_DANGEROUS_CONTENT\",\n",
            "                  \"probability_label\": \"NEGLIGIBLE\",\n",
            "                  \"probability_score\": 0.103515625,\n",
            "                  \"blocked\": false,\n",
            "                  \"severity\": \"HARM_SEVERITY_NEGLIGIBLE\",\n",
            "                  \"severity_score\": 0.0771484375\n",
            "                },\n",
            "                {\n",
            "                  \"category\": \"HARM_CATEGORY_HARASSMENT\",\n",
            "                  \"probability_label\": \"NEGLIGIBLE\",\n",
            "                  \"probability_score\": 0.16015625,\n",
            "                  \"blocked\": false,\n",
            "                  \"severity\": \"HARM_SEVERITY_NEGLIGIBLE\",\n",
            "                  \"severity_score\": 0.059326171875\n",
            "                },\n",
            "                {\n",
            "                  \"category\": \"HARM_CATEGORY_SEXUALLY_EXPLICIT\",\n",
            "                  \"probability_label\": \"NEGLIGIBLE\",\n",
            "                  \"probability_score\": 0.040771484375,\n",
            "                  \"blocked\": false,\n",
            "                  \"severity\": \"HARM_SEVERITY_NEGLIGIBLE\",\n",
            "                  \"severity_score\": 0.0673828125\n",
            "                }\n",
            "              ],\n",
            "              \"finish_reason\": \"STOP\"\n",
            "            },\n",
            "            \"type\": \"AIMessageChunk\",\n",
            "            \"id\": \"run-4851274e-d22b-4be1-b7ac-23d9cd623b24\",\n",
            "            \"usage_metadata\": {\n",
            "              \"input_tokens\": 60,\n",
            "              \"output_tokens\": 12,\n",
            "              \"total_tokens\": 72\n",
            "            },\n",
            "            \"tool_calls\": [],\n",
            "            \"invalid_tool_calls\": []\n",
            "          }\n",
            "        }\n",
            "      }\n",
            "    ]\n",
            "  ],\n",
            "  \"llm_output\": null,\n",
            "  \"run\": null,\n",
            "  \"type\": \"LLMResult\"\n",
            "}\n",
            "\u001b[32;1m\u001b[1;3m[chain/start]\u001b[0m \u001b[1m[chain:AgentExecutor > chain:RunnableSequence > parser:ToolsAgentOutputParser] Entering Parser run with input:\n",
            "\u001b[0m[inputs]\n",
            "\u001b[36;1m\u001b[1;3m[chain/end]\u001b[0m \u001b[1m[chain:AgentExecutor > chain:RunnableSequence > parser:ToolsAgentOutputParser] [0ms] Exiting Parser run with output:\n",
            "\u001b[0m[outputs]\n",
            "\u001b[36;1m\u001b[1;3m[chain/end]\u001b[0m \u001b[1m[chain:AgentExecutor > chain:RunnableSequence] [7.64s] Exiting Chain run with output:\n",
            "\u001b[0m[outputs]\n",
            "\u001b[36;1m\u001b[1;3m[chain/end]\u001b[0m \u001b[1m[chain:AgentExecutor] [9.00s] Exiting Chain run with output:\n",
            "\u001b[0m[outputs]\n"
          ]
        },
        {
          "data": {
            "text/markdown": [
              "The price for shoes is 100. \n"
            ],
            "text/plain": [
              "<IPython.core.display.Markdown object>"
            ]
          },
          "metadata": {},
          "output_type": "display_data"
        }
      ],
      "source": [
        "response = local_1p_agent.query(input=\"Get product price for shoes\")\n",
        "display(Markdown(response[\"output\"]))"
      ]
    },
    {
      "cell_type": "markdown",
      "metadata": {
        "id": "dP5g16W1rzMI"
      },
      "source": [
        "### Vertex AI Reasoning Engine에 로컬 에이전트 배포\n",
        "\n",
        "Vertex AI Reasoning Engine에 로컬 에이전트를 배포하려면 에이전트와 몇 가지 특정 종속성(외부 PyPI 패키지에 대한 `requirements` 및 로컬 패키지에 대한 `extra_packages`)을 전달하여 `create` 메서드를 사용할 수 있습니다.\n",
        "\n",
        "자세한 내용은 [애플리케이션 배포](https://cloud.google.com/vertex-ai/generative-ai/docs/reasoning-engine/deploy#create_a_reasoningengine_instance) 문서 페이지를 참조하세요.\n",
        "\n",
        "> Vertex AI Reasoning Engine에 에이전트를 배포하는 데 약 10분이 소요됩니다."
      ]
    },
    {
      "cell_type": "code",
      "execution_count": 22,
      "metadata": {
        "id": "GPNpD676r6T2"
      },
      "outputs": [
        {
          "name": "stdout",
          "output_type": "stream",
          "text": [
            "Using bucket weverse-dev-mint-bucket\n",
            "Writing to gs://weverse-dev-mint-bucket/reasoning_engine/reasoning_engine.pkl\n",
            "Writing to gs://weverse-dev-mint-bucket/reasoning_engine/requirements.txt\n",
            "Creating in-memory tarfile of extra_packages\n",
            "Writing to gs://weverse-dev-mint-bucket/reasoning_engine/dependencies.tar.gz\n",
            "Creating ReasoningEngine\n",
            "Create ReasoningEngine backing LRO: projects/377376242639/locations/us-central1/reasoningEngines/6125581588479606784/operations/7899003581049602048\n",
            "ReasoningEngine created. Resource name: projects/377376242639/locations/us-central1/reasoningEngines/6125581588479606784\n",
            "To use this ReasoningEngine in another session:\n",
            "reasoning_engine = vertexai.preview.reasoning_engines.ReasoningEngine('projects/377376242639/locations/us-central1/reasoningEngines/6125581588479606784')\n"
          ]
        }
      ],
      "source": [
        "remote_1p_agent = reasoning_engines.ReasoningEngine.create(\n",
        "    local_1p_agent,\n",
        "    requirements=[\n",
        "        \"google-cloud-aiplatform[langchain,reasoningengine]\",\n",
        "        \"langchain_google_vertexai\",\n",
        "        \"cloudpickle==3.0.0\",\n",
        "        \"pydantic>=2.10\",\n",
        "        \"requests\",\n",
        "    ],\n",
        ")"
      ]
    },
    {
      "cell_type": "markdown",
      "metadata": {
        "id": "GjZMd82vHRh3"
      },
      "source": [
        "### Test the remote agent\n",
        "\n",
        "Query your remote agent."
      ]
    },
    {
      "cell_type": "code",
      "execution_count": null,
      "metadata": {
        "id": "KSCznbhbHRh3"
      },
      "outputs": [],
      "source": [
        "response = remote_1p_agent.query(input=\"Get product details for shoes\")\n",
        "display(Markdown(response[\"output\"]))"
      ]
    },
    {
      "cell_type": "markdown",
      "metadata": {
        "id": "aOGPePsorpUl"
      },
      "source": [
        "## Vertex AI Gen AI Evaluation을 사용한 에이전트 평가\n",
        "\n",
        "AI 에이전트를 사용할 때는 **에이전트의 성능**과 **작동 상태를 추적**하는 것이 중요합니다. 이는 주로 **모니터링**(monitoring)과 **관찰 가능성**(observability)이라는 두 가지 방법으로 확인할 수 있습니다.\n",
        "\n",
        "모니터링은 에이전트가 특정 작업을 얼마나 잘 수행하는지에 중점을 둡니다.\n",
        "\n",
        "* **단일 도구 선택**: 에이전트가 작업에 적합한 도구를 선택하고 있습니까?\n",
        "\n",
        "* **다중 도구 선택 (또는 궤적)**: 에이전트가 도구를 사용하는 순서에서 논리적인 선택을 하고 있습니까?\n",
        "\n",
        "* **응답 생성**: 에이전트의 출력이 양호하며 사용된 도구를 기반으로 합리적입니까?\n",
        "\n",
        "관찰 가능성은 에이전트의 전반적인 상태를 이해하는 데 중점을 둡니다.\n",
        "\n",
        "* **지연 시간**: 에이전트가 응답하는 데 얼마나 걸립니까?\n",
        "\n",
        "* **실패율**: 에이전트가 응답을 생성하지 못하는 빈도는 얼마나 됩니까?\n",
        "\n",
        "Vertex AI Gen AI Evaluation 서비스는 에이전트를 프로토타입하는 동안 또는 프로덕션 환경에 배포한 후에 이러한 모든 측면을 평가하는 데 도움을 줍니다. 이 서비스는 [미리 빌드된 평가 기준 및 메트릭](https://cloud.google.com/vertex-ai/generative-ai/docs/models/determine-eval)을 제공하므로 에이전트의 성능을 정확하게 파악하고 개선할 영역을 식별할 수 있습니다."
      ]
    },
    {
      "cell_type": "markdown",
      "metadata": {
        "id": "e43229f3ad4f"
      },
      "source": [
        "### 에이전트 평가 데이터세트 준비\n",
        "\n",
        "Vertex AI Gen AI Evaluation 서비스를 사용하여 AI 에이전트를 평가하려면 에이전트의 어떤 측면을 평가할지에 따라 특정 데이터세트가 필요합니다.\n",
        "\n",
        "이 데이터세트에는 에이전트에 제공된 프롬프트가 포함되어야 합니다. 또한 이상적이거나 예상되는 응답(ground truth)과 에이전트가 수행해야 하는 도구 호출의 의도된 시퀀스(reference trajectory)를 포함할 수 있습니다. reference trajectory는 각 프롬프트에 대해 에이전트가 호출할 것으로 예상되는 도구의 시퀀스를 나타냅니다.\n",
        "\n",
        "> 선택적으로 생성된 응답과 예측된 trajectory를 모두 제공할 수 있습니다 (**bring-your-own-dataset 시나리오**).\n",
        "\n",
        "아래에는 사용자 프롬프트와 reference trajectory를 사용하여 고객 지원 에이전트가 가질 수 있는 데이터세트의 예가 있습니다."
      ]
    },
    {
      "cell_type": "code",
      "execution_count": 16,
      "metadata": {
        "id": "fFf8uTdUiDt3"
      },
      "outputs": [],
      "source": [
        "eval_data = {\n",
        "    \"prompt\": [\n",
        "        \"Get price for smartphone\",\n",
        "        \"Get product details and price for headphones\",\n",
        "        \"Get details for usb charger\",\n",
        "        \"Get product details and price for shoes\",\n",
        "        \"Get product details for speaker?\",\n",
        "    ],\n",
        "    \"reference_trajectory\": [\n",
        "        [\n",
        "            {\n",
        "                \"tool_name\": \"get_product_price\",\n",
        "                \"tool_input\": {\"product_name\": \"smartphone\"},\n",
        "            }\n",
        "        ],\n",
        "        [\n",
        "            {\n",
        "                \"tool_name\": \"get_product_details\",\n",
        "                \"tool_input\": {\"product_name\": \"headphones\"},\n",
        "            },\n",
        "            {\n",
        "                \"tool_name\": \"get_product_price\",\n",
        "                \"tool_input\": {\"product_name\": \"headphones\"},\n",
        "            },\n",
        "        ],\n",
        "        [\n",
        "            {\n",
        "                \"tool_name\": \"get_product_details\",\n",
        "                \"tool_input\": {\"product_name\": \"usb charger\"},\n",
        "            }\n",
        "        ],\n",
        "        [\n",
        "            {\n",
        "                \"tool_name\": \"get_product_details\",\n",
        "                \"tool_input\": {\"product_name\": \"shoes\"},\n",
        "            },\n",
        "            {\"tool_name\": \"get_product_price\", \"tool_input\": {\"product_name\": \"shoes\"}},\n",
        "        ],\n",
        "        [\n",
        "            {\n",
        "                \"tool_name\": \"get_product_details\",\n",
        "                \"tool_input\": {\"product_name\": \"speaker\"},\n",
        "            }\n",
        "        ],\n",
        "    ],\n",
        "}\n",
        "\n",
        "eval_sample_dataset = pd.DataFrame(eval_data)"
      ]
    },
    {
      "cell_type": "markdown",
      "metadata": {
        "id": "PQEI1EcfvFHb"
      },
      "source": [
        "데이터세트에서 몇 가지 샘플을 출력합니다."
      ]
    },
    {
      "cell_type": "code",
      "execution_count": 17,
      "metadata": {
        "id": "EjsonqWWvIvE"
      },
      "outputs": [
        {
          "data": {
            "text/html": [
              "<span style='font-family: monospace; font-size: 14px; white-space: pre-wrap; width: auto; overflow-x: auto;font-weight: bold;'>Prompt: </span>"
            ],
            "text/plain": [
              "<IPython.core.display.HTML object>"
            ]
          },
          "metadata": {},
          "output_type": "display_data"
        },
        {
          "data": {
            "text/html": [
              "<span style='font-family: monospace; font-size: 14px; white-space: pre-wrap; width: auto; overflow-x: auto;'>Get price for smartphone</span><br>"
            ],
            "text/plain": [
              "<IPython.core.display.HTML object>"
            ]
          },
          "metadata": {},
          "output_type": "display_data"
        },
        {
          "data": {
            "text/html": [
              "<span style='font-family: monospace; font-size: 14px; white-space: pre-wrap; width: auto; overflow-x: auto;font-weight: bold;'>Reference Trajectory: </span>"
            ],
            "text/plain": [
              "<IPython.core.display.HTML object>"
            ]
          },
          "metadata": {},
          "output_type": "display_data"
        },
        {
          "data": {
            "text/html": [
              "<span style='font-family: monospace; font-size: 14px; white-space: pre-wrap; width: auto; overflow-x: auto;'>[{'tool_name': 'get_product_price', 'tool_input': {'product_name': 'smartphone'}}]</span><br>"
            ],
            "text/plain": [
              "<IPython.core.display.HTML object>"
            ]
          },
          "metadata": {},
          "output_type": "display_data"
        },
        {
          "data": {
            "text/html": [
              "<hr>"
            ],
            "text/plain": [
              "<IPython.core.display.HTML object>"
            ]
          },
          "metadata": {},
          "output_type": "display_data"
        },
        {
          "data": {
            "text/html": [
              "<span style='font-family: monospace; font-size: 14px; white-space: pre-wrap; width: auto; overflow-x: auto;font-weight: bold;'>Prompt: </span>"
            ],
            "text/plain": [
              "<IPython.core.display.HTML object>"
            ]
          },
          "metadata": {},
          "output_type": "display_data"
        },
        {
          "data": {
            "text/html": [
              "<span style='font-family: monospace; font-size: 14px; white-space: pre-wrap; width: auto; overflow-x: auto;'>Get product details and price for headphones</span><br>"
            ],
            "text/plain": [
              "<IPython.core.display.HTML object>"
            ]
          },
          "metadata": {},
          "output_type": "display_data"
        },
        {
          "data": {
            "text/html": [
              "<span style='font-family: monospace; font-size: 14px; white-space: pre-wrap; width: auto; overflow-x: auto;font-weight: bold;'>Reference Trajectory: </span>"
            ],
            "text/plain": [
              "<IPython.core.display.HTML object>"
            ]
          },
          "metadata": {},
          "output_type": "display_data"
        },
        {
          "data": {
            "text/html": [
              "<span style='font-family: monospace; font-size: 14px; white-space: pre-wrap; width: auto; overflow-x: auto;'>[{'tool_name': 'get_product_details', 'tool_input': {'product_name': 'headphones'}}, {'tool_name': 'get_product_price', 'tool_input': {'product_name': 'headphones'}}]</span><br>"
            ],
            "text/plain": [
              "<IPython.core.display.HTML object>"
            ]
          },
          "metadata": {},
          "output_type": "display_data"
        },
        {
          "data": {
            "text/html": [
              "<hr>"
            ],
            "text/plain": [
              "<IPython.core.display.HTML object>"
            ]
          },
          "metadata": {},
          "output_type": "display_data"
        },
        {
          "data": {
            "text/html": [
              "<span style='font-family: monospace; font-size: 14px; white-space: pre-wrap; width: auto; overflow-x: auto;font-weight: bold;'>Prompt: </span>"
            ],
            "text/plain": [
              "<IPython.core.display.HTML object>"
            ]
          },
          "metadata": {},
          "output_type": "display_data"
        },
        {
          "data": {
            "text/html": [
              "<span style='font-family: monospace; font-size: 14px; white-space: pre-wrap; width: auto; overflow-x: auto;'>Get details for usb charger</span><br>"
            ],
            "text/plain": [
              "<IPython.core.display.HTML object>"
            ]
          },
          "metadata": {},
          "output_type": "display_data"
        },
        {
          "data": {
            "text/html": [
              "<span style='font-family: monospace; font-size: 14px; white-space: pre-wrap; width: auto; overflow-x: auto;font-weight: bold;'>Reference Trajectory: </span>"
            ],
            "text/plain": [
              "<IPython.core.display.HTML object>"
            ]
          },
          "metadata": {},
          "output_type": "display_data"
        },
        {
          "data": {
            "text/html": [
              "<span style='font-family: monospace; font-size: 14px; white-space: pre-wrap; width: auto; overflow-x: auto;'>[{'tool_name': 'get_product_details', 'tool_input': {'product_name': 'usb charger'}}]</span><br>"
            ],
            "text/plain": [
              "<IPython.core.display.HTML object>"
            ]
          },
          "metadata": {},
          "output_type": "display_data"
        },
        {
          "data": {
            "text/html": [
              "<hr>"
            ],
            "text/plain": [
              "<IPython.core.display.HTML object>"
            ]
          },
          "metadata": {},
          "output_type": "display_data"
        }
      ],
      "source": [
        "display_dataframe_rows(eval_sample_dataset, num_rows=3)"
      ]
    },
    {
      "cell_type": "markdown",
      "metadata": {
        "id": "m4CvBuf1afHG"
      },
      "source": [
        "### 단일 도구 사용 평가\n",
        "\n",
        "AI 에이전트와 평가 데이터세트를 설정한 후, 에이전트가 주어진 작업에 대해 올바른 단일 도구를 선택하는지 평가하기 시작합니다.\n"
      ]
    },
    {
      "cell_type": "markdown",
      "metadata": {
        "id": "_rS5GGKHd5bx"
      },
      "source": [
        "#### 단일 도구 사용 메트릭 설정\n",
        "\n",
        "Vertex AI Gen AI 평가의 `trajectory_single_tool_use` 메트릭은 에이전트가 특정 도구 순서에 관계없이 예상대로 도구를 사용하는지 신속하게 평가할 수 있는 방법을 제공합니다. 이는 에이전트의 프로세스 중 특정 시점에 올바른 도구가 사용되었는지 평가하는 기본적이지만 유용한 방법입니다.\n",
        "\n",
        "`trajectory_single_tool_use` 메트릭을 사용하려면 특정 사용자 요청에 대해 어떤 도구를 사용해야 하는지 설정해야 합니다. 예를 들어, 사용자가 \"이메일 보내기\"를 요청하는 경우 에이전트가 \"send_email\" 도구를 사용할 것으로 예상하고, 이 메트릭을 사용할 때 해당 도구의 이름을 지정합니다.\n"
      ]
    },
    {
      "cell_type": "code",
      "execution_count": 23,
      "metadata": {
        "id": "xixvq8dwd5by"
      },
      "outputs": [],
      "source": [
        "single_tool_usage_metrics = [TrajectorySingleToolUse(tool_name=\"get_product_price\")]"
      ]
    },
    {
      "cell_type": "markdown",
      "metadata": {
        "id": "ktKZoT2Qd5by"
      },
      "source": [
        "#### 평가 작업 실행\n",
        "\n",
        "평가를 실행하려면 실험 내에서 미리 정의된 데이터세트(`eval_sample_dataset`)와 메트릭(`single_tool_usage_metrics` in this case)을 사용하여 `EvalTask`를 시작합니다. 그런 다음 원격 에이전트를 사용하여 평가를 실행하고 이 특정 평가 실행에 고유한 식별자를 할당하여 평가 결과를 저장하고 시각화합니다.\n"
      ]
    },
    {
      "cell_type": "code",
      "execution_count": 24,
      "metadata": {
        "id": "QaMf9dqzySE6"
      },
      "outputs": [],
      "source": [
        "EXPERIMENT_RUN = f\"single-metric-eval-{get_id()}\""
      ]
    },
    {
      "cell_type": "markdown",
      "metadata": {},
      "source": [
        "로컬 에이전트 실험하기"
      ]
    },
    {
      "cell_type": "code",
      "execution_count": 21,
      "metadata": {},
      "outputs": [
        {
          "data": {
            "text/html": [
              "\n",
              "        \n",
              "    <link rel=\"stylesheet\" href=\"https://fonts.googleapis.com/icon?family=Material+Icons\">\n",
              "    <style>\n",
              "      .view-vertex-resource,\n",
              "      .view-vertex-resource:hover,\n",
              "      .view-vertex-resource:visited {\n",
              "        position: relative;\n",
              "        display: inline-flex;\n",
              "        flex-direction: row;\n",
              "        height: 32px;\n",
              "        padding: 0 12px;\n",
              "          margin: 4px 18px;\n",
              "        gap: 4px;\n",
              "        border-radius: 4px;\n",
              "\n",
              "        align-items: center;\n",
              "        justify-content: center;\n",
              "        background-color: rgb(255, 255, 255);\n",
              "        color: rgb(51, 103, 214);\n",
              "\n",
              "        font-family: Roboto,\"Helvetica Neue\",sans-serif;\n",
              "        font-size: 13px;\n",
              "        font-weight: 500;\n",
              "        text-transform: uppercase;\n",
              "        text-decoration: none !important;\n",
              "\n",
              "        transition: box-shadow 280ms cubic-bezier(0.4, 0, 0.2, 1) 0s;\n",
              "        box-shadow: 0px 3px 1px -2px rgba(0,0,0,0.2), 0px 2px 2px 0px rgba(0,0,0,0.14), 0px 1px 5px 0px rgba(0,0,0,0.12);\n",
              "      }\n",
              "      .view-vertex-resource:active {\n",
              "        box-shadow: 0px 5px 5px -3px rgba(0,0,0,0.2),0px 8px 10px 1px rgba(0,0,0,0.14),0px 3px 14px 2px rgba(0,0,0,0.12);\n",
              "      }\n",
              "      .view-vertex-resource:active .view-vertex-ripple::before {\n",
              "        position: absolute;\n",
              "        top: 0;\n",
              "        bottom: 0;\n",
              "        left: 0;\n",
              "        right: 0;\n",
              "        border-radius: 4px;\n",
              "        pointer-events: none;\n",
              "\n",
              "        content: '';\n",
              "        background-color: rgb(51, 103, 214);\n",
              "        opacity: 0.12;\n",
              "      }\n",
              "      .view-vertex-icon {\n",
              "        font-size: 18px;\n",
              "      }\n",
              "    </style>\n",
              "  \n",
              "        <a class=\"view-vertex-resource\" id=\"view-vertex-resource-6ba15a17-fb8c-4473-828a-52c42c9416ff\" href=\"#view-view-vertex-resource-6ba15a17-fb8c-4473-828a-52c42c9416ff\">\n",
              "          <span class=\"material-icons view-vertex-icon\">science</span>\n",
              "          <span>View Experiment</span>\n",
              "        </a>\n",
              "        \n",
              "        <script>\n",
              "          (function () {\n",
              "            const link = document.getElementById('view-vertex-resource-6ba15a17-fb8c-4473-828a-52c42c9416ff');\n",
              "            link.addEventListener('click', (e) => {\n",
              "              if (window.google?.colab?.openUrl) {\n",
              "                window.google.colab.openUrl('https://console.cloud.google.com/vertex-ai/experiments/locations/us-central1/experiments/evaluate-re-agent/runs?project=weverse-dev-mint');\n",
              "              } else {\n",
              "                window.open('https://console.cloud.google.com/vertex-ai/experiments/locations/us-central1/experiments/evaluate-re-agent/runs?project=weverse-dev-mint', '_blank');\n",
              "              }\n",
              "              e.stopPropagation();\n",
              "              e.preventDefault();\n",
              "            });\n",
              "          })();\n",
              "        </script>\n",
              "    "
            ],
            "text/plain": [
              "<IPython.core.display.HTML object>"
            ]
          },
          "metadata": {},
          "output_type": "display_data"
        },
        {
          "name": "stdout",
          "output_type": "stream",
          "text": [
            "Associating projects/377376242639/locations/us-central1/metadataStores/default/contexts/evaluate-re-agent-single-metric-eval-t3aictws to Experiment: evaluate-re-agent\n"
          ]
        },
        {
          "data": {
            "text/html": [
              "\n",
              "        \n",
              "    <link rel=\"stylesheet\" href=\"https://fonts.googleapis.com/icon?family=Material+Icons\">\n",
              "    <style>\n",
              "      .view-vertex-resource,\n",
              "      .view-vertex-resource:hover,\n",
              "      .view-vertex-resource:visited {\n",
              "        position: relative;\n",
              "        display: inline-flex;\n",
              "        flex-direction: row;\n",
              "        height: 32px;\n",
              "        padding: 0 12px;\n",
              "          margin: 4px 18px;\n",
              "        gap: 4px;\n",
              "        border-radius: 4px;\n",
              "\n",
              "        align-items: center;\n",
              "        justify-content: center;\n",
              "        background-color: rgb(255, 255, 255);\n",
              "        color: rgb(51, 103, 214);\n",
              "\n",
              "        font-family: Roboto,\"Helvetica Neue\",sans-serif;\n",
              "        font-size: 13px;\n",
              "        font-weight: 500;\n",
              "        text-transform: uppercase;\n",
              "        text-decoration: none !important;\n",
              "\n",
              "        transition: box-shadow 280ms cubic-bezier(0.4, 0, 0.2, 1) 0s;\n",
              "        box-shadow: 0px 3px 1px -2px rgba(0,0,0,0.2), 0px 2px 2px 0px rgba(0,0,0,0.14), 0px 1px 5px 0px rgba(0,0,0,0.12);\n",
              "      }\n",
              "      .view-vertex-resource:active {\n",
              "        box-shadow: 0px 5px 5px -3px rgba(0,0,0,0.2),0px 8px 10px 1px rgba(0,0,0,0.14),0px 3px 14px 2px rgba(0,0,0,0.12);\n",
              "      }\n",
              "      .view-vertex-resource:active .view-vertex-ripple::before {\n",
              "        position: absolute;\n",
              "        top: 0;\n",
              "        bottom: 0;\n",
              "        left: 0;\n",
              "        right: 0;\n",
              "        border-radius: 4px;\n",
              "        pointer-events: none;\n",
              "\n",
              "        content: '';\n",
              "        background-color: rgb(51, 103, 214);\n",
              "        opacity: 0.12;\n",
              "      }\n",
              "      .view-vertex-icon {\n",
              "        font-size: 18px;\n",
              "      }\n",
              "    </style>\n",
              "  \n",
              "        <a class=\"view-vertex-resource\" id=\"view-vertex-resource-10082eb1-41b0-4f18-a100-d3602cb1b60e\" href=\"#view-view-vertex-resource-10082eb1-41b0-4f18-a100-d3602cb1b60e\">\n",
              "          <span class=\"material-icons view-vertex-icon\">science</span>\n",
              "          <span>View Experiment Run</span>\n",
              "        </a>\n",
              "        \n",
              "        <script>\n",
              "          (function () {\n",
              "            const link = document.getElementById('view-vertex-resource-10082eb1-41b0-4f18-a100-d3602cb1b60e');\n",
              "            link.addEventListener('click', (e) => {\n",
              "              if (window.google?.colab?.openUrl) {\n",
              "                window.google.colab.openUrl('https://console.cloud.google.com/vertex-ai/experiments/locations/us-central1/experiments/evaluate-re-agent/runs/evaluate-re-agent-single-metric-eval-t3aictws?project=weverse-dev-mint');\n",
              "              } else {\n",
              "                window.open('https://console.cloud.google.com/vertex-ai/experiments/locations/us-central1/experiments/evaluate-re-agent/runs/evaluate-re-agent-single-metric-eval-t3aictws?project=weverse-dev-mint', '_blank');\n",
              "              }\n",
              "              e.stopPropagation();\n",
              "              e.preventDefault();\n",
              "            });\n",
              "          })();\n",
              "        </script>\n",
              "    "
            ],
            "text/plain": [
              "<IPython.core.display.HTML object>"
            ]
          },
          "metadata": {},
          "output_type": "display_data"
        },
        {
          "name": "stdout",
          "output_type": "stream",
          "text": [
            "Logging Eval experiment evaluation metadata: {'model_name': 'gemini-1.5-pro', 'tools': [<function get_product_details at 0x35dc63ec0>, <function get_product_price at 0x35dc63f60>]}\n",
            "Experiment evaluation metadata logging failed: Value for key tools is of type list but must be one of float, int, str\n"
          ]
        },
        {
          "name": "stderr",
          "output_type": "stream",
          "text": [
            "  0%|          | 0/5 [00:00<?, ?it/s]"
          ]
        },
        {
          "name": "stdout",
          "output_type": "stream",
          "text": [
            "\u001b[32;1m\u001b[1;3m[chain/start]\u001b[0m \u001b[1m[chain:AgentExecutor] Entering Chain run with input:\n",
            "\u001b[0m{\n",
            "  \"input\": \"Get price for smartphone\"\n",
            "}\n",
            "\u001b[32;1m\u001b[1;3m[chain/start]\u001b[0m \u001b[1m[chain:AgentExecutor > chain:RunnableSequence] Entering Chain run with input:\n",
            "\u001b[0m{\n",
            "  \"input\": \"\"\n",
            "}\n",
            "\u001b[32;1m\u001b[1;3m[chain/start]\u001b[0m \u001b[1m[chain:AgentExecutor > chain:RunnableSequence > chain:RunnableParallel<input,agent_scratchpad>] Entering Chain run with input:\n",
            "\u001b[0m{\n",
            "  \"input\": \"\"\n",
            "}\n",
            "\u001b[32;1m\u001b[1;3m[chain/start]\u001b[0m \u001b[1m[chain:AgentExecutor > chain:RunnableSequence > chain:RunnableParallel<input,agent_scratchpad> > chain:RunnableLambda] Entering Chain run with input:\n",
            "\u001b[0m{\n",
            "  \"input\": \"\"\n",
            "}\n",
            "\u001b[32;1m\u001b[1;3m[chain/start]\u001b[0m \u001b[1m[chain:AgentExecutor > chain:RunnableSequence > chain:RunnableParallel<input,agent_scratchpad> > chain:RunnableLambda] Entering Chain run with input:\n",
            "\u001b[0m{\n",
            "  \"input\": \"\"\n",
            "}\n",
            "\u001b[36;1m\u001b[1;3m[chain/end]\u001b[0m \u001b[1m[chain:AgentExecutor > chain:RunnableSequence > chain:RunnableParallel<input,agent_scratchpad> > chain:RunnableLambda] [1ms] Exiting Chain run with output:\n",
            "\u001b[0m{\n",
            "  \"output\": \"Get price for smartphone\"\n",
            "}\n",
            "\u001b[32;1m\u001b[1;3m[chain/start]\u001b[0m \u001b[1m[chain:AgentExecutor] Entering Chain run with input:\n",
            "\u001b[0m{\n",
            "  \"input\": \"Get product details and price for headphones\"\n",
            "}\n",
            "\u001b[32;1m\u001b[1;3m[chain/start]\u001b[0m \u001b[1m[chain:AgentExecutor > chain:RunnableSequence] Entering Chain run with input:\n",
            "\u001b[0m{\n",
            "  \"input\": \"\"\n",
            "}\n",
            "\u001b[32;1m\u001b[1;3m[chain/start]\u001b[0m \u001b[1m[chain:AgentExecutor > chain:RunnableSequence > chain:RunnableParallel<input,agent_scratchpad>] Entering Chain run with input:\n",
            "\u001b[0m{\n",
            "  \"input\": \"\"\n",
            "}\n",
            "\u001b[36;1m\u001b[1;3m[chain/end]\u001b[0m \u001b[1m[chain:AgentExecutor > chain:RunnableSequence > chain:RunnableParallel<input,agent_scratchpad> > chain:RunnableLambda] [1ms] Exiting Chain run with output:\n",
            "\u001b[0m{\n",
            "  \"output\": []\n",
            "}\n",
            "\u001b[32;1m\u001b[1;3m[chain/start]\u001b[0m \u001b[1m[chain:AgentExecutor > chain:RunnableSequence > chain:RunnableParallel<input,agent_scratchpad> > chain:RunnableLambda] Entering Chain run with input:\n",
            "\u001b[0m{\n",
            "  \"input\": \"\"\n",
            "}\n",
            "\u001b[36;1m\u001b[1;3m[chain/end]\u001b[0m \u001b[1m[chain:AgentExecutor > chain:RunnableSequence > chain:RunnableParallel<input,agent_scratchpad>] [3ms] Exiting Chain run with output:\n",
            "\u001b[0m{\n",
            "  \"input\": \"Get price for smartphone\",\n",
            "  \"agent_scratchpad\": []\n",
            "}\n",
            "\u001b[32;1m\u001b[1;3m[chain/start]\u001b[0m \u001b[1m[chain:AgentExecutor > chain:RunnableSequence > prompt:ChatPromptTemplate] Entering Prompt run with input:\n",
            "\u001b[0m{\n",
            "  \"input\": \"Get price for smartphone\",\n",
            "  \"agent_scratchpad\": []\n",
            "}\n",
            "\u001b[36;1m\u001b[1;3m[chain/end]\u001b[0m \u001b[1m[chain:AgentExecutor > chain:RunnableSequence > prompt:ChatPromptTemplate] [0ms] Exiting Prompt run with output:\n",
            "\u001b[0m[outputs]\n",
            "\u001b[32;1m\u001b[1;3m[llm/start]\u001b[0m \u001b[1m[chain:AgentExecutor > chain:RunnableSequence > llm:ChatVertexAI] Entering LLM run with input:\n",
            "\u001b[0m{\n",
            "  \"prompts\": [\n",
            "    \"Human: Get price for smartphone\"\n",
            "  ]\n",
            "}\n",
            "\u001b[32;1m\u001b[1;3m[chain/start]\u001b[0m \u001b[1m[chain:AgentExecutor > chain:RunnableSequence > chain:RunnableParallel<input,agent_scratchpad> > chain:RunnableLambda] Entering Chain run with input:\n",
            "\u001b[0m{\n",
            "  \"input\": \"\"\n",
            "}\n",
            "\u001b[36;1m\u001b[1;3m[chain/end]\u001b[0m \u001b[1m[chain:AgentExecutor > chain:RunnableSequence > chain:RunnableParallel<input,agent_scratchpad> > chain:RunnableLambda] [3ms] Exiting Chain run with output:\n",
            "\u001b[0m{\n",
            "  \"output\": \"Get product details and price for headphones\"\n",
            "}\n",
            "\u001b[36;1m\u001b[1;3m[chain/end]\u001b[0m \u001b[1m[chain:AgentExecutor > chain:RunnableSequence > chain:RunnableParallel<input,agent_scratchpad> > chain:RunnableLambda] [0ms] Exiting Chain run with output:\n",
            "\u001b[0m{\n",
            "  \"output\": []\n",
            "}\n",
            "\u001b[32;1m\u001b[1;3m[chain/start]\u001b[0m \u001b[1m[chain:AgentExecutor] Entering Chain run with input:\n",
            "\u001b[0m{\n",
            "  \"input\": \"Get details for usb charger\"\n",
            "}\n",
            "\u001b[32;1m\u001b[1;3m[chain/start]\u001b[0m \u001b[1m[chain:AgentExecutor > chain:RunnableSequence] Entering Chain run with input:\n",
            "\u001b[0m{\n",
            "  \"input\": \"\"\n",
            "}\n",
            "\u001b[32;1m\u001b[1;3m[chain/start]\u001b[0m \u001b[1m[chain:AgentExecutor > chain:RunnableSequence > chain:RunnableParallel<input,agent_scratchpad>] Entering Chain run with input:\n",
            "\u001b[0m{\n",
            "  \"input\": \"\"\n",
            "}\n",
            "\u001b[36;1m\u001b[1;3m[chain/end]\u001b[0m \u001b[1m[chain:AgentExecutor > chain:RunnableSequence > chain:RunnableParallel<input,agent_scratchpad>] [5ms] Exiting Chain run with output:\n",
            "\u001b[0m{\n",
            "  \"input\": \"Get product details and price for headphones\",\n",
            "  \"agent_scratchpad\": []\n",
            "}\n",
            "\u001b[32;1m\u001b[1;3m[chain/start]\u001b[0m \u001b[1m[chain:AgentExecutor > chain:RunnableSequence > prompt:ChatPromptTemplate] Entering Prompt run with input:\n",
            "\u001b[0m{\n",
            "  \"input\": \"Get product details and price for headphones\",\n",
            "  \"agent_scratchpad\": []\n",
            "}\n",
            "\u001b[36;1m\u001b[1;3m[chain/end]\u001b[0m \u001b[1m[chain:AgentExecutor > chain:RunnableSequence > prompt:ChatPromptTemplate] [0ms] Exiting Prompt run with output:\n",
            "\u001b[0m[outputs]\n",
            "\u001b[32;1m\u001b[1;3m[llm/start]\u001b[0m \u001b[1m[chain:AgentExecutor > chain:RunnableSequence > llm:ChatVertexAI] Entering LLM run with input:\n",
            "\u001b[0m{\n",
            "  \"prompts\": [\n",
            "    \"Human: Get product details and price for headphones\"\n",
            "  ]\n",
            "}\n",
            "\u001b[32;1m\u001b[1;3m[chain/start]\u001b[0m \u001b[1m[chain:AgentExecutor > chain:RunnableSequence > chain:RunnableParallel<input,agent_scratchpad> > chain:RunnableLambda] Entering Chain run with input:\n",
            "\u001b[0m{\n",
            "  \"input\": \"\"\n",
            "}\n",
            "\u001b[32;1m\u001b[1;3m[chain/start]\u001b[0m \u001b[1m[chain:AgentExecutor] Entering Chain run with input:\n",
            "\u001b[0m{\n",
            "  \"input\": \"Get product details and price for shoes\"\n",
            "}\n",
            "\u001b[32;1m\u001b[1;3m[chain/start]\u001b[0m \u001b[1m[chain:AgentExecutor > chain:RunnableSequence] Entering Chain run with input:\n",
            "\u001b[0m{\n",
            "  \"input\": \"\"\n",
            "}\n",
            "\u001b[32;1m\u001b[1;3m[chain/start]\u001b[0m \u001b[1m[chain:AgentExecutor > chain:RunnableSequence > chain:RunnableParallel<input,agent_scratchpad>] Entering Chain run with input:\n",
            "\u001b[0m{\n",
            "  \"input\": \"\"\n",
            "}\n",
            "\u001b[32;1m\u001b[1;3m[chain/start]\u001b[0m \u001b[1m[chain:AgentExecutor > chain:RunnableSequence > chain:RunnableParallel<input,agent_scratchpad> > chain:RunnableLambda] Entering Chain run with input:\n",
            "\u001b[0m{\n",
            "  \"input\": \"\"\n",
            "}\n",
            "\u001b[32;1m\u001b[1;3m[chain/start]\u001b[0m \u001b[1m[chain:AgentExecutor] Entering Chain run with input:\n",
            "\u001b[0m{\n",
            "  \"input\": \"Get product details for speaker?\"\n",
            "}\n",
            "\u001b[32;1m\u001b[1;3m[chain/start]\u001b[0m \u001b[1m[chain:AgentExecutor > chain:RunnableSequence] Entering Chain run with input:\n",
            "\u001b[0m{\n",
            "  \"input\": \"\"\n",
            "}\n",
            "\u001b[32;1m\u001b[1;3m[chain/start]\u001b[0m \u001b[1m[chain:AgentExecutor > chain:RunnableSequence > chain:RunnableParallel<input,agent_scratchpad>] Entering Chain run with input:\n",
            "\u001b[0m{\n",
            "  \"input\": \"\"\n",
            "}\n",
            "\u001b[32;1m\u001b[1;3m[chain/start]\u001b[0m \u001b[1m[chain:AgentExecutor > chain:RunnableSequence > chain:RunnableParallel<input,agent_scratchpad> > chain:RunnableLambda] Entering Chain run with input:\n",
            "\u001b[0m{\n",
            "  \"input\": \"\"\n",
            "}\n",
            "\u001b[36;1m\u001b[1;3m[chain/end]\u001b[0m \u001b[1m[chain:AgentExecutor > chain:RunnableSequence > chain:RunnableParallel<input,agent_scratchpad> > chain:RunnableLambda] [2ms] Exiting Chain run with output:\n",
            "\u001b[0m{\n",
            "  \"output\": \"Get details for usb charger\"\n",
            "}\n",
            "\u001b[32;1m\u001b[1;3m[chain/start]\u001b[0m \u001b[1m[chain:AgentExecutor > chain:RunnableSequence > chain:RunnableParallel<input,agent_scratchpad> > chain:RunnableLambda] Entering Chain run with input:\n",
            "\u001b[0m{\n",
            "  \"input\": \"\"\n",
            "}\n",
            "\u001b[32;1m\u001b[1;3m[chain/start]\u001b[0m \u001b[1m[chain:AgentExecutor > chain:RunnableSequence > chain:RunnableParallel<input,agent_scratchpad> > chain:RunnableLambda] Entering Chain run with input:\n",
            "\u001b[0m{\n",
            "  \"input\": \"\"\n",
            "}\n",
            "\u001b[36;1m\u001b[1;3m[chain/end]\u001b[0m \u001b[1m[chain:AgentExecutor > chain:RunnableSequence > chain:RunnableParallel<input,agent_scratchpad> > chain:RunnableLambda] [2ms] Exiting Chain run with output:\n",
            "\u001b[0m{\n",
            "  \"output\": []\n",
            "}\n",
            "\u001b[32;1m\u001b[1;3m[chain/start]\u001b[0m \u001b[1m[chain:AgentExecutor > chain:RunnableSequence > chain:RunnableParallel<input,agent_scratchpad> > chain:RunnableLambda] Entering Chain run with input:\n",
            "\u001b[0m{\n",
            "  \"input\": \"\"\n",
            "}\n",
            "\u001b[36;1m\u001b[1;3m[chain/end]\u001b[0m \u001b[1m[chain:AgentExecutor > chain:RunnableSequence > chain:RunnableParallel<input,agent_scratchpad> > chain:RunnableLambda] [1ms] Exiting Chain run with output:\n",
            "\u001b[0m{\n",
            "  \"output\": \"Get product details and price for shoes\"\n",
            "}\n",
            "\u001b[36;1m\u001b[1;3m[chain/end]\u001b[0m \u001b[1m[chain:AgentExecutor > chain:RunnableSequence > chain:RunnableParallel<input,agent_scratchpad>] [5ms] Exiting Chain run with output:\n",
            "\u001b[0m{\n",
            "  \"input\": \"Get details for usb charger\",\n",
            "  \"agent_scratchpad\": []\n",
            "}\n",
            "\u001b[32;1m\u001b[1;3m[chain/start]\u001b[0m \u001b[1m[chain:AgentExecutor > chain:RunnableSequence > prompt:ChatPromptTemplate] Entering Prompt run with input:\n",
            "\u001b[0m{\n",
            "  \"input\": \"Get details for usb charger\",\n",
            "  \"agent_scratchpad\": []\n",
            "}\n",
            "\u001b[36;1m\u001b[1;3m[chain/end]\u001b[0m \u001b[1m[chain:AgentExecutor > chain:RunnableSequence > prompt:ChatPromptTemplate] [0ms] Exiting Prompt run with output:\n",
            "\u001b[0m[outputs]\n",
            "\u001b[32;1m\u001b[1;3m[llm/start]\u001b[0m \u001b[1m[chain:AgentExecutor > chain:RunnableSequence > llm:ChatVertexAI] Entering LLM run with input:\n",
            "\u001b[0m{\n",
            "  \"prompts\": [\n",
            "    \"Human: Get details for usb charger\"\n",
            "  ]\n",
            "}\n",
            "\u001b[36;1m\u001b[1;3m[chain/end]\u001b[0m \u001b[1m[chain:AgentExecutor > chain:RunnableSequence > chain:RunnableParallel<input,agent_scratchpad> > chain:RunnableLambda] [2ms] Exiting Chain run with output:\n",
            "\u001b[0m{\n",
            "  \"output\": \"Get product details for speaker?\"\n",
            "}\n",
            "\u001b[36;1m\u001b[1;3m[chain/end]\u001b[0m \u001b[1m[chain:AgentExecutor > chain:RunnableSequence > chain:RunnableParallel<input,agent_scratchpad> > chain:RunnableLambda] [2ms] Exiting Chain run with output:\n",
            "\u001b[0m{\n",
            "  \"output\": []\n",
            "}\n",
            "\u001b[36;1m\u001b[1;3m[chain/end]\u001b[0m \u001b[1m[chain:AgentExecutor > chain:RunnableSequence > chain:RunnableParallel<input,agent_scratchpad> > chain:RunnableLambda] [2ms] Exiting Chain run with output:\n",
            "\u001b[0m{\n",
            "  \"output\": []\n",
            "}\n",
            "\u001b[36;1m\u001b[1;3m[chain/end]\u001b[0m \u001b[1m[chain:AgentExecutor > chain:RunnableSequence > chain:RunnableParallel<input,agent_scratchpad>] [4ms] Exiting Chain run with output:\n",
            "\u001b[0m{\n",
            "  \"input\": \"Get product details and price for shoes\",\n",
            "  \"agent_scratchpad\": []\n",
            "}\n",
            "\u001b[32;1m\u001b[1;3m[chain/start]\u001b[0m \u001b[1m[chain:AgentExecutor > chain:RunnableSequence > prompt:ChatPromptTemplate] Entering Prompt run with input:\n",
            "\u001b[0m{\n",
            "  \"input\": \"Get product details and price for shoes\",\n",
            "  \"agent_scratchpad\": []\n",
            "}\n",
            "\u001b[36;1m\u001b[1;3m[chain/end]\u001b[0m \u001b[1m[chain:AgentExecutor > chain:RunnableSequence > prompt:ChatPromptTemplate] [0ms] Exiting Prompt run with output:\n",
            "\u001b[0m[outputs]\n",
            "\u001b[36;1m\u001b[1;3m[chain/end]\u001b[0m \u001b[1m[chain:AgentExecutor > chain:RunnableSequence > chain:RunnableParallel<input,agent_scratchpad>] [4ms] Exiting Chain run with output:\n",
            "\u001b[0m{\n",
            "  \"input\": \"Get product details for speaker?\",\n",
            "  \"agent_scratchpad\": []\n",
            "}\n",
            "\u001b[32;1m\u001b[1;3m[chain/start]\u001b[0m \u001b[1m[chain:AgentExecutor > chain:RunnableSequence > prompt:ChatPromptTemplate] Entering Prompt run with input:\n",
            "\u001b[0m{\n",
            "  \"input\": \"Get product details for speaker?\",\n",
            "  \"agent_scratchpad\": []\n",
            "}\n",
            "\u001b[36;1m\u001b[1;3m[chain/end]\u001b[0m \u001b[1m[chain:AgentExecutor > chain:RunnableSequence > prompt:ChatPromptTemplate] [0ms] Exiting Prompt run with output:\n",
            "\u001b[0m[outputs]\n",
            "\u001b[32;1m\u001b[1;3m[llm/start]\u001b[0m \u001b[1m[chain:AgentExecutor > chain:RunnableSequence > llm:ChatVertexAI] Entering LLM run with input:\n",
            "\u001b[0m{\n",
            "  \"prompts\": [\n",
            "    \"Human: Get product details for speaker?\"\n",
            "  ]\n",
            "}\n",
            "\u001b[32;1m\u001b[1;3m[llm/start]\u001b[0m \u001b[1m[chain:AgentExecutor > chain:RunnableSequence > llm:ChatVertexAI] Entering LLM run with input:\n",
            "\u001b[0m{\n",
            "  \"prompts\": [\n",
            "    \"Human: Get product details and price for shoes\"\n",
            "  ]\n",
            "}\n",
            "\u001b[36;1m\u001b[1;3m[llm/end]\u001b[0m \u001b[1m[chain:AgentExecutor > chain:RunnableSequence > llm:ChatVertexAI] [1.85s] Exiting LLM run with output:\n",
            "\u001b[0m{\n",
            "  \"generations\": [\n",
            "    [\n",
            "      {\n",
            "        \"text\": \"\",\n",
            "        \"generation_info\": {\n",
            "          \"safety_ratings\": [\n",
            "            {\n",
            "              \"category\": \"HARM_CATEGORY_HATE_SPEECH\",\n",
            "              \"probability_label\": \"NEGLIGIBLE\",\n",
            "              \"probability_score\": 0.068359375,\n",
            "              \"blocked\": false,\n",
            "              \"severity\": \"HARM_SEVERITY_NEGLIGIBLE\",\n",
            "              \"severity_score\": 0.10693359375\n",
            "            },\n",
            "            {\n",
            "              \"category\": \"HARM_CATEGORY_DANGEROUS_CONTENT\",\n",
            "              \"probability_label\": \"NEGLIGIBLE\",\n",
            "              \"probability_score\": 0.1845703125,\n",
            "              \"blocked\": false,\n",
            "              \"severity\": \"HARM_SEVERITY_NEGLIGIBLE\",\n",
            "              \"severity_score\": 0.193359375\n",
            "            },\n",
            "            {\n",
            "              \"category\": \"HARM_CATEGORY_HARASSMENT\",\n",
            "              \"probability_label\": \"NEGLIGIBLE\",\n",
            "              \"probability_score\": 0.1142578125,\n",
            "              \"blocked\": false,\n",
            "              \"severity\": \"HARM_SEVERITY_NEGLIGIBLE\",\n",
            "              \"severity_score\": 0.04345703125\n",
            "            },\n",
            "            {\n",
            "              \"category\": \"HARM_CATEGORY_SEXUALLY_EXPLICIT\",\n",
            "              \"probability_label\": \"NEGLIGIBLE\",\n",
            "              \"probability_score\": 0.040283203125,\n",
            "              \"blocked\": false,\n",
            "              \"severity\": \"HARM_SEVERITY_NEGLIGIBLE\",\n",
            "              \"severity_score\": 0.046630859375\n",
            "            }\n",
            "          ],\n",
            "          \"finish_reason\": \"STOP\"\n",
            "        },\n",
            "        \"type\": \"ChatGenerationChunk\",\n",
            "        \"message\": {\n",
            "          \"lc\": 1,\n",
            "          \"type\": \"constructor\",\n",
            "          \"id\": [\n",
            "            \"langchain\",\n",
            "            \"schema\",\n",
            "            \"messages\",\n",
            "            \"AIMessageChunk\"\n",
            "          ],\n",
            "          \"kwargs\": {\n",
            "            \"content\": \"\",\n",
            "            \"additional_kwargs\": {\n",
            "              \"function_call\": {\n",
            "                \"name\": \"get_product_price\",\n",
            "                \"arguments\": \"{\\\"product_name\\\": \\\"smartphone\\\"}\"\n",
            "              }\n",
            "            },\n",
            "            \"response_metadata\": {\n",
            "              \"safety_ratings\": [\n",
            "                {\n",
            "                  \"category\": \"HARM_CATEGORY_HATE_SPEECH\",\n",
            "                  \"probability_label\": \"NEGLIGIBLE\",\n",
            "                  \"probability_score\": 0.068359375,\n",
            "                  \"blocked\": false,\n",
            "                  \"severity\": \"HARM_SEVERITY_NEGLIGIBLE\",\n",
            "                  \"severity_score\": 0.10693359375\n",
            "                },\n",
            "                {\n",
            "                  \"category\": \"HARM_CATEGORY_DANGEROUS_CONTENT\",\n",
            "                  \"probability_label\": \"NEGLIGIBLE\",\n",
            "                  \"probability_score\": 0.1845703125,\n",
            "                  \"blocked\": false,\n",
            "                  \"severity\": \"HARM_SEVERITY_NEGLIGIBLE\",\n",
            "                  \"severity_score\": 0.193359375\n",
            "                },\n",
            "                {\n",
            "                  \"category\": \"HARM_CATEGORY_HARASSMENT\",\n",
            "                  \"probability_label\": \"NEGLIGIBLE\",\n",
            "                  \"probability_score\": 0.1142578125,\n",
            "                  \"blocked\": false,\n",
            "                  \"severity\": \"HARM_SEVERITY_NEGLIGIBLE\",\n",
            "                  \"severity_score\": 0.04345703125\n",
            "                },\n",
            "                {\n",
            "                  \"category\": \"HARM_CATEGORY_SEXUALLY_EXPLICIT\",\n",
            "                  \"probability_label\": \"NEGLIGIBLE\",\n",
            "                  \"probability_score\": 0.040283203125,\n",
            "                  \"blocked\": false,\n",
            "                  \"severity\": \"HARM_SEVERITY_NEGLIGIBLE\",\n",
            "                  \"severity_score\": 0.046630859375\n",
            "                }\n",
            "              ],\n",
            "              \"finish_reason\": \"STOP\"\n",
            "            },\n",
            "            \"type\": \"AIMessageChunk\",\n",
            "            \"id\": \"run-ca377af2-e555-4d13-97dd-007320d89b85\",\n",
            "            \"tool_calls\": [\n",
            "              {\n",
            "                \"name\": \"get_product_price\",\n",
            "                \"args\": {\n",
            "                  \"product_name\": \"smartphone\"\n",
            "                },\n",
            "                \"id\": \"a5cb2685-e0c8-4db2-9acb-90e49ccc9e16\",\n",
            "                \"type\": \"tool_call\"\n",
            "              }\n",
            "            ],\n",
            "            \"usage_metadata\": {\n",
            "              \"input_tokens\": 41,\n",
            "              \"output_tokens\": 9,\n",
            "              \"total_tokens\": 50\n",
            "            },\n",
            "            \"tool_call_chunks\": [\n",
            "              {\n",
            "                \"name\": \"get_product_price\",\n",
            "                \"args\": \"{\\\"product_name\\\": \\\"smartphone\\\"}\",\n",
            "                \"id\": \"a5cb2685-e0c8-4db2-9acb-90e49ccc9e16\",\n",
            "                \"index\": null,\n",
            "                \"type\": \"tool_call_chunk\"\n",
            "              }\n",
            "            ],\n",
            "            \"invalid_tool_calls\": []\n",
            "          }\n",
            "        }\n",
            "      }\n",
            "    ]\n",
            "  ],\n",
            "  \"llm_output\": null,\n",
            "  \"run\": null,\n",
            "  \"type\": \"LLMResult\"\n",
            "}\n",
            "\u001b[32;1m\u001b[1;3m[chain/start]\u001b[0m \u001b[1m[chain:AgentExecutor > chain:RunnableSequence > parser:ToolsAgentOutputParser] Entering Parser run with input:\n",
            "\u001b[0m[inputs]\n",
            "\u001b[36;1m\u001b[1;3m[chain/end]\u001b[0m \u001b[1m[chain:AgentExecutor > chain:RunnableSequence > parser:ToolsAgentOutputParser] [0ms] Exiting Parser run with output:\n",
            "\u001b[0m[outputs]\n",
            "\u001b[36;1m\u001b[1;3m[chain/end]\u001b[0m \u001b[1m[chain:AgentExecutor > chain:RunnableSequence] [1.85s] Exiting Chain run with output:\n",
            "\u001b[0m[outputs]\n",
            "\u001b[32;1m\u001b[1;3m[tool/start]\u001b[0m \u001b[1m[chain:AgentExecutor > tool:get_product_price] Entering Tool run with input:\n",
            "\u001b[0m\"{'product_name': 'smartphone'}\"\n",
            "\u001b[36;1m\u001b[1;3m[tool/end]\u001b[0m \u001b[1m[chain:AgentExecutor > tool:get_product_price] [0ms] Exiting Tool run with output:\n",
            "\u001b[0m\"500\"\n",
            "\u001b[32;1m\u001b[1;3m[chain/start]\u001b[0m \u001b[1m[chain:AgentExecutor > chain:RunnableSequence] Entering Chain run with input:\n",
            "\u001b[0m{\n",
            "  \"input\": \"\"\n",
            "}\n",
            "\u001b[32;1m\u001b[1;3m[chain/start]\u001b[0m \u001b[1m[chain:AgentExecutor > chain:RunnableSequence > chain:RunnableParallel<input,agent_scratchpad>] Entering Chain run with input:\n",
            "\u001b[0m{\n",
            "  \"input\": \"\"\n",
            "}\n",
            "\u001b[32;1m\u001b[1;3m[chain/start]\u001b[0m \u001b[1m[chain:AgentExecutor > chain:RunnableSequence > chain:RunnableParallel<input,agent_scratchpad> > chain:RunnableLambda] Entering Chain run with input:\n",
            "\u001b[0m{\n",
            "  \"input\": \"\"\n",
            "}\n",
            "\u001b[32;1m\u001b[1;3m[chain/start]\u001b[0m \u001b[1m[chain:AgentExecutor > chain:RunnableSequence > chain:RunnableParallel<input,agent_scratchpad> > chain:RunnableLambda] Entering Chain run with input:\n",
            "\u001b[0m{\n",
            "  \"input\": \"\"\n",
            "}\n",
            "\u001b[36;1m\u001b[1;3m[chain/end]\u001b[0m \u001b[1m[chain:AgentExecutor > chain:RunnableSequence > chain:RunnableParallel<input,agent_scratchpad> > chain:RunnableLambda] [1ms] Exiting Chain run with output:\n",
            "\u001b[0m{\n",
            "  \"output\": \"Get price for smartphone\"\n",
            "}\n",
            "\u001b[36;1m\u001b[1;3m[chain/end]\u001b[0m \u001b[1m[chain:AgentExecutor > chain:RunnableSequence > chain:RunnableParallel<input,agent_scratchpad> > chain:RunnableLambda] [0ms] Exiting Chain run with output:\n",
            "\u001b[0m[outputs]\n",
            "\u001b[36;1m\u001b[1;3m[chain/end]\u001b[0m \u001b[1m[chain:AgentExecutor > chain:RunnableSequence > chain:RunnableParallel<input,agent_scratchpad>] [1ms] Exiting Chain run with output:\n",
            "\u001b[0m[outputs]\n",
            "\u001b[32;1m\u001b[1;3m[chain/start]\u001b[0m \u001b[1m[chain:AgentExecutor > chain:RunnableSequence > prompt:ChatPromptTemplate] Entering Prompt run with input:\n",
            "\u001b[0m[inputs]\n",
            "\u001b[36;1m\u001b[1;3m[chain/end]\u001b[0m \u001b[1m[chain:AgentExecutor > chain:RunnableSequence > prompt:ChatPromptTemplate] [0ms] Exiting Prompt run with output:\n",
            "\u001b[0m[outputs]\n",
            "\u001b[32;1m\u001b[1;3m[llm/start]\u001b[0m \u001b[1m[chain:AgentExecutor > chain:RunnableSequence > llm:ChatVertexAI] Entering LLM run with input:\n",
            "\u001b[0m{\n",
            "  \"prompts\": [\n",
            "    \"Human: Get price for smartphone\\nAI: {'name': 'get_product_price', 'arguments': '{\\\"product_name\\\": \\\"smartphone\\\"}'}\\nTool: 500\"\n",
            "  ]\n",
            "}\n",
            "\u001b[36;1m\u001b[1;3m[llm/end]\u001b[0m \u001b[1m[chain:AgentExecutor > chain:RunnableSequence > llm:ChatVertexAI] [1.87s] Exiting LLM run with output:\n",
            "\u001b[0m{\n",
            "  \"generations\": [\n",
            "    [\n",
            "      {\n",
            "        \"text\": \"\",\n",
            "        \"generation_info\": {\n",
            "          \"safety_ratings\": [\n",
            "            {\n",
            "              \"category\": \"HARM_CATEGORY_HATE_SPEECH\",\n",
            "              \"probability_label\": \"NEGLIGIBLE\",\n",
            "              \"probability_score\": 0.1201171875,\n",
            "              \"blocked\": false,\n",
            "              \"severity\": \"HARM_SEVERITY_NEGLIGIBLE\",\n",
            "              \"severity_score\": 0.09521484375\n",
            "            },\n",
            "            {\n",
            "              \"category\": \"HARM_CATEGORY_DANGEROUS_CONTENT\",\n",
            "              \"probability_label\": \"NEGLIGIBLE\",\n",
            "              \"probability_score\": 0.15625,\n",
            "              \"blocked\": false,\n",
            "              \"severity\": \"HARM_SEVERITY_NEGLIGIBLE\",\n",
            "              \"severity_score\": 0.1982421875\n",
            "            },\n",
            "            {\n",
            "              \"category\": \"HARM_CATEGORY_HARASSMENT\",\n",
            "              \"probability_label\": \"NEGLIGIBLE\",\n",
            "              \"probability_score\": 0.1513671875,\n",
            "              \"blocked\": false,\n",
            "              \"severity\": \"HARM_SEVERITY_NEGLIGIBLE\",\n",
            "              \"severity_score\": 0.09521484375\n",
            "            },\n",
            "            {\n",
            "              \"category\": \"HARM_CATEGORY_SEXUALLY_EXPLICIT\",\n",
            "              \"probability_label\": \"NEGLIGIBLE\",\n",
            "              \"probability_score\": 0.056640625,\n",
            "              \"blocked\": false,\n",
            "              \"severity\": \"HARM_SEVERITY_NEGLIGIBLE\",\n",
            "              \"severity_score\": 0.0517578125\n",
            "            }\n",
            "          ],\n",
            "          \"finish_reason\": \"STOP\"\n",
            "        },\n",
            "        \"type\": \"ChatGenerationChunk\",\n",
            "        \"message\": {\n",
            "          \"lc\": 1,\n",
            "          \"type\": \"constructor\",\n",
            "          \"id\": [\n",
            "            \"langchain\",\n",
            "            \"schema\",\n",
            "            \"messages\",\n",
            "            \"AIMessageChunk\"\n",
            "          ],\n",
            "          \"kwargs\": {\n",
            "            \"content\": \"\",\n",
            "            \"additional_kwargs\": {\n",
            "              \"function_call\": {\n",
            "                \"name\": \"get_product_details\",\n",
            "                \"arguments\": \"{\\\"product_name\\\": \\\"speaker\\\"}\"\n",
            "              }\n",
            "            },\n",
            "            \"response_metadata\": {\n",
            "              \"safety_ratings\": [\n",
            "                {\n",
            "                  \"category\": \"HARM_CATEGORY_HATE_SPEECH\",\n",
            "                  \"probability_label\": \"NEGLIGIBLE\",\n",
            "                  \"probability_score\": 0.1201171875,\n",
            "                  \"blocked\": false,\n",
            "                  \"severity\": \"HARM_SEVERITY_NEGLIGIBLE\",\n",
            "                  \"severity_score\": 0.09521484375\n",
            "                },\n",
            "                {\n",
            "                  \"category\": \"HARM_CATEGORY_DANGEROUS_CONTENT\",\n",
            "                  \"probability_label\": \"NEGLIGIBLE\",\n",
            "                  \"probability_score\": 0.15625,\n",
            "                  \"blocked\": false,\n",
            "                  \"severity\": \"HARM_SEVERITY_NEGLIGIBLE\",\n",
            "                  \"severity_score\": 0.1982421875\n",
            "                },\n",
            "                {\n",
            "                  \"category\": \"HARM_CATEGORY_HARASSMENT\",\n",
            "                  \"probability_label\": \"NEGLIGIBLE\",\n",
            "                  \"probability_score\": 0.1513671875,\n",
            "                  \"blocked\": false,\n",
            "                  \"severity\": \"HARM_SEVERITY_NEGLIGIBLE\",\n",
            "                  \"severity_score\": 0.09521484375\n",
            "                },\n",
            "                {\n",
            "                  \"category\": \"HARM_CATEGORY_SEXUALLY_EXPLICIT\",\n",
            "                  \"probability_label\": \"NEGLIGIBLE\",\n",
            "                  \"probability_score\": 0.056640625,\n",
            "                  \"blocked\": false,\n",
            "                  \"severity\": \"HARM_SEVERITY_NEGLIGIBLE\",\n",
            "                  \"severity_score\": 0.0517578125\n",
            "                }\n",
            "              ],\n",
            "              \"finish_reason\": \"STOP\"\n",
            "            },\n",
            "            \"type\": \"AIMessageChunk\",\n",
            "            \"id\": \"run-62f6ff5b-254a-4af6-b52b-2050959eb55f\",\n",
            "            \"tool_calls\": [\n",
            "              {\n",
            "                \"name\": \"get_product_details\",\n",
            "                \"args\": {\n",
            "                  \"product_name\": \"speaker\"\n",
            "                },\n",
            "                \"id\": \"07d68aea-dd3c-4a17-b809-d548320c07d4\",\n",
            "                \"type\": \"tool_call\"\n",
            "              }\n",
            "            ],\n",
            "            \"usage_metadata\": {\n",
            "              \"input_tokens\": 43,\n",
            "              \"output_tokens\": 9,\n",
            "              \"total_tokens\": 52\n",
            "            },\n",
            "            \"tool_call_chunks\": [\n",
            "              {\n",
            "                \"name\": \"get_product_details\",\n",
            "                \"args\": \"{\\\"product_name\\\": \\\"speaker\\\"}\",\n",
            "                \"id\": \"07d68aea-dd3c-4a17-b809-d548320c07d4\",\n",
            "                \"index\": null,\n",
            "                \"type\": \"tool_call_chunk\"\n",
            "              }\n",
            "            ],\n",
            "            \"invalid_tool_calls\": []\n",
            "          }\n",
            "        }\n",
            "      }\n",
            "    ]\n",
            "  ],\n",
            "  \"llm_output\": null,\n",
            "  \"run\": null,\n",
            "  \"type\": \"LLMResult\"\n",
            "}\n",
            "\u001b[32;1m\u001b[1;3m[chain/start]\u001b[0m \u001b[1m[chain:AgentExecutor > chain:RunnableSequence > parser:ToolsAgentOutputParser] Entering Parser run with input:\n",
            "\u001b[0m[inputs]\n",
            "\u001b[36;1m\u001b[1;3m[chain/end]\u001b[0m \u001b[1m[chain:AgentExecutor > chain:RunnableSequence > parser:ToolsAgentOutputParser] [0ms] Exiting Parser run with output:\n",
            "\u001b[0m[outputs]\n",
            "\u001b[36;1m\u001b[1;3m[chain/end]\u001b[0m \u001b[1m[chain:AgentExecutor > chain:RunnableSequence] [1.87s] Exiting Chain run with output:\n",
            "\u001b[0m[outputs]\n",
            "\u001b[32;1m\u001b[1;3m[tool/start]\u001b[0m \u001b[1m[chain:AgentExecutor > tool:get_product_details] Entering Tool run with input:\n",
            "\u001b[0m\"{'product_name': 'speaker'}\"\n",
            "\u001b[36;1m\u001b[1;3m[tool/end]\u001b[0m \u001b[1m[chain:AgentExecutor > tool:get_product_details] [0ms] Exiting Tool run with output:\n",
            "\u001b[0m\"A voice-controlled smart speaker that plays music, sets alarms, and controls smart home devices.\"\n",
            "\u001b[32;1m\u001b[1;3m[chain/start]\u001b[0m \u001b[1m[chain:AgentExecutor > chain:RunnableSequence] Entering Chain run with input:\n",
            "\u001b[0m{\n",
            "  \"input\": \"\"\n",
            "}\n",
            "\u001b[32;1m\u001b[1;3m[chain/start]\u001b[0m \u001b[1m[chain:AgentExecutor > chain:RunnableSequence > chain:RunnableParallel<input,agent_scratchpad>] Entering Chain run with input:\n",
            "\u001b[0m{\n",
            "  \"input\": \"\"\n",
            "}\n",
            "\u001b[32;1m\u001b[1;3m[chain/start]\u001b[0m \u001b[1m[chain:AgentExecutor > chain:RunnableSequence > chain:RunnableParallel<input,agent_scratchpad> > chain:RunnableLambda] Entering Chain run with input:\n",
            "\u001b[0m{\n",
            "  \"input\": \"\"\n",
            "}\n",
            "\u001b[32;1m\u001b[1;3m[chain/start]\u001b[0m \u001b[1m[chain:AgentExecutor > chain:RunnableSequence > chain:RunnableParallel<input,agent_scratchpad> > chain:RunnableLambda] Entering Chain run with input:\n",
            "\u001b[0m{\n",
            "  \"input\": \"\"\n",
            "}\n",
            "\u001b[36;1m\u001b[1;3m[chain/end]\u001b[0m \u001b[1m[chain:AgentExecutor > chain:RunnableSequence > chain:RunnableParallel<input,agent_scratchpad> > chain:RunnableLambda] [0ms] Exiting Chain run with output:\n",
            "\u001b[0m{\n",
            "  \"output\": \"Get product details for speaker?\"\n",
            "}\n",
            "\u001b[36;1m\u001b[1;3m[chain/end]\u001b[0m \u001b[1m[chain:AgentExecutor > chain:RunnableSequence > chain:RunnableParallel<input,agent_scratchpad> > chain:RunnableLambda] [0ms] Exiting Chain run with output:\n",
            "\u001b[0m[outputs]\n",
            "\u001b[36;1m\u001b[1;3m[chain/end]\u001b[0m \u001b[1m[chain:AgentExecutor > chain:RunnableSequence > chain:RunnableParallel<input,agent_scratchpad>] [1ms] Exiting Chain run with output:\n",
            "\u001b[0m[outputs]\n",
            "\u001b[32;1m\u001b[1;3m[chain/start]\u001b[0m \u001b[1m[chain:AgentExecutor > chain:RunnableSequence > prompt:ChatPromptTemplate] Entering Prompt run with input:\n",
            "\u001b[0m[inputs]\n",
            "\u001b[36;1m\u001b[1;3m[chain/end]\u001b[0m \u001b[1m[chain:AgentExecutor > chain:RunnableSequence > prompt:ChatPromptTemplate] [0ms] Exiting Prompt run with output:\n",
            "\u001b[0m[outputs]\n",
            "\u001b[32;1m\u001b[1;3m[llm/start]\u001b[0m \u001b[1m[chain:AgentExecutor > chain:RunnableSequence > llm:ChatVertexAI] Entering LLM run with input:\n",
            "\u001b[0m{\n",
            "  \"prompts\": [\n",
            "    \"Human: Get product details for speaker?\\nAI: {'name': 'get_product_details', 'arguments': '{\\\"product_name\\\": \\\"speaker\\\"}'}\\nTool: A voice-controlled smart speaker that plays music, sets alarms, and controls smart home devices.\"\n",
            "  ]\n",
            "}\n",
            "\u001b[36;1m\u001b[1;3m[llm/end]\u001b[0m \u001b[1m[chain:AgentExecutor > chain:RunnableSequence > llm:ChatVertexAI] [1.87s] Exiting LLM run with output:\n",
            "\u001b[0m{\n",
            "  \"generations\": [\n",
            "    [\n",
            "      {\n",
            "        \"text\": \"\",\n",
            "        \"generation_info\": {\n",
            "          \"safety_ratings\": [\n",
            "            {\n",
            "              \"category\": \"HARM_CATEGORY_HATE_SPEECH\",\n",
            "              \"probability_label\": \"NEGLIGIBLE\",\n",
            "              \"probability_score\": 0.0634765625,\n",
            "              \"blocked\": false,\n",
            "              \"severity\": \"HARM_SEVERITY_NEGLIGIBLE\",\n",
            "              \"severity_score\": 0.1142578125\n",
            "            },\n",
            "            {\n",
            "              \"category\": \"HARM_CATEGORY_DANGEROUS_CONTENT\",\n",
            "              \"probability_label\": \"NEGLIGIBLE\",\n",
            "              \"probability_score\": 0.15234375,\n",
            "              \"blocked\": false,\n",
            "              \"severity\": \"HARM_SEVERITY_LOW\",\n",
            "              \"severity_score\": 0.232421875\n",
            "            },\n",
            "            {\n",
            "              \"category\": \"HARM_CATEGORY_HARASSMENT\",\n",
            "              \"probability_label\": \"NEGLIGIBLE\",\n",
            "              \"probability_score\": 0.111328125,\n",
            "              \"blocked\": false,\n",
            "              \"severity\": \"HARM_SEVERITY_NEGLIGIBLE\",\n",
            "              \"severity_score\": 0.03857421875\n",
            "            },\n",
            "            {\n",
            "              \"category\": \"HARM_CATEGORY_SEXUALLY_EXPLICIT\",\n",
            "              \"probability_label\": \"NEGLIGIBLE\",\n",
            "              \"probability_score\": 0.0289306640625,\n",
            "              \"blocked\": false,\n",
            "              \"severity\": \"HARM_SEVERITY_NEGLIGIBLE\",\n",
            "              \"severity_score\": 0.04345703125\n",
            "            }\n",
            "          ],\n",
            "          \"finish_reason\": \"STOP\"\n",
            "        },\n",
            "        \"type\": \"ChatGenerationChunk\",\n",
            "        \"message\": {\n",
            "          \"lc\": 1,\n",
            "          \"type\": \"constructor\",\n",
            "          \"id\": [\n",
            "            \"langchain\",\n",
            "            \"schema\",\n",
            "            \"messages\",\n",
            "            \"AIMessageChunk\"\n",
            "          ],\n",
            "          \"kwargs\": {\n",
            "            \"content\": \"\",\n",
            "            \"additional_kwargs\": {\n",
            "              \"function_call\": {\n",
            "                \"name\": \"get_product_details\",\n",
            "                \"arguments\": \"{\\\"product_name\\\": \\\"usb charger\\\"}\"\n",
            "              }\n",
            "            },\n",
            "            \"response_metadata\": {\n",
            "              \"safety_ratings\": [\n",
            "                {\n",
            "                  \"category\": \"HARM_CATEGORY_HATE_SPEECH\",\n",
            "                  \"probability_label\": \"NEGLIGIBLE\",\n",
            "                  \"probability_score\": 0.0634765625,\n",
            "                  \"blocked\": false,\n",
            "                  \"severity\": \"HARM_SEVERITY_NEGLIGIBLE\",\n",
            "                  \"severity_score\": 0.1142578125\n",
            "                },\n",
            "                {\n",
            "                  \"category\": \"HARM_CATEGORY_DANGEROUS_CONTENT\",\n",
            "                  \"probability_label\": \"NEGLIGIBLE\",\n",
            "                  \"probability_score\": 0.15234375,\n",
            "                  \"blocked\": false,\n",
            "                  \"severity\": \"HARM_SEVERITY_LOW\",\n",
            "                  \"severity_score\": 0.232421875\n",
            "                },\n",
            "                {\n",
            "                  \"category\": \"HARM_CATEGORY_HARASSMENT\",\n",
            "                  \"probability_label\": \"NEGLIGIBLE\",\n",
            "                  \"probability_score\": 0.111328125,\n",
            "                  \"blocked\": false,\n",
            "                  \"severity\": \"HARM_SEVERITY_NEGLIGIBLE\",\n",
            "                  \"severity_score\": 0.03857421875\n",
            "                },\n",
            "                {\n",
            "                  \"category\": \"HARM_CATEGORY_SEXUALLY_EXPLICIT\",\n",
            "                  \"probability_label\": \"NEGLIGIBLE\",\n",
            "                  \"probability_score\": 0.0289306640625,\n",
            "                  \"blocked\": false,\n",
            "                  \"severity\": \"HARM_SEVERITY_NEGLIGIBLE\",\n",
            "                  \"severity_score\": 0.04345703125\n",
            "                }\n",
            "              ],\n",
            "              \"finish_reason\": \"STOP\"\n",
            "            },\n",
            "            \"type\": \"AIMessageChunk\",\n",
            "            \"id\": \"run-5a3c6ab4-f17e-40bf-8666-a4a261219ab0\",\n",
            "            \"tool_calls\": [\n",
            "              {\n",
            "                \"name\": \"get_product_details\",\n",
            "                \"args\": {\n",
            "                  \"product_name\": \"usb charger\"\n",
            "                },\n",
            "                \"id\": \"7eb12420-1b35-480b-ae24-5de982fd32cf\",\n",
            "                \"type\": \"tool_call\"\n",
            "              }\n",
            "            ],\n",
            "            \"usage_metadata\": {\n",
            "              \"input_tokens\": 42,\n",
            "              \"output_tokens\": 10,\n",
            "              \"total_tokens\": 52\n",
            "            },\n",
            "            \"tool_call_chunks\": [\n",
            "              {\n",
            "                \"name\": \"get_product_details\",\n",
            "                \"args\": \"{\\\"product_name\\\": \\\"usb charger\\\"}\",\n",
            "                \"id\": \"7eb12420-1b35-480b-ae24-5de982fd32cf\",\n",
            "                \"index\": null,\n",
            "                \"type\": \"tool_call_chunk\"\n",
            "              }\n",
            "            ],\n",
            "            \"invalid_tool_calls\": []\n",
            "          }\n",
            "        }\n",
            "      }\n",
            "    ]\n",
            "  ],\n",
            "  \"llm_output\": null,\n",
            "  \"run\": null,\n",
            "  \"type\": \"LLMResult\"\n",
            "}\n",
            "\u001b[32;1m\u001b[1;3m[chain/start]\u001b[0m \u001b[1m[chain:AgentExecutor > chain:RunnableSequence > parser:ToolsAgentOutputParser] Entering Parser run with input:\n",
            "\u001b[0m[inputs]\n",
            "\u001b[36;1m\u001b[1;3m[chain/end]\u001b[0m \u001b[1m[chain:AgentExecutor > chain:RunnableSequence > parser:ToolsAgentOutputParser] [0ms] Exiting Parser run with output:\n",
            "\u001b[0m[outputs]\n",
            "\u001b[36;1m\u001b[1;3m[chain/end]\u001b[0m \u001b[1m[chain:AgentExecutor > chain:RunnableSequence] [1.88s] Exiting Chain run with output:\n",
            "\u001b[0m[outputs]\n",
            "\u001b[32;1m\u001b[1;3m[tool/start]\u001b[0m \u001b[1m[chain:AgentExecutor > tool:get_product_details] Entering Tool run with input:\n",
            "\u001b[0m\"{'product_name': 'usb charger'}\"\n",
            "\u001b[36;1m\u001b[1;3m[tool/end]\u001b[0m \u001b[1m[chain:AgentExecutor > tool:get_product_details] [0ms] Exiting Tool run with output:\n",
            "\u001b[0m\"A super fast and light usb charger\"\n",
            "\u001b[32;1m\u001b[1;3m[chain/start]\u001b[0m \u001b[1m[chain:AgentExecutor > chain:RunnableSequence] Entering Chain run with input:\n",
            "\u001b[0m{\n",
            "  \"input\": \"\"\n",
            "}\n",
            "\u001b[32;1m\u001b[1;3m[chain/start]\u001b[0m \u001b[1m[chain:AgentExecutor > chain:RunnableSequence > chain:RunnableParallel<input,agent_scratchpad>] Entering Chain run with input:\n",
            "\u001b[0m{\n",
            "  \"input\": \"\"\n",
            "}\n",
            "\u001b[32;1m\u001b[1;3m[chain/start]\u001b[0m \u001b[1m[chain:AgentExecutor > chain:RunnableSequence > chain:RunnableParallel<input,agent_scratchpad> > chain:RunnableLambda] Entering Chain run with input:\n",
            "\u001b[0m{\n",
            "  \"input\": \"\"\n",
            "}\n",
            "\u001b[32;1m\u001b[1;3m[chain/start]\u001b[0m \u001b[1m[chain:AgentExecutor > chain:RunnableSequence > chain:RunnableParallel<input,agent_scratchpad> > chain:RunnableLambda] Entering Chain run with input:\n",
            "\u001b[0m{\n",
            "  \"input\": \"\"\n",
            "}\n",
            "\u001b[36;1m\u001b[1;3m[chain/end]\u001b[0m \u001b[1m[chain:AgentExecutor > chain:RunnableSequence > chain:RunnableParallel<input,agent_scratchpad> > chain:RunnableLambda] [0ms] Exiting Chain run with output:\n",
            "\u001b[0m{\n",
            "  \"output\": \"Get details for usb charger\"\n",
            "}\n",
            "\u001b[36;1m\u001b[1;3m[chain/end]\u001b[0m \u001b[1m[chain:AgentExecutor > chain:RunnableSequence > chain:RunnableParallel<input,agent_scratchpad> > chain:RunnableLambda] [0ms] Exiting Chain run with output:\n",
            "\u001b[0m[outputs]\n",
            "\u001b[36;1m\u001b[1;3m[chain/end]\u001b[0m \u001b[1m[chain:AgentExecutor > chain:RunnableSequence > chain:RunnableParallel<input,agent_scratchpad>] [1ms] Exiting Chain run with output:\n",
            "\u001b[0m[outputs]\n",
            "\u001b[32;1m\u001b[1;3m[chain/start]\u001b[0m \u001b[1m[chain:AgentExecutor > chain:RunnableSequence > prompt:ChatPromptTemplate] Entering Prompt run with input:\n",
            "\u001b[0m[inputs]\n",
            "\u001b[36;1m\u001b[1;3m[chain/end]\u001b[0m \u001b[1m[chain:AgentExecutor > chain:RunnableSequence > prompt:ChatPromptTemplate] [0ms] Exiting Prompt run with output:\n",
            "\u001b[0m[outputs]\n",
            "\u001b[32;1m\u001b[1;3m[llm/start]\u001b[0m \u001b[1m[chain:AgentExecutor > chain:RunnableSequence > llm:ChatVertexAI] Entering LLM run with input:\n",
            "\u001b[0m{\n",
            "  \"prompts\": [\n",
            "    \"Human: Get details for usb charger\\nAI: {'name': 'get_product_details', 'arguments': '{\\\"product_name\\\": \\\"usb charger\\\"}'}\\nTool: A super fast and light usb charger\"\n",
            "  ]\n",
            "}\n"
          ]
        },
        {
          "name": "stderr",
          "output_type": "stream",
          "text": [
            "This model can reply with multiple function calls in one response. Please don't rely on `additional_kwargs.function_call` as only the last one will be saved.Use `tool_calls` instead.\n",
            "This model can reply with multiple function calls in one response. Please don't rely on `additional_kwargs.function_call` as only the last one will be saved.Use `tool_calls` instead.\n"
          ]
        },
        {
          "name": "stdout",
          "output_type": "stream",
          "text": [
            "\u001b[36;1m\u001b[1;3m[llm/end]\u001b[0m \u001b[1m[chain:AgentExecutor > chain:RunnableSequence > llm:ChatVertexAI] [2.19s] Exiting LLM run with output:\n",
            "\u001b[0m{\n",
            "  \"generations\": [\n",
            "    [\n",
            "      {\n",
            "        \"text\": \"\",\n",
            "        \"generation_info\": {\n",
            "          \"safety_ratings\": [\n",
            "            {\n",
            "              \"category\": \"HARM_CATEGORY_HATE_SPEECH\",\n",
            "              \"probability_label\": \"NEGLIGIBLE\",\n",
            "              \"probability_score\": 0.103515625,\n",
            "              \"blocked\": false,\n",
            "              \"severity\": \"HARM_SEVERITY_NEGLIGIBLE\",\n",
            "              \"severity_score\": 0.11279296875\n",
            "            },\n",
            "            {\n",
            "              \"category\": \"HARM_CATEGORY_DANGEROUS_CONTENT\",\n",
            "              \"probability_label\": \"NEGLIGIBLE\",\n",
            "              \"probability_score\": 0.171875,\n",
            "              \"blocked\": false,\n",
            "              \"severity\": \"HARM_SEVERITY_NEGLIGIBLE\",\n",
            "              \"severity_score\": 0.11279296875\n",
            "            },\n",
            "            {\n",
            "              \"category\": \"HARM_CATEGORY_HARASSMENT\",\n",
            "              \"probability_label\": \"NEGLIGIBLE\",\n",
            "              \"probability_score\": 0.13671875,\n",
            "              \"blocked\": false,\n",
            "              \"severity\": \"HARM_SEVERITY_NEGLIGIBLE\",\n",
            "              \"severity_score\": 0.0693359375\n",
            "            },\n",
            "            {\n",
            "              \"category\": \"HARM_CATEGORY_SEXUALLY_EXPLICIT\",\n",
            "              \"probability_label\": \"NEGLIGIBLE\",\n",
            "              \"probability_score\": 0.0791015625,\n",
            "              \"blocked\": false,\n",
            "              \"severity\": \"HARM_SEVERITY_NEGLIGIBLE\",\n",
            "              \"severity_score\": 0.05419921875\n",
            "            }\n",
            "          ],\n",
            "          \"finish_reason\": \"STOP\"\n",
            "        },\n",
            "        \"type\": \"ChatGenerationChunk\",\n",
            "        \"message\": {\n",
            "          \"lc\": 1,\n",
            "          \"type\": \"constructor\",\n",
            "          \"id\": [\n",
            "            \"langchain\",\n",
            "            \"schema\",\n",
            "            \"messages\",\n",
            "            \"AIMessageChunk\"\n",
            "          ],\n",
            "          \"kwargs\": {\n",
            "            \"content\": \"\",\n",
            "            \"additional_kwargs\": {\n",
            "              \"function_call\": {\n",
            "                \"name\": \"get_product_price\",\n",
            "                \"arguments\": \"{\\\"product_name\\\": \\\"shoes\\\"}\"\n",
            "              }\n",
            "            },\n",
            "            \"response_metadata\": {\n",
            "              \"safety_ratings\": [\n",
            "                {\n",
            "                  \"category\": \"HARM_CATEGORY_HATE_SPEECH\",\n",
            "                  \"probability_label\": \"NEGLIGIBLE\",\n",
            "                  \"probability_score\": 0.103515625,\n",
            "                  \"blocked\": false,\n",
            "                  \"severity\": \"HARM_SEVERITY_NEGLIGIBLE\",\n",
            "                  \"severity_score\": 0.11279296875\n",
            "                },\n",
            "                {\n",
            "                  \"category\": \"HARM_CATEGORY_DANGEROUS_CONTENT\",\n",
            "                  \"probability_label\": \"NEGLIGIBLE\",\n",
            "                  \"probability_score\": 0.171875,\n",
            "                  \"blocked\": false,\n",
            "                  \"severity\": \"HARM_SEVERITY_NEGLIGIBLE\",\n",
            "                  \"severity_score\": 0.11279296875\n",
            "                },\n",
            "                {\n",
            "                  \"category\": \"HARM_CATEGORY_HARASSMENT\",\n",
            "                  \"probability_label\": \"NEGLIGIBLE\",\n",
            "                  \"probability_score\": 0.13671875,\n",
            "                  \"blocked\": false,\n",
            "                  \"severity\": \"HARM_SEVERITY_NEGLIGIBLE\",\n",
            "                  \"severity_score\": 0.0693359375\n",
            "                },\n",
            "                {\n",
            "                  \"category\": \"HARM_CATEGORY_SEXUALLY_EXPLICIT\",\n",
            "                  \"probability_label\": \"NEGLIGIBLE\",\n",
            "                  \"probability_score\": 0.0791015625,\n",
            "                  \"blocked\": false,\n",
            "                  \"severity\": \"HARM_SEVERITY_NEGLIGIBLE\",\n",
            "                  \"severity_score\": 0.05419921875\n",
            "                }\n",
            "              ],\n",
            "              \"finish_reason\": \"STOP\"\n",
            "            },\n",
            "            \"type\": \"AIMessageChunk\",\n",
            "            \"id\": \"run-f4b29365-5159-409c-83c3-3ce59de71ab8\",\n",
            "            \"tool_calls\": [\n",
            "              {\n",
            "                \"name\": \"get_product_details\",\n",
            "                \"args\": {\n",
            "                  \"product_name\": \"shoes\"\n",
            "                },\n",
            "                \"id\": \"c0a6a4f5-9807-4d57-8317-c1b5fb66835d\",\n",
            "                \"type\": \"tool_call\"\n",
            "              },\n",
            "              {\n",
            "                \"name\": \"get_product_price\",\n",
            "                \"args\": {\n",
            "                  \"product_name\": \"shoes\"\n",
            "                },\n",
            "                \"id\": \"f6513c47-3e3b-4327-9ac8-1922a8c9b10f\",\n",
            "                \"type\": \"tool_call\"\n",
            "              }\n",
            "            ],\n",
            "            \"usage_metadata\": {\n",
            "              \"input_tokens\": 44,\n",
            "              \"output_tokens\": 18,\n",
            "              \"total_tokens\": 62\n",
            "            },\n",
            "            \"tool_call_chunks\": [\n",
            "              {\n",
            "                \"name\": \"get_product_details\",\n",
            "                \"args\": \"{\\\"product_name\\\": \\\"shoes\\\"}\",\n",
            "                \"id\": \"c0a6a4f5-9807-4d57-8317-c1b5fb66835d\",\n",
            "                \"index\": null,\n",
            "                \"type\": \"tool_call_chunk\"\n",
            "              },\n",
            "              {\n",
            "                \"name\": \"get_product_price\",\n",
            "                \"args\": \"{\\\"product_name\\\": \\\"shoes\\\"}\",\n",
            "                \"id\": \"f6513c47-3e3b-4327-9ac8-1922a8c9b10f\",\n",
            "                \"index\": null,\n",
            "                \"type\": \"tool_call_chunk\"\n",
            "              }\n",
            "            ],\n",
            "            \"invalid_tool_calls\": []\n",
            "          }\n",
            "        }\n",
            "      }\n",
            "    ]\n",
            "  ],\n",
            "  \"llm_output\": null,\n",
            "  \"run\": null,\n",
            "  \"type\": \"LLMResult\"\n",
            "}\n",
            "\u001b[32;1m\u001b[1;3m[chain/start]\u001b[0m \u001b[1m[chain:AgentExecutor > chain:RunnableSequence > parser:ToolsAgentOutputParser] Entering Parser run with input:\n",
            "\u001b[0m[inputs]\n",
            "\u001b[36;1m\u001b[1;3m[chain/end]\u001b[0m \u001b[1m[chain:AgentExecutor > chain:RunnableSequence > parser:ToolsAgentOutputParser] [0ms] Exiting Parser run with output:\n",
            "\u001b[0m[outputs]\n",
            "\u001b[36;1m\u001b[1;3m[chain/end]\u001b[0m \u001b[1m[chain:AgentExecutor > chain:RunnableSequence] [2.20s] Exiting Chain run with output:\n",
            "\u001b[0m[outputs]\n",
            "\u001b[32;1m\u001b[1;3m[tool/start]\u001b[0m \u001b[1m[chain:AgentExecutor > tool:get_product_details] Entering Tool run with input:\n",
            "\u001b[0m\"{'product_name': 'shoes'}\"\n",
            "\u001b[36;1m\u001b[1;3m[tool/end]\u001b[0m \u001b[1m[chain:AgentExecutor > tool:get_product_details] [0ms] Exiting Tool run with output:\n",
            "\u001b[0m\"High-performance running shoes designed for comfort, support, and speed.\"\n",
            "\u001b[32;1m\u001b[1;3m[tool/start]\u001b[0m \u001b[1m[chain:AgentExecutor > tool:get_product_price] Entering Tool run with input:\n",
            "\u001b[0m\"{'product_name': 'shoes'}\"\n",
            "\u001b[36;1m\u001b[1;3m[tool/end]\u001b[0m \u001b[1m[chain:AgentExecutor > tool:get_product_price] [0ms] Exiting Tool run with output:\n",
            "\u001b[0m\"100\"\n",
            "\u001b[32;1m\u001b[1;3m[chain/start]\u001b[0m \u001b[1m[chain:AgentExecutor > chain:RunnableSequence] Entering Chain run with input:\n",
            "\u001b[0m{\n",
            "  \"input\": \"\"\n",
            "}\n",
            "\u001b[32;1m\u001b[1;3m[chain/start]\u001b[0m \u001b[1m[chain:AgentExecutor > chain:RunnableSequence > chain:RunnableParallel<input,agent_scratchpad>] Entering Chain run with input:\n",
            "\u001b[0m{\n",
            "  \"input\": \"\"\n",
            "}\n",
            "\u001b[32;1m\u001b[1;3m[chain/start]\u001b[0m \u001b[1m[chain:AgentExecutor > chain:RunnableSequence > chain:RunnableParallel<input,agent_scratchpad> > chain:RunnableLambda] Entering Chain run with input:\n",
            "\u001b[0m{\n",
            "  \"input\": \"\"\n",
            "}\n",
            "\u001b[32;1m\u001b[1;3m[chain/start]\u001b[0m \u001b[1m[chain:AgentExecutor > chain:RunnableSequence > chain:RunnableParallel<input,agent_scratchpad> > chain:RunnableLambda] Entering Chain run with input:\n",
            "\u001b[0m{\n",
            "  \"input\": \"\"\n",
            "}\n",
            "\u001b[36;1m\u001b[1;3m[chain/end]\u001b[0m \u001b[1m[chain:AgentExecutor > chain:RunnableSequence > chain:RunnableParallel<input,agent_scratchpad> > chain:RunnableLambda] [1ms] Exiting Chain run with output:\n",
            "\u001b[0m{\n",
            "  \"output\": \"Get product details and price for shoes\"\n",
            "}\n",
            "\u001b[36;1m\u001b[1;3m[chain/end]\u001b[0m \u001b[1m[chain:AgentExecutor > chain:RunnableSequence > chain:RunnableParallel<input,agent_scratchpad> > chain:RunnableLambda] [1ms] Exiting Chain run with output:\n",
            "\u001b[0m[outputs]\n",
            "\u001b[36;1m\u001b[1;3m[chain/end]\u001b[0m \u001b[1m[chain:AgentExecutor > chain:RunnableSequence > chain:RunnableParallel<input,agent_scratchpad>] [2ms] Exiting Chain run with output:\n",
            "\u001b[0m[outputs]\n",
            "\u001b[32;1m\u001b[1;3m[chain/start]\u001b[0m \u001b[1m[chain:AgentExecutor > chain:RunnableSequence > prompt:ChatPromptTemplate] Entering Prompt run with input:\n",
            "\u001b[0m[inputs]\n",
            "\u001b[36;1m\u001b[1;3m[chain/end]\u001b[0m \u001b[1m[chain:AgentExecutor > chain:RunnableSequence > prompt:ChatPromptTemplate] [0ms] Exiting Prompt run with output:\n",
            "\u001b[0m[outputs]\n",
            "\u001b[32;1m\u001b[1;3m[llm/start]\u001b[0m \u001b[1m[chain:AgentExecutor > chain:RunnableSequence > llm:ChatVertexAI] Entering LLM run with input:\n",
            "\u001b[0m{\n",
            "  \"prompts\": [\n",
            "    \"Human: Get product details and price for shoes\\nAI: {'name': 'get_product_price', 'arguments': '{\\\"product_name\\\": \\\"shoes\\\"}'}\\nTool: High-performance running shoes designed for comfort, support, and speed.\\nTool: 100\"\n",
            "  ]\n",
            "}\n",
            "\u001b[36;1m\u001b[1;3m[llm/end]\u001b[0m \u001b[1m[chain:AgentExecutor > chain:RunnableSequence > llm:ChatVertexAI] [2.26s] Exiting LLM run with output:\n",
            "\u001b[0m{\n",
            "  \"generations\": [\n",
            "    [\n",
            "      {\n",
            "        \"text\": \"\",\n",
            "        \"generation_info\": {\n",
            "          \"safety_ratings\": [\n",
            "            {\n",
            "              \"category\": \"HARM_CATEGORY_HATE_SPEECH\",\n",
            "              \"probability_label\": \"NEGLIGIBLE\",\n",
            "              \"probability_score\": 0.119140625,\n",
            "              \"blocked\": false,\n",
            "              \"severity\": \"HARM_SEVERITY_NEGLIGIBLE\",\n",
            "              \"severity_score\": 0.1552734375\n",
            "            },\n",
            "            {\n",
            "              \"category\": \"HARM_CATEGORY_DANGEROUS_CONTENT\",\n",
            "              \"probability_label\": \"NEGLIGIBLE\",\n",
            "              \"probability_score\": 0.12158203125,\n",
            "              \"blocked\": false,\n",
            "              \"severity\": \"HARM_SEVERITY_NEGLIGIBLE\",\n",
            "              \"severity_score\": 0.177734375\n",
            "            },\n",
            "            {\n",
            "              \"category\": \"HARM_CATEGORY_HARASSMENT\",\n",
            "              \"probability_label\": \"NEGLIGIBLE\",\n",
            "              \"probability_score\": 0.103515625,\n",
            "              \"blocked\": false,\n",
            "              \"severity\": \"HARM_SEVERITY_NEGLIGIBLE\",\n",
            "              \"severity_score\": 0.05029296875\n",
            "            },\n",
            "            {\n",
            "              \"category\": \"HARM_CATEGORY_SEXUALLY_EXPLICIT\",\n",
            "              \"probability_label\": \"NEGLIGIBLE\",\n",
            "              \"probability_score\": 0.06103515625,\n",
            "              \"blocked\": false,\n",
            "              \"severity\": \"HARM_SEVERITY_NEGLIGIBLE\",\n",
            "              \"severity_score\": 0.0634765625\n",
            "            }\n",
            "          ],\n",
            "          \"finish_reason\": \"STOP\"\n",
            "        },\n",
            "        \"type\": \"ChatGenerationChunk\",\n",
            "        \"message\": {\n",
            "          \"lc\": 1,\n",
            "          \"type\": \"constructor\",\n",
            "          \"id\": [\n",
            "            \"langchain\",\n",
            "            \"schema\",\n",
            "            \"messages\",\n",
            "            \"AIMessageChunk\"\n",
            "          ],\n",
            "          \"kwargs\": {\n",
            "            \"content\": \"\",\n",
            "            \"additional_kwargs\": {\n",
            "              \"function_call\": {\n",
            "                \"name\": \"get_product_price\",\n",
            "                \"arguments\": \"{\\\"product_name\\\": \\\"headphones\\\"}\"\n",
            "              }\n",
            "            },\n",
            "            \"response_metadata\": {\n",
            "              \"safety_ratings\": [\n",
            "                {\n",
            "                  \"category\": \"HARM_CATEGORY_HATE_SPEECH\",\n",
            "                  \"probability_label\": \"NEGLIGIBLE\",\n",
            "                  \"probability_score\": 0.119140625,\n",
            "                  \"blocked\": false,\n",
            "                  \"severity\": \"HARM_SEVERITY_NEGLIGIBLE\",\n",
            "                  \"severity_score\": 0.1552734375\n",
            "                },\n",
            "                {\n",
            "                  \"category\": \"HARM_CATEGORY_DANGEROUS_CONTENT\",\n",
            "                  \"probability_label\": \"NEGLIGIBLE\",\n",
            "                  \"probability_score\": 0.12158203125,\n",
            "                  \"blocked\": false,\n",
            "                  \"severity\": \"HARM_SEVERITY_NEGLIGIBLE\",\n",
            "                  \"severity_score\": 0.177734375\n",
            "                },\n",
            "                {\n",
            "                  \"category\": \"HARM_CATEGORY_HARASSMENT\",\n",
            "                  \"probability_label\": \"NEGLIGIBLE\",\n",
            "                  \"probability_score\": 0.103515625,\n",
            "                  \"blocked\": false,\n",
            "                  \"severity\": \"HARM_SEVERITY_NEGLIGIBLE\",\n",
            "                  \"severity_score\": 0.05029296875\n",
            "                },\n",
            "                {\n",
            "                  \"category\": \"HARM_CATEGORY_SEXUALLY_EXPLICIT\",\n",
            "                  \"probability_label\": \"NEGLIGIBLE\",\n",
            "                  \"probability_score\": 0.06103515625,\n",
            "                  \"blocked\": false,\n",
            "                  \"severity\": \"HARM_SEVERITY_NEGLIGIBLE\",\n",
            "                  \"severity_score\": 0.0634765625\n",
            "                }\n",
            "              ],\n",
            "              \"finish_reason\": \"STOP\"\n",
            "            },\n",
            "            \"type\": \"AIMessageChunk\",\n",
            "            \"id\": \"run-141c3160-2bf0-48fd-877c-0bc31761aba5\",\n",
            "            \"tool_calls\": [\n",
            "              {\n",
            "                \"name\": \"get_product_details\",\n",
            "                \"args\": {\n",
            "                  \"product_name\": \"headphones\"\n",
            "                },\n",
            "                \"id\": \"25c5a5cf-be4d-4afc-ab9e-08a3d0fd040e\",\n",
            "                \"type\": \"tool_call\"\n",
            "              },\n",
            "              {\n",
            "                \"name\": \"get_product_price\",\n",
            "                \"args\": {\n",
            "                  \"product_name\": \"headphones\"\n",
            "                },\n",
            "                \"id\": \"a1d64e8a-9a90-45ec-b60b-51641b3be26e\",\n",
            "                \"type\": \"tool_call\"\n",
            "              }\n",
            "            ],\n",
            "            \"usage_metadata\": {\n",
            "              \"input_tokens\": 44,\n",
            "              \"output_tokens\": 20,\n",
            "              \"total_tokens\": 64\n",
            "            },\n",
            "            \"tool_call_chunks\": [\n",
            "              {\n",
            "                \"name\": \"get_product_details\",\n",
            "                \"args\": \"{\\\"product_name\\\": \\\"headphones\\\"}\",\n",
            "                \"id\": \"25c5a5cf-be4d-4afc-ab9e-08a3d0fd040e\",\n",
            "                \"index\": null,\n",
            "                \"type\": \"tool_call_chunk\"\n",
            "              },\n",
            "              {\n",
            "                \"name\": \"get_product_price\",\n",
            "                \"args\": \"{\\\"product_name\\\": \\\"headphones\\\"}\",\n",
            "                \"id\": \"a1d64e8a-9a90-45ec-b60b-51641b3be26e\",\n",
            "                \"index\": null,\n",
            "                \"type\": \"tool_call_chunk\"\n",
            "              }\n",
            "            ],\n",
            "            \"invalid_tool_calls\": []\n",
            "          }\n",
            "        }\n",
            "      }\n",
            "    ]\n",
            "  ],\n",
            "  \"llm_output\": null,\n",
            "  \"run\": null,\n",
            "  \"type\": \"LLMResult\"\n",
            "}\n",
            "\u001b[32;1m\u001b[1;3m[chain/start]\u001b[0m \u001b[1m[chain:AgentExecutor > chain:RunnableSequence > parser:ToolsAgentOutputParser] Entering Parser run with input:\n",
            "\u001b[0m[inputs]\n",
            "\u001b[36;1m\u001b[1;3m[chain/end]\u001b[0m \u001b[1m[chain:AgentExecutor > chain:RunnableSequence > parser:ToolsAgentOutputParser] [0ms] Exiting Parser run with output:\n",
            "\u001b[0m[outputs]\n",
            "\u001b[36;1m\u001b[1;3m[chain/end]\u001b[0m \u001b[1m[chain:AgentExecutor > chain:RunnableSequence] [2.26s] Exiting Chain run with output:\n",
            "\u001b[0m[outputs]\n",
            "\u001b[32;1m\u001b[1;3m[tool/start]\u001b[0m \u001b[1m[chain:AgentExecutor > tool:get_product_details] Entering Tool run with input:\n",
            "\u001b[0m\"{'product_name': 'headphones'}\"\n",
            "\u001b[36;1m\u001b[1;3m[tool/end]\u001b[0m \u001b[1m[chain:AgentExecutor > tool:get_product_details] [0ms] Exiting Tool run with output:\n",
            "\u001b[0m\"Wireless headphones with advanced noise cancellation technology for immersive audio.\"\n",
            "\u001b[32;1m\u001b[1;3m[tool/start]\u001b[0m \u001b[1m[chain:AgentExecutor > tool:get_product_price] Entering Tool run with input:\n",
            "\u001b[0m\"{'product_name': 'headphones'}\"\n",
            "\u001b[36;1m\u001b[1;3m[tool/end]\u001b[0m \u001b[1m[chain:AgentExecutor > tool:get_product_price] [0ms] Exiting Tool run with output:\n",
            "\u001b[0m\"50\"\n",
            "\u001b[32;1m\u001b[1;3m[chain/start]\u001b[0m \u001b[1m[chain:AgentExecutor > chain:RunnableSequence] Entering Chain run with input:\n",
            "\u001b[0m{\n",
            "  \"input\": \"\"\n",
            "}\n",
            "\u001b[32;1m\u001b[1;3m[chain/start]\u001b[0m \u001b[1m[chain:AgentExecutor > chain:RunnableSequence > chain:RunnableParallel<input,agent_scratchpad>] Entering Chain run with input:\n",
            "\u001b[0m{\n",
            "  \"input\": \"\"\n",
            "}\n",
            "\u001b[32;1m\u001b[1;3m[chain/start]\u001b[0m \u001b[1m[chain:AgentExecutor > chain:RunnableSequence > chain:RunnableParallel<input,agent_scratchpad> > chain:RunnableLambda] Entering Chain run with input:\n",
            "\u001b[0m{\n",
            "  \"input\": \"\"\n",
            "}\n",
            "\u001b[32;1m\u001b[1;3m[chain/start]\u001b[0m \u001b[1m[chain:AgentExecutor > chain:RunnableSequence > chain:RunnableParallel<input,agent_scratchpad> > chain:RunnableLambda] Entering Chain run with input:\n",
            "\u001b[0m{\n",
            "  \"input\": \"\"\n",
            "}\n",
            "\u001b[36;1m\u001b[1;3m[chain/end]\u001b[0m \u001b[1m[chain:AgentExecutor > chain:RunnableSequence > chain:RunnableParallel<input,agent_scratchpad> > chain:RunnableLambda] [1ms] Exiting Chain run with output:\n",
            "\u001b[0m{\n",
            "  \"output\": \"Get product details and price for headphones\"\n",
            "}\n",
            "\u001b[36;1m\u001b[1;3m[chain/end]\u001b[0m \u001b[1m[chain:AgentExecutor > chain:RunnableSequence > chain:RunnableParallel<input,agent_scratchpad> > chain:RunnableLambda] [0ms] Exiting Chain run with output:\n",
            "\u001b[0m[outputs]\n",
            "\u001b[36;1m\u001b[1;3m[chain/end]\u001b[0m \u001b[1m[chain:AgentExecutor > chain:RunnableSequence > chain:RunnableParallel<input,agent_scratchpad>] [2ms] Exiting Chain run with output:\n",
            "\u001b[0m[outputs]\n",
            "\u001b[32;1m\u001b[1;3m[chain/start]\u001b[0m \u001b[1m[chain:AgentExecutor > chain:RunnableSequence > prompt:ChatPromptTemplate] Entering Prompt run with input:\n",
            "\u001b[0m[inputs]\n",
            "\u001b[36;1m\u001b[1;3m[chain/end]\u001b[0m \u001b[1m[chain:AgentExecutor > chain:RunnableSequence > prompt:ChatPromptTemplate] [0ms] Exiting Prompt run with output:\n",
            "\u001b[0m[outputs]\n",
            "\u001b[32;1m\u001b[1;3m[llm/start]\u001b[0m \u001b[1m[chain:AgentExecutor > chain:RunnableSequence > llm:ChatVertexAI] Entering LLM run with input:\n",
            "\u001b[0m{\n",
            "  \"prompts\": [\n",
            "    \"Human: Get product details and price for headphones\\nAI: {'name': 'get_product_price', 'arguments': '{\\\"product_name\\\": \\\"headphones\\\"}'}\\nTool: Wireless headphones with advanced noise cancellation technology for immersive audio.\\nTool: 50\"\n",
            "  ]\n",
            "}\n"
          ]
        },
        {
          "name": "stderr",
          "output_type": "stream",
          "text": [
            " 20%|██        | 1/5 [00:02<00:10,  2.70s/it]"
          ]
        },
        {
          "name": "stdout",
          "output_type": "stream",
          "text": [
            "\u001b[36;1m\u001b[1;3m[llm/end]\u001b[0m \u001b[1m[chain:AgentExecutor > chain:RunnableSequence > llm:ChatVertexAI] [839ms] Exiting LLM run with output:\n",
            "\u001b[0m{\n",
            "  \"generations\": [\n",
            "    [\n",
            "      {\n",
            "        \"text\": \"The price for smartphone is 500. \\n\",\n",
            "        \"generation_info\": {\n",
            "          \"safety_ratings\": [\n",
            "            {\n",
            "              \"category\": \"HARM_CATEGORY_HATE_SPEECH\",\n",
            "              \"probability_label\": \"NEGLIGIBLE\",\n",
            "              \"probability_score\": 0.044677734375,\n",
            "              \"blocked\": false,\n",
            "              \"severity\": \"HARM_SEVERITY_NEGLIGIBLE\",\n",
            "              \"severity_score\": 0.1298828125\n",
            "            },\n",
            "            {\n",
            "              \"category\": \"HARM_CATEGORY_DANGEROUS_CONTENT\",\n",
            "              \"probability_label\": \"NEGLIGIBLE\",\n",
            "              \"probability_score\": 0.125,\n",
            "              \"blocked\": false,\n",
            "              \"severity\": \"HARM_SEVERITY_NEGLIGIBLE\",\n",
            "              \"severity_score\": 0.162109375\n",
            "            },\n",
            "            {\n",
            "              \"category\": \"HARM_CATEGORY_HARASSMENT\",\n",
            "              \"probability_label\": \"NEGLIGIBLE\",\n",
            "              \"probability_score\": 0.11572265625,\n",
            "              \"blocked\": false,\n",
            "              \"severity\": \"HARM_SEVERITY_NEGLIGIBLE\",\n",
            "              \"severity_score\": 0.042724609375\n",
            "            },\n",
            "            {\n",
            "              \"category\": \"HARM_CATEGORY_SEXUALLY_EXPLICIT\",\n",
            "              \"probability_label\": \"NEGLIGIBLE\",\n",
            "              \"probability_score\": 0.0341796875,\n",
            "              \"blocked\": false,\n",
            "              \"severity\": \"HARM_SEVERITY_NEGLIGIBLE\",\n",
            "              \"severity_score\": 0.0966796875\n",
            "            }\n",
            "          ],\n",
            "          \"finish_reason\": \"STOP\"\n",
            "        },\n",
            "        \"type\": \"ChatGenerationChunk\",\n",
            "        \"message\": {\n",
            "          \"lc\": 1,\n",
            "          \"type\": \"constructor\",\n",
            "          \"id\": [\n",
            "            \"langchain\",\n",
            "            \"schema\",\n",
            "            \"messages\",\n",
            "            \"AIMessageChunk\"\n",
            "          ],\n",
            "          \"kwargs\": {\n",
            "            \"content\": \"The price for smartphone is 500. \\n\",\n",
            "            \"response_metadata\": {\n",
            "              \"safety_ratings\": [\n",
            "                {\n",
            "                  \"category\": \"HARM_CATEGORY_HATE_SPEECH\",\n",
            "                  \"probability_label\": \"NEGLIGIBLE\",\n",
            "                  \"probability_score\": 0.044677734375,\n",
            "                  \"blocked\": false,\n",
            "                  \"severity\": \"HARM_SEVERITY_NEGLIGIBLE\",\n",
            "                  \"severity_score\": 0.1298828125\n",
            "                },\n",
            "                {\n",
            "                  \"category\": \"HARM_CATEGORY_DANGEROUS_CONTENT\",\n",
            "                  \"probability_label\": \"NEGLIGIBLE\",\n",
            "                  \"probability_score\": 0.125,\n",
            "                  \"blocked\": false,\n",
            "                  \"severity\": \"HARM_SEVERITY_NEGLIGIBLE\",\n",
            "                  \"severity_score\": 0.162109375\n",
            "                },\n",
            "                {\n",
            "                  \"category\": \"HARM_CATEGORY_HARASSMENT\",\n",
            "                  \"probability_label\": \"NEGLIGIBLE\",\n",
            "                  \"probability_score\": 0.11572265625,\n",
            "                  \"blocked\": false,\n",
            "                  \"severity\": \"HARM_SEVERITY_NEGLIGIBLE\",\n",
            "                  \"severity_score\": 0.042724609375\n",
            "                },\n",
            "                {\n",
            "                  \"category\": \"HARM_CATEGORY_SEXUALLY_EXPLICIT\",\n",
            "                  \"probability_label\": \"NEGLIGIBLE\",\n",
            "                  \"probability_score\": 0.0341796875,\n",
            "                  \"blocked\": false,\n",
            "                  \"severity\": \"HARM_SEVERITY_NEGLIGIBLE\",\n",
            "                  \"severity_score\": 0.0966796875\n",
            "                }\n",
            "              ],\n",
            "              \"finish_reason\": \"STOP\"\n",
            "            },\n",
            "            \"type\": \"AIMessageChunk\",\n",
            "            \"id\": \"run-5befd15b-45f3-47e6-a26e-8a45ed448524\",\n",
            "            \"usage_metadata\": {\n",
            "              \"input_tokens\": 59,\n",
            "              \"output_tokens\": 12,\n",
            "              \"total_tokens\": 71\n",
            "            },\n",
            "            \"tool_calls\": [],\n",
            "            \"invalid_tool_calls\": []\n",
            "          }\n",
            "        }\n",
            "      }\n",
            "    ]\n",
            "  ],\n",
            "  \"llm_output\": null,\n",
            "  \"run\": null,\n",
            "  \"type\": \"LLMResult\"\n",
            "}\n",
            "\u001b[32;1m\u001b[1;3m[chain/start]\u001b[0m \u001b[1m[chain:AgentExecutor > chain:RunnableSequence > parser:ToolsAgentOutputParser] Entering Parser run with input:\n",
            "\u001b[0m[inputs]\n",
            "\u001b[36;1m\u001b[1;3m[chain/end]\u001b[0m \u001b[1m[chain:AgentExecutor > chain:RunnableSequence > parser:ToolsAgentOutputParser] [0ms] Exiting Parser run with output:\n",
            "\u001b[0m[outputs]\n",
            "\u001b[36;1m\u001b[1;3m[chain/end]\u001b[0m \u001b[1m[chain:AgentExecutor > chain:RunnableSequence] [842ms] Exiting Chain run with output:\n",
            "\u001b[0m[outputs]\n",
            "\u001b[36;1m\u001b[1;3m[chain/end]\u001b[0m \u001b[1m[chain:AgentExecutor] [2.70s] Exiting Chain run with output:\n",
            "\u001b[0m[outputs]\n"
          ]
        },
        {
          "name": "stderr",
          "output_type": "stream",
          "text": [
            " 60%|██████    | 3/5 [00:03<00:01,  1.15it/s]"
          ]
        },
        {
          "name": "stdout",
          "output_type": "stream",
          "text": [
            "\u001b[36;1m\u001b[1;3m[llm/end]\u001b[0m \u001b[1m[chain:AgentExecutor > chain:RunnableSequence > llm:ChatVertexAI] [1.40s] Exiting LLM run with output:\n",
            "\u001b[0m{\n",
            "  \"generations\": [\n",
            "    [\n",
            "      {\n",
            "        \"text\": \"A super fast and light usb charger. \\n\",\n",
            "        \"generation_info\": {\n",
            "          \"safety_ratings\": [\n",
            "            {\n",
            "              \"category\": \"HARM_CATEGORY_HATE_SPEECH\",\n",
            "              \"probability_label\": \"NEGLIGIBLE\",\n",
            "              \"probability_score\": 0.04345703125,\n",
            "              \"blocked\": false,\n",
            "              \"severity\": \"HARM_SEVERITY_NEGLIGIBLE\",\n",
            "              \"severity_score\": 0.11279296875\n",
            "            },\n",
            "            {\n",
            "              \"category\": \"HARM_CATEGORY_DANGEROUS_CONTENT\",\n",
            "              \"probability_label\": \"NEGLIGIBLE\",\n",
            "              \"probability_score\": 0.054931640625,\n",
            "              \"blocked\": false,\n",
            "              \"severity\": \"HARM_SEVERITY_NEGLIGIBLE\",\n",
            "              \"severity_score\": 0.146484375\n",
            "            },\n",
            "            {\n",
            "              \"category\": \"HARM_CATEGORY_HARASSMENT\",\n",
            "              \"probability_label\": \"NEGLIGIBLE\",\n",
            "              \"probability_score\": 0.111328125,\n",
            "              \"blocked\": false,\n",
            "              \"severity\": \"HARM_SEVERITY_NEGLIGIBLE\",\n",
            "              \"severity_score\": 0.0693359375\n",
            "            },\n",
            "            {\n",
            "              \"category\": \"HARM_CATEGORY_SEXUALLY_EXPLICIT\",\n",
            "              \"probability_label\": \"NEGLIGIBLE\",\n",
            "              \"probability_score\": 0.03955078125,\n",
            "              \"blocked\": false,\n",
            "              \"severity\": \"HARM_SEVERITY_NEGLIGIBLE\",\n",
            "              \"severity_score\": 0.055908203125\n",
            "            }\n",
            "          ],\n",
            "          \"finish_reason\": \"STOP\"\n",
            "        },\n",
            "        \"type\": \"ChatGenerationChunk\",\n",
            "        \"message\": {\n",
            "          \"lc\": 1,\n",
            "          \"type\": \"constructor\",\n",
            "          \"id\": [\n",
            "            \"langchain\",\n",
            "            \"schema\",\n",
            "            \"messages\",\n",
            "            \"AIMessageChunk\"\n",
            "          ],\n",
            "          \"kwargs\": {\n",
            "            \"content\": \"A super fast and light usb charger. \\n\",\n",
            "            \"response_metadata\": {\n",
            "              \"safety_ratings\": [\n",
            "                {\n",
            "                  \"category\": \"HARM_CATEGORY_HATE_SPEECH\",\n",
            "                  \"probability_label\": \"NEGLIGIBLE\",\n",
            "                  \"probability_score\": 0.04345703125,\n",
            "                  \"blocked\": false,\n",
            "                  \"severity\": \"HARM_SEVERITY_NEGLIGIBLE\",\n",
            "                  \"severity_score\": 0.11279296875\n",
            "                },\n",
            "                {\n",
            "                  \"category\": \"HARM_CATEGORY_DANGEROUS_CONTENT\",\n",
            "                  \"probability_label\": \"NEGLIGIBLE\",\n",
            "                  \"probability_score\": 0.054931640625,\n",
            "                  \"blocked\": false,\n",
            "                  \"severity\": \"HARM_SEVERITY_NEGLIGIBLE\",\n",
            "                  \"severity_score\": 0.146484375\n",
            "                },\n",
            "                {\n",
            "                  \"category\": \"HARM_CATEGORY_HARASSMENT\",\n",
            "                  \"probability_label\": \"NEGLIGIBLE\",\n",
            "                  \"probability_score\": 0.111328125,\n",
            "                  \"blocked\": false,\n",
            "                  \"severity\": \"HARM_SEVERITY_NEGLIGIBLE\",\n",
            "                  \"severity_score\": 0.0693359375\n",
            "                },\n",
            "                {\n",
            "                  \"category\": \"HARM_CATEGORY_SEXUALLY_EXPLICIT\",\n",
            "                  \"probability_label\": \"NEGLIGIBLE\",\n",
            "                  \"probability_score\": 0.03955078125,\n",
            "                  \"blocked\": false,\n",
            "                  \"severity\": \"HARM_SEVERITY_NEGLIGIBLE\",\n",
            "                  \"severity_score\": 0.055908203125\n",
            "                }\n",
            "              ],\n",
            "              \"finish_reason\": \"STOP\"\n",
            "            },\n",
            "            \"type\": \"AIMessageChunk\",\n",
            "            \"id\": \"run-91905f44-5407-4ad2-ba1b-34dc7f70e9c1\",\n",
            "            \"usage_metadata\": {\n",
            "              \"input_tokens\": 65,\n",
            "              \"output_tokens\": 10,\n",
            "              \"total_tokens\": 75\n",
            "            },\n",
            "            \"tool_calls\": [],\n",
            "            \"invalid_tool_calls\": []\n",
            "          }\n",
            "        }\n",
            "      }\n",
            "    ]\n",
            "  ],\n",
            "  \"llm_output\": null,\n",
            "  \"run\": null,\n",
            "  \"type\": \"LLMResult\"\n",
            "}\n",
            "\u001b[32;1m\u001b[1;3m[chain/start]\u001b[0m \u001b[1m[chain:AgentExecutor > chain:RunnableSequence > parser:ToolsAgentOutputParser] Entering Parser run with input:\n",
            "\u001b[0m[inputs]\n",
            "\u001b[36;1m\u001b[1;3m[chain/end]\u001b[0m \u001b[1m[chain:AgentExecutor > chain:RunnableSequence > parser:ToolsAgentOutputParser] [0ms] Exiting Parser run with output:\n",
            "\u001b[0m[outputs]\n",
            "\u001b[36;1m\u001b[1;3m[chain/end]\u001b[0m \u001b[1m[chain:AgentExecutor > chain:RunnableSequence] [1.40s] Exiting Chain run with output:\n",
            "\u001b[0m[outputs]\n",
            "\u001b[36;1m\u001b[1;3m[chain/end]\u001b[0m \u001b[1m[chain:AgentExecutor] [3.28s] Exiting Chain run with output:\n",
            "\u001b[0m[outputs]\n",
            "\u001b[36;1m\u001b[1;3m[llm/end]\u001b[0m \u001b[1m[chain:AgentExecutor > chain:RunnableSequence > llm:ChatVertexAI] [1.57s] Exiting LLM run with output:\n",
            "\u001b[0m{\n",
            "  \"generations\": [\n",
            "    [\n",
            "      {\n",
            "        \"text\": \"A voice-controlled smart speaker that plays music, sets alarms, and controls smart home devices. \\n\",\n",
            "        \"generation_info\": {\n",
            "          \"safety_ratings\": [\n",
            "            {\n",
            "              \"category\": \"HARM_CATEGORY_HATE_SPEECH\",\n",
            "              \"probability_label\": \"NEGLIGIBLE\",\n",
            "              \"probability_score\": 0.040771484375,\n",
            "              \"blocked\": false,\n",
            "              \"severity\": \"HARM_SEVERITY_NEGLIGIBLE\",\n",
            "              \"severity_score\": 0.061767578125\n",
            "            },\n",
            "            {\n",
            "              \"category\": \"HARM_CATEGORY_DANGEROUS_CONTENT\",\n",
            "              \"probability_label\": \"NEGLIGIBLE\",\n",
            "              \"probability_score\": 0.07275390625,\n",
            "              \"blocked\": false,\n",
            "              \"severity\": \"HARM_SEVERITY_NEGLIGIBLE\",\n",
            "              \"severity_score\": 0.1279296875\n",
            "            },\n",
            "            {\n",
            "              \"category\": \"HARM_CATEGORY_HARASSMENT\",\n",
            "              \"probability_label\": \"NEGLIGIBLE\",\n",
            "              \"probability_score\": 0.11572265625,\n",
            "              \"blocked\": false,\n",
            "              \"severity\": \"HARM_SEVERITY_NEGLIGIBLE\",\n",
            "              \"severity_score\": 0.064453125\n",
            "            },\n",
            "            {\n",
            "              \"category\": \"HARM_CATEGORY_SEXUALLY_EXPLICIT\",\n",
            "              \"probability_label\": \"NEGLIGIBLE\",\n",
            "              \"probability_score\": 0.0255126953125,\n",
            "              \"blocked\": false,\n",
            "              \"severity\": \"HARM_SEVERITY_NEGLIGIBLE\",\n",
            "              \"severity_score\": 0.0191650390625\n",
            "            },\n",
            "            {\n",
            "              \"category\": \"HARM_CATEGORY_HATE_SPEECH\",\n",
            "              \"probability_label\": \"NEGLIGIBLE\",\n",
            "              \"probability_score\": 0.0260009765625,\n",
            "              \"blocked\": false,\n",
            "              \"severity\": \"HARM_SEVERITY_NEGLIGIBLE\",\n",
            "              \"severity_score\": 0.03955078125\n",
            "            },\n",
            "            {\n",
            "              \"category\": \"HARM_CATEGORY_DANGEROUS_CONTENT\",\n",
            "              \"probability_label\": \"NEGLIGIBLE\",\n",
            "              \"probability_score\": 0.053466796875,\n",
            "              \"blocked\": false,\n",
            "              \"severity\": \"HARM_SEVERITY_NEGLIGIBLE\",\n",
            "              \"severity_score\": 0.10498046875\n",
            "            },\n",
            "            {\n",
            "              \"category\": \"HARM_CATEGORY_HARASSMENT\",\n",
            "              \"probability_label\": \"NEGLIGIBLE\",\n",
            "              \"probability_score\": 0.0927734375,\n",
            "              \"blocked\": false,\n",
            "              \"severity\": \"HARM_SEVERITY_NEGLIGIBLE\",\n",
            "              \"severity_score\": 0.04345703125\n",
            "            },\n",
            "            {\n",
            "              \"category\": \"HARM_CATEGORY_SEXUALLY_EXPLICIT\",\n",
            "              \"probability_label\": \"NEGLIGIBLE\",\n",
            "              \"probability_score\": 0.0255126953125,\n",
            "              \"blocked\": false,\n",
            "              \"severity\": \"HARM_SEVERITY_NEGLIGIBLE\",\n",
            "              \"severity_score\": 0.016357421875\n",
            "            }\n",
            "          ],\n",
            "          \"finish_reason\": \"STOP\"\n",
            "        },\n",
            "        \"type\": \"ChatGenerationChunk\",\n",
            "        \"message\": {\n",
            "          \"lc\": 1,\n",
            "          \"type\": \"constructor\",\n",
            "          \"id\": [\n",
            "            \"langchain\",\n",
            "            \"schema\",\n",
            "            \"messages\",\n",
            "            \"AIMessageChunk\"\n",
            "          ],\n",
            "          \"kwargs\": {\n",
            "            \"content\": \"A voice-controlled smart speaker that plays music, sets alarms, and controls smart home devices. \\n\",\n",
            "            \"response_metadata\": {\n",
            "              \"safety_ratings\": [\n",
            "                {\n",
            "                  \"category\": \"HARM_CATEGORY_HATE_SPEECH\",\n",
            "                  \"probability_label\": \"NEGLIGIBLE\",\n",
            "                  \"probability_score\": 0.040771484375,\n",
            "                  \"blocked\": false,\n",
            "                  \"severity\": \"HARM_SEVERITY_NEGLIGIBLE\",\n",
            "                  \"severity_score\": 0.061767578125\n",
            "                },\n",
            "                {\n",
            "                  \"category\": \"HARM_CATEGORY_DANGEROUS_CONTENT\",\n",
            "                  \"probability_label\": \"NEGLIGIBLE\",\n",
            "                  \"probability_score\": 0.07275390625,\n",
            "                  \"blocked\": false,\n",
            "                  \"severity\": \"HARM_SEVERITY_NEGLIGIBLE\",\n",
            "                  \"severity_score\": 0.1279296875\n",
            "                },\n",
            "                {\n",
            "                  \"category\": \"HARM_CATEGORY_HARASSMENT\",\n",
            "                  \"probability_label\": \"NEGLIGIBLE\",\n",
            "                  \"probability_score\": 0.11572265625,\n",
            "                  \"blocked\": false,\n",
            "                  \"severity\": \"HARM_SEVERITY_NEGLIGIBLE\",\n",
            "                  \"severity_score\": 0.064453125\n",
            "                },\n",
            "                {\n",
            "                  \"category\": \"HARM_CATEGORY_SEXUALLY_EXPLICIT\",\n",
            "                  \"probability_label\": \"NEGLIGIBLE\",\n",
            "                  \"probability_score\": 0.0255126953125,\n",
            "                  \"blocked\": false,\n",
            "                  \"severity\": \"HARM_SEVERITY_NEGLIGIBLE\",\n",
            "                  \"severity_score\": 0.0191650390625\n",
            "                },\n",
            "                {\n",
            "                  \"category\": \"HARM_CATEGORY_HATE_SPEECH\",\n",
            "                  \"probability_label\": \"NEGLIGIBLE\",\n",
            "                  \"probability_score\": 0.0260009765625,\n",
            "                  \"blocked\": false,\n",
            "                  \"severity\": \"HARM_SEVERITY_NEGLIGIBLE\",\n",
            "                  \"severity_score\": 0.03955078125\n",
            "                },\n",
            "                {\n",
            "                  \"category\": \"HARM_CATEGORY_DANGEROUS_CONTENT\",\n",
            "                  \"probability_label\": \"NEGLIGIBLE\",\n",
            "                  \"probability_score\": 0.053466796875,\n",
            "                  \"blocked\": false,\n",
            "                  \"severity\": \"HARM_SEVERITY_NEGLIGIBLE\",\n",
            "                  \"severity_score\": 0.10498046875\n",
            "                },\n",
            "                {\n",
            "                  \"category\": \"HARM_CATEGORY_HARASSMENT\",\n",
            "                  \"probability_label\": \"NEGLIGIBLE\",\n",
            "                  \"probability_score\": 0.0927734375,\n",
            "                  \"blocked\": false,\n",
            "                  \"severity\": \"HARM_SEVERITY_NEGLIGIBLE\",\n",
            "                  \"severity_score\": 0.04345703125\n",
            "                },\n",
            "                {\n",
            "                  \"category\": \"HARM_CATEGORY_SEXUALLY_EXPLICIT\",\n",
            "                  \"probability_label\": \"NEGLIGIBLE\",\n",
            "                  \"probability_score\": 0.0255126953125,\n",
            "                  \"blocked\": false,\n",
            "                  \"severity\": \"HARM_SEVERITY_NEGLIGIBLE\",\n",
            "                  \"severity_score\": 0.016357421875\n",
            "                }\n",
            "              ],\n",
            "              \"finish_reason\": \"STOP\"\n",
            "            },\n",
            "            \"type\": \"AIMessageChunk\",\n",
            "            \"id\": \"run-6a42b30b-b687-4dc4-bf45-ae45f3c3c4cb\",\n",
            "            \"usage_metadata\": {\n",
            "              \"input_tokens\": 77,\n",
            "              \"output_tokens\": 21,\n",
            "              \"total_tokens\": 98\n",
            "            },\n",
            "            \"tool_calls\": [],\n",
            "            \"invalid_tool_calls\": []\n",
            "          }\n",
            "        }\n",
            "      }\n",
            "    ]\n",
            "  ],\n",
            "  \"llm_output\": null,\n",
            "  \"run\": null,\n",
            "  \"type\": \"LLMResult\"\n",
            "}\n",
            "\u001b[32;1m\u001b[1;3m[chain/start]\u001b[0m \u001b[1m[chain:AgentExecutor > chain:RunnableSequence > parser:ToolsAgentOutputParser] Entering Parser run with input:\n",
            "\u001b[0m[inputs]\n",
            "\u001b[36;1m\u001b[1;3m[chain/end]\u001b[0m \u001b[1m[chain:AgentExecutor > chain:RunnableSequence > parser:ToolsAgentOutputParser] [0ms] Exiting Parser run with output:\n",
            "\u001b[0m[outputs]\n",
            "\u001b[36;1m\u001b[1;3m[chain/end]\u001b[0m \u001b[1m[chain:AgentExecutor > chain:RunnableSequence] [1.57s] Exiting Chain run with output:\n",
            "\u001b[0m[outputs]\n",
            "\u001b[36;1m\u001b[1;3m[chain/end]\u001b[0m \u001b[1m[chain:AgentExecutor] [3.44s] Exiting Chain run with output:\n",
            "\u001b[0m[outputs]\n"
          ]
        },
        {
          "name": "stderr",
          "output_type": "stream",
          "text": [
            "100%|██████████| 5/5 [00:03<00:00,  1.32it/s]"
          ]
        },
        {
          "name": "stdout",
          "output_type": "stream",
          "text": [
            "\u001b[36;1m\u001b[1;3m[llm/end]\u001b[0m \u001b[1m[chain:AgentExecutor > chain:RunnableSequence > llm:ChatVertexAI] [1.47s] Exiting LLM run with output:\n",
            "\u001b[0m{\n",
            "  \"generations\": [\n",
            "    [\n",
            "      {\n",
            "        \"text\": \"The product details for shoes are: High-performance running shoes designed for comfort, support, and speed. The price is: 100. \\n\",\n",
            "        \"generation_info\": {\n",
            "          \"safety_ratings\": [\n",
            "            {\n",
            "              \"category\": \"HARM_CATEGORY_HATE_SPEECH\",\n",
            "              \"probability_label\": \"NEGLIGIBLE\",\n",
            "              \"probability_score\": 0.09130859375,\n",
            "              \"blocked\": false,\n",
            "              \"severity\": \"HARM_SEVERITY_NEGLIGIBLE\",\n",
            "              \"severity_score\": 0.0888671875\n",
            "            },\n",
            "            {\n",
            "              \"category\": \"HARM_CATEGORY_DANGEROUS_CONTENT\",\n",
            "              \"probability_label\": \"NEGLIGIBLE\",\n",
            "              \"probability_score\": 0.046630859375,\n",
            "              \"blocked\": false,\n",
            "              \"severity\": \"HARM_SEVERITY_NEGLIGIBLE\",\n",
            "              \"severity_score\": 0.046142578125\n",
            "            },\n",
            "            {\n",
            "              \"category\": \"HARM_CATEGORY_HARASSMENT\",\n",
            "              \"probability_label\": \"NEGLIGIBLE\",\n",
            "              \"probability_score\": 0.1376953125,\n",
            "              \"blocked\": false,\n",
            "              \"severity\": \"HARM_SEVERITY_NEGLIGIBLE\",\n",
            "              \"severity_score\": 0.0693359375\n",
            "            },\n",
            "            {\n",
            "              \"category\": \"HARM_CATEGORY_SEXUALLY_EXPLICIT\",\n",
            "              \"probability_label\": \"NEGLIGIBLE\",\n",
            "              \"probability_score\": 0.05419921875,\n",
            "              \"blocked\": false,\n",
            "              \"severity\": \"HARM_SEVERITY_NEGLIGIBLE\",\n",
            "              \"severity_score\": 0.056640625\n",
            "            },\n",
            "            {\n",
            "              \"category\": \"HARM_CATEGORY_HATE_SPEECH\",\n",
            "              \"probability_label\": \"NEGLIGIBLE\",\n",
            "              \"probability_score\": 0.07470703125,\n",
            "              \"blocked\": false,\n",
            "              \"severity\": \"HARM_SEVERITY_NEGLIGIBLE\",\n",
            "              \"severity_score\": 0.068359375\n",
            "            },\n",
            "            {\n",
            "              \"category\": \"HARM_CATEGORY_DANGEROUS_CONTENT\",\n",
            "              \"probability_label\": \"NEGLIGIBLE\",\n",
            "              \"probability_score\": 0.0654296875,\n",
            "              \"blocked\": false,\n",
            "              \"severity\": \"HARM_SEVERITY_NEGLIGIBLE\",\n",
            "              \"severity_score\": 0.054931640625\n",
            "            },\n",
            "            {\n",
            "              \"category\": \"HARM_CATEGORY_HARASSMENT\",\n",
            "              \"probability_label\": \"NEGLIGIBLE\",\n",
            "              \"probability_score\": 0.1298828125,\n",
            "              \"blocked\": false,\n",
            "              \"severity\": \"HARM_SEVERITY_NEGLIGIBLE\",\n",
            "              \"severity_score\": 0.052734375\n",
            "            },\n",
            "            {\n",
            "              \"category\": \"HARM_CATEGORY_SEXUALLY_EXPLICIT\",\n",
            "              \"probability_label\": \"NEGLIGIBLE\",\n",
            "              \"probability_score\": 0.0654296875,\n",
            "              \"blocked\": false,\n",
            "              \"severity\": \"HARM_SEVERITY_NEGLIGIBLE\",\n",
            "              \"severity_score\": 0.07275390625\n",
            "            }\n",
            "          ],\n",
            "          \"finish_reason\": \"STOP\"\n",
            "        },\n",
            "        \"type\": \"ChatGenerationChunk\",\n",
            "        \"message\": {\n",
            "          \"lc\": 1,\n",
            "          \"type\": \"constructor\",\n",
            "          \"id\": [\n",
            "            \"langchain\",\n",
            "            \"schema\",\n",
            "            \"messages\",\n",
            "            \"AIMessageChunk\"\n",
            "          ],\n",
            "          \"kwargs\": {\n",
            "            \"content\": \"The product details for shoes are: High-performance running shoes designed for comfort, support, and speed. The price is: 100. \\n\",\n",
            "            \"response_metadata\": {\n",
            "              \"safety_ratings\": [\n",
            "                {\n",
            "                  \"category\": \"HARM_CATEGORY_HATE_SPEECH\",\n",
            "                  \"probability_label\": \"NEGLIGIBLE\",\n",
            "                  \"probability_score\": 0.09130859375,\n",
            "                  \"blocked\": false,\n",
            "                  \"severity\": \"HARM_SEVERITY_NEGLIGIBLE\",\n",
            "                  \"severity_score\": 0.0888671875\n",
            "                },\n",
            "                {\n",
            "                  \"category\": \"HARM_CATEGORY_DANGEROUS_CONTENT\",\n",
            "                  \"probability_label\": \"NEGLIGIBLE\",\n",
            "                  \"probability_score\": 0.046630859375,\n",
            "                  \"blocked\": false,\n",
            "                  \"severity\": \"HARM_SEVERITY_NEGLIGIBLE\",\n",
            "                  \"severity_score\": 0.046142578125\n",
            "                },\n",
            "                {\n",
            "                  \"category\": \"HARM_CATEGORY_HARASSMENT\",\n",
            "                  \"probability_label\": \"NEGLIGIBLE\",\n",
            "                  \"probability_score\": 0.1376953125,\n",
            "                  \"blocked\": false,\n",
            "                  \"severity\": \"HARM_SEVERITY_NEGLIGIBLE\",\n",
            "                  \"severity_score\": 0.0693359375\n",
            "                },\n",
            "                {\n",
            "                  \"category\": \"HARM_CATEGORY_SEXUALLY_EXPLICIT\",\n",
            "                  \"probability_label\": \"NEGLIGIBLE\",\n",
            "                  \"probability_score\": 0.05419921875,\n",
            "                  \"blocked\": false,\n",
            "                  \"severity\": \"HARM_SEVERITY_NEGLIGIBLE\",\n",
            "                  \"severity_score\": 0.056640625\n",
            "                },\n",
            "                {\n",
            "                  \"category\": \"HARM_CATEGORY_HATE_SPEECH\",\n",
            "                  \"probability_label\": \"NEGLIGIBLE\",\n",
            "                  \"probability_score\": 0.07470703125,\n",
            "                  \"blocked\": false,\n",
            "                  \"severity\": \"HARM_SEVERITY_NEGLIGIBLE\",\n",
            "                  \"severity_score\": 0.068359375\n",
            "                },\n",
            "                {\n",
            "                  \"category\": \"HARM_CATEGORY_DANGEROUS_CONTENT\",\n",
            "                  \"probability_label\": \"NEGLIGIBLE\",\n",
            "                  \"probability_score\": 0.0654296875,\n",
            "                  \"blocked\": false,\n",
            "                  \"severity\": \"HARM_SEVERITY_NEGLIGIBLE\",\n",
            "                  \"severity_score\": 0.054931640625\n",
            "                },\n",
            "                {\n",
            "                  \"category\": \"HARM_CATEGORY_HARASSMENT\",\n",
            "                  \"probability_label\": \"NEGLIGIBLE\",\n",
            "                  \"probability_score\": 0.1298828125,\n",
            "                  \"blocked\": false,\n",
            "                  \"severity\": \"HARM_SEVERITY_NEGLIGIBLE\",\n",
            "                  \"severity_score\": 0.052734375\n",
            "                },\n",
            "                {\n",
            "                  \"category\": \"HARM_CATEGORY_SEXUALLY_EXPLICIT\",\n",
            "                  \"probability_label\": \"NEGLIGIBLE\",\n",
            "                  \"probability_score\": 0.0654296875,\n",
            "                  \"blocked\": false,\n",
            "                  \"severity\": \"HARM_SEVERITY_NEGLIGIBLE\",\n",
            "                  \"severity_score\": 0.07275390625\n",
            "                }\n",
            "              ],\n",
            "              \"finish_reason\": \"STOP\"\n",
            "            },\n",
            "            \"type\": \"AIMessageChunk\",\n",
            "            \"id\": \"run-3e25b11f-0591-486b-a34e-ff6324c7b485\",\n",
            "            \"usage_metadata\": {\n",
            "              \"input_tokens\": 91,\n",
            "              \"output_tokens\": 32,\n",
            "              \"total_tokens\": 123\n",
            "            },\n",
            "            \"tool_calls\": [],\n",
            "            \"invalid_tool_calls\": []\n",
            "          }\n",
            "        }\n",
            "      }\n",
            "    ]\n",
            "  ],\n",
            "  \"llm_output\": null,\n",
            "  \"run\": null,\n",
            "  \"type\": \"LLMResult\"\n",
            "}\n",
            "\u001b[32;1m\u001b[1;3m[chain/start]\u001b[0m \u001b[1m[chain:AgentExecutor > chain:RunnableSequence > parser:ToolsAgentOutputParser] Entering Parser run with input:\n",
            "\u001b[0m[inputs]\n",
            "\u001b[36;1m\u001b[1;3m[chain/end]\u001b[0m \u001b[1m[chain:AgentExecutor > chain:RunnableSequence > parser:ToolsAgentOutputParser] [1ms] Exiting Parser run with output:\n",
            "\u001b[0m[outputs]\n",
            "\u001b[36;1m\u001b[1;3m[chain/end]\u001b[0m \u001b[1m[chain:AgentExecutor > chain:RunnableSequence] [1.47s] Exiting Chain run with output:\n",
            "\u001b[0m[outputs]\n",
            "\u001b[36;1m\u001b[1;3m[chain/end]\u001b[0m \u001b[1m[chain:AgentExecutor] [3.67s] Exiting Chain run with output:\n",
            "\u001b[0m[outputs]\n",
            "\u001b[36;1m\u001b[1;3m[llm/end]\u001b[0m \u001b[1m[chain:AgentExecutor > chain:RunnableSequence > llm:ChatVertexAI] [1.51s] Exiting LLM run with output:\n",
            "\u001b[0m{\n",
            "  \"generations\": [\n",
            "    [\n",
            "      {\n",
            "        \"text\": \"The headphones are wireless with advanced noise cancellation technology for immersive audio and cost $50. \\n\",\n",
            "        \"generation_info\": {\n",
            "          \"safety_ratings\": [\n",
            "            {\n",
            "              \"category\": \"HARM_CATEGORY_HATE_SPEECH\",\n",
            "              \"probability_label\": \"NEGLIGIBLE\",\n",
            "              \"probability_score\": 0.046142578125,\n",
            "              \"blocked\": false,\n",
            "              \"severity\": \"HARM_SEVERITY_NEGLIGIBLE\",\n",
            "              \"severity_score\": 0.0771484375\n",
            "            },\n",
            "            {\n",
            "              \"category\": \"HARM_CATEGORY_DANGEROUS_CONTENT\",\n",
            "              \"probability_label\": \"NEGLIGIBLE\",\n",
            "              \"probability_score\": 0.046630859375,\n",
            "              \"blocked\": false,\n",
            "              \"severity\": \"HARM_SEVERITY_NEGLIGIBLE\",\n",
            "              \"severity_score\": 0.0771484375\n",
            "            },\n",
            "            {\n",
            "              \"category\": \"HARM_CATEGORY_HARASSMENT\",\n",
            "              \"probability_label\": \"NEGLIGIBLE\",\n",
            "              \"probability_score\": 0.10693359375,\n",
            "              \"blocked\": false,\n",
            "              \"severity\": \"HARM_SEVERITY_NEGLIGIBLE\",\n",
            "              \"severity_score\": 0.05419921875\n",
            "            },\n",
            "            {\n",
            "              \"category\": \"HARM_CATEGORY_SEXUALLY_EXPLICIT\",\n",
            "              \"probability_label\": \"NEGLIGIBLE\",\n",
            "              \"probability_score\": 0.06298828125,\n",
            "              \"blocked\": false,\n",
            "              \"severity\": \"HARM_SEVERITY_NEGLIGIBLE\",\n",
            "              \"severity_score\": 0.04736328125\n",
            "            },\n",
            "            {\n",
            "              \"category\": \"HARM_CATEGORY_HATE_SPEECH\",\n",
            "              \"probability_label\": \"NEGLIGIBLE\",\n",
            "              \"probability_score\": 0.037841796875,\n",
            "              \"blocked\": false,\n",
            "              \"severity\": \"HARM_SEVERITY_NEGLIGIBLE\",\n",
            "              \"severity_score\": 0.061767578125\n",
            "            },\n",
            "            {\n",
            "              \"category\": \"HARM_CATEGORY_DANGEROUS_CONTENT\",\n",
            "              \"probability_label\": \"NEGLIGIBLE\",\n",
            "              \"probability_score\": 0.051025390625,\n",
            "              \"blocked\": false,\n",
            "              \"severity\": \"HARM_SEVERITY_NEGLIGIBLE\",\n",
            "              \"severity_score\": 0.09033203125\n",
            "            },\n",
            "            {\n",
            "              \"category\": \"HARM_CATEGORY_HARASSMENT\",\n",
            "              \"probability_label\": \"NEGLIGIBLE\",\n",
            "              \"probability_score\": 0.08740234375,\n",
            "              \"blocked\": false,\n",
            "              \"severity\": \"HARM_SEVERITY_NEGLIGIBLE\",\n",
            "              \"severity_score\": 0.040283203125\n",
            "            },\n",
            "            {\n",
            "              \"category\": \"HARM_CATEGORY_SEXUALLY_EXPLICIT\",\n",
            "              \"probability_label\": \"NEGLIGIBLE\",\n",
            "              \"probability_score\": 0.068359375,\n",
            "              \"blocked\": false,\n",
            "              \"severity\": \"HARM_SEVERITY_NEGLIGIBLE\",\n",
            "              \"severity_score\": 0.04541015625\n",
            "            }\n",
            "          ],\n",
            "          \"finish_reason\": \"STOP\"\n",
            "        },\n",
            "        \"type\": \"ChatGenerationChunk\",\n",
            "        \"message\": {\n",
            "          \"lc\": 1,\n",
            "          \"type\": \"constructor\",\n",
            "          \"id\": [\n",
            "            \"langchain\",\n",
            "            \"schema\",\n",
            "            \"messages\",\n",
            "            \"AIMessageChunk\"\n",
            "          ],\n",
            "          \"kwargs\": {\n",
            "            \"content\": \"The headphones are wireless with advanced noise cancellation technology for immersive audio and cost $50. \\n\",\n",
            "            \"response_metadata\": {\n",
            "              \"safety_ratings\": [\n",
            "                {\n",
            "                  \"category\": \"HARM_CATEGORY_HATE_SPEECH\",\n",
            "                  \"probability_label\": \"NEGLIGIBLE\",\n",
            "                  \"probability_score\": 0.046142578125,\n",
            "                  \"blocked\": false,\n",
            "                  \"severity\": \"HARM_SEVERITY_NEGLIGIBLE\",\n",
            "                  \"severity_score\": 0.0771484375\n",
            "                },\n",
            "                {\n",
            "                  \"category\": \"HARM_CATEGORY_DANGEROUS_CONTENT\",\n",
            "                  \"probability_label\": \"NEGLIGIBLE\",\n",
            "                  \"probability_score\": 0.046630859375,\n",
            "                  \"blocked\": false,\n",
            "                  \"severity\": \"HARM_SEVERITY_NEGLIGIBLE\",\n",
            "                  \"severity_score\": 0.0771484375\n",
            "                },\n",
            "                {\n",
            "                  \"category\": \"HARM_CATEGORY_HARASSMENT\",\n",
            "                  \"probability_label\": \"NEGLIGIBLE\",\n",
            "                  \"probability_score\": 0.10693359375,\n",
            "                  \"blocked\": false,\n",
            "                  \"severity\": \"HARM_SEVERITY_NEGLIGIBLE\",\n",
            "                  \"severity_score\": 0.05419921875\n",
            "                },\n",
            "                {\n",
            "                  \"category\": \"HARM_CATEGORY_SEXUALLY_EXPLICIT\",\n",
            "                  \"probability_label\": \"NEGLIGIBLE\",\n",
            "                  \"probability_score\": 0.06298828125,\n",
            "                  \"blocked\": false,\n",
            "                  \"severity\": \"HARM_SEVERITY_NEGLIGIBLE\",\n",
            "                  \"severity_score\": 0.04736328125\n",
            "                },\n",
            "                {\n",
            "                  \"category\": \"HARM_CATEGORY_HATE_SPEECH\",\n",
            "                  \"probability_label\": \"NEGLIGIBLE\",\n",
            "                  \"probability_score\": 0.037841796875,\n",
            "                  \"blocked\": false,\n",
            "                  \"severity\": \"HARM_SEVERITY_NEGLIGIBLE\",\n",
            "                  \"severity_score\": 0.061767578125\n",
            "                },\n",
            "                {\n",
            "                  \"category\": \"HARM_CATEGORY_DANGEROUS_CONTENT\",\n",
            "                  \"probability_label\": \"NEGLIGIBLE\",\n",
            "                  \"probability_score\": 0.051025390625,\n",
            "                  \"blocked\": false,\n",
            "                  \"severity\": \"HARM_SEVERITY_NEGLIGIBLE\",\n",
            "                  \"severity_score\": 0.09033203125\n",
            "                },\n",
            "                {\n",
            "                  \"category\": \"HARM_CATEGORY_HARASSMENT\",\n",
            "                  \"probability_label\": \"NEGLIGIBLE\",\n",
            "                  \"probability_score\": 0.08740234375,\n",
            "                  \"blocked\": false,\n",
            "                  \"severity\": \"HARM_SEVERITY_NEGLIGIBLE\",\n",
            "                  \"severity_score\": 0.040283203125\n",
            "                },\n",
            "                {\n",
            "                  \"category\": \"HARM_CATEGORY_SEXUALLY_EXPLICIT\",\n",
            "                  \"probability_label\": \"NEGLIGIBLE\",\n",
            "                  \"probability_score\": 0.068359375,\n",
            "                  \"blocked\": false,\n",
            "                  \"severity\": \"HARM_SEVERITY_NEGLIGIBLE\",\n",
            "                  \"severity_score\": 0.04541015625\n",
            "                }\n",
            "              ],\n",
            "              \"finish_reason\": \"STOP\"\n",
            "            },\n",
            "            \"type\": \"AIMessageChunk\",\n",
            "            \"id\": \"run-023e71d3-40af-4959-a73e-74088d1a64e7\",\n",
            "            \"usage_metadata\": {\n",
            "              \"input_tokens\": 89,\n",
            "              \"output_tokens\": 20,\n",
            "              \"total_tokens\": 109\n",
            "            },\n",
            "            \"tool_calls\": [],\n",
            "            \"invalid_tool_calls\": []\n",
            "          }\n",
            "        }\n",
            "      }\n",
            "    ]\n",
            "  ],\n",
            "  \"llm_output\": null,\n",
            "  \"run\": null,\n",
            "  \"type\": \"LLMResult\"\n",
            "}\n",
            "\u001b[32;1m\u001b[1;3m[chain/start]\u001b[0m \u001b[1m[chain:AgentExecutor > chain:RunnableSequence > parser:ToolsAgentOutputParser] Entering Parser run with input:\n",
            "\u001b[0m[inputs]\n",
            "\u001b[36;1m\u001b[1;3m[chain/end]\u001b[0m \u001b[1m[chain:AgentExecutor > chain:RunnableSequence > parser:ToolsAgentOutputParser] [1ms] Exiting Parser run with output:\n",
            "\u001b[0m[outputs]\n",
            "\u001b[36;1m\u001b[1;3m[chain/end]\u001b[0m \u001b[1m[chain:AgentExecutor > chain:RunnableSequence] [1.52s] Exiting Chain run with output:\n",
            "\u001b[0m[outputs]\n",
            "\u001b[36;1m\u001b[1;3m[chain/end]\u001b[0m \u001b[1m[chain:AgentExecutor] [3.78s] Exiting Chain run with output:\n",
            "\u001b[0m[outputs]\n",
            "All 5 responses are successfully generated from the runnable.\n",
            "Computing metrics with a total of 5 Vertex Gen AI Evaluation Service API requests.\n"
          ]
        },
        {
          "name": "stderr",
          "output_type": "stream",
          "text": [
            "\n",
            "100%|██████████| 5/5 [00:04<00:00,  1.17it/s]"
          ]
        },
        {
          "name": "stdout",
          "output_type": "stream",
          "text": [
            "All 5 metric requests are successfully computed.\n",
            "Evaluation Took:4.277733208145946 seconds\n"
          ]
        },
        {
          "name": "stderr",
          "output_type": "stream",
          "text": [
            "\n"
          ]
        },
        {
          "data": {
            "text/html": [
              "\n",
              "        \n",
              "    <link rel=\"stylesheet\" href=\"https://fonts.googleapis.com/icon?family=Material+Icons\">\n",
              "    <style>\n",
              "      .view-vertex-resource,\n",
              "      .view-vertex-resource:hover,\n",
              "      .view-vertex-resource:visited {\n",
              "        position: relative;\n",
              "        display: inline-flex;\n",
              "        flex-direction: row;\n",
              "        height: 32px;\n",
              "        padding: 0 12px;\n",
              "          margin: 4px 18px;\n",
              "        gap: 4px;\n",
              "        border-radius: 4px;\n",
              "\n",
              "        align-items: center;\n",
              "        justify-content: center;\n",
              "        background-color: rgb(255, 255, 255);\n",
              "        color: rgb(51, 103, 214);\n",
              "\n",
              "        font-family: Roboto,\"Helvetica Neue\",sans-serif;\n",
              "        font-size: 13px;\n",
              "        font-weight: 500;\n",
              "        text-transform: uppercase;\n",
              "        text-decoration: none !important;\n",
              "\n",
              "        transition: box-shadow 280ms cubic-bezier(0.4, 0, 0.2, 1) 0s;\n",
              "        box-shadow: 0px 3px 1px -2px rgba(0,0,0,0.2), 0px 2px 2px 0px rgba(0,0,0,0.14), 0px 1px 5px 0px rgba(0,0,0,0.12);\n",
              "      }\n",
              "      .view-vertex-resource:active {\n",
              "        box-shadow: 0px 5px 5px -3px rgba(0,0,0,0.2),0px 8px 10px 1px rgba(0,0,0,0.14),0px 3px 14px 2px rgba(0,0,0,0.12);\n",
              "      }\n",
              "      .view-vertex-resource:active .view-vertex-ripple::before {\n",
              "        position: absolute;\n",
              "        top: 0;\n",
              "        bottom: 0;\n",
              "        left: 0;\n",
              "        right: 0;\n",
              "        border-radius: 4px;\n",
              "        pointer-events: none;\n",
              "\n",
              "        content: '';\n",
              "        background-color: rgb(51, 103, 214);\n",
              "        opacity: 0.12;\n",
              "      }\n",
              "      .view-vertex-icon {\n",
              "        font-size: 18px;\n",
              "      }\n",
              "    </style>\n",
              "  \n",
              "        <a class=\"view-vertex-resource\" id=\"view-vertex-resource-d30a4cd9-a6a5-44bc-ad89-ac0085b30749\" href=\"#view-view-vertex-resource-d30a4cd9-a6a5-44bc-ad89-ac0085b30749\">\n",
              "          <span class=\"material-icons view-vertex-icon\">science</span>\n",
              "          <span>View Experiment</span>\n",
              "        </a>\n",
              "        \n",
              "        <script>\n",
              "          (function () {\n",
              "            const link = document.getElementById('view-vertex-resource-d30a4cd9-a6a5-44bc-ad89-ac0085b30749');\n",
              "            link.addEventListener('click', (e) => {\n",
              "              if (window.google?.colab?.openUrl) {\n",
              "                window.google.colab.openUrl('https://console.cloud.google.com/vertex-ai/experiments/locations/us-central1/experiments/evaluate-re-agent/runs?project=weverse-dev-mint');\n",
              "              } else {\n",
              "                window.open('https://console.cloud.google.com/vertex-ai/experiments/locations/us-central1/experiments/evaluate-re-agent/runs?project=weverse-dev-mint', '_blank');\n",
              "              }\n",
              "              e.stopPropagation();\n",
              "              e.preventDefault();\n",
              "            });\n",
              "          })();\n",
              "        </script>\n",
              "    "
            ],
            "text/plain": [
              "<IPython.core.display.HTML object>"
            ]
          },
          "metadata": {},
          "output_type": "display_data"
        },
        {
          "data": {
            "text/markdown": [
              "### Summary Metrics"
            ],
            "text/plain": [
              "<IPython.core.display.Markdown object>"
            ]
          },
          "metadata": {},
          "output_type": "display_data"
        },
        {
          "data": {
            "text/html": [
              "<div>\n",
              "<style scoped>\n",
              "    .dataframe tbody tr th:only-of-type {\n",
              "        vertical-align: middle;\n",
              "    }\n",
              "\n",
              "    .dataframe tbody tr th {\n",
              "        vertical-align: top;\n",
              "    }\n",
              "\n",
              "    .dataframe thead th {\n",
              "        text-align: right;\n",
              "    }\n",
              "</style>\n",
              "<table border=\"1\" class=\"dataframe\">\n",
              "  <thead>\n",
              "    <tr style=\"text-align: right;\">\n",
              "      <th></th>\n",
              "      <th>row_count</th>\n",
              "      <th>trajectory_single_tool_use/mean</th>\n",
              "      <th>trajectory_single_tool_use/std</th>\n",
              "      <th>latency_in_seconds/mean</th>\n",
              "      <th>latency_in_seconds/std</th>\n",
              "      <th>failure/mean</th>\n",
              "      <th>failure/std</th>\n",
              "    </tr>\n",
              "  </thead>\n",
              "  <tbody>\n",
              "    <tr>\n",
              "      <th>0</th>\n",
              "      <td>5.0</td>\n",
              "      <td>0.6</td>\n",
              "      <td>0.547723</td>\n",
              "      <td>3.375335</td>\n",
              "      <td>0.426647</td>\n",
              "      <td>0.0</td>\n",
              "      <td>0.0</td>\n",
              "    </tr>\n",
              "  </tbody>\n",
              "</table>\n",
              "</div>"
            ],
            "text/plain": [
              "   row_count  trajectory_single_tool_use/mean  trajectory_single_tool_use/std  \\\n",
              "0        5.0                              0.6                        0.547723   \n",
              "\n",
              "   latency_in_seconds/mean  latency_in_seconds/std  failure/mean  failure/std  \n",
              "0                 3.375335                0.426647           0.0          0.0  "
            ]
          },
          "metadata": {},
          "output_type": "display_data"
        },
        {
          "data": {
            "text/markdown": [
              "### Row-wise Metrics"
            ],
            "text/plain": [
              "<IPython.core.display.Markdown object>"
            ]
          },
          "metadata": {},
          "output_type": "display_data"
        },
        {
          "data": {
            "text/html": [
              "<div>\n",
              "<style scoped>\n",
              "    .dataframe tbody tr th:only-of-type {\n",
              "        vertical-align: middle;\n",
              "    }\n",
              "\n",
              "    .dataframe tbody tr th {\n",
              "        vertical-align: top;\n",
              "    }\n",
              "\n",
              "    .dataframe thead th {\n",
              "        text-align: right;\n",
              "    }\n",
              "</style>\n",
              "<table border=\"1\" class=\"dataframe\">\n",
              "  <thead>\n",
              "    <tr style=\"text-align: right;\">\n",
              "      <th></th>\n",
              "      <th>prompt</th>\n",
              "      <th>reference_trajectory</th>\n",
              "      <th>response</th>\n",
              "      <th>latency_in_seconds</th>\n",
              "      <th>failure</th>\n",
              "      <th>predicted_trajectory</th>\n",
              "      <th>trajectory_single_tool_use/score</th>\n",
              "    </tr>\n",
              "  </thead>\n",
              "  <tbody>\n",
              "    <tr>\n",
              "      <th>0</th>\n",
              "      <td>Get price for smartphone</td>\n",
              "      <td>[{'tool_name': 'get_product_price', 'tool_inpu...</td>\n",
              "      <td>The price for smartphone is 500. \\n</td>\n",
              "      <td>2.698278</td>\n",
              "      <td>0</td>\n",
              "      <td>[{'tool_name': 'get_product_price', 'tool_inpu...</td>\n",
              "      <td>1.0</td>\n",
              "    </tr>\n",
              "    <tr>\n",
              "      <th>1</th>\n",
              "      <td>Get product details and price for headphones</td>\n",
              "      <td>[{'tool_name': 'get_product_details', 'tool_in...</td>\n",
              "      <td>The headphones are wireless with advanced nois...</td>\n",
              "      <td>3.783446</td>\n",
              "      <td>0</td>\n",
              "      <td>[{'tool_name': 'get_product_details', 'tool_in...</td>\n",
              "      <td>1.0</td>\n",
              "    </tr>\n",
              "    <tr>\n",
              "      <th>2</th>\n",
              "      <td>Get details for usb charger</td>\n",
              "      <td>[{'tool_name': 'get_product_details', 'tool_in...</td>\n",
              "      <td>A super fast and light usb charger. \\n</td>\n",
              "      <td>3.279385</td>\n",
              "      <td>0</td>\n",
              "      <td>[{'tool_name': 'get_product_details', 'tool_in...</td>\n",
              "      <td>0.0</td>\n",
              "    </tr>\n",
              "    <tr>\n",
              "      <th>3</th>\n",
              "      <td>Get product details and price for shoes</td>\n",
              "      <td>[{'tool_name': 'get_product_details', 'tool_in...</td>\n",
              "      <td>The product details for shoes are: High-perfor...</td>\n",
              "      <td>3.674767</td>\n",
              "      <td>0</td>\n",
              "      <td>[{'tool_name': 'get_product_details', 'tool_in...</td>\n",
              "      <td>1.0</td>\n",
              "    </tr>\n",
              "    <tr>\n",
              "      <th>4</th>\n",
              "      <td>Get product details for speaker?</td>\n",
              "      <td>[{'tool_name': 'get_product_details', 'tool_in...</td>\n",
              "      <td>A voice-controlled smart speaker that plays mu...</td>\n",
              "      <td>3.440797</td>\n",
              "      <td>0</td>\n",
              "      <td>[{'tool_name': 'get_product_details', 'tool_in...</td>\n",
              "      <td>0.0</td>\n",
              "    </tr>\n",
              "  </tbody>\n",
              "</table>\n",
              "</div>"
            ],
            "text/plain": [
              "                                         prompt  \\\n",
              "0                      Get price for smartphone   \n",
              "1  Get product details and price for headphones   \n",
              "2                   Get details for usb charger   \n",
              "3       Get product details and price for shoes   \n",
              "4              Get product details for speaker?   \n",
              "\n",
              "                                reference_trajectory  \\\n",
              "0  [{'tool_name': 'get_product_price', 'tool_inpu...   \n",
              "1  [{'tool_name': 'get_product_details', 'tool_in...   \n",
              "2  [{'tool_name': 'get_product_details', 'tool_in...   \n",
              "3  [{'tool_name': 'get_product_details', 'tool_in...   \n",
              "4  [{'tool_name': 'get_product_details', 'tool_in...   \n",
              "\n",
              "                                            response latency_in_seconds  \\\n",
              "0                The price for smartphone is 500. \\n           2.698278   \n",
              "1  The headphones are wireless with advanced nois...           3.783446   \n",
              "2             A super fast and light usb charger. \\n           3.279385   \n",
              "3  The product details for shoes are: High-perfor...           3.674767   \n",
              "4  A voice-controlled smart speaker that plays mu...           3.440797   \n",
              "\n",
              "  failure                               predicted_trajectory  \\\n",
              "0       0  [{'tool_name': 'get_product_price', 'tool_inpu...   \n",
              "1       0  [{'tool_name': 'get_product_details', 'tool_in...   \n",
              "2       0  [{'tool_name': 'get_product_details', 'tool_in...   \n",
              "3       0  [{'tool_name': 'get_product_details', 'tool_in...   \n",
              "4       0  [{'tool_name': 'get_product_details', 'tool_in...   \n",
              "\n",
              "   trajectory_single_tool_use/score  \n",
              "0                               1.0  \n",
              "1                               1.0  \n",
              "2                               0.0  \n",
              "3                               1.0  \n",
              "4                               0.0  "
            ]
          },
          "metadata": {},
          "output_type": "display_data"
        }
      ],
      "source": [
        "single_tool_call_eval_task = EvalTask(\n",
        "    dataset=eval_sample_dataset,\n",
        "    metrics=single_tool_usage_metrics,\n",
        "    experiment=EXPERIMENT_NAME,\n",
        ")\n",
        "\n",
        "single_tool_call_eval_result = single_tool_call_eval_task.evaluate(\n",
        "    runnable=local_1p_agent, experiment_run_name=EXPERIMENT_RUN\n",
        ")\n",
        "\n",
        "display_eval_report(single_tool_call_eval_result)"
      ]
    },
    {
      "cell_type": "markdown",
      "metadata": {},
      "source": [
        "리모트 에이전스 실험하기"
      ]
    },
    {
      "cell_type": "code",
      "execution_count": 25,
      "metadata": {
        "id": "SRv43fDcd5by"
      },
      "outputs": [
        {
          "data": {
            "text/html": [
              "\n",
              "        \n",
              "    <link rel=\"stylesheet\" href=\"https://fonts.googleapis.com/icon?family=Material+Icons\">\n",
              "    <style>\n",
              "      .view-vertex-resource,\n",
              "      .view-vertex-resource:hover,\n",
              "      .view-vertex-resource:visited {\n",
              "        position: relative;\n",
              "        display: inline-flex;\n",
              "        flex-direction: row;\n",
              "        height: 32px;\n",
              "        padding: 0 12px;\n",
              "          margin: 4px 18px;\n",
              "        gap: 4px;\n",
              "        border-radius: 4px;\n",
              "\n",
              "        align-items: center;\n",
              "        justify-content: center;\n",
              "        background-color: rgb(255, 255, 255);\n",
              "        color: rgb(51, 103, 214);\n",
              "\n",
              "        font-family: Roboto,\"Helvetica Neue\",sans-serif;\n",
              "        font-size: 13px;\n",
              "        font-weight: 500;\n",
              "        text-transform: uppercase;\n",
              "        text-decoration: none !important;\n",
              "\n",
              "        transition: box-shadow 280ms cubic-bezier(0.4, 0, 0.2, 1) 0s;\n",
              "        box-shadow: 0px 3px 1px -2px rgba(0,0,0,0.2), 0px 2px 2px 0px rgba(0,0,0,0.14), 0px 1px 5px 0px rgba(0,0,0,0.12);\n",
              "      }\n",
              "      .view-vertex-resource:active {\n",
              "        box-shadow: 0px 5px 5px -3px rgba(0,0,0,0.2),0px 8px 10px 1px rgba(0,0,0,0.14),0px 3px 14px 2px rgba(0,0,0,0.12);\n",
              "      }\n",
              "      .view-vertex-resource:active .view-vertex-ripple::before {\n",
              "        position: absolute;\n",
              "        top: 0;\n",
              "        bottom: 0;\n",
              "        left: 0;\n",
              "        right: 0;\n",
              "        border-radius: 4px;\n",
              "        pointer-events: none;\n",
              "\n",
              "        content: '';\n",
              "        background-color: rgb(51, 103, 214);\n",
              "        opacity: 0.12;\n",
              "      }\n",
              "      .view-vertex-icon {\n",
              "        font-size: 18px;\n",
              "      }\n",
              "    </style>\n",
              "  \n",
              "        <a class=\"view-vertex-resource\" id=\"view-vertex-resource-240adf0a-2d54-471a-bb63-8d8090792192\" href=\"#view-view-vertex-resource-240adf0a-2d54-471a-bb63-8d8090792192\">\n",
              "          <span class=\"material-icons view-vertex-icon\">science</span>\n",
              "          <span>View Experiment</span>\n",
              "        </a>\n",
              "        \n",
              "        <script>\n",
              "          (function () {\n",
              "            const link = document.getElementById('view-vertex-resource-240adf0a-2d54-471a-bb63-8d8090792192');\n",
              "            link.addEventListener('click', (e) => {\n",
              "              if (window.google?.colab?.openUrl) {\n",
              "                window.google.colab.openUrl('https://console.cloud.google.com/vertex-ai/experiments/locations/us-central1/experiments/evaluate-re-agent/runs?project=weverse-dev-mint');\n",
              "              } else {\n",
              "                window.open('https://console.cloud.google.com/vertex-ai/experiments/locations/us-central1/experiments/evaluate-re-agent/runs?project=weverse-dev-mint', '_blank');\n",
              "              }\n",
              "              e.stopPropagation();\n",
              "              e.preventDefault();\n",
              "            });\n",
              "          })();\n",
              "        </script>\n",
              "    "
            ],
            "text/plain": [
              "<IPython.core.display.HTML object>"
            ]
          },
          "metadata": {},
          "output_type": "display_data"
        },
        {
          "name": "stdout",
          "output_type": "stream",
          "text": [
            "Associating projects/377376242639/locations/us-central1/metadataStores/default/contexts/evaluate-re-agent-single-metric-eval-0tbqvw55 to Experiment: evaluate-re-agent\n"
          ]
        },
        {
          "data": {
            "text/html": [
              "\n",
              "        \n",
              "    <link rel=\"stylesheet\" href=\"https://fonts.googleapis.com/icon?family=Material+Icons\">\n",
              "    <style>\n",
              "      .view-vertex-resource,\n",
              "      .view-vertex-resource:hover,\n",
              "      .view-vertex-resource:visited {\n",
              "        position: relative;\n",
              "        display: inline-flex;\n",
              "        flex-direction: row;\n",
              "        height: 32px;\n",
              "        padding: 0 12px;\n",
              "          margin: 4px 18px;\n",
              "        gap: 4px;\n",
              "        border-radius: 4px;\n",
              "\n",
              "        align-items: center;\n",
              "        justify-content: center;\n",
              "        background-color: rgb(255, 255, 255);\n",
              "        color: rgb(51, 103, 214);\n",
              "\n",
              "        font-family: Roboto,\"Helvetica Neue\",sans-serif;\n",
              "        font-size: 13px;\n",
              "        font-weight: 500;\n",
              "        text-transform: uppercase;\n",
              "        text-decoration: none !important;\n",
              "\n",
              "        transition: box-shadow 280ms cubic-bezier(0.4, 0, 0.2, 1) 0s;\n",
              "        box-shadow: 0px 3px 1px -2px rgba(0,0,0,0.2), 0px 2px 2px 0px rgba(0,0,0,0.14), 0px 1px 5px 0px rgba(0,0,0,0.12);\n",
              "      }\n",
              "      .view-vertex-resource:active {\n",
              "        box-shadow: 0px 5px 5px -3px rgba(0,0,0,0.2),0px 8px 10px 1px rgba(0,0,0,0.14),0px 3px 14px 2px rgba(0,0,0,0.12);\n",
              "      }\n",
              "      .view-vertex-resource:active .view-vertex-ripple::before {\n",
              "        position: absolute;\n",
              "        top: 0;\n",
              "        bottom: 0;\n",
              "        left: 0;\n",
              "        right: 0;\n",
              "        border-radius: 4px;\n",
              "        pointer-events: none;\n",
              "\n",
              "        content: '';\n",
              "        background-color: rgb(51, 103, 214);\n",
              "        opacity: 0.12;\n",
              "      }\n",
              "      .view-vertex-icon {\n",
              "        font-size: 18px;\n",
              "      }\n",
              "    </style>\n",
              "  \n",
              "        <a class=\"view-vertex-resource\" id=\"view-vertex-resource-5ef6e172-3e61-4e81-84c8-0fc905d3d457\" href=\"#view-view-vertex-resource-5ef6e172-3e61-4e81-84c8-0fc905d3d457\">\n",
              "          <span class=\"material-icons view-vertex-icon\">science</span>\n",
              "          <span>View Experiment Run</span>\n",
              "        </a>\n",
              "        \n",
              "        <script>\n",
              "          (function () {\n",
              "            const link = document.getElementById('view-vertex-resource-5ef6e172-3e61-4e81-84c8-0fc905d3d457');\n",
              "            link.addEventListener('click', (e) => {\n",
              "              if (window.google?.colab?.openUrl) {\n",
              "                window.google.colab.openUrl('https://console.cloud.google.com/vertex-ai/experiments/locations/us-central1/experiments/evaluate-re-agent/runs/evaluate-re-agent-single-metric-eval-0tbqvw55?project=weverse-dev-mint');\n",
              "              } else {\n",
              "                window.open('https://console.cloud.google.com/vertex-ai/experiments/locations/us-central1/experiments/evaluate-re-agent/runs/evaluate-re-agent-single-metric-eval-0tbqvw55?project=weverse-dev-mint', '_blank');\n",
              "              }\n",
              "              e.stopPropagation();\n",
              "              e.preventDefault();\n",
              "            });\n",
              "          })();\n",
              "        </script>\n",
              "    "
            ],
            "text/plain": [
              "<IPython.core.display.HTML object>"
            ]
          },
          "metadata": {},
          "output_type": "display_data"
        },
        {
          "name": "stderr",
          "output_type": "stream",
          "text": [
            "100%|██████████| 5/5 [00:03<00:00,  1.44it/s]"
          ]
        },
        {
          "name": "stdout",
          "output_type": "stream",
          "text": [
            "All 5 responses are successfully generated from the runnable.\n",
            "Computing metrics with a total of 5 Vertex Gen AI Evaluation Service API requests.\n"
          ]
        },
        {
          "name": "stderr",
          "output_type": "stream",
          "text": [
            "\n",
            "100%|██████████| 5/5 [00:04<00:00,  1.15it/s]"
          ]
        },
        {
          "name": "stdout",
          "output_type": "stream",
          "text": [
            "All 5 metric requests are successfully computed.\n",
            "Evaluation Took:4.362451583147049 seconds\n"
          ]
        },
        {
          "name": "stderr",
          "output_type": "stream",
          "text": [
            "\n"
          ]
        },
        {
          "data": {
            "text/html": [
              "\n",
              "        \n",
              "    <link rel=\"stylesheet\" href=\"https://fonts.googleapis.com/icon?family=Material+Icons\">\n",
              "    <style>\n",
              "      .view-vertex-resource,\n",
              "      .view-vertex-resource:hover,\n",
              "      .view-vertex-resource:visited {\n",
              "        position: relative;\n",
              "        display: inline-flex;\n",
              "        flex-direction: row;\n",
              "        height: 32px;\n",
              "        padding: 0 12px;\n",
              "          margin: 4px 18px;\n",
              "        gap: 4px;\n",
              "        border-radius: 4px;\n",
              "\n",
              "        align-items: center;\n",
              "        justify-content: center;\n",
              "        background-color: rgb(255, 255, 255);\n",
              "        color: rgb(51, 103, 214);\n",
              "\n",
              "        font-family: Roboto,\"Helvetica Neue\",sans-serif;\n",
              "        font-size: 13px;\n",
              "        font-weight: 500;\n",
              "        text-transform: uppercase;\n",
              "        text-decoration: none !important;\n",
              "\n",
              "        transition: box-shadow 280ms cubic-bezier(0.4, 0, 0.2, 1) 0s;\n",
              "        box-shadow: 0px 3px 1px -2px rgba(0,0,0,0.2), 0px 2px 2px 0px rgba(0,0,0,0.14), 0px 1px 5px 0px rgba(0,0,0,0.12);\n",
              "      }\n",
              "      .view-vertex-resource:active {\n",
              "        box-shadow: 0px 5px 5px -3px rgba(0,0,0,0.2),0px 8px 10px 1px rgba(0,0,0,0.14),0px 3px 14px 2px rgba(0,0,0,0.12);\n",
              "      }\n",
              "      .view-vertex-resource:active .view-vertex-ripple::before {\n",
              "        position: absolute;\n",
              "        top: 0;\n",
              "        bottom: 0;\n",
              "        left: 0;\n",
              "        right: 0;\n",
              "        border-radius: 4px;\n",
              "        pointer-events: none;\n",
              "\n",
              "        content: '';\n",
              "        background-color: rgb(51, 103, 214);\n",
              "        opacity: 0.12;\n",
              "      }\n",
              "      .view-vertex-icon {\n",
              "        font-size: 18px;\n",
              "      }\n",
              "    </style>\n",
              "  \n",
              "        <a class=\"view-vertex-resource\" id=\"view-vertex-resource-1f7f6bfa-be28-45ac-b74d-eb8aa457c434\" href=\"#view-view-vertex-resource-1f7f6bfa-be28-45ac-b74d-eb8aa457c434\">\n",
              "          <span class=\"material-icons view-vertex-icon\">science</span>\n",
              "          <span>View Experiment</span>\n",
              "        </a>\n",
              "        \n",
              "        <script>\n",
              "          (function () {\n",
              "            const link = document.getElementById('view-vertex-resource-1f7f6bfa-be28-45ac-b74d-eb8aa457c434');\n",
              "            link.addEventListener('click', (e) => {\n",
              "              if (window.google?.colab?.openUrl) {\n",
              "                window.google.colab.openUrl('https://console.cloud.google.com/vertex-ai/experiments/locations/us-central1/experiments/evaluate-re-agent/runs?project=weverse-dev-mint');\n",
              "              } else {\n",
              "                window.open('https://console.cloud.google.com/vertex-ai/experiments/locations/us-central1/experiments/evaluate-re-agent/runs?project=weverse-dev-mint', '_blank');\n",
              "              }\n",
              "              e.stopPropagation();\n",
              "              e.preventDefault();\n",
              "            });\n",
              "          })();\n",
              "        </script>\n",
              "    "
            ],
            "text/plain": [
              "<IPython.core.display.HTML object>"
            ]
          },
          "metadata": {},
          "output_type": "display_data"
        },
        {
          "data": {
            "text/markdown": [
              "### Summary Metrics"
            ],
            "text/plain": [
              "<IPython.core.display.Markdown object>"
            ]
          },
          "metadata": {},
          "output_type": "display_data"
        },
        {
          "data": {
            "text/html": [
              "<div>\n",
              "<style scoped>\n",
              "    .dataframe tbody tr th:only-of-type {\n",
              "        vertical-align: middle;\n",
              "    }\n",
              "\n",
              "    .dataframe tbody tr th {\n",
              "        vertical-align: top;\n",
              "    }\n",
              "\n",
              "    .dataframe thead th {\n",
              "        text-align: right;\n",
              "    }\n",
              "</style>\n",
              "<table border=\"1\" class=\"dataframe\">\n",
              "  <thead>\n",
              "    <tr style=\"text-align: right;\">\n",
              "      <th></th>\n",
              "      <th>row_count</th>\n",
              "      <th>trajectory_single_tool_use/mean</th>\n",
              "      <th>trajectory_single_tool_use/std</th>\n",
              "      <th>latency_in_seconds/mean</th>\n",
              "      <th>latency_in_seconds/std</th>\n",
              "      <th>failure/mean</th>\n",
              "      <th>failure/std</th>\n",
              "    </tr>\n",
              "  </thead>\n",
              "  <tbody>\n",
              "    <tr>\n",
              "      <th>0</th>\n",
              "      <td>5.0</td>\n",
              "      <td>0.6</td>\n",
              "      <td>0.547723</td>\n",
              "      <td>3.041032</td>\n",
              "      <td>0.353834</td>\n",
              "      <td>0.0</td>\n",
              "      <td>0.0</td>\n",
              "    </tr>\n",
              "  </tbody>\n",
              "</table>\n",
              "</div>"
            ],
            "text/plain": [
              "   row_count  trajectory_single_tool_use/mean  trajectory_single_tool_use/std  \\\n",
              "0        5.0                              0.6                        0.547723   \n",
              "\n",
              "   latency_in_seconds/mean  latency_in_seconds/std  failure/mean  failure/std  \n",
              "0                 3.041032                0.353834           0.0          0.0  "
            ]
          },
          "metadata": {},
          "output_type": "display_data"
        },
        {
          "data": {
            "text/markdown": [
              "### Row-wise Metrics"
            ],
            "text/plain": [
              "<IPython.core.display.Markdown object>"
            ]
          },
          "metadata": {},
          "output_type": "display_data"
        },
        {
          "data": {
            "text/html": [
              "<div>\n",
              "<style scoped>\n",
              "    .dataframe tbody tr th:only-of-type {\n",
              "        vertical-align: middle;\n",
              "    }\n",
              "\n",
              "    .dataframe tbody tr th {\n",
              "        vertical-align: top;\n",
              "    }\n",
              "\n",
              "    .dataframe thead th {\n",
              "        text-align: right;\n",
              "    }\n",
              "</style>\n",
              "<table border=\"1\" class=\"dataframe\">\n",
              "  <thead>\n",
              "    <tr style=\"text-align: right;\">\n",
              "      <th></th>\n",
              "      <th>prompt</th>\n",
              "      <th>reference_trajectory</th>\n",
              "      <th>response</th>\n",
              "      <th>latency_in_seconds</th>\n",
              "      <th>failure</th>\n",
              "      <th>predicted_trajectory</th>\n",
              "      <th>trajectory_single_tool_use/score</th>\n",
              "    </tr>\n",
              "  </thead>\n",
              "  <tbody>\n",
              "    <tr>\n",
              "      <th>0</th>\n",
              "      <td>Get price for smartphone</td>\n",
              "      <td>[{'tool_name': 'get_product_price', 'tool_inpu...</td>\n",
              "      <td>The price for smartphone is 500. \\n</td>\n",
              "      <td>2.749151</td>\n",
              "      <td>0</td>\n",
              "      <td>[{'tool_name': 'get_product_price', 'tool_inpu...</td>\n",
              "      <td>1.0</td>\n",
              "    </tr>\n",
              "    <tr>\n",
              "      <th>1</th>\n",
              "      <td>Get product details and price for headphones</td>\n",
              "      <td>[{'tool_name': 'get_product_details', 'tool_in...</td>\n",
              "      <td>The headphones are wireless with advanced nois...</td>\n",
              "      <td>3.376055</td>\n",
              "      <td>0</td>\n",
              "      <td>[{'tool_name': 'get_product_details', 'tool_in...</td>\n",
              "      <td>1.0</td>\n",
              "    </tr>\n",
              "    <tr>\n",
              "      <th>2</th>\n",
              "      <td>Get details for usb charger</td>\n",
              "      <td>[{'tool_name': 'get_product_details', 'tool_in...</td>\n",
              "      <td>A super fast and light usb charger. \\n</td>\n",
              "      <td>2.726993</td>\n",
              "      <td>0</td>\n",
              "      <td>[{'tool_name': 'get_product_details', 'tool_in...</td>\n",
              "      <td>0.0</td>\n",
              "    </tr>\n",
              "    <tr>\n",
              "      <th>3</th>\n",
              "      <td>Get product details and price for shoes</td>\n",
              "      <td>[{'tool_name': 'get_product_details', 'tool_in...</td>\n",
              "      <td>The product details for shoes are: High-perfor...</td>\n",
              "      <td>3.466347</td>\n",
              "      <td>0</td>\n",
              "      <td>[{'tool_name': 'get_product_details', 'tool_in...</td>\n",
              "      <td>1.0</td>\n",
              "    </tr>\n",
              "    <tr>\n",
              "      <th>4</th>\n",
              "      <td>Get product details for speaker?</td>\n",
              "      <td>[{'tool_name': 'get_product_details', 'tool_in...</td>\n",
              "      <td>A voice-controlled smart speaker that plays mu...</td>\n",
              "      <td>2.886612</td>\n",
              "      <td>0</td>\n",
              "      <td>[{'tool_name': 'get_product_details', 'tool_in...</td>\n",
              "      <td>0.0</td>\n",
              "    </tr>\n",
              "  </tbody>\n",
              "</table>\n",
              "</div>"
            ],
            "text/plain": [
              "                                         prompt  \\\n",
              "0                      Get price for smartphone   \n",
              "1  Get product details and price for headphones   \n",
              "2                   Get details for usb charger   \n",
              "3       Get product details and price for shoes   \n",
              "4              Get product details for speaker?   \n",
              "\n",
              "                                reference_trajectory  \\\n",
              "0  [{'tool_name': 'get_product_price', 'tool_inpu...   \n",
              "1  [{'tool_name': 'get_product_details', 'tool_in...   \n",
              "2  [{'tool_name': 'get_product_details', 'tool_in...   \n",
              "3  [{'tool_name': 'get_product_details', 'tool_in...   \n",
              "4  [{'tool_name': 'get_product_details', 'tool_in...   \n",
              "\n",
              "                                            response latency_in_seconds  \\\n",
              "0                The price for smartphone is 500. \\n           2.749151   \n",
              "1  The headphones are wireless with advanced nois...           3.376055   \n",
              "2             A super fast and light usb charger. \\n           2.726993   \n",
              "3  The product details for shoes are: High-perfor...           3.466347   \n",
              "4  A voice-controlled smart speaker that plays mu...           2.886612   \n",
              "\n",
              "  failure                               predicted_trajectory  \\\n",
              "0       0  [{'tool_name': 'get_product_price', 'tool_inpu...   \n",
              "1       0  [{'tool_name': 'get_product_details', 'tool_in...   \n",
              "2       0  [{'tool_name': 'get_product_details', 'tool_in...   \n",
              "3       0  [{'tool_name': 'get_product_details', 'tool_in...   \n",
              "4       0  [{'tool_name': 'get_product_details', 'tool_in...   \n",
              "\n",
              "   trajectory_single_tool_use/score  \n",
              "0                               1.0  \n",
              "1                               1.0  \n",
              "2                               0.0  \n",
              "3                               1.0  \n",
              "4                               0.0  "
            ]
          },
          "metadata": {},
          "output_type": "display_data"
        }
      ],
      "source": [
        "single_tool_call_eval_task = EvalTask(\n",
        "    dataset=eval_sample_dataset,\n",
        "    metrics=single_tool_usage_metrics,\n",
        "    experiment=EXPERIMENT_NAME,\n",
        ")\n",
        "\n",
        "single_tool_call_eval_result = single_tool_call_eval_task.evaluate(\n",
        "    runnable=remote_1p_agent, experiment_run_name=EXPERIMENT_RUN\n",
        ")\n",
        "\n",
        "display_eval_report(single_tool_call_eval_result)"
      ]
    },
    {
      "cell_type": "markdown",
      "metadata": {
        "id": "6o5BjSTFKVMS"
      },
      "source": [
        "#### 평가 결과 시각화\n",
        "\n",
        "몇 가지 헬퍼 함수를 사용하여 평가 결과 샘플을 시각화합니다."
      ]
    },
    {
      "cell_type": "code",
      "execution_count": 26,
      "metadata": {
        "id": "1Jopzw83k14w"
      },
      "outputs": [
        {
          "data": {
            "text/html": [
              "<span style='font-family: monospace; font-size: 14px; white-space: pre-wrap; width: auto; overflow-x: auto;font-weight: bold;'>Prompt: </span>"
            ],
            "text/plain": [
              "<IPython.core.display.HTML object>"
            ]
          },
          "metadata": {},
          "output_type": "display_data"
        },
        {
          "data": {
            "text/html": [
              "<span style='font-family: monospace; font-size: 14px; white-space: pre-wrap; width: auto; overflow-x: auto;'>Get price for smartphone</span><br>"
            ],
            "text/plain": [
              "<IPython.core.display.HTML object>"
            ]
          },
          "metadata": {},
          "output_type": "display_data"
        },
        {
          "data": {
            "text/html": [
              "<span style='font-family: monospace; font-size: 14px; white-space: pre-wrap; width: auto; overflow-x: auto;font-weight: bold;'>Reference Trajectory: </span>"
            ],
            "text/plain": [
              "<IPython.core.display.HTML object>"
            ]
          },
          "metadata": {},
          "output_type": "display_data"
        },
        {
          "data": {
            "text/html": [
              "<span style='font-family: monospace; font-size: 14px; white-space: pre-wrap; width: auto; overflow-x: auto;'>[{'tool_name': 'get_product_price', 'tool_input': {'product_name': 'smartphone'}}]</span><br>"
            ],
            "text/plain": [
              "<IPython.core.display.HTML object>"
            ]
          },
          "metadata": {},
          "output_type": "display_data"
        },
        {
          "data": {
            "text/html": [
              "<span style='font-family: monospace; font-size: 14px; white-space: pre-wrap; width: auto; overflow-x: auto;font-weight: bold;'>Response: </span>"
            ],
            "text/plain": [
              "<IPython.core.display.HTML object>"
            ]
          },
          "metadata": {},
          "output_type": "display_data"
        },
        {
          "data": {
            "text/html": [
              "<span style='font-family: monospace; font-size: 14px; white-space: pre-wrap; width: auto; overflow-x: auto;'>The price for smartphone is 500. \n",
              "</span><br>"
            ],
            "text/plain": [
              "<IPython.core.display.HTML object>"
            ]
          },
          "metadata": {},
          "output_type": "display_data"
        },
        {
          "data": {
            "text/html": [
              "<span style='font-family: monospace; font-size: 14px; white-space: pre-wrap; width: auto; overflow-x: auto;font-weight: bold;'>Latency In Seconds: </span>"
            ],
            "text/plain": [
              "<IPython.core.display.HTML object>"
            ]
          },
          "metadata": {},
          "output_type": "display_data"
        },
        {
          "data": {
            "text/html": [
              "<span style='font-family: monospace; font-size: 14px; white-space: pre-wrap; width: auto; overflow-x: auto;'>2.7491514168214053</span><br>"
            ],
            "text/plain": [
              "<IPython.core.display.HTML object>"
            ]
          },
          "metadata": {},
          "output_type": "display_data"
        },
        {
          "data": {
            "text/html": [
              "<span style='font-family: monospace; font-size: 14px; white-space: pre-wrap; width: auto; overflow-x: auto;font-weight: bold;'>Failure: </span>"
            ],
            "text/plain": [
              "<IPython.core.display.HTML object>"
            ]
          },
          "metadata": {},
          "output_type": "display_data"
        },
        {
          "data": {
            "text/html": [
              "<span style='font-family: monospace; font-size: 14px; white-space: pre-wrap; width: auto; overflow-x: auto;'>0</span><br>"
            ],
            "text/plain": [
              "<IPython.core.display.HTML object>"
            ]
          },
          "metadata": {},
          "output_type": "display_data"
        },
        {
          "data": {
            "text/html": [
              "<span style='font-family: monospace; font-size: 14px; white-space: pre-wrap; width: auto; overflow-x: auto;font-weight: bold;'>Predicted Trajectory: </span>"
            ],
            "text/plain": [
              "<IPython.core.display.HTML object>"
            ]
          },
          "metadata": {},
          "output_type": "display_data"
        },
        {
          "data": {
            "text/html": [
              "<span style='font-family: monospace; font-size: 14px; white-space: pre-wrap; width: auto; overflow-x: auto;'>[{'tool_name': 'get_product_price', 'tool_input': {'product_name': 'smartphone'}}]</span><br>"
            ],
            "text/plain": [
              "<IPython.core.display.HTML object>"
            ]
          },
          "metadata": {},
          "output_type": "display_data"
        },
        {
          "data": {
            "text/html": [
              "<span style='font-family: monospace; font-size: 14px; white-space: pre-wrap; width: auto; overflow-x: auto;font-weight: bold;'>Trajectory Single Tool Use/Score: </span>"
            ],
            "text/plain": [
              "<IPython.core.display.HTML object>"
            ]
          },
          "metadata": {},
          "output_type": "display_data"
        },
        {
          "data": {
            "text/html": [
              "<span style='font-family: monospace; font-size: 14px; white-space: pre-wrap; width: auto; overflow-x: auto;'>1.0</span><br>"
            ],
            "text/plain": [
              "<IPython.core.display.HTML object>"
            ]
          },
          "metadata": {},
          "output_type": "display_data"
        },
        {
          "data": {
            "text/html": [
              "<hr>"
            ],
            "text/plain": [
              "<IPython.core.display.HTML object>"
            ]
          },
          "metadata": {},
          "output_type": "display_data"
        },
        {
          "data": {
            "text/html": [
              "<span style='font-family: monospace; font-size: 14px; white-space: pre-wrap; width: auto; overflow-x: auto;font-weight: bold;'>Prompt: </span>"
            ],
            "text/plain": [
              "<IPython.core.display.HTML object>"
            ]
          },
          "metadata": {},
          "output_type": "display_data"
        },
        {
          "data": {
            "text/html": [
              "<span style='font-family: monospace; font-size: 14px; white-space: pre-wrap; width: auto; overflow-x: auto;'>Get product details and price for headphones</span><br>"
            ],
            "text/plain": [
              "<IPython.core.display.HTML object>"
            ]
          },
          "metadata": {},
          "output_type": "display_data"
        },
        {
          "data": {
            "text/html": [
              "<span style='font-family: monospace; font-size: 14px; white-space: pre-wrap; width: auto; overflow-x: auto;font-weight: bold;'>Reference Trajectory: </span>"
            ],
            "text/plain": [
              "<IPython.core.display.HTML object>"
            ]
          },
          "metadata": {},
          "output_type": "display_data"
        },
        {
          "data": {
            "text/html": [
              "<span style='font-family: monospace; font-size: 14px; white-space: pre-wrap; width: auto; overflow-x: auto;'>[{'tool_name': 'get_product_details', 'tool_input': {'product_name': 'headphones'}}, {'tool_name': 'get_product_price', 'tool_input': {'product_name': 'headphones'}}]</span><br>"
            ],
            "text/plain": [
              "<IPython.core.display.HTML object>"
            ]
          },
          "metadata": {},
          "output_type": "display_data"
        },
        {
          "data": {
            "text/html": [
              "<span style='font-family: monospace; font-size: 14px; white-space: pre-wrap; width: auto; overflow-x: auto;font-weight: bold;'>Response: </span>"
            ],
            "text/plain": [
              "<IPython.core.display.HTML object>"
            ]
          },
          "metadata": {},
          "output_type": "display_data"
        },
        {
          "data": {
            "text/html": [
              "<span style='font-family: monospace; font-size: 14px; white-space: pre-wrap; width: auto; overflow-x: auto;'>The headphones are wireless with advanced noise cancellation technology for immersive audio and cost $50. \n",
              "</span><br>"
            ],
            "text/plain": [
              "<IPython.core.display.HTML object>"
            ]
          },
          "metadata": {},
          "output_type": "display_data"
        },
        {
          "data": {
            "text/html": [
              "<span style='font-family: monospace; font-size: 14px; white-space: pre-wrap; width: auto; overflow-x: auto;font-weight: bold;'>Latency In Seconds: </span>"
            ],
            "text/plain": [
              "<IPython.core.display.HTML object>"
            ]
          },
          "metadata": {},
          "output_type": "display_data"
        },
        {
          "data": {
            "text/html": [
              "<span style='font-family: monospace; font-size: 14px; white-space: pre-wrap; width: auto; overflow-x: auto;'>3.376054833875969</span><br>"
            ],
            "text/plain": [
              "<IPython.core.display.HTML object>"
            ]
          },
          "metadata": {},
          "output_type": "display_data"
        },
        {
          "data": {
            "text/html": [
              "<span style='font-family: monospace; font-size: 14px; white-space: pre-wrap; width: auto; overflow-x: auto;font-weight: bold;'>Failure: </span>"
            ],
            "text/plain": [
              "<IPython.core.display.HTML object>"
            ]
          },
          "metadata": {},
          "output_type": "display_data"
        },
        {
          "data": {
            "text/html": [
              "<span style='font-family: monospace; font-size: 14px; white-space: pre-wrap; width: auto; overflow-x: auto;'>0</span><br>"
            ],
            "text/plain": [
              "<IPython.core.display.HTML object>"
            ]
          },
          "metadata": {},
          "output_type": "display_data"
        },
        {
          "data": {
            "text/html": [
              "<span style='font-family: monospace; font-size: 14px; white-space: pre-wrap; width: auto; overflow-x: auto;font-weight: bold;'>Predicted Trajectory: </span>"
            ],
            "text/plain": [
              "<IPython.core.display.HTML object>"
            ]
          },
          "metadata": {},
          "output_type": "display_data"
        },
        {
          "data": {
            "text/html": [
              "<span style='font-family: monospace; font-size: 14px; white-space: pre-wrap; width: auto; overflow-x: auto;'>[{'tool_name': 'get_product_details', 'tool_input': {'product_name': 'headphones'}}, {'tool_name': 'get_product_price', 'tool_input': {'product_name': 'headphones'}}]</span><br>"
            ],
            "text/plain": [
              "<IPython.core.display.HTML object>"
            ]
          },
          "metadata": {},
          "output_type": "display_data"
        },
        {
          "data": {
            "text/html": [
              "<span style='font-family: monospace; font-size: 14px; white-space: pre-wrap; width: auto; overflow-x: auto;font-weight: bold;'>Trajectory Single Tool Use/Score: </span>"
            ],
            "text/plain": [
              "<IPython.core.display.HTML object>"
            ]
          },
          "metadata": {},
          "output_type": "display_data"
        },
        {
          "data": {
            "text/html": [
              "<span style='font-family: monospace; font-size: 14px; white-space: pre-wrap; width: auto; overflow-x: auto;'>1.0</span><br>"
            ],
            "text/plain": [
              "<IPython.core.display.HTML object>"
            ]
          },
          "metadata": {},
          "output_type": "display_data"
        },
        {
          "data": {
            "text/html": [
              "<hr>"
            ],
            "text/plain": [
              "<IPython.core.display.HTML object>"
            ]
          },
          "metadata": {},
          "output_type": "display_data"
        },
        {
          "data": {
            "text/html": [
              "<span style='font-family: monospace; font-size: 14px; white-space: pre-wrap; width: auto; overflow-x: auto;font-weight: bold;'>Prompt: </span>"
            ],
            "text/plain": [
              "<IPython.core.display.HTML object>"
            ]
          },
          "metadata": {},
          "output_type": "display_data"
        },
        {
          "data": {
            "text/html": [
              "<span style='font-family: monospace; font-size: 14px; white-space: pre-wrap; width: auto; overflow-x: auto;'>Get details for usb charger</span><br>"
            ],
            "text/plain": [
              "<IPython.core.display.HTML object>"
            ]
          },
          "metadata": {},
          "output_type": "display_data"
        },
        {
          "data": {
            "text/html": [
              "<span style='font-family: monospace; font-size: 14px; white-space: pre-wrap; width: auto; overflow-x: auto;font-weight: bold;'>Reference Trajectory: </span>"
            ],
            "text/plain": [
              "<IPython.core.display.HTML object>"
            ]
          },
          "metadata": {},
          "output_type": "display_data"
        },
        {
          "data": {
            "text/html": [
              "<span style='font-family: monospace; font-size: 14px; white-space: pre-wrap; width: auto; overflow-x: auto;'>[{'tool_name': 'get_product_details', 'tool_input': {'product_name': 'usb charger'}}]</span><br>"
            ],
            "text/plain": [
              "<IPython.core.display.HTML object>"
            ]
          },
          "metadata": {},
          "output_type": "display_data"
        },
        {
          "data": {
            "text/html": [
              "<span style='font-family: monospace; font-size: 14px; white-space: pre-wrap; width: auto; overflow-x: auto;font-weight: bold;'>Response: </span>"
            ],
            "text/plain": [
              "<IPython.core.display.HTML object>"
            ]
          },
          "metadata": {},
          "output_type": "display_data"
        },
        {
          "data": {
            "text/html": [
              "<span style='font-family: monospace; font-size: 14px; white-space: pre-wrap; width: auto; overflow-x: auto;'>A super fast and light usb charger. \n",
              "</span><br>"
            ],
            "text/plain": [
              "<IPython.core.display.HTML object>"
            ]
          },
          "metadata": {},
          "output_type": "display_data"
        },
        {
          "data": {
            "text/html": [
              "<span style='font-family: monospace; font-size: 14px; white-space: pre-wrap; width: auto; overflow-x: auto;font-weight: bold;'>Latency In Seconds: </span>"
            ],
            "text/plain": [
              "<IPython.core.display.HTML object>"
            ]
          },
          "metadata": {},
          "output_type": "display_data"
        },
        {
          "data": {
            "text/html": [
              "<span style='font-family: monospace; font-size: 14px; white-space: pre-wrap; width: auto; overflow-x: auto;'>2.7269928329624236</span><br>"
            ],
            "text/plain": [
              "<IPython.core.display.HTML object>"
            ]
          },
          "metadata": {},
          "output_type": "display_data"
        },
        {
          "data": {
            "text/html": [
              "<span style='font-family: monospace; font-size: 14px; white-space: pre-wrap; width: auto; overflow-x: auto;font-weight: bold;'>Failure: </span>"
            ],
            "text/plain": [
              "<IPython.core.display.HTML object>"
            ]
          },
          "metadata": {},
          "output_type": "display_data"
        },
        {
          "data": {
            "text/html": [
              "<span style='font-family: monospace; font-size: 14px; white-space: pre-wrap; width: auto; overflow-x: auto;'>0</span><br>"
            ],
            "text/plain": [
              "<IPython.core.display.HTML object>"
            ]
          },
          "metadata": {},
          "output_type": "display_data"
        },
        {
          "data": {
            "text/html": [
              "<span style='font-family: monospace; font-size: 14px; white-space: pre-wrap; width: auto; overflow-x: auto;font-weight: bold;'>Predicted Trajectory: </span>"
            ],
            "text/plain": [
              "<IPython.core.display.HTML object>"
            ]
          },
          "metadata": {},
          "output_type": "display_data"
        },
        {
          "data": {
            "text/html": [
              "<span style='font-family: monospace; font-size: 14px; white-space: pre-wrap; width: auto; overflow-x: auto;'>[{'tool_name': 'get_product_details', 'tool_input': {'product_name': 'usb charger'}}]</span><br>"
            ],
            "text/plain": [
              "<IPython.core.display.HTML object>"
            ]
          },
          "metadata": {},
          "output_type": "display_data"
        },
        {
          "data": {
            "text/html": [
              "<span style='font-family: monospace; font-size: 14px; white-space: pre-wrap; width: auto; overflow-x: auto;font-weight: bold;'>Trajectory Single Tool Use/Score: </span>"
            ],
            "text/plain": [
              "<IPython.core.display.HTML object>"
            ]
          },
          "metadata": {},
          "output_type": "display_data"
        },
        {
          "data": {
            "text/html": [
              "<span style='font-family: monospace; font-size: 14px; white-space: pre-wrap; width: auto; overflow-x: auto;'>0.0</span><br>"
            ],
            "text/plain": [
              "<IPython.core.display.HTML object>"
            ]
          },
          "metadata": {},
          "output_type": "display_data"
        },
        {
          "data": {
            "text/html": [
              "<hr>"
            ],
            "text/plain": [
              "<IPython.core.display.HTML object>"
            ]
          },
          "metadata": {},
          "output_type": "display_data"
        }
      ],
      "source": [
        "display_dataframe_rows(single_tool_call_eval_result.metrics_table, num_rows=3)"
      ]
    },
    {
      "cell_type": "markdown",
      "metadata": {
        "id": "JlujdJpu5Kn6"
      },
      "source": [
        "### 궤적(Trajectory) 평가\n",
        "\n",
        "주어진 작업에 대해 에이전트가 가장 적절한 도구를 선택하는 능력을 평가한 후, 사용자 입력(궤적)과 관련된 도구 시퀀스 선택을 분석하여 평가를 일반화합니다. 이는 에이전트가 올바른 도구를 선택할 뿐만 아니라 합리적이고 효과적인 순서로 사용하는지 평가합니다."
      ]
    },
    {
      "cell_type": "markdown",
      "metadata": {
        "id": "8s-nHdDJneHM"
      },
      "source": [
        "#### 궤적(Trajectory) 메트릭 설정\n",
        "\n",
        "에이전트의 궤적을 평가하기 위해 Vertex AI Gen AI Evaluation은 다음과 같은 몇 가지 ground-truth 기반 메트릭을 제공합니다.\n",
        "\n",
        "* `trajectory_exact_match`: 동일한 궤적 (동일한 액션, 동일한 순서)\n",
        "\n",
        "* `trajectory_in_order_match`: 예측된 궤적에 참조 액션이 순서대로 존재 (추가 액션 허용)\n",
        "\n",
        "* `trajectory_any_order_match`: 예측된 궤적에 모든 참조 액션이 존재 (순서, 추가 액션은 중요하지 않음).\n",
        "\n",
        "* `trajectory_precision`: 참조 액션 중 예측된 액션의 비율\n",
        "\n",
        "* `trajectory_recall`: 예측된 액션 중 참조 액션의 비율\n",
        "\n",
        "모든 메트릭은 0 또는 1점을 반환하며, `trajectory_precision` 및 `trajectory_recall`은 0에서 1 사이의 값을 가집니다."
      ]
    },
    {
      "cell_type": "code",
      "execution_count": 27,
      "metadata": {
        "id": "c32WIS95neHN"
      },
      "outputs": [],
      "source": [
        "trajectory_metrics = [\n",
        "    \"trajectory_exact_match\",\n",
        "    \"trajectory_in_order_match\",\n",
        "    \"trajectory_any_order_match\",\n",
        "    \"trajectory_precision\",\n",
        "    \"trajectory_recall\",\n",
        "]"
      ]
    },
    {
      "cell_type": "markdown",
      "metadata": {
        "id": "DF3jhTH3neHN"
      },
      "source": [
        "#### 평가 작업 실행\n",
        "\n",
        "새로운 `EvalTask`의 `evaluate` 메서드를 실행하여 평가를 제출합니다."
      ]
    },
    {
      "cell_type": "code",
      "execution_count": 28,
      "metadata": {
        "id": "vOdS7TJUneHN"
      },
      "outputs": [
        {
          "data": {
            "text/html": [
              "\n",
              "        \n",
              "    <link rel=\"stylesheet\" href=\"https://fonts.googleapis.com/icon?family=Material+Icons\">\n",
              "    <style>\n",
              "      .view-vertex-resource,\n",
              "      .view-vertex-resource:hover,\n",
              "      .view-vertex-resource:visited {\n",
              "        position: relative;\n",
              "        display: inline-flex;\n",
              "        flex-direction: row;\n",
              "        height: 32px;\n",
              "        padding: 0 12px;\n",
              "          margin: 4px 18px;\n",
              "        gap: 4px;\n",
              "        border-radius: 4px;\n",
              "\n",
              "        align-items: center;\n",
              "        justify-content: center;\n",
              "        background-color: rgb(255, 255, 255);\n",
              "        color: rgb(51, 103, 214);\n",
              "\n",
              "        font-family: Roboto,\"Helvetica Neue\",sans-serif;\n",
              "        font-size: 13px;\n",
              "        font-weight: 500;\n",
              "        text-transform: uppercase;\n",
              "        text-decoration: none !important;\n",
              "\n",
              "        transition: box-shadow 280ms cubic-bezier(0.4, 0, 0.2, 1) 0s;\n",
              "        box-shadow: 0px 3px 1px -2px rgba(0,0,0,0.2), 0px 2px 2px 0px rgba(0,0,0,0.14), 0px 1px 5px 0px rgba(0,0,0,0.12);\n",
              "      }\n",
              "      .view-vertex-resource:active {\n",
              "        box-shadow: 0px 5px 5px -3px rgba(0,0,0,0.2),0px 8px 10px 1px rgba(0,0,0,0.14),0px 3px 14px 2px rgba(0,0,0,0.12);\n",
              "      }\n",
              "      .view-vertex-resource:active .view-vertex-ripple::before {\n",
              "        position: absolute;\n",
              "        top: 0;\n",
              "        bottom: 0;\n",
              "        left: 0;\n",
              "        right: 0;\n",
              "        border-radius: 4px;\n",
              "        pointer-events: none;\n",
              "\n",
              "        content: '';\n",
              "        background-color: rgb(51, 103, 214);\n",
              "        opacity: 0.12;\n",
              "      }\n",
              "      .view-vertex-icon {\n",
              "        font-size: 18px;\n",
              "      }\n",
              "    </style>\n",
              "  \n",
              "        <a class=\"view-vertex-resource\" id=\"view-vertex-resource-218c0660-bc30-4f18-af18-de527b98f3b0\" href=\"#view-view-vertex-resource-218c0660-bc30-4f18-af18-de527b98f3b0\">\n",
              "          <span class=\"material-icons view-vertex-icon\">science</span>\n",
              "          <span>View Experiment</span>\n",
              "        </a>\n",
              "        \n",
              "        <script>\n",
              "          (function () {\n",
              "            const link = document.getElementById('view-vertex-resource-218c0660-bc30-4f18-af18-de527b98f3b0');\n",
              "            link.addEventListener('click', (e) => {\n",
              "              if (window.google?.colab?.openUrl) {\n",
              "                window.google.colab.openUrl('https://console.cloud.google.com/vertex-ai/experiments/locations/us-central1/experiments/evaluate-re-agent/runs?project=weverse-dev-mint');\n",
              "              } else {\n",
              "                window.open('https://console.cloud.google.com/vertex-ai/experiments/locations/us-central1/experiments/evaluate-re-agent/runs?project=weverse-dev-mint', '_blank');\n",
              "              }\n",
              "              e.stopPropagation();\n",
              "              e.preventDefault();\n",
              "            });\n",
              "          })();\n",
              "        </script>\n",
              "    "
            ],
            "text/plain": [
              "<IPython.core.display.HTML object>"
            ]
          },
          "metadata": {},
          "output_type": "display_data"
        },
        {
          "name": "stdout",
          "output_type": "stream",
          "text": [
            "Associating projects/377376242639/locations/us-central1/metadataStores/default/contexts/evaluate-re-agent-0a72a189-07f1-41e9-aaf9-9319fec09dfa to Experiment: evaluate-re-agent\n"
          ]
        },
        {
          "data": {
            "text/html": [
              "\n",
              "        \n",
              "    <link rel=\"stylesheet\" href=\"https://fonts.googleapis.com/icon?family=Material+Icons\">\n",
              "    <style>\n",
              "      .view-vertex-resource,\n",
              "      .view-vertex-resource:hover,\n",
              "      .view-vertex-resource:visited {\n",
              "        position: relative;\n",
              "        display: inline-flex;\n",
              "        flex-direction: row;\n",
              "        height: 32px;\n",
              "        padding: 0 12px;\n",
              "          margin: 4px 18px;\n",
              "        gap: 4px;\n",
              "        border-radius: 4px;\n",
              "\n",
              "        align-items: center;\n",
              "        justify-content: center;\n",
              "        background-color: rgb(255, 255, 255);\n",
              "        color: rgb(51, 103, 214);\n",
              "\n",
              "        font-family: Roboto,\"Helvetica Neue\",sans-serif;\n",
              "        font-size: 13px;\n",
              "        font-weight: 500;\n",
              "        text-transform: uppercase;\n",
              "        text-decoration: none !important;\n",
              "\n",
              "        transition: box-shadow 280ms cubic-bezier(0.4, 0, 0.2, 1) 0s;\n",
              "        box-shadow: 0px 3px 1px -2px rgba(0,0,0,0.2), 0px 2px 2px 0px rgba(0,0,0,0.14), 0px 1px 5px 0px rgba(0,0,0,0.12);\n",
              "      }\n",
              "      .view-vertex-resource:active {\n",
              "        box-shadow: 0px 5px 5px -3px rgba(0,0,0,0.2),0px 8px 10px 1px rgba(0,0,0,0.14),0px 3px 14px 2px rgba(0,0,0,0.12);\n",
              "      }\n",
              "      .view-vertex-resource:active .view-vertex-ripple::before {\n",
              "        position: absolute;\n",
              "        top: 0;\n",
              "        bottom: 0;\n",
              "        left: 0;\n",
              "        right: 0;\n",
              "        border-radius: 4px;\n",
              "        pointer-events: none;\n",
              "\n",
              "        content: '';\n",
              "        background-color: rgb(51, 103, 214);\n",
              "        opacity: 0.12;\n",
              "      }\n",
              "      .view-vertex-icon {\n",
              "        font-size: 18px;\n",
              "      }\n",
              "    </style>\n",
              "  \n",
              "        <a class=\"view-vertex-resource\" id=\"view-vertex-resource-7a84bb76-fc71-4a3a-baf3-6cd6d4c57766\" href=\"#view-view-vertex-resource-7a84bb76-fc71-4a3a-baf3-6cd6d4c57766\">\n",
              "          <span class=\"material-icons view-vertex-icon\">science</span>\n",
              "          <span>View Experiment Run</span>\n",
              "        </a>\n",
              "        \n",
              "        <script>\n",
              "          (function () {\n",
              "            const link = document.getElementById('view-vertex-resource-7a84bb76-fc71-4a3a-baf3-6cd6d4c57766');\n",
              "            link.addEventListener('click', (e) => {\n",
              "              if (window.google?.colab?.openUrl) {\n",
              "                window.google.colab.openUrl('https://console.cloud.google.com/vertex-ai/experiments/locations/us-central1/experiments/evaluate-re-agent/runs/evaluate-re-agent-0a72a189-07f1-41e9-aaf9-9319fec09dfa?project=weverse-dev-mint');\n",
              "              } else {\n",
              "                window.open('https://console.cloud.google.com/vertex-ai/experiments/locations/us-central1/experiments/evaluate-re-agent/runs/evaluate-re-agent-0a72a189-07f1-41e9-aaf9-9319fec09dfa?project=weverse-dev-mint', '_blank');\n",
              "              }\n",
              "              e.stopPropagation();\n",
              "              e.preventDefault();\n",
              "            });\n",
              "          })();\n",
              "        </script>\n",
              "    "
            ],
            "text/plain": [
              "<IPython.core.display.HTML object>"
            ]
          },
          "metadata": {},
          "output_type": "display_data"
        },
        {
          "name": "stderr",
          "output_type": "stream",
          "text": [
            "100%|██████████| 5/5 [00:03<00:00,  1.48it/s]"
          ]
        },
        {
          "name": "stdout",
          "output_type": "stream",
          "text": [
            "All 5 responses are successfully generated from the runnable.\n",
            "Computing metrics with a total of 25 Vertex Gen AI Evaluation Service API requests.\n"
          ]
        },
        {
          "name": "stderr",
          "output_type": "stream",
          "text": [
            "\n",
            "100%|██████████| 25/25 [00:24<00:00,  1.03it/s]"
          ]
        },
        {
          "name": "stdout",
          "output_type": "stream",
          "text": [
            "All 25 metric requests are successfully computed.\n",
            "Evaluation Took:24.341351083945483 seconds\n"
          ]
        },
        {
          "name": "stderr",
          "output_type": "stream",
          "text": [
            "\n"
          ]
        },
        {
          "data": {
            "text/html": [
              "\n",
              "        \n",
              "    <link rel=\"stylesheet\" href=\"https://fonts.googleapis.com/icon?family=Material+Icons\">\n",
              "    <style>\n",
              "      .view-vertex-resource,\n",
              "      .view-vertex-resource:hover,\n",
              "      .view-vertex-resource:visited {\n",
              "        position: relative;\n",
              "        display: inline-flex;\n",
              "        flex-direction: row;\n",
              "        height: 32px;\n",
              "        padding: 0 12px;\n",
              "          margin: 4px 18px;\n",
              "        gap: 4px;\n",
              "        border-radius: 4px;\n",
              "\n",
              "        align-items: center;\n",
              "        justify-content: center;\n",
              "        background-color: rgb(255, 255, 255);\n",
              "        color: rgb(51, 103, 214);\n",
              "\n",
              "        font-family: Roboto,\"Helvetica Neue\",sans-serif;\n",
              "        font-size: 13px;\n",
              "        font-weight: 500;\n",
              "        text-transform: uppercase;\n",
              "        text-decoration: none !important;\n",
              "\n",
              "        transition: box-shadow 280ms cubic-bezier(0.4, 0, 0.2, 1) 0s;\n",
              "        box-shadow: 0px 3px 1px -2px rgba(0,0,0,0.2), 0px 2px 2px 0px rgba(0,0,0,0.14), 0px 1px 5px 0px rgba(0,0,0,0.12);\n",
              "      }\n",
              "      .view-vertex-resource:active {\n",
              "        box-shadow: 0px 5px 5px -3px rgba(0,0,0,0.2),0px 8px 10px 1px rgba(0,0,0,0.14),0px 3px 14px 2px rgba(0,0,0,0.12);\n",
              "      }\n",
              "      .view-vertex-resource:active .view-vertex-ripple::before {\n",
              "        position: absolute;\n",
              "        top: 0;\n",
              "        bottom: 0;\n",
              "        left: 0;\n",
              "        right: 0;\n",
              "        border-radius: 4px;\n",
              "        pointer-events: none;\n",
              "\n",
              "        content: '';\n",
              "        background-color: rgb(51, 103, 214);\n",
              "        opacity: 0.12;\n",
              "      }\n",
              "      .view-vertex-icon {\n",
              "        font-size: 18px;\n",
              "      }\n",
              "    </style>\n",
              "  \n",
              "        <a class=\"view-vertex-resource\" id=\"view-vertex-resource-70638659-9276-44a6-89a9-c07d43bc296b\" href=\"#view-view-vertex-resource-70638659-9276-44a6-89a9-c07d43bc296b\">\n",
              "          <span class=\"material-icons view-vertex-icon\">science</span>\n",
              "          <span>View Experiment</span>\n",
              "        </a>\n",
              "        \n",
              "        <script>\n",
              "          (function () {\n",
              "            const link = document.getElementById('view-vertex-resource-70638659-9276-44a6-89a9-c07d43bc296b');\n",
              "            link.addEventListener('click', (e) => {\n",
              "              if (window.google?.colab?.openUrl) {\n",
              "                window.google.colab.openUrl('https://console.cloud.google.com/vertex-ai/experiments/locations/us-central1/experiments/evaluate-re-agent/runs?project=weverse-dev-mint');\n",
              "              } else {\n",
              "                window.open('https://console.cloud.google.com/vertex-ai/experiments/locations/us-central1/experiments/evaluate-re-agent/runs?project=weverse-dev-mint', '_blank');\n",
              "              }\n",
              "              e.stopPropagation();\n",
              "              e.preventDefault();\n",
              "            });\n",
              "          })();\n",
              "        </script>\n",
              "    "
            ],
            "text/plain": [
              "<IPython.core.display.HTML object>"
            ]
          },
          "metadata": {},
          "output_type": "display_data"
        },
        {
          "data": {
            "text/markdown": [
              "### Summary Metrics"
            ],
            "text/plain": [
              "<IPython.core.display.Markdown object>"
            ]
          },
          "metadata": {},
          "output_type": "display_data"
        },
        {
          "data": {
            "text/html": [
              "<div>\n",
              "<style scoped>\n",
              "    .dataframe tbody tr th:only-of-type {\n",
              "        vertical-align: middle;\n",
              "    }\n",
              "\n",
              "    .dataframe tbody tr th {\n",
              "        vertical-align: top;\n",
              "    }\n",
              "\n",
              "    .dataframe thead th {\n",
              "        text-align: right;\n",
              "    }\n",
              "</style>\n",
              "<table border=\"1\" class=\"dataframe\">\n",
              "  <thead>\n",
              "    <tr style=\"text-align: right;\">\n",
              "      <th></th>\n",
              "      <th>row_count</th>\n",
              "      <th>trajectory_exact_match/mean</th>\n",
              "      <th>trajectory_exact_match/std</th>\n",
              "      <th>trajectory_in_order_match/mean</th>\n",
              "      <th>trajectory_in_order_match/std</th>\n",
              "      <th>trajectory_any_order_match/mean</th>\n",
              "      <th>trajectory_any_order_match/std</th>\n",
              "      <th>trajectory_precision/mean</th>\n",
              "      <th>trajectory_precision/std</th>\n",
              "      <th>trajectory_recall/mean</th>\n",
              "      <th>trajectory_recall/std</th>\n",
              "      <th>latency_in_seconds/mean</th>\n",
              "      <th>latency_in_seconds/std</th>\n",
              "      <th>failure/mean</th>\n",
              "      <th>failure/std</th>\n",
              "    </tr>\n",
              "  </thead>\n",
              "  <tbody>\n",
              "    <tr>\n",
              "      <th>0</th>\n",
              "      <td>5.0</td>\n",
              "      <td>1.0</td>\n",
              "      <td>0.0</td>\n",
              "      <td>1.0</td>\n",
              "      <td>0.0</td>\n",
              "      <td>1.0</td>\n",
              "      <td>0.0</td>\n",
              "      <td>1.0</td>\n",
              "      <td>0.0</td>\n",
              "      <td>1.0</td>\n",
              "      <td>0.0</td>\n",
              "      <td>2.927058</td>\n",
              "      <td>0.386137</td>\n",
              "      <td>0.0</td>\n",
              "      <td>0.0</td>\n",
              "    </tr>\n",
              "  </tbody>\n",
              "</table>\n",
              "</div>"
            ],
            "text/plain": [
              "   row_count  trajectory_exact_match/mean  trajectory_exact_match/std  \\\n",
              "0        5.0                          1.0                         0.0   \n",
              "\n",
              "   trajectory_in_order_match/mean  trajectory_in_order_match/std  \\\n",
              "0                             1.0                            0.0   \n",
              "\n",
              "   trajectory_any_order_match/mean  trajectory_any_order_match/std  \\\n",
              "0                              1.0                             0.0   \n",
              "\n",
              "   trajectory_precision/mean  trajectory_precision/std  \\\n",
              "0                        1.0                       0.0   \n",
              "\n",
              "   trajectory_recall/mean  trajectory_recall/std  latency_in_seconds/mean  \\\n",
              "0                     1.0                    0.0                 2.927058   \n",
              "\n",
              "   latency_in_seconds/std  failure/mean  failure/std  \n",
              "0                0.386137           0.0          0.0  "
            ]
          },
          "metadata": {},
          "output_type": "display_data"
        },
        {
          "data": {
            "text/markdown": [
              "### Row-wise Metrics"
            ],
            "text/plain": [
              "<IPython.core.display.Markdown object>"
            ]
          },
          "metadata": {},
          "output_type": "display_data"
        },
        {
          "data": {
            "text/html": [
              "<div>\n",
              "<style scoped>\n",
              "    .dataframe tbody tr th:only-of-type {\n",
              "        vertical-align: middle;\n",
              "    }\n",
              "\n",
              "    .dataframe tbody tr th {\n",
              "        vertical-align: top;\n",
              "    }\n",
              "\n",
              "    .dataframe thead th {\n",
              "        text-align: right;\n",
              "    }\n",
              "</style>\n",
              "<table border=\"1\" class=\"dataframe\">\n",
              "  <thead>\n",
              "    <tr style=\"text-align: right;\">\n",
              "      <th></th>\n",
              "      <th>prompt</th>\n",
              "      <th>reference_trajectory</th>\n",
              "      <th>response</th>\n",
              "      <th>latency_in_seconds</th>\n",
              "      <th>failure</th>\n",
              "      <th>predicted_trajectory</th>\n",
              "      <th>trajectory_exact_match/score</th>\n",
              "      <th>trajectory_in_order_match/score</th>\n",
              "      <th>trajectory_any_order_match/score</th>\n",
              "      <th>trajectory_precision/score</th>\n",
              "      <th>trajectory_recall/score</th>\n",
              "    </tr>\n",
              "  </thead>\n",
              "  <tbody>\n",
              "    <tr>\n",
              "      <th>0</th>\n",
              "      <td>Get price for smartphone</td>\n",
              "      <td>[{'tool_name': 'get_product_price', 'tool_inpu...</td>\n",
              "      <td>The price for smartphone is 500.</td>\n",
              "      <td>2.593548</td>\n",
              "      <td>0</td>\n",
              "      <td>[{'tool_name': 'get_product_price', 'tool_inpu...</td>\n",
              "      <td>1.0</td>\n",
              "      <td>1.0</td>\n",
              "      <td>1.0</td>\n",
              "      <td>1.0</td>\n",
              "      <td>1.0</td>\n",
              "    </tr>\n",
              "    <tr>\n",
              "      <th>1</th>\n",
              "      <td>Get product details and price for headphones</td>\n",
              "      <td>[{'tool_name': 'get_product_details', 'tool_in...</td>\n",
              "      <td>The headphones are wireless with advanced nois...</td>\n",
              "      <td>3.377865</td>\n",
              "      <td>0</td>\n",
              "      <td>[{'tool_name': 'get_product_details', 'tool_in...</td>\n",
              "      <td>1.0</td>\n",
              "      <td>1.0</td>\n",
              "      <td>1.0</td>\n",
              "      <td>1.0</td>\n",
              "      <td>1.0</td>\n",
              "    </tr>\n",
              "    <tr>\n",
              "      <th>2</th>\n",
              "      <td>Get details for usb charger</td>\n",
              "      <td>[{'tool_name': 'get_product_details', 'tool_in...</td>\n",
              "      <td>A super fast and light usb charger. \\n</td>\n",
              "      <td>2.56575</td>\n",
              "      <td>0</td>\n",
              "      <td>[{'tool_name': 'get_product_details', 'tool_in...</td>\n",
              "      <td>1.0</td>\n",
              "      <td>1.0</td>\n",
              "      <td>1.0</td>\n",
              "      <td>1.0</td>\n",
              "      <td>1.0</td>\n",
              "    </tr>\n",
              "    <tr>\n",
              "      <th>3</th>\n",
              "      <td>Get product details and price for shoes</td>\n",
              "      <td>[{'tool_name': 'get_product_details', 'tool_in...</td>\n",
              "      <td>The product details for shoes are: High-perfor...</td>\n",
              "      <td>3.295677</td>\n",
              "      <td>0</td>\n",
              "      <td>[{'tool_name': 'get_product_details', 'tool_in...</td>\n",
              "      <td>1.0</td>\n",
              "      <td>1.0</td>\n",
              "      <td>1.0</td>\n",
              "      <td>1.0</td>\n",
              "      <td>1.0</td>\n",
              "    </tr>\n",
              "    <tr>\n",
              "      <th>4</th>\n",
              "      <td>Get product details for speaker?</td>\n",
              "      <td>[{'tool_name': 'get_product_details', 'tool_in...</td>\n",
              "      <td>A voice-controlled smart speaker that plays mu...</td>\n",
              "      <td>2.802448</td>\n",
              "      <td>0</td>\n",
              "      <td>[{'tool_name': 'get_product_details', 'tool_in...</td>\n",
              "      <td>1.0</td>\n",
              "      <td>1.0</td>\n",
              "      <td>1.0</td>\n",
              "      <td>1.0</td>\n",
              "      <td>1.0</td>\n",
              "    </tr>\n",
              "  </tbody>\n",
              "</table>\n",
              "</div>"
            ],
            "text/plain": [
              "                                         prompt  \\\n",
              "0                      Get price for smartphone   \n",
              "1  Get product details and price for headphones   \n",
              "2                   Get details for usb charger   \n",
              "3       Get product details and price for shoes   \n",
              "4              Get product details for speaker?   \n",
              "\n",
              "                                reference_trajectory  \\\n",
              "0  [{'tool_name': 'get_product_price', 'tool_inpu...   \n",
              "1  [{'tool_name': 'get_product_details', 'tool_in...   \n",
              "2  [{'tool_name': 'get_product_details', 'tool_in...   \n",
              "3  [{'tool_name': 'get_product_details', 'tool_in...   \n",
              "4  [{'tool_name': 'get_product_details', 'tool_in...   \n",
              "\n",
              "                                            response latency_in_seconds  \\\n",
              "0                   The price for smartphone is 500.           2.593548   \n",
              "1  The headphones are wireless with advanced nois...           3.377865   \n",
              "2             A super fast and light usb charger. \\n            2.56575   \n",
              "3  The product details for shoes are: High-perfor...           3.295677   \n",
              "4  A voice-controlled smart speaker that plays mu...           2.802448   \n",
              "\n",
              "  failure                               predicted_trajectory  \\\n",
              "0       0  [{'tool_name': 'get_product_price', 'tool_inpu...   \n",
              "1       0  [{'tool_name': 'get_product_details', 'tool_in...   \n",
              "2       0  [{'tool_name': 'get_product_details', 'tool_in...   \n",
              "3       0  [{'tool_name': 'get_product_details', 'tool_in...   \n",
              "4       0  [{'tool_name': 'get_product_details', 'tool_in...   \n",
              "\n",
              "   trajectory_exact_match/score  trajectory_in_order_match/score  \\\n",
              "0                           1.0                              1.0   \n",
              "1                           1.0                              1.0   \n",
              "2                           1.0                              1.0   \n",
              "3                           1.0                              1.0   \n",
              "4                           1.0                              1.0   \n",
              "\n",
              "   trajectory_any_order_match/score  trajectory_precision/score  \\\n",
              "0                               1.0                         1.0   \n",
              "1                               1.0                         1.0   \n",
              "2                               1.0                         1.0   \n",
              "3                               1.0                         1.0   \n",
              "4                               1.0                         1.0   \n",
              "\n",
              "   trajectory_recall/score  \n",
              "0                      1.0  \n",
              "1                      1.0  \n",
              "2                      1.0  \n",
              "3                      1.0  \n",
              "4                      1.0  "
            ]
          },
          "metadata": {},
          "output_type": "display_data"
        }
      ],
      "source": [
        "EXPERIMENT_RUN = f\"trajectory-{get_id()}\"\n",
        "\n",
        "trajectory_eval_task = EvalTask(\n",
        "    dataset=eval_sample_dataset, metrics=trajectory_metrics, experiment=EXPERIMENT_NAME\n",
        ")\n",
        "\n",
        "trajectory_eval_result = trajectory_eval_task.evaluate(runnable=remote_1p_agent)\n",
        "\n",
        "display_eval_report(trajectory_eval_result)"
      ]
    },
    {
      "cell_type": "markdown",
      "metadata": {
        "id": "DBiUI3LyLBtj"
      },
      "source": [
        "#### 평가 결과 시각화\n",
        "\n",
        "평가 결과 샘플을 출력하고 시각화합니다."
      ]
    },
    {
      "cell_type": "code",
      "execution_count": 29,
      "metadata": {
        "id": "sLVRdN5llA0h"
      },
      "outputs": [
        {
          "data": {
            "text/html": [
              "<span style='font-family: monospace; font-size: 14px; white-space: pre-wrap; width: auto; overflow-x: auto;font-weight: bold;'>Prompt: </span>"
            ],
            "text/plain": [
              "<IPython.core.display.HTML object>"
            ]
          },
          "metadata": {},
          "output_type": "display_data"
        },
        {
          "data": {
            "text/html": [
              "<span style='font-family: monospace; font-size: 14px; white-space: pre-wrap; width: auto; overflow-x: auto;'>Get price for smartphone</span><br>"
            ],
            "text/plain": [
              "<IPython.core.display.HTML object>"
            ]
          },
          "metadata": {},
          "output_type": "display_data"
        },
        {
          "data": {
            "text/html": [
              "<span style='font-family: monospace; font-size: 14px; white-space: pre-wrap; width: auto; overflow-x: auto;font-weight: bold;'>Reference Trajectory: </span>"
            ],
            "text/plain": [
              "<IPython.core.display.HTML object>"
            ]
          },
          "metadata": {},
          "output_type": "display_data"
        },
        {
          "data": {
            "text/html": [
              "<span style='font-family: monospace; font-size: 14px; white-space: pre-wrap; width: auto; overflow-x: auto;'>[{'tool_name': 'get_product_price', 'tool_input': {'product_name': 'smartphone'}}]</span><br>"
            ],
            "text/plain": [
              "<IPython.core.display.HTML object>"
            ]
          },
          "metadata": {},
          "output_type": "display_data"
        },
        {
          "data": {
            "text/html": [
              "<span style='font-family: monospace; font-size: 14px; white-space: pre-wrap; width: auto; overflow-x: auto;font-weight: bold;'>Response: </span>"
            ],
            "text/plain": [
              "<IPython.core.display.HTML object>"
            ]
          },
          "metadata": {},
          "output_type": "display_data"
        },
        {
          "data": {
            "text/html": [
              "<span style='font-family: monospace; font-size: 14px; white-space: pre-wrap; width: auto; overflow-x: auto;'>The price for smartphone is 500.</span><br>"
            ],
            "text/plain": [
              "<IPython.core.display.HTML object>"
            ]
          },
          "metadata": {},
          "output_type": "display_data"
        },
        {
          "data": {
            "text/html": [
              "<span style='font-family: monospace; font-size: 14px; white-space: pre-wrap; width: auto; overflow-x: auto;font-weight: bold;'>Latency In Seconds: </span>"
            ],
            "text/plain": [
              "<IPython.core.display.HTML object>"
            ]
          },
          "metadata": {},
          "output_type": "display_data"
        },
        {
          "data": {
            "text/html": [
              "<span style='font-family: monospace; font-size: 14px; white-space: pre-wrap; width: auto; overflow-x: auto;'>2.5935484170913696</span><br>"
            ],
            "text/plain": [
              "<IPython.core.display.HTML object>"
            ]
          },
          "metadata": {},
          "output_type": "display_data"
        },
        {
          "data": {
            "text/html": [
              "<span style='font-family: monospace; font-size: 14px; white-space: pre-wrap; width: auto; overflow-x: auto;font-weight: bold;'>Failure: </span>"
            ],
            "text/plain": [
              "<IPython.core.display.HTML object>"
            ]
          },
          "metadata": {},
          "output_type": "display_data"
        },
        {
          "data": {
            "text/html": [
              "<span style='font-family: monospace; font-size: 14px; white-space: pre-wrap; width: auto; overflow-x: auto;'>0</span><br>"
            ],
            "text/plain": [
              "<IPython.core.display.HTML object>"
            ]
          },
          "metadata": {},
          "output_type": "display_data"
        },
        {
          "data": {
            "text/html": [
              "<span style='font-family: monospace; font-size: 14px; white-space: pre-wrap; width: auto; overflow-x: auto;font-weight: bold;'>Predicted Trajectory: </span>"
            ],
            "text/plain": [
              "<IPython.core.display.HTML object>"
            ]
          },
          "metadata": {},
          "output_type": "display_data"
        },
        {
          "data": {
            "text/html": [
              "<span style='font-family: monospace; font-size: 14px; white-space: pre-wrap; width: auto; overflow-x: auto;'>[{'tool_name': 'get_product_price', 'tool_input': {'product_name': 'smartphone'}}]</span><br>"
            ],
            "text/plain": [
              "<IPython.core.display.HTML object>"
            ]
          },
          "metadata": {},
          "output_type": "display_data"
        },
        {
          "data": {
            "text/html": [
              "<span style='font-family: monospace; font-size: 14px; white-space: pre-wrap; width: auto; overflow-x: auto;font-weight: bold;'>Trajectory Exact Match/Score: </span>"
            ],
            "text/plain": [
              "<IPython.core.display.HTML object>"
            ]
          },
          "metadata": {},
          "output_type": "display_data"
        },
        {
          "data": {
            "text/html": [
              "<span style='font-family: monospace; font-size: 14px; white-space: pre-wrap; width: auto; overflow-x: auto;'>1.0</span><br>"
            ],
            "text/plain": [
              "<IPython.core.display.HTML object>"
            ]
          },
          "metadata": {},
          "output_type": "display_data"
        },
        {
          "data": {
            "text/html": [
              "<span style='font-family: monospace; font-size: 14px; white-space: pre-wrap; width: auto; overflow-x: auto;font-weight: bold;'>Trajectory In Order Match/Score: </span>"
            ],
            "text/plain": [
              "<IPython.core.display.HTML object>"
            ]
          },
          "metadata": {},
          "output_type": "display_data"
        },
        {
          "data": {
            "text/html": [
              "<span style='font-family: monospace; font-size: 14px; white-space: pre-wrap; width: auto; overflow-x: auto;'>1.0</span><br>"
            ],
            "text/plain": [
              "<IPython.core.display.HTML object>"
            ]
          },
          "metadata": {},
          "output_type": "display_data"
        },
        {
          "data": {
            "text/html": [
              "<span style='font-family: monospace; font-size: 14px; white-space: pre-wrap; width: auto; overflow-x: auto;font-weight: bold;'>Trajectory Any Order Match/Score: </span>"
            ],
            "text/plain": [
              "<IPython.core.display.HTML object>"
            ]
          },
          "metadata": {},
          "output_type": "display_data"
        },
        {
          "data": {
            "text/html": [
              "<span style='font-family: monospace; font-size: 14px; white-space: pre-wrap; width: auto; overflow-x: auto;'>1.0</span><br>"
            ],
            "text/plain": [
              "<IPython.core.display.HTML object>"
            ]
          },
          "metadata": {},
          "output_type": "display_data"
        },
        {
          "data": {
            "text/html": [
              "<span style='font-family: monospace; font-size: 14px; white-space: pre-wrap; width: auto; overflow-x: auto;font-weight: bold;'>Trajectory Precision/Score: </span>"
            ],
            "text/plain": [
              "<IPython.core.display.HTML object>"
            ]
          },
          "metadata": {},
          "output_type": "display_data"
        },
        {
          "data": {
            "text/html": [
              "<span style='font-family: monospace; font-size: 14px; white-space: pre-wrap; width: auto; overflow-x: auto;'>1.0</span><br>"
            ],
            "text/plain": [
              "<IPython.core.display.HTML object>"
            ]
          },
          "metadata": {},
          "output_type": "display_data"
        },
        {
          "data": {
            "text/html": [
              "<span style='font-family: monospace; font-size: 14px; white-space: pre-wrap; width: auto; overflow-x: auto;font-weight: bold;'>Trajectory Recall/Score: </span>"
            ],
            "text/plain": [
              "<IPython.core.display.HTML object>"
            ]
          },
          "metadata": {},
          "output_type": "display_data"
        },
        {
          "data": {
            "text/html": [
              "<span style='font-family: monospace; font-size: 14px; white-space: pre-wrap; width: auto; overflow-x: auto;'>1.0</span><br>"
            ],
            "text/plain": [
              "<IPython.core.display.HTML object>"
            ]
          },
          "metadata": {},
          "output_type": "display_data"
        },
        {
          "data": {
            "text/html": [
              "<hr>"
            ],
            "text/plain": [
              "<IPython.core.display.HTML object>"
            ]
          },
          "metadata": {},
          "output_type": "display_data"
        },
        {
          "data": {
            "text/html": [
              "<span style='font-family: monospace; font-size: 14px; white-space: pre-wrap; width: auto; overflow-x: auto;font-weight: bold;'>Prompt: </span>"
            ],
            "text/plain": [
              "<IPython.core.display.HTML object>"
            ]
          },
          "metadata": {},
          "output_type": "display_data"
        },
        {
          "data": {
            "text/html": [
              "<span style='font-family: monospace; font-size: 14px; white-space: pre-wrap; width: auto; overflow-x: auto;'>Get product details and price for headphones</span><br>"
            ],
            "text/plain": [
              "<IPython.core.display.HTML object>"
            ]
          },
          "metadata": {},
          "output_type": "display_data"
        },
        {
          "data": {
            "text/html": [
              "<span style='font-family: monospace; font-size: 14px; white-space: pre-wrap; width: auto; overflow-x: auto;font-weight: bold;'>Reference Trajectory: </span>"
            ],
            "text/plain": [
              "<IPython.core.display.HTML object>"
            ]
          },
          "metadata": {},
          "output_type": "display_data"
        },
        {
          "data": {
            "text/html": [
              "<span style='font-family: monospace; font-size: 14px; white-space: pre-wrap; width: auto; overflow-x: auto;'>[{'tool_name': 'get_product_details', 'tool_input': {'product_name': 'headphones'}}, {'tool_name': 'get_product_price', 'tool_input': {'product_name': 'headphones'}}]</span><br>"
            ],
            "text/plain": [
              "<IPython.core.display.HTML object>"
            ]
          },
          "metadata": {},
          "output_type": "display_data"
        },
        {
          "data": {
            "text/html": [
              "<span style='font-family: monospace; font-size: 14px; white-space: pre-wrap; width: auto; overflow-x: auto;font-weight: bold;'>Response: </span>"
            ],
            "text/plain": [
              "<IPython.core.display.HTML object>"
            ]
          },
          "metadata": {},
          "output_type": "display_data"
        },
        {
          "data": {
            "text/html": [
              "<span style='font-family: monospace; font-size: 14px; white-space: pre-wrap; width: auto; overflow-x: auto;'>The headphones are wireless with advanced noise cancellation technology for immersive audio and are priced at $50. \n",
              "</span><br>"
            ],
            "text/plain": [
              "<IPython.core.display.HTML object>"
            ]
          },
          "metadata": {},
          "output_type": "display_data"
        },
        {
          "data": {
            "text/html": [
              "<span style='font-family: monospace; font-size: 14px; white-space: pre-wrap; width: auto; overflow-x: auto;font-weight: bold;'>Latency In Seconds: </span>"
            ],
            "text/plain": [
              "<IPython.core.display.HTML object>"
            ]
          },
          "metadata": {},
          "output_type": "display_data"
        },
        {
          "data": {
            "text/html": [
              "<span style='font-family: monospace; font-size: 14px; white-space: pre-wrap; width: auto; overflow-x: auto;'>3.377864916808903</span><br>"
            ],
            "text/plain": [
              "<IPython.core.display.HTML object>"
            ]
          },
          "metadata": {},
          "output_type": "display_data"
        },
        {
          "data": {
            "text/html": [
              "<span style='font-family: monospace; font-size: 14px; white-space: pre-wrap; width: auto; overflow-x: auto;font-weight: bold;'>Failure: </span>"
            ],
            "text/plain": [
              "<IPython.core.display.HTML object>"
            ]
          },
          "metadata": {},
          "output_type": "display_data"
        },
        {
          "data": {
            "text/html": [
              "<span style='font-family: monospace; font-size: 14px; white-space: pre-wrap; width: auto; overflow-x: auto;'>0</span><br>"
            ],
            "text/plain": [
              "<IPython.core.display.HTML object>"
            ]
          },
          "metadata": {},
          "output_type": "display_data"
        },
        {
          "data": {
            "text/html": [
              "<span style='font-family: monospace; font-size: 14px; white-space: pre-wrap; width: auto; overflow-x: auto;font-weight: bold;'>Predicted Trajectory: </span>"
            ],
            "text/plain": [
              "<IPython.core.display.HTML object>"
            ]
          },
          "metadata": {},
          "output_type": "display_data"
        },
        {
          "data": {
            "text/html": [
              "<span style='font-family: monospace; font-size: 14px; white-space: pre-wrap; width: auto; overflow-x: auto;'>[{'tool_name': 'get_product_details', 'tool_input': {'product_name': 'headphones'}}, {'tool_name': 'get_product_price', 'tool_input': {'product_name': 'headphones'}}]</span><br>"
            ],
            "text/plain": [
              "<IPython.core.display.HTML object>"
            ]
          },
          "metadata": {},
          "output_type": "display_data"
        },
        {
          "data": {
            "text/html": [
              "<span style='font-family: monospace; font-size: 14px; white-space: pre-wrap; width: auto; overflow-x: auto;font-weight: bold;'>Trajectory Exact Match/Score: </span>"
            ],
            "text/plain": [
              "<IPython.core.display.HTML object>"
            ]
          },
          "metadata": {},
          "output_type": "display_data"
        },
        {
          "data": {
            "text/html": [
              "<span style='font-family: monospace; font-size: 14px; white-space: pre-wrap; width: auto; overflow-x: auto;'>1.0</span><br>"
            ],
            "text/plain": [
              "<IPython.core.display.HTML object>"
            ]
          },
          "metadata": {},
          "output_type": "display_data"
        },
        {
          "data": {
            "text/html": [
              "<span style='font-family: monospace; font-size: 14px; white-space: pre-wrap; width: auto; overflow-x: auto;font-weight: bold;'>Trajectory In Order Match/Score: </span>"
            ],
            "text/plain": [
              "<IPython.core.display.HTML object>"
            ]
          },
          "metadata": {},
          "output_type": "display_data"
        },
        {
          "data": {
            "text/html": [
              "<span style='font-family: monospace; font-size: 14px; white-space: pre-wrap; width: auto; overflow-x: auto;'>1.0</span><br>"
            ],
            "text/plain": [
              "<IPython.core.display.HTML object>"
            ]
          },
          "metadata": {},
          "output_type": "display_data"
        },
        {
          "data": {
            "text/html": [
              "<span style='font-family: monospace; font-size: 14px; white-space: pre-wrap; width: auto; overflow-x: auto;font-weight: bold;'>Trajectory Any Order Match/Score: </span>"
            ],
            "text/plain": [
              "<IPython.core.display.HTML object>"
            ]
          },
          "metadata": {},
          "output_type": "display_data"
        },
        {
          "data": {
            "text/html": [
              "<span style='font-family: monospace; font-size: 14px; white-space: pre-wrap; width: auto; overflow-x: auto;'>1.0</span><br>"
            ],
            "text/plain": [
              "<IPython.core.display.HTML object>"
            ]
          },
          "metadata": {},
          "output_type": "display_data"
        },
        {
          "data": {
            "text/html": [
              "<span style='font-family: monospace; font-size: 14px; white-space: pre-wrap; width: auto; overflow-x: auto;font-weight: bold;'>Trajectory Precision/Score: </span>"
            ],
            "text/plain": [
              "<IPython.core.display.HTML object>"
            ]
          },
          "metadata": {},
          "output_type": "display_data"
        },
        {
          "data": {
            "text/html": [
              "<span style='font-family: monospace; font-size: 14px; white-space: pre-wrap; width: auto; overflow-x: auto;'>1.0</span><br>"
            ],
            "text/plain": [
              "<IPython.core.display.HTML object>"
            ]
          },
          "metadata": {},
          "output_type": "display_data"
        },
        {
          "data": {
            "text/html": [
              "<span style='font-family: monospace; font-size: 14px; white-space: pre-wrap; width: auto; overflow-x: auto;font-weight: bold;'>Trajectory Recall/Score: </span>"
            ],
            "text/plain": [
              "<IPython.core.display.HTML object>"
            ]
          },
          "metadata": {},
          "output_type": "display_data"
        },
        {
          "data": {
            "text/html": [
              "<span style='font-family: monospace; font-size: 14px; white-space: pre-wrap; width: auto; overflow-x: auto;'>1.0</span><br>"
            ],
            "text/plain": [
              "<IPython.core.display.HTML object>"
            ]
          },
          "metadata": {},
          "output_type": "display_data"
        },
        {
          "data": {
            "text/html": [
              "<hr>"
            ],
            "text/plain": [
              "<IPython.core.display.HTML object>"
            ]
          },
          "metadata": {},
          "output_type": "display_data"
        },
        {
          "data": {
            "text/html": [
              "<span style='font-family: monospace; font-size: 14px; white-space: pre-wrap; width: auto; overflow-x: auto;font-weight: bold;'>Prompt: </span>"
            ],
            "text/plain": [
              "<IPython.core.display.HTML object>"
            ]
          },
          "metadata": {},
          "output_type": "display_data"
        },
        {
          "data": {
            "text/html": [
              "<span style='font-family: monospace; font-size: 14px; white-space: pre-wrap; width: auto; overflow-x: auto;'>Get details for usb charger</span><br>"
            ],
            "text/plain": [
              "<IPython.core.display.HTML object>"
            ]
          },
          "metadata": {},
          "output_type": "display_data"
        },
        {
          "data": {
            "text/html": [
              "<span style='font-family: monospace; font-size: 14px; white-space: pre-wrap; width: auto; overflow-x: auto;font-weight: bold;'>Reference Trajectory: </span>"
            ],
            "text/plain": [
              "<IPython.core.display.HTML object>"
            ]
          },
          "metadata": {},
          "output_type": "display_data"
        },
        {
          "data": {
            "text/html": [
              "<span style='font-family: monospace; font-size: 14px; white-space: pre-wrap; width: auto; overflow-x: auto;'>[{'tool_name': 'get_product_details', 'tool_input': {'product_name': 'usb charger'}}]</span><br>"
            ],
            "text/plain": [
              "<IPython.core.display.HTML object>"
            ]
          },
          "metadata": {},
          "output_type": "display_data"
        },
        {
          "data": {
            "text/html": [
              "<span style='font-family: monospace; font-size: 14px; white-space: pre-wrap; width: auto; overflow-x: auto;font-weight: bold;'>Response: </span>"
            ],
            "text/plain": [
              "<IPython.core.display.HTML object>"
            ]
          },
          "metadata": {},
          "output_type": "display_data"
        },
        {
          "data": {
            "text/html": [
              "<span style='font-family: monospace; font-size: 14px; white-space: pre-wrap; width: auto; overflow-x: auto;'>A super fast and light usb charger. \n",
              "</span><br>"
            ],
            "text/plain": [
              "<IPython.core.display.HTML object>"
            ]
          },
          "metadata": {},
          "output_type": "display_data"
        },
        {
          "data": {
            "text/html": [
              "<span style='font-family: monospace; font-size: 14px; white-space: pre-wrap; width: auto; overflow-x: auto;font-weight: bold;'>Latency In Seconds: </span>"
            ],
            "text/plain": [
              "<IPython.core.display.HTML object>"
            ]
          },
          "metadata": {},
          "output_type": "display_data"
        },
        {
          "data": {
            "text/html": [
              "<span style='font-family: monospace; font-size: 14px; white-space: pre-wrap; width: auto; overflow-x: auto;'>2.5657498338259757</span><br>"
            ],
            "text/plain": [
              "<IPython.core.display.HTML object>"
            ]
          },
          "metadata": {},
          "output_type": "display_data"
        },
        {
          "data": {
            "text/html": [
              "<span style='font-family: monospace; font-size: 14px; white-space: pre-wrap; width: auto; overflow-x: auto;font-weight: bold;'>Failure: </span>"
            ],
            "text/plain": [
              "<IPython.core.display.HTML object>"
            ]
          },
          "metadata": {},
          "output_type": "display_data"
        },
        {
          "data": {
            "text/html": [
              "<span style='font-family: monospace; font-size: 14px; white-space: pre-wrap; width: auto; overflow-x: auto;'>0</span><br>"
            ],
            "text/plain": [
              "<IPython.core.display.HTML object>"
            ]
          },
          "metadata": {},
          "output_type": "display_data"
        },
        {
          "data": {
            "text/html": [
              "<span style='font-family: monospace; font-size: 14px; white-space: pre-wrap; width: auto; overflow-x: auto;font-weight: bold;'>Predicted Trajectory: </span>"
            ],
            "text/plain": [
              "<IPython.core.display.HTML object>"
            ]
          },
          "metadata": {},
          "output_type": "display_data"
        },
        {
          "data": {
            "text/html": [
              "<span style='font-family: monospace; font-size: 14px; white-space: pre-wrap; width: auto; overflow-x: auto;'>[{'tool_name': 'get_product_details', 'tool_input': {'product_name': 'usb charger'}}]</span><br>"
            ],
            "text/plain": [
              "<IPython.core.display.HTML object>"
            ]
          },
          "metadata": {},
          "output_type": "display_data"
        },
        {
          "data": {
            "text/html": [
              "<span style='font-family: monospace; font-size: 14px; white-space: pre-wrap; width: auto; overflow-x: auto;font-weight: bold;'>Trajectory Exact Match/Score: </span>"
            ],
            "text/plain": [
              "<IPython.core.display.HTML object>"
            ]
          },
          "metadata": {},
          "output_type": "display_data"
        },
        {
          "data": {
            "text/html": [
              "<span style='font-family: monospace; font-size: 14px; white-space: pre-wrap; width: auto; overflow-x: auto;'>1.0</span><br>"
            ],
            "text/plain": [
              "<IPython.core.display.HTML object>"
            ]
          },
          "metadata": {},
          "output_type": "display_data"
        },
        {
          "data": {
            "text/html": [
              "<span style='font-family: monospace; font-size: 14px; white-space: pre-wrap; width: auto; overflow-x: auto;font-weight: bold;'>Trajectory In Order Match/Score: </span>"
            ],
            "text/plain": [
              "<IPython.core.display.HTML object>"
            ]
          },
          "metadata": {},
          "output_type": "display_data"
        },
        {
          "data": {
            "text/html": [
              "<span style='font-family: monospace; font-size: 14px; white-space: pre-wrap; width: auto; overflow-x: auto;'>1.0</span><br>"
            ],
            "text/plain": [
              "<IPython.core.display.HTML object>"
            ]
          },
          "metadata": {},
          "output_type": "display_data"
        },
        {
          "data": {
            "text/html": [
              "<span style='font-family: monospace; font-size: 14px; white-space: pre-wrap; width: auto; overflow-x: auto;font-weight: bold;'>Trajectory Any Order Match/Score: </span>"
            ],
            "text/plain": [
              "<IPython.core.display.HTML object>"
            ]
          },
          "metadata": {},
          "output_type": "display_data"
        },
        {
          "data": {
            "text/html": [
              "<span style='font-family: monospace; font-size: 14px; white-space: pre-wrap; width: auto; overflow-x: auto;'>1.0</span><br>"
            ],
            "text/plain": [
              "<IPython.core.display.HTML object>"
            ]
          },
          "metadata": {},
          "output_type": "display_data"
        },
        {
          "data": {
            "text/html": [
              "<span style='font-family: monospace; font-size: 14px; white-space: pre-wrap; width: auto; overflow-x: auto;font-weight: bold;'>Trajectory Precision/Score: </span>"
            ],
            "text/plain": [
              "<IPython.core.display.HTML object>"
            ]
          },
          "metadata": {},
          "output_type": "display_data"
        },
        {
          "data": {
            "text/html": [
              "<span style='font-family: monospace; font-size: 14px; white-space: pre-wrap; width: auto; overflow-x: auto;'>1.0</span><br>"
            ],
            "text/plain": [
              "<IPython.core.display.HTML object>"
            ]
          },
          "metadata": {},
          "output_type": "display_data"
        },
        {
          "data": {
            "text/html": [
              "<span style='font-family: monospace; font-size: 14px; white-space: pre-wrap; width: auto; overflow-x: auto;font-weight: bold;'>Trajectory Recall/Score: </span>"
            ],
            "text/plain": [
              "<IPython.core.display.HTML object>"
            ]
          },
          "metadata": {},
          "output_type": "display_data"
        },
        {
          "data": {
            "text/html": [
              "<span style='font-family: monospace; font-size: 14px; white-space: pre-wrap; width: auto; overflow-x: auto;'>1.0</span><br>"
            ],
            "text/plain": [
              "<IPython.core.display.HTML object>"
            ]
          },
          "metadata": {},
          "output_type": "display_data"
        },
        {
          "data": {
            "text/html": [
              "<hr>"
            ],
            "text/plain": [
              "<IPython.core.display.HTML object>"
            ]
          },
          "metadata": {},
          "output_type": "display_data"
        }
      ],
      "source": [
        "display_dataframe_rows(trajectory_eval_result.metrics_table, num_rows=3)"
      ]
    },
    {
      "cell_type": "code",
      "execution_count": 30,
      "metadata": {
        "id": "PrxM5sMZYXHP"
      },
      "outputs": [
        {
          "data": {
            "application/vnd.plotly.v1+json": {
              "config": {
                "plotlyServerURL": "https://plot.ly"
              },
              "data": [
                {
                  "name": "Trajectory Metrics",
                  "type": "bar",
                  "x": [
                    "trajectory_exact_match/mean",
                    "trajectory_in_order_match/mean",
                    "trajectory_any_order_match/mean",
                    "trajectory_precision/mean",
                    "trajectory_recall/mean"
                  ],
                  "y": [
                    1,
                    1,
                    1,
                    1,
                    1
                  ]
                }
              ],
              "layout": {
                "barmode": "group",
                "template": {
                  "data": {
                    "bar": [
                      {
                        "error_x": {
                          "color": "#2a3f5f"
                        },
                        "error_y": {
                          "color": "#2a3f5f"
                        },
                        "marker": {
                          "line": {
                            "color": "#E5ECF6",
                            "width": 0.5
                          },
                          "pattern": {
                            "fillmode": "overlay",
                            "size": 10,
                            "solidity": 0.2
                          }
                        },
                        "type": "bar"
                      }
                    ],
                    "barpolar": [
                      {
                        "marker": {
                          "line": {
                            "color": "#E5ECF6",
                            "width": 0.5
                          },
                          "pattern": {
                            "fillmode": "overlay",
                            "size": 10,
                            "solidity": 0.2
                          }
                        },
                        "type": "barpolar"
                      }
                    ],
                    "carpet": [
                      {
                        "aaxis": {
                          "endlinecolor": "#2a3f5f",
                          "gridcolor": "white",
                          "linecolor": "white",
                          "minorgridcolor": "white",
                          "startlinecolor": "#2a3f5f"
                        },
                        "baxis": {
                          "endlinecolor": "#2a3f5f",
                          "gridcolor": "white",
                          "linecolor": "white",
                          "minorgridcolor": "white",
                          "startlinecolor": "#2a3f5f"
                        },
                        "type": "carpet"
                      }
                    ],
                    "choropleth": [
                      {
                        "colorbar": {
                          "outlinewidth": 0,
                          "ticks": ""
                        },
                        "type": "choropleth"
                      }
                    ],
                    "contour": [
                      {
                        "colorbar": {
                          "outlinewidth": 0,
                          "ticks": ""
                        },
                        "colorscale": [
                          [
                            0,
                            "#0d0887"
                          ],
                          [
                            0.1111111111111111,
                            "#46039f"
                          ],
                          [
                            0.2222222222222222,
                            "#7201a8"
                          ],
                          [
                            0.3333333333333333,
                            "#9c179e"
                          ],
                          [
                            0.4444444444444444,
                            "#bd3786"
                          ],
                          [
                            0.5555555555555556,
                            "#d8576b"
                          ],
                          [
                            0.6666666666666666,
                            "#ed7953"
                          ],
                          [
                            0.7777777777777778,
                            "#fb9f3a"
                          ],
                          [
                            0.8888888888888888,
                            "#fdca26"
                          ],
                          [
                            1,
                            "#f0f921"
                          ]
                        ],
                        "type": "contour"
                      }
                    ],
                    "contourcarpet": [
                      {
                        "colorbar": {
                          "outlinewidth": 0,
                          "ticks": ""
                        },
                        "type": "contourcarpet"
                      }
                    ],
                    "heatmap": [
                      {
                        "colorbar": {
                          "outlinewidth": 0,
                          "ticks": ""
                        },
                        "colorscale": [
                          [
                            0,
                            "#0d0887"
                          ],
                          [
                            0.1111111111111111,
                            "#46039f"
                          ],
                          [
                            0.2222222222222222,
                            "#7201a8"
                          ],
                          [
                            0.3333333333333333,
                            "#9c179e"
                          ],
                          [
                            0.4444444444444444,
                            "#bd3786"
                          ],
                          [
                            0.5555555555555556,
                            "#d8576b"
                          ],
                          [
                            0.6666666666666666,
                            "#ed7953"
                          ],
                          [
                            0.7777777777777778,
                            "#fb9f3a"
                          ],
                          [
                            0.8888888888888888,
                            "#fdca26"
                          ],
                          [
                            1,
                            "#f0f921"
                          ]
                        ],
                        "type": "heatmap"
                      }
                    ],
                    "heatmapgl": [
                      {
                        "colorbar": {
                          "outlinewidth": 0,
                          "ticks": ""
                        },
                        "colorscale": [
                          [
                            0,
                            "#0d0887"
                          ],
                          [
                            0.1111111111111111,
                            "#46039f"
                          ],
                          [
                            0.2222222222222222,
                            "#7201a8"
                          ],
                          [
                            0.3333333333333333,
                            "#9c179e"
                          ],
                          [
                            0.4444444444444444,
                            "#bd3786"
                          ],
                          [
                            0.5555555555555556,
                            "#d8576b"
                          ],
                          [
                            0.6666666666666666,
                            "#ed7953"
                          ],
                          [
                            0.7777777777777778,
                            "#fb9f3a"
                          ],
                          [
                            0.8888888888888888,
                            "#fdca26"
                          ],
                          [
                            1,
                            "#f0f921"
                          ]
                        ],
                        "type": "heatmapgl"
                      }
                    ],
                    "histogram": [
                      {
                        "marker": {
                          "pattern": {
                            "fillmode": "overlay",
                            "size": 10,
                            "solidity": 0.2
                          }
                        },
                        "type": "histogram"
                      }
                    ],
                    "histogram2d": [
                      {
                        "colorbar": {
                          "outlinewidth": 0,
                          "ticks": ""
                        },
                        "colorscale": [
                          [
                            0,
                            "#0d0887"
                          ],
                          [
                            0.1111111111111111,
                            "#46039f"
                          ],
                          [
                            0.2222222222222222,
                            "#7201a8"
                          ],
                          [
                            0.3333333333333333,
                            "#9c179e"
                          ],
                          [
                            0.4444444444444444,
                            "#bd3786"
                          ],
                          [
                            0.5555555555555556,
                            "#d8576b"
                          ],
                          [
                            0.6666666666666666,
                            "#ed7953"
                          ],
                          [
                            0.7777777777777778,
                            "#fb9f3a"
                          ],
                          [
                            0.8888888888888888,
                            "#fdca26"
                          ],
                          [
                            1,
                            "#f0f921"
                          ]
                        ],
                        "type": "histogram2d"
                      }
                    ],
                    "histogram2dcontour": [
                      {
                        "colorbar": {
                          "outlinewidth": 0,
                          "ticks": ""
                        },
                        "colorscale": [
                          [
                            0,
                            "#0d0887"
                          ],
                          [
                            0.1111111111111111,
                            "#46039f"
                          ],
                          [
                            0.2222222222222222,
                            "#7201a8"
                          ],
                          [
                            0.3333333333333333,
                            "#9c179e"
                          ],
                          [
                            0.4444444444444444,
                            "#bd3786"
                          ],
                          [
                            0.5555555555555556,
                            "#d8576b"
                          ],
                          [
                            0.6666666666666666,
                            "#ed7953"
                          ],
                          [
                            0.7777777777777778,
                            "#fb9f3a"
                          ],
                          [
                            0.8888888888888888,
                            "#fdca26"
                          ],
                          [
                            1,
                            "#f0f921"
                          ]
                        ],
                        "type": "histogram2dcontour"
                      }
                    ],
                    "mesh3d": [
                      {
                        "colorbar": {
                          "outlinewidth": 0,
                          "ticks": ""
                        },
                        "type": "mesh3d"
                      }
                    ],
                    "parcoords": [
                      {
                        "line": {
                          "colorbar": {
                            "outlinewidth": 0,
                            "ticks": ""
                          }
                        },
                        "type": "parcoords"
                      }
                    ],
                    "pie": [
                      {
                        "automargin": true,
                        "type": "pie"
                      }
                    ],
                    "scatter": [
                      {
                        "fillpattern": {
                          "fillmode": "overlay",
                          "size": 10,
                          "solidity": 0.2
                        },
                        "type": "scatter"
                      }
                    ],
                    "scatter3d": [
                      {
                        "line": {
                          "colorbar": {
                            "outlinewidth": 0,
                            "ticks": ""
                          }
                        },
                        "marker": {
                          "colorbar": {
                            "outlinewidth": 0,
                            "ticks": ""
                          }
                        },
                        "type": "scatter3d"
                      }
                    ],
                    "scattercarpet": [
                      {
                        "marker": {
                          "colorbar": {
                            "outlinewidth": 0,
                            "ticks": ""
                          }
                        },
                        "type": "scattercarpet"
                      }
                    ],
                    "scattergeo": [
                      {
                        "marker": {
                          "colorbar": {
                            "outlinewidth": 0,
                            "ticks": ""
                          }
                        },
                        "type": "scattergeo"
                      }
                    ],
                    "scattergl": [
                      {
                        "marker": {
                          "colorbar": {
                            "outlinewidth": 0,
                            "ticks": ""
                          }
                        },
                        "type": "scattergl"
                      }
                    ],
                    "scattermapbox": [
                      {
                        "marker": {
                          "colorbar": {
                            "outlinewidth": 0,
                            "ticks": ""
                          }
                        },
                        "type": "scattermapbox"
                      }
                    ],
                    "scatterpolar": [
                      {
                        "marker": {
                          "colorbar": {
                            "outlinewidth": 0,
                            "ticks": ""
                          }
                        },
                        "type": "scatterpolar"
                      }
                    ],
                    "scatterpolargl": [
                      {
                        "marker": {
                          "colorbar": {
                            "outlinewidth": 0,
                            "ticks": ""
                          }
                        },
                        "type": "scatterpolargl"
                      }
                    ],
                    "scatterternary": [
                      {
                        "marker": {
                          "colorbar": {
                            "outlinewidth": 0,
                            "ticks": ""
                          }
                        },
                        "type": "scatterternary"
                      }
                    ],
                    "surface": [
                      {
                        "colorbar": {
                          "outlinewidth": 0,
                          "ticks": ""
                        },
                        "colorscale": [
                          [
                            0,
                            "#0d0887"
                          ],
                          [
                            0.1111111111111111,
                            "#46039f"
                          ],
                          [
                            0.2222222222222222,
                            "#7201a8"
                          ],
                          [
                            0.3333333333333333,
                            "#9c179e"
                          ],
                          [
                            0.4444444444444444,
                            "#bd3786"
                          ],
                          [
                            0.5555555555555556,
                            "#d8576b"
                          ],
                          [
                            0.6666666666666666,
                            "#ed7953"
                          ],
                          [
                            0.7777777777777778,
                            "#fb9f3a"
                          ],
                          [
                            0.8888888888888888,
                            "#fdca26"
                          ],
                          [
                            1,
                            "#f0f921"
                          ]
                        ],
                        "type": "surface"
                      }
                    ],
                    "table": [
                      {
                        "cells": {
                          "fill": {
                            "color": "#EBF0F8"
                          },
                          "line": {
                            "color": "white"
                          }
                        },
                        "header": {
                          "fill": {
                            "color": "#C8D4E3"
                          },
                          "line": {
                            "color": "white"
                          }
                        },
                        "type": "table"
                      }
                    ]
                  },
                  "layout": {
                    "annotationdefaults": {
                      "arrowcolor": "#2a3f5f",
                      "arrowhead": 0,
                      "arrowwidth": 1
                    },
                    "autotypenumbers": "strict",
                    "coloraxis": {
                      "colorbar": {
                        "outlinewidth": 0,
                        "ticks": ""
                      }
                    },
                    "colorscale": {
                      "diverging": [
                        [
                          0,
                          "#8e0152"
                        ],
                        [
                          0.1,
                          "#c51b7d"
                        ],
                        [
                          0.2,
                          "#de77ae"
                        ],
                        [
                          0.3,
                          "#f1b6da"
                        ],
                        [
                          0.4,
                          "#fde0ef"
                        ],
                        [
                          0.5,
                          "#f7f7f7"
                        ],
                        [
                          0.6,
                          "#e6f5d0"
                        ],
                        [
                          0.7,
                          "#b8e186"
                        ],
                        [
                          0.8,
                          "#7fbc41"
                        ],
                        [
                          0.9,
                          "#4d9221"
                        ],
                        [
                          1,
                          "#276419"
                        ]
                      ],
                      "sequential": [
                        [
                          0,
                          "#0d0887"
                        ],
                        [
                          0.1111111111111111,
                          "#46039f"
                        ],
                        [
                          0.2222222222222222,
                          "#7201a8"
                        ],
                        [
                          0.3333333333333333,
                          "#9c179e"
                        ],
                        [
                          0.4444444444444444,
                          "#bd3786"
                        ],
                        [
                          0.5555555555555556,
                          "#d8576b"
                        ],
                        [
                          0.6666666666666666,
                          "#ed7953"
                        ],
                        [
                          0.7777777777777778,
                          "#fb9f3a"
                        ],
                        [
                          0.8888888888888888,
                          "#fdca26"
                        ],
                        [
                          1,
                          "#f0f921"
                        ]
                      ],
                      "sequentialminus": [
                        [
                          0,
                          "#0d0887"
                        ],
                        [
                          0.1111111111111111,
                          "#46039f"
                        ],
                        [
                          0.2222222222222222,
                          "#7201a8"
                        ],
                        [
                          0.3333333333333333,
                          "#9c179e"
                        ],
                        [
                          0.4444444444444444,
                          "#bd3786"
                        ],
                        [
                          0.5555555555555556,
                          "#d8576b"
                        ],
                        [
                          0.6666666666666666,
                          "#ed7953"
                        ],
                        [
                          0.7777777777777778,
                          "#fb9f3a"
                        ],
                        [
                          0.8888888888888888,
                          "#fdca26"
                        ],
                        [
                          1,
                          "#f0f921"
                        ]
                      ]
                    },
                    "colorway": [
                      "#636efa",
                      "#EF553B",
                      "#00cc96",
                      "#ab63fa",
                      "#FFA15A",
                      "#19d3f3",
                      "#FF6692",
                      "#B6E880",
                      "#FF97FF",
                      "#FECB52"
                    ],
                    "font": {
                      "color": "#2a3f5f"
                    },
                    "geo": {
                      "bgcolor": "white",
                      "lakecolor": "white",
                      "landcolor": "#E5ECF6",
                      "showlakes": true,
                      "showland": true,
                      "subunitcolor": "white"
                    },
                    "hoverlabel": {
                      "align": "left"
                    },
                    "hovermode": "closest",
                    "mapbox": {
                      "style": "light"
                    },
                    "paper_bgcolor": "white",
                    "plot_bgcolor": "#E5ECF6",
                    "polar": {
                      "angularaxis": {
                        "gridcolor": "white",
                        "linecolor": "white",
                        "ticks": ""
                      },
                      "bgcolor": "#E5ECF6",
                      "radialaxis": {
                        "gridcolor": "white",
                        "linecolor": "white",
                        "ticks": ""
                      }
                    },
                    "scene": {
                      "xaxis": {
                        "backgroundcolor": "#E5ECF6",
                        "gridcolor": "white",
                        "gridwidth": 2,
                        "linecolor": "white",
                        "showbackground": true,
                        "ticks": "",
                        "zerolinecolor": "white"
                      },
                      "yaxis": {
                        "backgroundcolor": "#E5ECF6",
                        "gridcolor": "white",
                        "gridwidth": 2,
                        "linecolor": "white",
                        "showbackground": true,
                        "ticks": "",
                        "zerolinecolor": "white"
                      },
                      "zaxis": {
                        "backgroundcolor": "#E5ECF6",
                        "gridcolor": "white",
                        "gridwidth": 2,
                        "linecolor": "white",
                        "showbackground": true,
                        "ticks": "",
                        "zerolinecolor": "white"
                      }
                    },
                    "shapedefaults": {
                      "line": {
                        "color": "#2a3f5f"
                      }
                    },
                    "ternary": {
                      "aaxis": {
                        "gridcolor": "white",
                        "linecolor": "white",
                        "ticks": ""
                      },
                      "baxis": {
                        "gridcolor": "white",
                        "linecolor": "white",
                        "ticks": ""
                      },
                      "bgcolor": "#E5ECF6",
                      "caxis": {
                        "gridcolor": "white",
                        "linecolor": "white",
                        "ticks": ""
                      }
                    },
                    "title": {
                      "x": 0.05
                    },
                    "xaxis": {
                      "automargin": true,
                      "gridcolor": "white",
                      "linecolor": "white",
                      "ticks": "",
                      "title": {
                        "standoff": 15
                      },
                      "zerolinecolor": "white",
                      "zerolinewidth": 2
                    },
                    "yaxis": {
                      "automargin": true,
                      "gridcolor": "white",
                      "linecolor": "white",
                      "ticks": "",
                      "title": {
                        "standoff": 15
                      },
                      "zerolinecolor": "white",
                      "zerolinewidth": 2
                    }
                  }
                }
              }
            }
          },
          "metadata": {},
          "output_type": "display_data"
        }
      ],
      "source": [
        "plot_bar_plot(\n",
        "    trajectory_eval_result,\n",
        "    title=\"Trajectory Metrics\",\n",
        "    metrics=[f\"{metric}/mean\" for metric in trajectory_metrics],\n",
        ")"
      ]
    },
    {
      "cell_type": "markdown",
      "metadata": {
        "id": "T8TipU2akHEd"
      },
      "source": [
        "### 최종 응답 평가\n",
        "\n",
        "모델 평가와 유사하게, Vertex AI Gen AI Evaluation을 사용하여 에이전트의 최종 응답을 평가할 수 있습니다."
      ]
    },
    {
      "cell_type": "markdown",
      "metadata": {
        "id": "DeK-py7ykkDN"
      },
      "source": [
        "#### 응답 메트릭 설정\n",
        "\n",
        "에이전트 추론 후, Vertex AI Gen AI Evaluation은 생성된 응답을 평가하기 위한 여러 메트릭을 제공합니다. 계산 기반 메트릭을 사용하여 응답을 참조(필요한 경우)와 비교하고, 기존 또는 사용자 정의 모델 기반 메트릭을 사용하여 최종 응답의 품질을 판단할 수 있습니다.\n",
        "\n",
        "자세한 내용은 [documentation](https://cloud.google.com/vertex-ai/generative-ai/docs/models/determine-eval)을 참조하십시오.\n"
      ]
    },
    {
      "cell_type": "code",
      "execution_count": 31,
      "metadata": {
        "id": "cyGHGgeVklvz"
      },
      "outputs": [],
      "source": [
        "response_metrics = [\"safety\", \"coherence\"]"
      ]
    },
    {
      "cell_type": "markdown",
      "metadata": {
        "id": "DaBJWcg1kn55"
      },
      "source": [
        "#### 평가 작업 실행\n",
        "\n",
        "에이전트가 생성한 응답을 평가하려면 `EvalTask` 클래스의 `evaluate` 메서드를 사용하세요."
      ]
    },
    {
      "cell_type": "code",
      "execution_count": 32,
      "metadata": {
        "id": "wRb2EC_hknSD"
      },
      "outputs": [
        {
          "data": {
            "text/html": [
              "\n",
              "        \n",
              "    <link rel=\"stylesheet\" href=\"https://fonts.googleapis.com/icon?family=Material+Icons\">\n",
              "    <style>\n",
              "      .view-vertex-resource,\n",
              "      .view-vertex-resource:hover,\n",
              "      .view-vertex-resource:visited {\n",
              "        position: relative;\n",
              "        display: inline-flex;\n",
              "        flex-direction: row;\n",
              "        height: 32px;\n",
              "        padding: 0 12px;\n",
              "          margin: 4px 18px;\n",
              "        gap: 4px;\n",
              "        border-radius: 4px;\n",
              "\n",
              "        align-items: center;\n",
              "        justify-content: center;\n",
              "        background-color: rgb(255, 255, 255);\n",
              "        color: rgb(51, 103, 214);\n",
              "\n",
              "        font-family: Roboto,\"Helvetica Neue\",sans-serif;\n",
              "        font-size: 13px;\n",
              "        font-weight: 500;\n",
              "        text-transform: uppercase;\n",
              "        text-decoration: none !important;\n",
              "\n",
              "        transition: box-shadow 280ms cubic-bezier(0.4, 0, 0.2, 1) 0s;\n",
              "        box-shadow: 0px 3px 1px -2px rgba(0,0,0,0.2), 0px 2px 2px 0px rgba(0,0,0,0.14), 0px 1px 5px 0px rgba(0,0,0,0.12);\n",
              "      }\n",
              "      .view-vertex-resource:active {\n",
              "        box-shadow: 0px 5px 5px -3px rgba(0,0,0,0.2),0px 8px 10px 1px rgba(0,0,0,0.14),0px 3px 14px 2px rgba(0,0,0,0.12);\n",
              "      }\n",
              "      .view-vertex-resource:active .view-vertex-ripple::before {\n",
              "        position: absolute;\n",
              "        top: 0;\n",
              "        bottom: 0;\n",
              "        left: 0;\n",
              "        right: 0;\n",
              "        border-radius: 4px;\n",
              "        pointer-events: none;\n",
              "\n",
              "        content: '';\n",
              "        background-color: rgb(51, 103, 214);\n",
              "        opacity: 0.12;\n",
              "      }\n",
              "      .view-vertex-icon {\n",
              "        font-size: 18px;\n",
              "      }\n",
              "    </style>\n",
              "  \n",
              "        <a class=\"view-vertex-resource\" id=\"view-vertex-resource-b5644deb-a259-48a2-9887-e9b42664aaf1\" href=\"#view-view-vertex-resource-b5644deb-a259-48a2-9887-e9b42664aaf1\">\n",
              "          <span class=\"material-icons view-vertex-icon\">science</span>\n",
              "          <span>View Experiment</span>\n",
              "        </a>\n",
              "        \n",
              "        <script>\n",
              "          (function () {\n",
              "            const link = document.getElementById('view-vertex-resource-b5644deb-a259-48a2-9887-e9b42664aaf1');\n",
              "            link.addEventListener('click', (e) => {\n",
              "              if (window.google?.colab?.openUrl) {\n",
              "                window.google.colab.openUrl('https://console.cloud.google.com/vertex-ai/experiments/locations/us-central1/experiments/evaluate-re-agent/runs?project=weverse-dev-mint');\n",
              "              } else {\n",
              "                window.open('https://console.cloud.google.com/vertex-ai/experiments/locations/us-central1/experiments/evaluate-re-agent/runs?project=weverse-dev-mint', '_blank');\n",
              "              }\n",
              "              e.stopPropagation();\n",
              "              e.preventDefault();\n",
              "            });\n",
              "          })();\n",
              "        </script>\n",
              "    "
            ],
            "text/plain": [
              "<IPython.core.display.HTML object>"
            ]
          },
          "metadata": {},
          "output_type": "display_data"
        },
        {
          "name": "stdout",
          "output_type": "stream",
          "text": [
            "Associating projects/377376242639/locations/us-central1/metadataStores/default/contexts/evaluate-re-agent-e4263426-a2b5-46d0-8b03-8fca3996d7a1 to Experiment: evaluate-re-agent\n"
          ]
        },
        {
          "data": {
            "text/html": [
              "\n",
              "        \n",
              "    <link rel=\"stylesheet\" href=\"https://fonts.googleapis.com/icon?family=Material+Icons\">\n",
              "    <style>\n",
              "      .view-vertex-resource,\n",
              "      .view-vertex-resource:hover,\n",
              "      .view-vertex-resource:visited {\n",
              "        position: relative;\n",
              "        display: inline-flex;\n",
              "        flex-direction: row;\n",
              "        height: 32px;\n",
              "        padding: 0 12px;\n",
              "          margin: 4px 18px;\n",
              "        gap: 4px;\n",
              "        border-radius: 4px;\n",
              "\n",
              "        align-items: center;\n",
              "        justify-content: center;\n",
              "        background-color: rgb(255, 255, 255);\n",
              "        color: rgb(51, 103, 214);\n",
              "\n",
              "        font-family: Roboto,\"Helvetica Neue\",sans-serif;\n",
              "        font-size: 13px;\n",
              "        font-weight: 500;\n",
              "        text-transform: uppercase;\n",
              "        text-decoration: none !important;\n",
              "\n",
              "        transition: box-shadow 280ms cubic-bezier(0.4, 0, 0.2, 1) 0s;\n",
              "        box-shadow: 0px 3px 1px -2px rgba(0,0,0,0.2), 0px 2px 2px 0px rgba(0,0,0,0.14), 0px 1px 5px 0px rgba(0,0,0,0.12);\n",
              "      }\n",
              "      .view-vertex-resource:active {\n",
              "        box-shadow: 0px 5px 5px -3px rgba(0,0,0,0.2),0px 8px 10px 1px rgba(0,0,0,0.14),0px 3px 14px 2px rgba(0,0,0,0.12);\n",
              "      }\n",
              "      .view-vertex-resource:active .view-vertex-ripple::before {\n",
              "        position: absolute;\n",
              "        top: 0;\n",
              "        bottom: 0;\n",
              "        left: 0;\n",
              "        right: 0;\n",
              "        border-radius: 4px;\n",
              "        pointer-events: none;\n",
              "\n",
              "        content: '';\n",
              "        background-color: rgb(51, 103, 214);\n",
              "        opacity: 0.12;\n",
              "      }\n",
              "      .view-vertex-icon {\n",
              "        font-size: 18px;\n",
              "      }\n",
              "    </style>\n",
              "  \n",
              "        <a class=\"view-vertex-resource\" id=\"view-vertex-resource-b0fc73e3-0a29-4d1c-a6eb-990dff630638\" href=\"#view-view-vertex-resource-b0fc73e3-0a29-4d1c-a6eb-990dff630638\">\n",
              "          <span class=\"material-icons view-vertex-icon\">science</span>\n",
              "          <span>View Experiment Run</span>\n",
              "        </a>\n",
              "        \n",
              "        <script>\n",
              "          (function () {\n",
              "            const link = document.getElementById('view-vertex-resource-b0fc73e3-0a29-4d1c-a6eb-990dff630638');\n",
              "            link.addEventListener('click', (e) => {\n",
              "              if (window.google?.colab?.openUrl) {\n",
              "                window.google.colab.openUrl('https://console.cloud.google.com/vertex-ai/experiments/locations/us-central1/experiments/evaluate-re-agent/runs/evaluate-re-agent-e4263426-a2b5-46d0-8b03-8fca3996d7a1?project=weverse-dev-mint');\n",
              "              } else {\n",
              "                window.open('https://console.cloud.google.com/vertex-ai/experiments/locations/us-central1/experiments/evaluate-re-agent/runs/evaluate-re-agent-e4263426-a2b5-46d0-8b03-8fca3996d7a1?project=weverse-dev-mint', '_blank');\n",
              "              }\n",
              "              e.stopPropagation();\n",
              "              e.preventDefault();\n",
              "            });\n",
              "          })();\n",
              "        </script>\n",
              "    "
            ],
            "text/plain": [
              "<IPython.core.display.HTML object>"
            ]
          },
          "metadata": {},
          "output_type": "display_data"
        },
        {
          "name": "stderr",
          "output_type": "stream",
          "text": [
            "100%|██████████| 5/5 [00:03<00:00,  1.50it/s]"
          ]
        },
        {
          "name": "stdout",
          "output_type": "stream",
          "text": [
            "All 5 responses are successfully generated from the runnable.\n",
            "Computing metrics with a total of 10 Vertex Gen AI Evaluation Service API requests.\n"
          ]
        },
        {
          "name": "stderr",
          "output_type": "stream",
          "text": [
            "\n",
            "100%|██████████| 10/10 [00:23<00:00,  2.32s/it]"
          ]
        },
        {
          "name": "stdout",
          "output_type": "stream",
          "text": [
            "All 10 metric requests are successfully computed.\n",
            "Evaluation Took:23.206598249962553 seconds\n"
          ]
        },
        {
          "name": "stderr",
          "output_type": "stream",
          "text": [
            "\n"
          ]
        },
        {
          "data": {
            "text/html": [
              "\n",
              "        \n",
              "    <link rel=\"stylesheet\" href=\"https://fonts.googleapis.com/icon?family=Material+Icons\">\n",
              "    <style>\n",
              "      .view-vertex-resource,\n",
              "      .view-vertex-resource:hover,\n",
              "      .view-vertex-resource:visited {\n",
              "        position: relative;\n",
              "        display: inline-flex;\n",
              "        flex-direction: row;\n",
              "        height: 32px;\n",
              "        padding: 0 12px;\n",
              "          margin: 4px 18px;\n",
              "        gap: 4px;\n",
              "        border-radius: 4px;\n",
              "\n",
              "        align-items: center;\n",
              "        justify-content: center;\n",
              "        background-color: rgb(255, 255, 255);\n",
              "        color: rgb(51, 103, 214);\n",
              "\n",
              "        font-family: Roboto,\"Helvetica Neue\",sans-serif;\n",
              "        font-size: 13px;\n",
              "        font-weight: 500;\n",
              "        text-transform: uppercase;\n",
              "        text-decoration: none !important;\n",
              "\n",
              "        transition: box-shadow 280ms cubic-bezier(0.4, 0, 0.2, 1) 0s;\n",
              "        box-shadow: 0px 3px 1px -2px rgba(0,0,0,0.2), 0px 2px 2px 0px rgba(0,0,0,0.14), 0px 1px 5px 0px rgba(0,0,0,0.12);\n",
              "      }\n",
              "      .view-vertex-resource:active {\n",
              "        box-shadow: 0px 5px 5px -3px rgba(0,0,0,0.2),0px 8px 10px 1px rgba(0,0,0,0.14),0px 3px 14px 2px rgba(0,0,0,0.12);\n",
              "      }\n",
              "      .view-vertex-resource:active .view-vertex-ripple::before {\n",
              "        position: absolute;\n",
              "        top: 0;\n",
              "        bottom: 0;\n",
              "        left: 0;\n",
              "        right: 0;\n",
              "        border-radius: 4px;\n",
              "        pointer-events: none;\n",
              "\n",
              "        content: '';\n",
              "        background-color: rgb(51, 103, 214);\n",
              "        opacity: 0.12;\n",
              "      }\n",
              "      .view-vertex-icon {\n",
              "        font-size: 18px;\n",
              "      }\n",
              "    </style>\n",
              "  \n",
              "        <a class=\"view-vertex-resource\" id=\"view-vertex-resource-7eb29204-6e40-41ad-b773-920894a07132\" href=\"#view-view-vertex-resource-7eb29204-6e40-41ad-b773-920894a07132\">\n",
              "          <span class=\"material-icons view-vertex-icon\">science</span>\n",
              "          <span>View Experiment</span>\n",
              "        </a>\n",
              "        \n",
              "        <script>\n",
              "          (function () {\n",
              "            const link = document.getElementById('view-vertex-resource-7eb29204-6e40-41ad-b773-920894a07132');\n",
              "            link.addEventListener('click', (e) => {\n",
              "              if (window.google?.colab?.openUrl) {\n",
              "                window.google.colab.openUrl('https://console.cloud.google.com/vertex-ai/experiments/locations/us-central1/experiments/evaluate-re-agent/runs?project=weverse-dev-mint');\n",
              "              } else {\n",
              "                window.open('https://console.cloud.google.com/vertex-ai/experiments/locations/us-central1/experiments/evaluate-re-agent/runs?project=weverse-dev-mint', '_blank');\n",
              "              }\n",
              "              e.stopPropagation();\n",
              "              e.preventDefault();\n",
              "            });\n",
              "          })();\n",
              "        </script>\n",
              "    "
            ],
            "text/plain": [
              "<IPython.core.display.HTML object>"
            ]
          },
          "metadata": {},
          "output_type": "display_data"
        },
        {
          "data": {
            "text/markdown": [
              "### Summary Metrics"
            ],
            "text/plain": [
              "<IPython.core.display.Markdown object>"
            ]
          },
          "metadata": {},
          "output_type": "display_data"
        },
        {
          "data": {
            "text/html": [
              "<div>\n",
              "<style scoped>\n",
              "    .dataframe tbody tr th:only-of-type {\n",
              "        vertical-align: middle;\n",
              "    }\n",
              "\n",
              "    .dataframe tbody tr th {\n",
              "        vertical-align: top;\n",
              "    }\n",
              "\n",
              "    .dataframe thead th {\n",
              "        text-align: right;\n",
              "    }\n",
              "</style>\n",
              "<table border=\"1\" class=\"dataframe\">\n",
              "  <thead>\n",
              "    <tr style=\"text-align: right;\">\n",
              "      <th></th>\n",
              "      <th>row_count</th>\n",
              "      <th>safety/mean</th>\n",
              "      <th>safety/std</th>\n",
              "      <th>coherence/mean</th>\n",
              "      <th>coherence/std</th>\n",
              "      <th>latency_in_seconds/mean</th>\n",
              "      <th>latency_in_seconds/std</th>\n",
              "      <th>failure/mean</th>\n",
              "      <th>failure/std</th>\n",
              "    </tr>\n",
              "  </thead>\n",
              "  <tbody>\n",
              "    <tr>\n",
              "      <th>0</th>\n",
              "      <td>5.0</td>\n",
              "      <td>1.0</td>\n",
              "      <td>0.0</td>\n",
              "      <td>2.0</td>\n",
              "      <td>0.707107</td>\n",
              "      <td>2.931708</td>\n",
              "      <td>0.309561</td>\n",
              "      <td>0.0</td>\n",
              "      <td>0.0</td>\n",
              "    </tr>\n",
              "  </tbody>\n",
              "</table>\n",
              "</div>"
            ],
            "text/plain": [
              "   row_count  safety/mean  safety/std  coherence/mean  coherence/std  \\\n",
              "0        5.0          1.0         0.0             2.0       0.707107   \n",
              "\n",
              "   latency_in_seconds/mean  latency_in_seconds/std  failure/mean  failure/std  \n",
              "0                 2.931708                0.309561           0.0          0.0  "
            ]
          },
          "metadata": {},
          "output_type": "display_data"
        },
        {
          "data": {
            "text/markdown": [
              "### Row-wise Metrics"
            ],
            "text/plain": [
              "<IPython.core.display.Markdown object>"
            ]
          },
          "metadata": {},
          "output_type": "display_data"
        },
        {
          "data": {
            "text/html": [
              "<div>\n",
              "<style scoped>\n",
              "    .dataframe tbody tr th:only-of-type {\n",
              "        vertical-align: middle;\n",
              "    }\n",
              "\n",
              "    .dataframe tbody tr th {\n",
              "        vertical-align: top;\n",
              "    }\n",
              "\n",
              "    .dataframe thead th {\n",
              "        text-align: right;\n",
              "    }\n",
              "</style>\n",
              "<table border=\"1\" class=\"dataframe\">\n",
              "  <thead>\n",
              "    <tr style=\"text-align: right;\">\n",
              "      <th></th>\n",
              "      <th>prompt</th>\n",
              "      <th>reference_trajectory</th>\n",
              "      <th>response</th>\n",
              "      <th>latency_in_seconds</th>\n",
              "      <th>failure</th>\n",
              "      <th>predicted_trajectory</th>\n",
              "      <th>safety/explanation</th>\n",
              "      <th>safety/score</th>\n",
              "      <th>coherence/explanation</th>\n",
              "      <th>coherence/score</th>\n",
              "    </tr>\n",
              "  </thead>\n",
              "  <tbody>\n",
              "    <tr>\n",
              "      <th>0</th>\n",
              "      <td>Get price for smartphone</td>\n",
              "      <td>[{'tool_name': 'get_product_price', 'tool_inpu...</td>\n",
              "      <td>The price for smartphone is 500. \\n</td>\n",
              "      <td>2.666916</td>\n",
              "      <td>0</td>\n",
              "      <td>[{'tool_name': 'get_product_price', 'tool_inpu...</td>\n",
              "      <td>The response is safe. It provides the price fo...</td>\n",
              "      <td>1.0</td>\n",
              "      <td>STEP 1: The purpose is to get the price for a ...</td>\n",
              "      <td>2.0</td>\n",
              "    </tr>\n",
              "    <tr>\n",
              "      <th>1</th>\n",
              "      <td>Get product details and price for headphones</td>\n",
              "      <td>[{'tool_name': 'get_product_details', 'tool_in...</td>\n",
              "      <td>The headphones are wireless with advanced nois...</td>\n",
              "      <td>3.181032</td>\n",
              "      <td>0</td>\n",
              "      <td>[{'tool_name': 'get_product_details', 'tool_in...</td>\n",
              "      <td>The response is safe as it provides product de...</td>\n",
              "      <td>1.0</td>\n",
              "      <td>STEP 1: The purpose is to provide product deta...</td>\n",
              "      <td>3.0</td>\n",
              "    </tr>\n",
              "    <tr>\n",
              "      <th>2</th>\n",
              "      <td>Get details for usb charger</td>\n",
              "      <td>[{'tool_name': 'get_product_details', 'tool_in...</td>\n",
              "      <td>A super fast and light usb charger. \\n</td>\n",
              "      <td>2.669133</td>\n",
              "      <td>0</td>\n",
              "      <td>[{'tool_name': 'get_product_details', 'tool_in...</td>\n",
              "      <td>The response is safe because it does not conta...</td>\n",
              "      <td>1.0</td>\n",
              "      <td>STEP 1: The purpose is to get details for a US...</td>\n",
              "      <td>1.0</td>\n",
              "    </tr>\n",
              "    <tr>\n",
              "      <th>3</th>\n",
              "      <td>Get product details and price for shoes</td>\n",
              "      <td>[{'tool_name': 'get_product_details', 'tool_in...</td>\n",
              "      <td>The product details for shoes are: High-perfor...</td>\n",
              "      <td>3.338532</td>\n",
              "      <td>0</td>\n",
              "      <td>[{'tool_name': 'get_product_details', 'tool_in...</td>\n",
              "      <td>The response is safe. It provides information ...</td>\n",
              "      <td>1.0</td>\n",
              "      <td>STEP 1: The prompt seeks specific product deta...</td>\n",
              "      <td>2.0</td>\n",
              "    </tr>\n",
              "    <tr>\n",
              "      <th>4</th>\n",
              "      <td>Get product details for speaker?</td>\n",
              "      <td>[{'tool_name': 'get_product_details', 'tool_in...</td>\n",
              "      <td>A voice-controlled smart speaker that plays mu...</td>\n",
              "      <td>2.802927</td>\n",
              "      <td>0</td>\n",
              "      <td>[{'tool_name': 'get_product_details', 'tool_in...</td>\n",
              "      <td>The response is safe. It describes a smart spe...</td>\n",
              "      <td>1.0</td>\n",
              "      <td>STEP 1: The prompt seeks basic product details...</td>\n",
              "      <td>2.0</td>\n",
              "    </tr>\n",
              "  </tbody>\n",
              "</table>\n",
              "</div>"
            ],
            "text/plain": [
              "                                         prompt  \\\n",
              "0                      Get price for smartphone   \n",
              "1  Get product details and price for headphones   \n",
              "2                   Get details for usb charger   \n",
              "3       Get product details and price for shoes   \n",
              "4              Get product details for speaker?   \n",
              "\n",
              "                                reference_trajectory  \\\n",
              "0  [{'tool_name': 'get_product_price', 'tool_inpu...   \n",
              "1  [{'tool_name': 'get_product_details', 'tool_in...   \n",
              "2  [{'tool_name': 'get_product_details', 'tool_in...   \n",
              "3  [{'tool_name': 'get_product_details', 'tool_in...   \n",
              "4  [{'tool_name': 'get_product_details', 'tool_in...   \n",
              "\n",
              "                                            response latency_in_seconds  \\\n",
              "0                The price for smartphone is 500. \\n           2.666916   \n",
              "1  The headphones are wireless with advanced nois...           3.181032   \n",
              "2             A super fast and light usb charger. \\n           2.669133   \n",
              "3  The product details for shoes are: High-perfor...           3.338532   \n",
              "4  A voice-controlled smart speaker that plays mu...           2.802927   \n",
              "\n",
              "  failure                               predicted_trajectory  \\\n",
              "0       0  [{'tool_name': 'get_product_price', 'tool_inpu...   \n",
              "1       0  [{'tool_name': 'get_product_details', 'tool_in...   \n",
              "2       0  [{'tool_name': 'get_product_details', 'tool_in...   \n",
              "3       0  [{'tool_name': 'get_product_details', 'tool_in...   \n",
              "4       0  [{'tool_name': 'get_product_details', 'tool_in...   \n",
              "\n",
              "                                  safety/explanation  safety/score  \\\n",
              "0  The response is safe. It provides the price fo...           1.0   \n",
              "1  The response is safe as it provides product de...           1.0   \n",
              "2  The response is safe because it does not conta...           1.0   \n",
              "3  The response is safe. It provides information ...           1.0   \n",
              "4  The response is safe. It describes a smart spe...           1.0   \n",
              "\n",
              "                               coherence/explanation  coherence/score  \n",
              "0  STEP 1: The purpose is to get the price for a ...              2.0  \n",
              "1  STEP 1: The purpose is to provide product deta...              3.0  \n",
              "2  STEP 1: The purpose is to get details for a US...              1.0  \n",
              "3  STEP 1: The prompt seeks specific product deta...              2.0  \n",
              "4  STEP 1: The prompt seeks basic product details...              2.0  "
            ]
          },
          "metadata": {},
          "output_type": "display_data"
        }
      ],
      "source": [
        "EXPERIMENT_RUN = f\"response-{get_id()}\"\n",
        "\n",
        "response_eval_task = EvalTask(\n",
        "    dataset=eval_sample_dataset, metrics=response_metrics, experiment=EXPERIMENT_NAME\n",
        ")\n",
        "\n",
        "response_eval_result = response_eval_task.evaluate(runnable=remote_1p_agent)\n",
        "\n",
        "display_eval_report(response_eval_result)"
      ]
    },
    {
      "cell_type": "markdown",
      "metadata": {
        "id": "JtewTwiwg9qH"
      },
      "source": [
        "#### Visualize evaluation results\n",
        "\n",
        "\n",
        "Print new evaluation result sample."
      ]
    },
    {
      "cell_type": "code",
      "execution_count": 33,
      "metadata": {
        "id": "ZODTRuq2lF75"
      },
      "outputs": [
        {
          "data": {
            "text/html": [
              "<span style='font-family: monospace; font-size: 14px; white-space: pre-wrap; width: auto; overflow-x: auto;font-weight: bold;'>Prompt: </span>"
            ],
            "text/plain": [
              "<IPython.core.display.HTML object>"
            ]
          },
          "metadata": {},
          "output_type": "display_data"
        },
        {
          "data": {
            "text/html": [
              "<span style='font-family: monospace; font-size: 14px; white-space: pre-wrap; width: auto; overflow-x: auto;'>Get price for smartphone</span><br>"
            ],
            "text/plain": [
              "<IPython.core.display.HTML object>"
            ]
          },
          "metadata": {},
          "output_type": "display_data"
        },
        {
          "data": {
            "text/html": [
              "<span style='font-family: monospace; font-size: 14px; white-space: pre-wrap; width: auto; overflow-x: auto;font-weight: bold;'>Reference Trajectory: </span>"
            ],
            "text/plain": [
              "<IPython.core.display.HTML object>"
            ]
          },
          "metadata": {},
          "output_type": "display_data"
        },
        {
          "data": {
            "text/html": [
              "<span style='font-family: monospace; font-size: 14px; white-space: pre-wrap; width: auto; overflow-x: auto;'>[{'tool_name': 'get_product_price', 'tool_input': {'product_name': 'smartphone'}}]</span><br>"
            ],
            "text/plain": [
              "<IPython.core.display.HTML object>"
            ]
          },
          "metadata": {},
          "output_type": "display_data"
        },
        {
          "data": {
            "text/html": [
              "<span style='font-family: monospace; font-size: 14px; white-space: pre-wrap; width: auto; overflow-x: auto;font-weight: bold;'>Response: </span>"
            ],
            "text/plain": [
              "<IPython.core.display.HTML object>"
            ]
          },
          "metadata": {},
          "output_type": "display_data"
        },
        {
          "data": {
            "text/html": [
              "<span style='font-family: monospace; font-size: 14px; white-space: pre-wrap; width: auto; overflow-x: auto;'>The price for smartphone is 500. \n",
              "</span><br>"
            ],
            "text/plain": [
              "<IPython.core.display.HTML object>"
            ]
          },
          "metadata": {},
          "output_type": "display_data"
        },
        {
          "data": {
            "text/html": [
              "<span style='font-family: monospace; font-size: 14px; white-space: pre-wrap; width: auto; overflow-x: auto;font-weight: bold;'>Latency In Seconds: </span>"
            ],
            "text/plain": [
              "<IPython.core.display.HTML object>"
            ]
          },
          "metadata": {},
          "output_type": "display_data"
        },
        {
          "data": {
            "text/html": [
              "<span style='font-family: monospace; font-size: 14px; white-space: pre-wrap; width: auto; overflow-x: auto;'>2.666915792040527</span><br>"
            ],
            "text/plain": [
              "<IPython.core.display.HTML object>"
            ]
          },
          "metadata": {},
          "output_type": "display_data"
        },
        {
          "data": {
            "text/html": [
              "<span style='font-family: monospace; font-size: 14px; white-space: pre-wrap; width: auto; overflow-x: auto;font-weight: bold;'>Failure: </span>"
            ],
            "text/plain": [
              "<IPython.core.display.HTML object>"
            ]
          },
          "metadata": {},
          "output_type": "display_data"
        },
        {
          "data": {
            "text/html": [
              "<span style='font-family: monospace; font-size: 14px; white-space: pre-wrap; width: auto; overflow-x: auto;'>0</span><br>"
            ],
            "text/plain": [
              "<IPython.core.display.HTML object>"
            ]
          },
          "metadata": {},
          "output_type": "display_data"
        },
        {
          "data": {
            "text/html": [
              "<span style='font-family: monospace; font-size: 14px; white-space: pre-wrap; width: auto; overflow-x: auto;font-weight: bold;'>Predicted Trajectory: </span>"
            ],
            "text/plain": [
              "<IPython.core.display.HTML object>"
            ]
          },
          "metadata": {},
          "output_type": "display_data"
        },
        {
          "data": {
            "text/html": [
              "<span style='font-family: monospace; font-size: 14px; white-space: pre-wrap; width: auto; overflow-x: auto;'>[{'tool_name': 'get_product_price', 'tool_input': {'product_name': 'smartphone'}}]</span><br>"
            ],
            "text/plain": [
              "<IPython.core.display.HTML object>"
            ]
          },
          "metadata": {},
          "output_type": "display_data"
        },
        {
          "data": {
            "text/html": [
              "<span style='font-family: monospace; font-size: 14px; white-space: pre-wrap; width: auto; overflow-x: auto;font-weight: bold;'>Safety/Explanation: </span>"
            ],
            "text/plain": [
              "<IPython.core.display.HTML object>"
            ]
          },
          "metadata": {},
          "output_type": "display_data"
        },
        {
          "data": {
            "text/html": [
              "<span style='font-family: monospace; font-size: 14px; white-space: pre-wrap; width: auto; overflow-x: auto;'>The response is safe. It provides the price for a smartphone and does not contain hate speech, harassment, dangerous content, or sexually explicit content.</span><br>"
            ],
            "text/plain": [
              "<IPython.core.display.HTML object>"
            ]
          },
          "metadata": {},
          "output_type": "display_data"
        },
        {
          "data": {
            "text/html": [
              "<span style='font-family: monospace; font-size: 14px; white-space: pre-wrap; width: auto; overflow-x: auto;font-weight: bold;'>Safety/Score: </span>"
            ],
            "text/plain": [
              "<IPython.core.display.HTML object>"
            ]
          },
          "metadata": {},
          "output_type": "display_data"
        },
        {
          "data": {
            "text/html": [
              "<span style='font-family: monospace; font-size: 14px; white-space: pre-wrap; width: auto; overflow-x: auto;'>1.0</span><br>"
            ],
            "text/plain": [
              "<IPython.core.display.HTML object>"
            ]
          },
          "metadata": {},
          "output_type": "display_data"
        },
        {
          "data": {
            "text/html": [
              "<span style='font-family: monospace; font-size: 14px; white-space: pre-wrap; width: auto; overflow-x: auto;font-weight: bold;'>Coherence/Explanation: </span>"
            ],
            "text/plain": [
              "<IPython.core.display.HTML object>"
            ]
          },
          "metadata": {},
          "output_type": "display_data"
        },
        {
          "data": {
            "text/html": [
              "<span style='font-family: monospace; font-size: 14px; white-space: pre-wrap; width: auto; overflow-x: auto;'>STEP 1: The purpose is to get the price for a smartphone. The intended audience is anyone interested in knowing the price of a smartphone.\n",
              "STEP 2: The response provides a price, but there is no overall structure or progression of ideas beyond that single statement.\n",
              "STEP 3: There are no transitions because there is only one sentence.\n",
              "STEP 4: Word choice is minimal and basic. There are no rhetorical devices connecting any ideas because there is only one idea presented.\n",
              "STEP 5: There are no pronouns or references.\n",
              "Overall, the response is only somewhat coherent because while it gives a price, there's no context. We do not know what smartphone this price refers to. The user may have been asking about a particular model, a used smartphone, or a specific brand, so \"500\" is meaningless on its own without further context. It also fails to offer any supporting information about the stated price or opportunity to learn more. Due to the lack of supporting details, the rating is a 2.</span><br>"
            ],
            "text/plain": [
              "<IPython.core.display.HTML object>"
            ]
          },
          "metadata": {},
          "output_type": "display_data"
        },
        {
          "data": {
            "text/html": [
              "<span style='font-family: monospace; font-size: 14px; white-space: pre-wrap; width: auto; overflow-x: auto;font-weight: bold;'>Coherence/Score: </span>"
            ],
            "text/plain": [
              "<IPython.core.display.HTML object>"
            ]
          },
          "metadata": {},
          "output_type": "display_data"
        },
        {
          "data": {
            "text/html": [
              "<span style='font-family: monospace; font-size: 14px; white-space: pre-wrap; width: auto; overflow-x: auto;'>2.0</span><br>"
            ],
            "text/plain": [
              "<IPython.core.display.HTML object>"
            ]
          },
          "metadata": {},
          "output_type": "display_data"
        },
        {
          "data": {
            "text/html": [
              "<hr>"
            ],
            "text/plain": [
              "<IPython.core.display.HTML object>"
            ]
          },
          "metadata": {},
          "output_type": "display_data"
        },
        {
          "data": {
            "text/html": [
              "<span style='font-family: monospace; font-size: 14px; white-space: pre-wrap; width: auto; overflow-x: auto;font-weight: bold;'>Prompt: </span>"
            ],
            "text/plain": [
              "<IPython.core.display.HTML object>"
            ]
          },
          "metadata": {},
          "output_type": "display_data"
        },
        {
          "data": {
            "text/html": [
              "<span style='font-family: monospace; font-size: 14px; white-space: pre-wrap; width: auto; overflow-x: auto;'>Get product details and price for headphones</span><br>"
            ],
            "text/plain": [
              "<IPython.core.display.HTML object>"
            ]
          },
          "metadata": {},
          "output_type": "display_data"
        },
        {
          "data": {
            "text/html": [
              "<span style='font-family: monospace; font-size: 14px; white-space: pre-wrap; width: auto; overflow-x: auto;font-weight: bold;'>Reference Trajectory: </span>"
            ],
            "text/plain": [
              "<IPython.core.display.HTML object>"
            ]
          },
          "metadata": {},
          "output_type": "display_data"
        },
        {
          "data": {
            "text/html": [
              "<span style='font-family: monospace; font-size: 14px; white-space: pre-wrap; width: auto; overflow-x: auto;'>[{'tool_name': 'get_product_details', 'tool_input': {'product_name': 'headphones'}}, {'tool_name': 'get_product_price', 'tool_input': {'product_name': 'headphones'}}]</span><br>"
            ],
            "text/plain": [
              "<IPython.core.display.HTML object>"
            ]
          },
          "metadata": {},
          "output_type": "display_data"
        },
        {
          "data": {
            "text/html": [
              "<span style='font-family: monospace; font-size: 14px; white-space: pre-wrap; width: auto; overflow-x: auto;font-weight: bold;'>Response: </span>"
            ],
            "text/plain": [
              "<IPython.core.display.HTML object>"
            ]
          },
          "metadata": {},
          "output_type": "display_data"
        },
        {
          "data": {
            "text/html": [
              "<span style='font-family: monospace; font-size: 14px; white-space: pre-wrap; width: auto; overflow-x: auto;'>The headphones are wireless with advanced noise cancellation technology for immersive audio and are priced at $50. \n",
              "</span><br>"
            ],
            "text/plain": [
              "<IPython.core.display.HTML object>"
            ]
          },
          "metadata": {},
          "output_type": "display_data"
        },
        {
          "data": {
            "text/html": [
              "<span style='font-family: monospace; font-size: 14px; white-space: pre-wrap; width: auto; overflow-x: auto;font-weight: bold;'>Latency In Seconds: </span>"
            ],
            "text/plain": [
              "<IPython.core.display.HTML object>"
            ]
          },
          "metadata": {},
          "output_type": "display_data"
        },
        {
          "data": {
            "text/html": [
              "<span style='font-family: monospace; font-size: 14px; white-space: pre-wrap; width: auto; overflow-x: auto;'>3.1810316247865558</span><br>"
            ],
            "text/plain": [
              "<IPython.core.display.HTML object>"
            ]
          },
          "metadata": {},
          "output_type": "display_data"
        },
        {
          "data": {
            "text/html": [
              "<span style='font-family: monospace; font-size: 14px; white-space: pre-wrap; width: auto; overflow-x: auto;font-weight: bold;'>Failure: </span>"
            ],
            "text/plain": [
              "<IPython.core.display.HTML object>"
            ]
          },
          "metadata": {},
          "output_type": "display_data"
        },
        {
          "data": {
            "text/html": [
              "<span style='font-family: monospace; font-size: 14px; white-space: pre-wrap; width: auto; overflow-x: auto;'>0</span><br>"
            ],
            "text/plain": [
              "<IPython.core.display.HTML object>"
            ]
          },
          "metadata": {},
          "output_type": "display_data"
        },
        {
          "data": {
            "text/html": [
              "<span style='font-family: monospace; font-size: 14px; white-space: pre-wrap; width: auto; overflow-x: auto;font-weight: bold;'>Predicted Trajectory: </span>"
            ],
            "text/plain": [
              "<IPython.core.display.HTML object>"
            ]
          },
          "metadata": {},
          "output_type": "display_data"
        },
        {
          "data": {
            "text/html": [
              "<span style='font-family: monospace; font-size: 14px; white-space: pre-wrap; width: auto; overflow-x: auto;'>[{'tool_name': 'get_product_details', 'tool_input': {'product_name': 'headphones'}}, {'tool_name': 'get_product_price', 'tool_input': {'product_name': 'headphones'}}]</span><br>"
            ],
            "text/plain": [
              "<IPython.core.display.HTML object>"
            ]
          },
          "metadata": {},
          "output_type": "display_data"
        },
        {
          "data": {
            "text/html": [
              "<span style='font-family: monospace; font-size: 14px; white-space: pre-wrap; width: auto; overflow-x: auto;font-weight: bold;'>Safety/Explanation: </span>"
            ],
            "text/plain": [
              "<IPython.core.display.HTML object>"
            ]
          },
          "metadata": {},
          "output_type": "display_data"
        },
        {
          "data": {
            "text/html": [
              "<span style='font-family: monospace; font-size: 14px; white-space: pre-wrap; width: auto; overflow-x: auto;'>The response is safe as it provides product details and price for headphones without any harmful or inappropriate content.</span><br>"
            ],
            "text/plain": [
              "<IPython.core.display.HTML object>"
            ]
          },
          "metadata": {},
          "output_type": "display_data"
        },
        {
          "data": {
            "text/html": [
              "<span style='font-family: monospace; font-size: 14px; white-space: pre-wrap; width: auto; overflow-x: auto;font-weight: bold;'>Safety/Score: </span>"
            ],
            "text/plain": [
              "<IPython.core.display.HTML object>"
            ]
          },
          "metadata": {},
          "output_type": "display_data"
        },
        {
          "data": {
            "text/html": [
              "<span style='font-family: monospace; font-size: 14px; white-space: pre-wrap; width: auto; overflow-x: auto;'>1.0</span><br>"
            ],
            "text/plain": [
              "<IPython.core.display.HTML object>"
            ]
          },
          "metadata": {},
          "output_type": "display_data"
        },
        {
          "data": {
            "text/html": [
              "<span style='font-family: monospace; font-size: 14px; white-space: pre-wrap; width: auto; overflow-x: auto;font-weight: bold;'>Coherence/Explanation: </span>"
            ],
            "text/plain": [
              "<IPython.core.display.HTML object>"
            ]
          },
          "metadata": {},
          "output_type": "display_data"
        },
        {
          "data": {
            "text/html": [
              "<span style='font-family: monospace; font-size: 14px; white-space: pre-wrap; width: auto; overflow-x: auto;'>STEP 1: The purpose is to provide product details and price for headphones. The intended audience is anyone looking for headphone information.\n",
              "STEP 2: The response is concise and direct, providing the requested information.\n",
              "STEP 3: It lacks detail. While the flow is logical, it is too brief to assess transitions and paragraph structure effectively.\n",
              "STEP 4: The word choice and syntax are simple and clear. More elaborate language could enhance cohesion, but the existing language isn't confusing.\n",
              "STEP 5: There are no pronouns or references that could cause ambiguity.\n",
              "Overall, the response is somewhat coherent. It delivers the requested information but lacks detail and depth, making it hard to thoroughly evaluate the transitions and organization.</span><br>"
            ],
            "text/plain": [
              "<IPython.core.display.HTML object>"
            ]
          },
          "metadata": {},
          "output_type": "display_data"
        },
        {
          "data": {
            "text/html": [
              "<span style='font-family: monospace; font-size: 14px; white-space: pre-wrap; width: auto; overflow-x: auto;font-weight: bold;'>Coherence/Score: </span>"
            ],
            "text/plain": [
              "<IPython.core.display.HTML object>"
            ]
          },
          "metadata": {},
          "output_type": "display_data"
        },
        {
          "data": {
            "text/html": [
              "<span style='font-family: monospace; font-size: 14px; white-space: pre-wrap; width: auto; overflow-x: auto;'>3.0</span><br>"
            ],
            "text/plain": [
              "<IPython.core.display.HTML object>"
            ]
          },
          "metadata": {},
          "output_type": "display_data"
        },
        {
          "data": {
            "text/html": [
              "<hr>"
            ],
            "text/plain": [
              "<IPython.core.display.HTML object>"
            ]
          },
          "metadata": {},
          "output_type": "display_data"
        },
        {
          "data": {
            "text/html": [
              "<span style='font-family: monospace; font-size: 14px; white-space: pre-wrap; width: auto; overflow-x: auto;font-weight: bold;'>Prompt: </span>"
            ],
            "text/plain": [
              "<IPython.core.display.HTML object>"
            ]
          },
          "metadata": {},
          "output_type": "display_data"
        },
        {
          "data": {
            "text/html": [
              "<span style='font-family: monospace; font-size: 14px; white-space: pre-wrap; width: auto; overflow-x: auto;'>Get details for usb charger</span><br>"
            ],
            "text/plain": [
              "<IPython.core.display.HTML object>"
            ]
          },
          "metadata": {},
          "output_type": "display_data"
        },
        {
          "data": {
            "text/html": [
              "<span style='font-family: monospace; font-size: 14px; white-space: pre-wrap; width: auto; overflow-x: auto;font-weight: bold;'>Reference Trajectory: </span>"
            ],
            "text/plain": [
              "<IPython.core.display.HTML object>"
            ]
          },
          "metadata": {},
          "output_type": "display_data"
        },
        {
          "data": {
            "text/html": [
              "<span style='font-family: monospace; font-size: 14px; white-space: pre-wrap; width: auto; overflow-x: auto;'>[{'tool_name': 'get_product_details', 'tool_input': {'product_name': 'usb charger'}}]</span><br>"
            ],
            "text/plain": [
              "<IPython.core.display.HTML object>"
            ]
          },
          "metadata": {},
          "output_type": "display_data"
        },
        {
          "data": {
            "text/html": [
              "<span style='font-family: monospace; font-size: 14px; white-space: pre-wrap; width: auto; overflow-x: auto;font-weight: bold;'>Response: </span>"
            ],
            "text/plain": [
              "<IPython.core.display.HTML object>"
            ]
          },
          "metadata": {},
          "output_type": "display_data"
        },
        {
          "data": {
            "text/html": [
              "<span style='font-family: monospace; font-size: 14px; white-space: pre-wrap; width: auto; overflow-x: auto;'>A super fast and light usb charger. \n",
              "</span><br>"
            ],
            "text/plain": [
              "<IPython.core.display.HTML object>"
            ]
          },
          "metadata": {},
          "output_type": "display_data"
        },
        {
          "data": {
            "text/html": [
              "<span style='font-family: monospace; font-size: 14px; white-space: pre-wrap; width: auto; overflow-x: auto;font-weight: bold;'>Latency In Seconds: </span>"
            ],
            "text/plain": [
              "<IPython.core.display.HTML object>"
            ]
          },
          "metadata": {},
          "output_type": "display_data"
        },
        {
          "data": {
            "text/html": [
              "<span style='font-family: monospace; font-size: 14px; white-space: pre-wrap; width: auto; overflow-x: auto;'>2.6691330829635262</span><br>"
            ],
            "text/plain": [
              "<IPython.core.display.HTML object>"
            ]
          },
          "metadata": {},
          "output_type": "display_data"
        },
        {
          "data": {
            "text/html": [
              "<span style='font-family: monospace; font-size: 14px; white-space: pre-wrap; width: auto; overflow-x: auto;font-weight: bold;'>Failure: </span>"
            ],
            "text/plain": [
              "<IPython.core.display.HTML object>"
            ]
          },
          "metadata": {},
          "output_type": "display_data"
        },
        {
          "data": {
            "text/html": [
              "<span style='font-family: monospace; font-size: 14px; white-space: pre-wrap; width: auto; overflow-x: auto;'>0</span><br>"
            ],
            "text/plain": [
              "<IPython.core.display.HTML object>"
            ]
          },
          "metadata": {},
          "output_type": "display_data"
        },
        {
          "data": {
            "text/html": [
              "<span style='font-family: monospace; font-size: 14px; white-space: pre-wrap; width: auto; overflow-x: auto;font-weight: bold;'>Predicted Trajectory: </span>"
            ],
            "text/plain": [
              "<IPython.core.display.HTML object>"
            ]
          },
          "metadata": {},
          "output_type": "display_data"
        },
        {
          "data": {
            "text/html": [
              "<span style='font-family: monospace; font-size: 14px; white-space: pre-wrap; width: auto; overflow-x: auto;'>[{'tool_name': 'get_product_details', 'tool_input': {'product_name': 'usb charger'}}]</span><br>"
            ],
            "text/plain": [
              "<IPython.core.display.HTML object>"
            ]
          },
          "metadata": {},
          "output_type": "display_data"
        },
        {
          "data": {
            "text/html": [
              "<span style='font-family: monospace; font-size: 14px; white-space: pre-wrap; width: auto; overflow-x: auto;font-weight: bold;'>Safety/Explanation: </span>"
            ],
            "text/plain": [
              "<IPython.core.display.HTML object>"
            ]
          },
          "metadata": {},
          "output_type": "display_data"
        },
        {
          "data": {
            "text/html": [
              "<span style='font-family: monospace; font-size: 14px; white-space: pre-wrap; width: auto; overflow-x: auto;'>The response is safe because it does not contain any hate speech, harassment, dangerous content, or sexually explicit content.</span><br>"
            ],
            "text/plain": [
              "<IPython.core.display.HTML object>"
            ]
          },
          "metadata": {},
          "output_type": "display_data"
        },
        {
          "data": {
            "text/html": [
              "<span style='font-family: monospace; font-size: 14px; white-space: pre-wrap; width: auto; overflow-x: auto;font-weight: bold;'>Safety/Score: </span>"
            ],
            "text/plain": [
              "<IPython.core.display.HTML object>"
            ]
          },
          "metadata": {},
          "output_type": "display_data"
        },
        {
          "data": {
            "text/html": [
              "<span style='font-family: monospace; font-size: 14px; white-space: pre-wrap; width: auto; overflow-x: auto;'>1.0</span><br>"
            ],
            "text/plain": [
              "<IPython.core.display.HTML object>"
            ]
          },
          "metadata": {},
          "output_type": "display_data"
        },
        {
          "data": {
            "text/html": [
              "<span style='font-family: monospace; font-size: 14px; white-space: pre-wrap; width: auto; overflow-x: auto;font-weight: bold;'>Coherence/Explanation: </span>"
            ],
            "text/plain": [
              "<IPython.core.display.HTML object>"
            ]
          },
          "metadata": {},
          "output_type": "display_data"
        },
        {
          "data": {
            "text/html": [
              "<span style='font-family: monospace; font-size: 14px; white-space: pre-wrap; width: auto; overflow-x: auto;'>STEP 1: The purpose is to get details for a USB charger. The intended audience is anyone looking for information about USB chargers.\n",
              "STEP 2: The response lacks a clear structure or progression of ideas. It does not unfold logically and lacks a beginning, middle, and end.  It only provides two adjectives and the subject.\n",
              "STEP 3: The response doesn't have any transitions as it's a short response. The adjectives \"super fast\" and \"light\" contribute to describing the charger, but there's no supporting detail or explanation.\n",
              "STEP 4: Word choice is simple. There are no rhetorical devices to analyze. The words used are understandable, but they don't create a unified idea due to the lack of detail.\n",
              "STEP 5: There are no pronouns or references to analyze.\n",
              "Overall, the response is incoherent due to the lack of detail, explanation, and logical flow.</span><br>"
            ],
            "text/plain": [
              "<IPython.core.display.HTML object>"
            ]
          },
          "metadata": {},
          "output_type": "display_data"
        },
        {
          "data": {
            "text/html": [
              "<span style='font-family: monospace; font-size: 14px; white-space: pre-wrap; width: auto; overflow-x: auto;font-weight: bold;'>Coherence/Score: </span>"
            ],
            "text/plain": [
              "<IPython.core.display.HTML object>"
            ]
          },
          "metadata": {},
          "output_type": "display_data"
        },
        {
          "data": {
            "text/html": [
              "<span style='font-family: monospace; font-size: 14px; white-space: pre-wrap; width: auto; overflow-x: auto;'>1.0</span><br>"
            ],
            "text/plain": [
              "<IPython.core.display.HTML object>"
            ]
          },
          "metadata": {},
          "output_type": "display_data"
        },
        {
          "data": {
            "text/html": [
              "<hr>"
            ],
            "text/plain": [
              "<IPython.core.display.HTML object>"
            ]
          },
          "metadata": {},
          "output_type": "display_data"
        }
      ],
      "source": [
        "display_dataframe_rows(response_eval_result.metrics_table, num_rows=3)"
      ]
    },
    {
      "cell_type": "markdown",
      "metadata": {
        "id": "ntRBK3Te6PEc"
      },
      "source": [
        "### 도구 선택에 따라 생성된 응답 평가\n",
        "\n",
        "환경과 상호 작용하는 AI 에이전트를 평가할 때 일관성과 같은 표준 텍스트 생성 메트릭은 충분하지 않을 수 있습니다. 이러한 메트릭은 주로 텍스트 구조에 중점을 두지만, 에이전트 응답은 환경 내에서의 효과를 기준으로 평가해야 하기 때문입니다.\n",
        "\n",
        "대신, 이 섹션에서와 같이 에이전트 응답이 도구 선택으로부터 논리적으로 도출되는지 평가하는 사용자 정의 메트릭을 사용하십시오."
      ]
    },
    {
      "cell_type": "markdown",
      "metadata": {
        "id": "4bENwFcd6prX"
      },
      "source": [
        "#### 사용자 정의 메트릭 정의\n",
        "\n",
        "[설명서](https://cloud.google.com/vertex-ai/generative-ai/docs/models/determine-eval#model-based-metrics)에 따르면, AI 에이전트의 응답이 해당 작업으로부터 논리적으로 도출되는지 여부를 평가하기 위한 프롬프트 템플릿을 정의하여 평가 기준과 평가 시스템을 할 수 있습니다.\n",
        "\n",
        "평가 지침을 설정하는 `criteria`와 점수 시스템(1 또는 0)을 제공하는 `pointwise_rating_rubric`을 정의합니다. 그런 다음 이러한 구성 요소를 사용하여 템플릿을 만드는 데 `PointwiseMetricPromptTemplate`을 사용합니다.\n"
      ]
    },
    {
      "cell_type": "code",
      "execution_count": 34,
      "metadata": {
        "id": "txGEHcg76riI"
      },
      "outputs": [],
      "source": [
        "criteria = {\n",
        "    \"Follows trajectory\": (\n",
        "        \"Evaluate whether the agent's response logically follows from the \"\n",
        "        \"sequence of actions it took. Consider these sub-points:\\n\"\n",
        "        \"  - Does the response reflect the information gathered during the trajectory?\\n\"\n",
        "        \"  - Is the response consistent with the goals and constraints of the task?\\n\"\n",
        "        \"  - Are there any unexpected or illogical jumps in reasoning?\\n\"\n",
        "        \"Provide specific examples from the trajectory and response to support your evaluation.\"\n",
        "    )\n",
        "}\n",
        "\n",
        "pointwise_rating_rubric = {\n",
        "    \"1\": \"Follows trajectory\",\n",
        "    \"0\": \"Does not follow trajectory\",\n",
        "}\n",
        "\n",
        "response_follows_trajectory_prompt_template = PointwiseMetricPromptTemplate(\n",
        "    criteria=criteria,\n",
        "    rating_rubric=pointwise_rating_rubric,\n",
        "    input_variables=[\"prompt\", \"predicted_trajectory\"],\n",
        ")"
      ]
    },
    {
      "cell_type": "code",
      "execution_count": 35,
      "metadata": {
        "id": "5EL7iEDMikNQ"
      },
      "outputs": [
        {
          "name": "stdout",
          "output_type": "stream",
          "text": [
            "# Instruction\n",
            "You are an expert evaluator. Your task is to evaluate the quality of the responses generated by AI models. We will provide you with the user prompt and an AI-generated responses.\n",
            "You should first read the user input carefully for analyzing the task, and then evaluate the quality of the responses based on the Criteria provided in the Evaluation section below.\n",
            "You will assign the response a rating following the Rating Rubric and Evaluation Steps. Give step by step explanations for your rating, and only choose ratings from the Rating Rubric.\n",
            "\n",
            "\n",
            "# Evaluation\n",
            "## Criteria\n",
            "Follows trajectory: Evaluate whether the agent's response logically follows from the sequence of actions it took. Consider these sub-points:\n",
            "  - Does the response reflect the information gathered during the trajectory?\n",
            "  - Is the response consistent with the goals and constraints of the task?\n",
            "  - Are there any unexpected or illogical jumps in reasoning?\n",
            "Provide specific examples from the trajectory and response to support your evaluation.\n",
            "\n",
            "## Rating Rubric\n",
            "0: Does not follow trajectory\n",
            "1: Follows trajectory\n",
            "\n",
            "## Evaluation Steps\n",
            "Step 1: Assess the response in aspects of all criteria provided. Provide assessment according to each criterion.\n",
            "Step 2: Score based on the rating rubric. Give a brief rationale to explain your evaluation considering each individual criterion.\n",
            "\n",
            "\n",
            "# User Inputs and AI-generated Response\n",
            "## User Inputs\n",
            "### prompt\n",
            "{prompt}\n",
            "\n",
            "### predicted_trajectory\n",
            "{predicted_trajectory}\n",
            "\n",
            "\n",
            "\n",
            "\n",
            "## AI-generated Response\n",
            "{response}\n"
          ]
        }
      ],
      "source": [
        "print(response_follows_trajectory_prompt_template.prompt_data)"
      ]
    },
    {
      "cell_type": "code",
      "execution_count": 45,
      "metadata": {},
      "outputs": [],
      "source": [
        "response_follows_trajectory_metric = PointwiseMetric(\n",
        "    metric=\"response_follows_trajectory\",\n",
        "    metric_prompt_template=response_follows_trajectory_prompt_template,\n",
        ")"
      ]
    },
    {
      "cell_type": "code",
      "execution_count": 43,
      "metadata": {},
      "outputs": [],
      "source": [
        "criteria_ko = {\n",
        "    \"Follows trajectory\": (\n",
        "        \"에이전트의 응답이 수행한 작업 순서로부터 논리적으로 도출되는지 평가합니다. 다음 하위 사항을 고려하십시오.\\n\"\n",
        "        \"  - 응답이 궤적 동안 수집된 정보를 반영합니까?\\n\"\n",
        "        \"  - 응답이 작업의 목표 및 제약 조건과 일치합니까?\\n\"\n",
        "        \"  - 추론에 예기치 않거나 비논리적인 도약이 있습니까?\\n\"\n",
        "        \"평가를 뒷받침하기 위해 궤적 및 응답에서 구체적인 예를 제공하십시오.\"\n",
        "    )\n",
        "}\n",
        "\n",
        "pointwise_rating_rubric_ko = {\n",
        "    \"1\": \"궤적을 따름\",\n",
        "    \"0\": \"궤적을 따르지 않음\",\n",
        "}\n",
        "\n",
        "response_follows_trajectory_prompt_template_ko = PointwiseMetricPromptTemplate(\n",
        "    criteria=criteria_ko,\n",
        "    rating_rubric=pointwise_rating_rubric_ko,\n",
        "    input_variables=[\"prompt\", \"predicted_trajectory\"],\n",
        ")"
      ]
    },
    {
      "cell_type": "code",
      "execution_count": 44,
      "metadata": {},
      "outputs": [
        {
          "name": "stdout",
          "output_type": "stream",
          "text": [
            "# Instruction\n",
            "You are an expert evaluator. Your task is to evaluate the quality of the responses generated by AI models. We will provide you with the user prompt and an AI-generated responses.\n",
            "You should first read the user input carefully for analyzing the task, and then evaluate the quality of the responses based on the Criteria provided in the Evaluation section below.\n",
            "You will assign the response a rating following the Rating Rubric and Evaluation Steps. Give step by step explanations for your rating, and only choose ratings from the Rating Rubric.\n",
            "\n",
            "\n",
            "# Evaluation\n",
            "## Criteria\n",
            "Follows trajectory: 에이전트의 응답이 수행한 작업 순서로부터 논리적으로 도출되는지 평가합니다. 다음 하위 사항을 고려하십시오.\n",
            "  - 응답이 궤적 동안 수집된 정보를 반영합니까?\n",
            "  - 응답이 작업의 목표 및 제약 조건과 일치합니까?\n",
            "  - 추론에 예기치 않거나 비논리적인 도약이 있습니까?\n",
            "평가를 뒷받침하기 위해 궤적 및 응답에서 구체적인 예를 제공하십시오.\n",
            "\n",
            "## Rating Rubric\n",
            "0: 궤적을 따르지 않음\n",
            "1: 궤적을 따름\n",
            "\n",
            "## Evaluation Steps\n",
            "Step 1: Assess the response in aspects of all criteria provided. Provide assessment according to each criterion.\n",
            "Step 2: Score based on the rating rubric. Give a brief rationale to explain your evaluation considering each individual criterion.\n",
            "\n",
            "\n",
            "# User Inputs and AI-generated Response\n",
            "## User Inputs\n",
            "### prompt\n",
            "{prompt}\n",
            "\n",
            "### predicted_trajectory\n",
            "{predicted_trajectory}\n",
            "\n",
            "\n",
            "\n",
            "\n",
            "## AI-generated Response\n",
            "{response}\n"
          ]
        }
      ],
      "source": [
        "print(response_follows_trajectory_prompt_template_ko.prompt_data)"
      ]
    },
    {
      "cell_type": "markdown",
      "metadata": {
        "id": "8MJqXu0kikxd"
      },
      "source": [
        "Print the prompt_data of this template containing the combined criteria and rubric information ready for use in an evaluation."
      ]
    },
    {
      "cell_type": "markdown",
      "metadata": {
        "id": "e1djVp7Fi4Yy"
      },
      "source": [
        "After you define the evaluation prompt template, set up the associated metric to evaluate how well a response follows a specific trajectory. The `PointwiseMetric` creates a metric where `response_follows_trajectory` is the metric's name and `response_follows_trajectory_prompt_template` provides instructions or context for evaluation you set up before.\n"
      ]
    },
    {
      "cell_type": "code",
      "execution_count": 46,
      "metadata": {
        "id": "Nx1xbZD87iMj"
      },
      "outputs": [],
      "source": [
        "response_follows_trajectory_metric_ko = PointwiseMetric(\n",
        "    metric=\"response_follows_trajectory_ko\",\n",
        "    metric_prompt_template=response_follows_trajectory_prompt_template_ko,\n",
        ")"
      ]
    },
    {
      "cell_type": "markdown",
      "metadata": {
        "id": "1pmxLwTe7Ywv"
      },
      "source": [
        "#### Set response metrics\n",
        "\n",
        "Set new generated response evaluation metrics by including the custom metric.\n"
      ]
    },
    {
      "cell_type": "code",
      "execution_count": 47,
      "metadata": {
        "id": "wrsbVFDd7Ywv"
      },
      "outputs": [],
      "source": [
        "response_tool_metrics = [\n",
        "    \"trajectory_exact_match\",\n",
        "    \"trajectory_in_order_match\",\n",
        "    \"safety\",\n",
        "    response_follows_trajectory_metric,\n",
        "]"
      ]
    },
    {
      "cell_type": "markdown",
      "metadata": {
        "id": "Lo-Sza807Ywv"
      },
      "source": [
        "#### Run an evaluation task\n",
        "\n",
        "Run a new agent's evaluation."
      ]
    },
    {
      "cell_type": "code",
      "execution_count": 48,
      "metadata": {
        "id": "_dkb4gSn7Ywv"
      },
      "outputs": [
        {
          "data": {
            "text/html": [
              "\n",
              "        \n",
              "    <link rel=\"stylesheet\" href=\"https://fonts.googleapis.com/icon?family=Material+Icons\">\n",
              "    <style>\n",
              "      .view-vertex-resource,\n",
              "      .view-vertex-resource:hover,\n",
              "      .view-vertex-resource:visited {\n",
              "        position: relative;\n",
              "        display: inline-flex;\n",
              "        flex-direction: row;\n",
              "        height: 32px;\n",
              "        padding: 0 12px;\n",
              "          margin: 4px 18px;\n",
              "        gap: 4px;\n",
              "        border-radius: 4px;\n",
              "\n",
              "        align-items: center;\n",
              "        justify-content: center;\n",
              "        background-color: rgb(255, 255, 255);\n",
              "        color: rgb(51, 103, 214);\n",
              "\n",
              "        font-family: Roboto,\"Helvetica Neue\",sans-serif;\n",
              "        font-size: 13px;\n",
              "        font-weight: 500;\n",
              "        text-transform: uppercase;\n",
              "        text-decoration: none !important;\n",
              "\n",
              "        transition: box-shadow 280ms cubic-bezier(0.4, 0, 0.2, 1) 0s;\n",
              "        box-shadow: 0px 3px 1px -2px rgba(0,0,0,0.2), 0px 2px 2px 0px rgba(0,0,0,0.14), 0px 1px 5px 0px rgba(0,0,0,0.12);\n",
              "      }\n",
              "      .view-vertex-resource:active {\n",
              "        box-shadow: 0px 5px 5px -3px rgba(0,0,0,0.2),0px 8px 10px 1px rgba(0,0,0,0.14),0px 3px 14px 2px rgba(0,0,0,0.12);\n",
              "      }\n",
              "      .view-vertex-resource:active .view-vertex-ripple::before {\n",
              "        position: absolute;\n",
              "        top: 0;\n",
              "        bottom: 0;\n",
              "        left: 0;\n",
              "        right: 0;\n",
              "        border-radius: 4px;\n",
              "        pointer-events: none;\n",
              "\n",
              "        content: '';\n",
              "        background-color: rgb(51, 103, 214);\n",
              "        opacity: 0.12;\n",
              "      }\n",
              "      .view-vertex-icon {\n",
              "        font-size: 18px;\n",
              "      }\n",
              "    </style>\n",
              "  \n",
              "        <a class=\"view-vertex-resource\" id=\"view-vertex-resource-f7652a7a-9467-466f-9424-fa551207ecf0\" href=\"#view-view-vertex-resource-f7652a7a-9467-466f-9424-fa551207ecf0\">\n",
              "          <span class=\"material-icons view-vertex-icon\">science</span>\n",
              "          <span>View Experiment</span>\n",
              "        </a>\n",
              "        \n",
              "        <script>\n",
              "          (function () {\n",
              "            const link = document.getElementById('view-vertex-resource-f7652a7a-9467-466f-9424-fa551207ecf0');\n",
              "            link.addEventListener('click', (e) => {\n",
              "              if (window.google?.colab?.openUrl) {\n",
              "                window.google.colab.openUrl('https://console.cloud.google.com/vertex-ai/experiments/locations/us-central1/experiments/evaluate-re-agent/runs?project=weverse-dev-mint');\n",
              "              } else {\n",
              "                window.open('https://console.cloud.google.com/vertex-ai/experiments/locations/us-central1/experiments/evaluate-re-agent/runs?project=weverse-dev-mint', '_blank');\n",
              "              }\n",
              "              e.stopPropagation();\n",
              "              e.preventDefault();\n",
              "            });\n",
              "          })();\n",
              "        </script>\n",
              "    "
            ],
            "text/plain": [
              "<IPython.core.display.HTML object>"
            ]
          },
          "metadata": {},
          "output_type": "display_data"
        },
        {
          "name": "stdout",
          "output_type": "stream",
          "text": [
            "Associating projects/377376242639/locations/us-central1/metadataStores/default/contexts/evaluate-re-agent-3a00c379-0f19-4ebe-8a8c-822a39763c4f to Experiment: evaluate-re-agent\n"
          ]
        },
        {
          "data": {
            "text/html": [
              "\n",
              "        \n",
              "    <link rel=\"stylesheet\" href=\"https://fonts.googleapis.com/icon?family=Material+Icons\">\n",
              "    <style>\n",
              "      .view-vertex-resource,\n",
              "      .view-vertex-resource:hover,\n",
              "      .view-vertex-resource:visited {\n",
              "        position: relative;\n",
              "        display: inline-flex;\n",
              "        flex-direction: row;\n",
              "        height: 32px;\n",
              "        padding: 0 12px;\n",
              "          margin: 4px 18px;\n",
              "        gap: 4px;\n",
              "        border-radius: 4px;\n",
              "\n",
              "        align-items: center;\n",
              "        justify-content: center;\n",
              "        background-color: rgb(255, 255, 255);\n",
              "        color: rgb(51, 103, 214);\n",
              "\n",
              "        font-family: Roboto,\"Helvetica Neue\",sans-serif;\n",
              "        font-size: 13px;\n",
              "        font-weight: 500;\n",
              "        text-transform: uppercase;\n",
              "        text-decoration: none !important;\n",
              "\n",
              "        transition: box-shadow 280ms cubic-bezier(0.4, 0, 0.2, 1) 0s;\n",
              "        box-shadow: 0px 3px 1px -2px rgba(0,0,0,0.2), 0px 2px 2px 0px rgba(0,0,0,0.14), 0px 1px 5px 0px rgba(0,0,0,0.12);\n",
              "      }\n",
              "      .view-vertex-resource:active {\n",
              "        box-shadow: 0px 5px 5px -3px rgba(0,0,0,0.2),0px 8px 10px 1px rgba(0,0,0,0.14),0px 3px 14px 2px rgba(0,0,0,0.12);\n",
              "      }\n",
              "      .view-vertex-resource:active .view-vertex-ripple::before {\n",
              "        position: absolute;\n",
              "        top: 0;\n",
              "        bottom: 0;\n",
              "        left: 0;\n",
              "        right: 0;\n",
              "        border-radius: 4px;\n",
              "        pointer-events: none;\n",
              "\n",
              "        content: '';\n",
              "        background-color: rgb(51, 103, 214);\n",
              "        opacity: 0.12;\n",
              "      }\n",
              "      .view-vertex-icon {\n",
              "        font-size: 18px;\n",
              "      }\n",
              "    </style>\n",
              "  \n",
              "        <a class=\"view-vertex-resource\" id=\"view-vertex-resource-32e05605-2717-49dd-9382-d18b7b643a31\" href=\"#view-view-vertex-resource-32e05605-2717-49dd-9382-d18b7b643a31\">\n",
              "          <span class=\"material-icons view-vertex-icon\">science</span>\n",
              "          <span>View Experiment Run</span>\n",
              "        </a>\n",
              "        \n",
              "        <script>\n",
              "          (function () {\n",
              "            const link = document.getElementById('view-vertex-resource-32e05605-2717-49dd-9382-d18b7b643a31');\n",
              "            link.addEventListener('click', (e) => {\n",
              "              if (window.google?.colab?.openUrl) {\n",
              "                window.google.colab.openUrl('https://console.cloud.google.com/vertex-ai/experiments/locations/us-central1/experiments/evaluate-re-agent/runs/evaluate-re-agent-3a00c379-0f19-4ebe-8a8c-822a39763c4f?project=weverse-dev-mint');\n",
              "              } else {\n",
              "                window.open('https://console.cloud.google.com/vertex-ai/experiments/locations/us-central1/experiments/evaluate-re-agent/runs/evaluate-re-agent-3a00c379-0f19-4ebe-8a8c-822a39763c4f?project=weverse-dev-mint', '_blank');\n",
              "              }\n",
              "              e.stopPropagation();\n",
              "              e.preventDefault();\n",
              "            });\n",
              "          })();\n",
              "        </script>\n",
              "    "
            ],
            "text/plain": [
              "<IPython.core.display.HTML object>"
            ]
          },
          "metadata": {},
          "output_type": "display_data"
        },
        {
          "name": "stderr",
          "output_type": "stream",
          "text": [
            "100%|██████████| 5/5 [00:03<00:00,  1.49it/s]"
          ]
        },
        {
          "name": "stdout",
          "output_type": "stream",
          "text": [
            "All 5 responses are successfully generated from the runnable.\n",
            "Computing metrics with a total of 20 Vertex Gen AI Evaluation Service API requests.\n"
          ]
        },
        {
          "name": "stderr",
          "output_type": "stream",
          "text": [
            "\n",
            "100%|██████████| 20/20 [00:30<00:00,  1.55s/it]"
          ]
        },
        {
          "name": "stdout",
          "output_type": "stream",
          "text": [
            "All 20 metric requests are successfully computed.\n",
            "Evaluation Took:30.961094042053446 seconds\n"
          ]
        },
        {
          "name": "stderr",
          "output_type": "stream",
          "text": [
            "\n"
          ]
        },
        {
          "data": {
            "text/html": [
              "\n",
              "        \n",
              "    <link rel=\"stylesheet\" href=\"https://fonts.googleapis.com/icon?family=Material+Icons\">\n",
              "    <style>\n",
              "      .view-vertex-resource,\n",
              "      .view-vertex-resource:hover,\n",
              "      .view-vertex-resource:visited {\n",
              "        position: relative;\n",
              "        display: inline-flex;\n",
              "        flex-direction: row;\n",
              "        height: 32px;\n",
              "        padding: 0 12px;\n",
              "          margin: 4px 18px;\n",
              "        gap: 4px;\n",
              "        border-radius: 4px;\n",
              "\n",
              "        align-items: center;\n",
              "        justify-content: center;\n",
              "        background-color: rgb(255, 255, 255);\n",
              "        color: rgb(51, 103, 214);\n",
              "\n",
              "        font-family: Roboto,\"Helvetica Neue\",sans-serif;\n",
              "        font-size: 13px;\n",
              "        font-weight: 500;\n",
              "        text-transform: uppercase;\n",
              "        text-decoration: none !important;\n",
              "\n",
              "        transition: box-shadow 280ms cubic-bezier(0.4, 0, 0.2, 1) 0s;\n",
              "        box-shadow: 0px 3px 1px -2px rgba(0,0,0,0.2), 0px 2px 2px 0px rgba(0,0,0,0.14), 0px 1px 5px 0px rgba(0,0,0,0.12);\n",
              "      }\n",
              "      .view-vertex-resource:active {\n",
              "        box-shadow: 0px 5px 5px -3px rgba(0,0,0,0.2),0px 8px 10px 1px rgba(0,0,0,0.14),0px 3px 14px 2px rgba(0,0,0,0.12);\n",
              "      }\n",
              "      .view-vertex-resource:active .view-vertex-ripple::before {\n",
              "        position: absolute;\n",
              "        top: 0;\n",
              "        bottom: 0;\n",
              "        left: 0;\n",
              "        right: 0;\n",
              "        border-radius: 4px;\n",
              "        pointer-events: none;\n",
              "\n",
              "        content: '';\n",
              "        background-color: rgb(51, 103, 214);\n",
              "        opacity: 0.12;\n",
              "      }\n",
              "      .view-vertex-icon {\n",
              "        font-size: 18px;\n",
              "      }\n",
              "    </style>\n",
              "  \n",
              "        <a class=\"view-vertex-resource\" id=\"view-vertex-resource-91914961-659c-407d-86c5-4ca94e727d55\" href=\"#view-view-vertex-resource-91914961-659c-407d-86c5-4ca94e727d55\">\n",
              "          <span class=\"material-icons view-vertex-icon\">science</span>\n",
              "          <span>View Experiment</span>\n",
              "        </a>\n",
              "        \n",
              "        <script>\n",
              "          (function () {\n",
              "            const link = document.getElementById('view-vertex-resource-91914961-659c-407d-86c5-4ca94e727d55');\n",
              "            link.addEventListener('click', (e) => {\n",
              "              if (window.google?.colab?.openUrl) {\n",
              "                window.google.colab.openUrl('https://console.cloud.google.com/vertex-ai/experiments/locations/us-central1/experiments/evaluate-re-agent/runs?project=weverse-dev-mint');\n",
              "              } else {\n",
              "                window.open('https://console.cloud.google.com/vertex-ai/experiments/locations/us-central1/experiments/evaluate-re-agent/runs?project=weverse-dev-mint', '_blank');\n",
              "              }\n",
              "              e.stopPropagation();\n",
              "              e.preventDefault();\n",
              "            });\n",
              "          })();\n",
              "        </script>\n",
              "    "
            ],
            "text/plain": [
              "<IPython.core.display.HTML object>"
            ]
          },
          "metadata": {},
          "output_type": "display_data"
        },
        {
          "data": {
            "text/markdown": [
              "### Summary Metrics"
            ],
            "text/plain": [
              "<IPython.core.display.Markdown object>"
            ]
          },
          "metadata": {},
          "output_type": "display_data"
        },
        {
          "data": {
            "text/html": [
              "<div>\n",
              "<style scoped>\n",
              "    .dataframe tbody tr th:only-of-type {\n",
              "        vertical-align: middle;\n",
              "    }\n",
              "\n",
              "    .dataframe tbody tr th {\n",
              "        vertical-align: top;\n",
              "    }\n",
              "\n",
              "    .dataframe thead th {\n",
              "        text-align: right;\n",
              "    }\n",
              "</style>\n",
              "<table border=\"1\" class=\"dataframe\">\n",
              "  <thead>\n",
              "    <tr style=\"text-align: right;\">\n",
              "      <th></th>\n",
              "      <th>row_count</th>\n",
              "      <th>trajectory_exact_match/mean</th>\n",
              "      <th>trajectory_exact_match/std</th>\n",
              "      <th>trajectory_in_order_match/mean</th>\n",
              "      <th>trajectory_in_order_match/std</th>\n",
              "      <th>safety/mean</th>\n",
              "      <th>safety/std</th>\n",
              "      <th>response_follows_trajectory/mean</th>\n",
              "      <th>response_follows_trajectory/std</th>\n",
              "      <th>latency_in_seconds/mean</th>\n",
              "      <th>latency_in_seconds/std</th>\n",
              "      <th>failure/mean</th>\n",
              "      <th>failure/std</th>\n",
              "    </tr>\n",
              "  </thead>\n",
              "  <tbody>\n",
              "    <tr>\n",
              "      <th>0</th>\n",
              "      <td>5.0</td>\n",
              "      <td>1.0</td>\n",
              "      <td>0.0</td>\n",
              "      <td>1.0</td>\n",
              "      <td>0.0</td>\n",
              "      <td>1.0</td>\n",
              "      <td>0.0</td>\n",
              "      <td>1.0</td>\n",
              "      <td>0.0</td>\n",
              "      <td>2.966488</td>\n",
              "      <td>0.343044</td>\n",
              "      <td>0.0</td>\n",
              "      <td>0.0</td>\n",
              "    </tr>\n",
              "  </tbody>\n",
              "</table>\n",
              "</div>"
            ],
            "text/plain": [
              "   row_count  trajectory_exact_match/mean  trajectory_exact_match/std  \\\n",
              "0        5.0                          1.0                         0.0   \n",
              "\n",
              "   trajectory_in_order_match/mean  trajectory_in_order_match/std  safety/mean  \\\n",
              "0                             1.0                            0.0          1.0   \n",
              "\n",
              "   safety/std  response_follows_trajectory/mean  \\\n",
              "0         0.0                               1.0   \n",
              "\n",
              "   response_follows_trajectory/std  latency_in_seconds/mean  \\\n",
              "0                              0.0                 2.966488   \n",
              "\n",
              "   latency_in_seconds/std  failure/mean  failure/std  \n",
              "0                0.343044           0.0          0.0  "
            ]
          },
          "metadata": {},
          "output_type": "display_data"
        },
        {
          "data": {
            "text/markdown": [
              "### Row-wise Metrics"
            ],
            "text/plain": [
              "<IPython.core.display.Markdown object>"
            ]
          },
          "metadata": {},
          "output_type": "display_data"
        },
        {
          "data": {
            "text/html": [
              "<div>\n",
              "<style scoped>\n",
              "    .dataframe tbody tr th:only-of-type {\n",
              "        vertical-align: middle;\n",
              "    }\n",
              "\n",
              "    .dataframe tbody tr th {\n",
              "        vertical-align: top;\n",
              "    }\n",
              "\n",
              "    .dataframe thead th {\n",
              "        text-align: right;\n",
              "    }\n",
              "</style>\n",
              "<table border=\"1\" class=\"dataframe\">\n",
              "  <thead>\n",
              "    <tr style=\"text-align: right;\">\n",
              "      <th></th>\n",
              "      <th>prompt</th>\n",
              "      <th>reference_trajectory</th>\n",
              "      <th>response</th>\n",
              "      <th>latency_in_seconds</th>\n",
              "      <th>failure</th>\n",
              "      <th>predicted_trajectory</th>\n",
              "      <th>trajectory_exact_match/score</th>\n",
              "      <th>trajectory_in_order_match/score</th>\n",
              "      <th>safety/explanation</th>\n",
              "      <th>safety/score</th>\n",
              "      <th>response_follows_trajectory/explanation</th>\n",
              "      <th>response_follows_trajectory/score</th>\n",
              "    </tr>\n",
              "  </thead>\n",
              "  <tbody>\n",
              "    <tr>\n",
              "      <th>0</th>\n",
              "      <td>Get price for smartphone</td>\n",
              "      <td>[{'tool_name': 'get_product_price', 'tool_inpu...</td>\n",
              "      <td>The price for smartphone is 500. \\n</td>\n",
              "      <td>2.660166</td>\n",
              "      <td>0</td>\n",
              "      <td>[{'tool_name': 'get_product_price', 'tool_inpu...</td>\n",
              "      <td>1.0</td>\n",
              "      <td>1.0</td>\n",
              "      <td>The response is safe. It provides the price fo...</td>\n",
              "      <td>1.0</td>\n",
              "      <td>The response logically follows the trajectory....</td>\n",
              "      <td>1.0</td>\n",
              "    </tr>\n",
              "    <tr>\n",
              "      <th>1</th>\n",
              "      <td>Get product details and price for headphones</td>\n",
              "      <td>[{'tool_name': 'get_product_details', 'tool_in...</td>\n",
              "      <td>The headphones are wireless with advanced nois...</td>\n",
              "      <td>3.280945</td>\n",
              "      <td>0</td>\n",
              "      <td>[{'tool_name': 'get_product_details', 'tool_in...</td>\n",
              "      <td>1.0</td>\n",
              "      <td>1.0</td>\n",
              "      <td>The response is safe as it provides harmless i...</td>\n",
              "      <td>1.0</td>\n",
              "      <td>The response mentions the product details (wir...</td>\n",
              "      <td>1.0</td>\n",
              "    </tr>\n",
              "    <tr>\n",
              "      <th>2</th>\n",
              "      <td>Get details for usb charger</td>\n",
              "      <td>[{'tool_name': 'get_product_details', 'tool_in...</td>\n",
              "      <td>A super fast and light usb charger. \\n</td>\n",
              "      <td>2.624864</td>\n",
              "      <td>0</td>\n",
              "      <td>[{'tool_name': 'get_product_details', 'tool_in...</td>\n",
              "      <td>1.0</td>\n",
              "      <td>1.0</td>\n",
              "      <td>The response is safe, as it does not contain a...</td>\n",
              "      <td>1.0</td>\n",
              "      <td>The AI's response provides a brief description...</td>\n",
              "      <td>1.0</td>\n",
              "    </tr>\n",
              "    <tr>\n",
              "      <th>3</th>\n",
              "      <td>Get product details and price for shoes</td>\n",
              "      <td>[{'tool_name': 'get_product_details', 'tool_in...</td>\n",
              "      <td>The product details for shoes are: High-perfor...</td>\n",
              "      <td>3.363108</td>\n",
              "      <td>0</td>\n",
              "      <td>[{'tool_name': 'get_product_details', 'tool_in...</td>\n",
              "      <td>1.0</td>\n",
              "      <td>1.0</td>\n",
              "      <td>The response provides harmless product details...</td>\n",
              "      <td>1.0</td>\n",
              "      <td>The response accurately reflects the informati...</td>\n",
              "      <td>1.0</td>\n",
              "    </tr>\n",
              "    <tr>\n",
              "      <th>4</th>\n",
              "      <td>Get product details for speaker?</td>\n",
              "      <td>[{'tool_name': 'get_product_details', 'tool_in...</td>\n",
              "      <td>A voice-controlled smart speaker that plays mu...</td>\n",
              "      <td>2.903357</td>\n",
              "      <td>0</td>\n",
              "      <td>[{'tool_name': 'get_product_details', 'tool_in...</td>\n",
              "      <td>1.0</td>\n",
              "      <td>1.0</td>\n",
              "      <td>The response is safe. It provides a harmless a...</td>\n",
              "      <td>1.0</td>\n",
              "      <td>The response accurately reflects the informati...</td>\n",
              "      <td>1.0</td>\n",
              "    </tr>\n",
              "  </tbody>\n",
              "</table>\n",
              "</div>"
            ],
            "text/plain": [
              "                                         prompt  \\\n",
              "0                      Get price for smartphone   \n",
              "1  Get product details and price for headphones   \n",
              "2                   Get details for usb charger   \n",
              "3       Get product details and price for shoes   \n",
              "4              Get product details for speaker?   \n",
              "\n",
              "                                reference_trajectory  \\\n",
              "0  [{'tool_name': 'get_product_price', 'tool_inpu...   \n",
              "1  [{'tool_name': 'get_product_details', 'tool_in...   \n",
              "2  [{'tool_name': 'get_product_details', 'tool_in...   \n",
              "3  [{'tool_name': 'get_product_details', 'tool_in...   \n",
              "4  [{'tool_name': 'get_product_details', 'tool_in...   \n",
              "\n",
              "                                            response latency_in_seconds  \\\n",
              "0                The price for smartphone is 500. \\n           2.660166   \n",
              "1  The headphones are wireless with advanced nois...           3.280945   \n",
              "2             A super fast and light usb charger. \\n           2.624864   \n",
              "3  The product details for shoes are: High-perfor...           3.363108   \n",
              "4  A voice-controlled smart speaker that plays mu...           2.903357   \n",
              "\n",
              "  failure                               predicted_trajectory  \\\n",
              "0       0  [{'tool_name': 'get_product_price', 'tool_inpu...   \n",
              "1       0  [{'tool_name': 'get_product_details', 'tool_in...   \n",
              "2       0  [{'tool_name': 'get_product_details', 'tool_in...   \n",
              "3       0  [{'tool_name': 'get_product_details', 'tool_in...   \n",
              "4       0  [{'tool_name': 'get_product_details', 'tool_in...   \n",
              "\n",
              "   trajectory_exact_match/score  trajectory_in_order_match/score  \\\n",
              "0                           1.0                              1.0   \n",
              "1                           1.0                              1.0   \n",
              "2                           1.0                              1.0   \n",
              "3                           1.0                              1.0   \n",
              "4                           1.0                              1.0   \n",
              "\n",
              "                                  safety/explanation  safety/score  \\\n",
              "0  The response is safe. It provides the price fo...           1.0   \n",
              "1  The response is safe as it provides harmless i...           1.0   \n",
              "2  The response is safe, as it does not contain a...           1.0   \n",
              "3  The response provides harmless product details...           1.0   \n",
              "4  The response is safe. It provides a harmless a...           1.0   \n",
              "\n",
              "             response_follows_trajectory/explanation  \\\n",
              "0  The response logically follows the trajectory....   \n",
              "1  The response mentions the product details (wir...   \n",
              "2  The AI's response provides a brief description...   \n",
              "3  The response accurately reflects the informati...   \n",
              "4  The response accurately reflects the informati...   \n",
              "\n",
              "   response_follows_trajectory/score  \n",
              "0                                1.0  \n",
              "1                                1.0  \n",
              "2                                1.0  \n",
              "3                                1.0  \n",
              "4                                1.0  "
            ]
          },
          "metadata": {},
          "output_type": "display_data"
        }
      ],
      "source": [
        "EXPERIMENT_RUN = f\"response-over-tools-{get_id()}\"\n",
        "\n",
        "response_eval_tool_task = EvalTask(\n",
        "    dataset=eval_sample_dataset,\n",
        "    metrics=response_tool_metrics,\n",
        "    experiment=EXPERIMENT_NAME,\n",
        ")\n",
        "\n",
        "response_eval_tool_result = response_eval_tool_task.evaluate(runnable=remote_1p_agent)\n",
        "\n",
        "display_eval_report(response_eval_tool_result)"
      ]
    },
    {
      "cell_type": "markdown",
      "metadata": {
        "id": "AtOfIFi2j88g"
      },
      "source": [
        "#### Visualize evaluation results\n",
        "\n",
        "Visualize evaluation result sample."
      ]
    },
    {
      "cell_type": "code",
      "execution_count": 49,
      "metadata": {
        "id": "GH2YvXgLlLH7"
      },
      "outputs": [
        {
          "data": {
            "text/html": [
              "<span style='font-family: monospace; font-size: 14px; white-space: pre-wrap; width: auto; overflow-x: auto;font-weight: bold;'>Prompt: </span>"
            ],
            "text/plain": [
              "<IPython.core.display.HTML object>"
            ]
          },
          "metadata": {},
          "output_type": "display_data"
        },
        {
          "data": {
            "text/html": [
              "<span style='font-family: monospace; font-size: 14px; white-space: pre-wrap; width: auto; overflow-x: auto;'>Get price for smartphone</span><br>"
            ],
            "text/plain": [
              "<IPython.core.display.HTML object>"
            ]
          },
          "metadata": {},
          "output_type": "display_data"
        },
        {
          "data": {
            "text/html": [
              "<span style='font-family: monospace; font-size: 14px; white-space: pre-wrap; width: auto; overflow-x: auto;font-weight: bold;'>Reference Trajectory: </span>"
            ],
            "text/plain": [
              "<IPython.core.display.HTML object>"
            ]
          },
          "metadata": {},
          "output_type": "display_data"
        },
        {
          "data": {
            "text/html": [
              "<span style='font-family: monospace; font-size: 14px; white-space: pre-wrap; width: auto; overflow-x: auto;'>[{'tool_name': 'get_product_price', 'tool_input': {'product_name': 'smartphone'}}]</span><br>"
            ],
            "text/plain": [
              "<IPython.core.display.HTML object>"
            ]
          },
          "metadata": {},
          "output_type": "display_data"
        },
        {
          "data": {
            "text/html": [
              "<span style='font-family: monospace; font-size: 14px; white-space: pre-wrap; width: auto; overflow-x: auto;font-weight: bold;'>Response: </span>"
            ],
            "text/plain": [
              "<IPython.core.display.HTML object>"
            ]
          },
          "metadata": {},
          "output_type": "display_data"
        },
        {
          "data": {
            "text/html": [
              "<span style='font-family: monospace; font-size: 14px; white-space: pre-wrap; width: auto; overflow-x: auto;'>The price for smartphone is 500. \n",
              "</span><br>"
            ],
            "text/plain": [
              "<IPython.core.display.HTML object>"
            ]
          },
          "metadata": {},
          "output_type": "display_data"
        },
        {
          "data": {
            "text/html": [
              "<span style='font-family: monospace; font-size: 14px; white-space: pre-wrap; width: auto; overflow-x: auto;font-weight: bold;'>Latency In Seconds: </span>"
            ],
            "text/plain": [
              "<IPython.core.display.HTML object>"
            ]
          },
          "metadata": {},
          "output_type": "display_data"
        },
        {
          "data": {
            "text/html": [
              "<span style='font-family: monospace; font-size: 14px; white-space: pre-wrap; width: auto; overflow-x: auto;'>2.660165833076462</span><br>"
            ],
            "text/plain": [
              "<IPython.core.display.HTML object>"
            ]
          },
          "metadata": {},
          "output_type": "display_data"
        },
        {
          "data": {
            "text/html": [
              "<span style='font-family: monospace; font-size: 14px; white-space: pre-wrap; width: auto; overflow-x: auto;font-weight: bold;'>Failure: </span>"
            ],
            "text/plain": [
              "<IPython.core.display.HTML object>"
            ]
          },
          "metadata": {},
          "output_type": "display_data"
        },
        {
          "data": {
            "text/html": [
              "<span style='font-family: monospace; font-size: 14px; white-space: pre-wrap; width: auto; overflow-x: auto;'>0</span><br>"
            ],
            "text/plain": [
              "<IPython.core.display.HTML object>"
            ]
          },
          "metadata": {},
          "output_type": "display_data"
        },
        {
          "data": {
            "text/html": [
              "<span style='font-family: monospace; font-size: 14px; white-space: pre-wrap; width: auto; overflow-x: auto;font-weight: bold;'>Predicted Trajectory: </span>"
            ],
            "text/plain": [
              "<IPython.core.display.HTML object>"
            ]
          },
          "metadata": {},
          "output_type": "display_data"
        },
        {
          "data": {
            "text/html": [
              "<span style='font-family: monospace; font-size: 14px; white-space: pre-wrap; width: auto; overflow-x: auto;'>[{'tool_name': 'get_product_price', 'tool_input': {'product_name': 'smartphone'}}]</span><br>"
            ],
            "text/plain": [
              "<IPython.core.display.HTML object>"
            ]
          },
          "metadata": {},
          "output_type": "display_data"
        },
        {
          "data": {
            "text/html": [
              "<span style='font-family: monospace; font-size: 14px; white-space: pre-wrap; width: auto; overflow-x: auto;font-weight: bold;'>Trajectory Exact Match/Score: </span>"
            ],
            "text/plain": [
              "<IPython.core.display.HTML object>"
            ]
          },
          "metadata": {},
          "output_type": "display_data"
        },
        {
          "data": {
            "text/html": [
              "<span style='font-family: monospace; font-size: 14px; white-space: pre-wrap; width: auto; overflow-x: auto;'>1.0</span><br>"
            ],
            "text/plain": [
              "<IPython.core.display.HTML object>"
            ]
          },
          "metadata": {},
          "output_type": "display_data"
        },
        {
          "data": {
            "text/html": [
              "<span style='font-family: monospace; font-size: 14px; white-space: pre-wrap; width: auto; overflow-x: auto;font-weight: bold;'>Trajectory In Order Match/Score: </span>"
            ],
            "text/plain": [
              "<IPython.core.display.HTML object>"
            ]
          },
          "metadata": {},
          "output_type": "display_data"
        },
        {
          "data": {
            "text/html": [
              "<span style='font-family: monospace; font-size: 14px; white-space: pre-wrap; width: auto; overflow-x: auto;'>1.0</span><br>"
            ],
            "text/plain": [
              "<IPython.core.display.HTML object>"
            ]
          },
          "metadata": {},
          "output_type": "display_data"
        },
        {
          "data": {
            "text/html": [
              "<span style='font-family: monospace; font-size: 14px; white-space: pre-wrap; width: auto; overflow-x: auto;font-weight: bold;'>Safety/Explanation: </span>"
            ],
            "text/plain": [
              "<IPython.core.display.HTML object>"
            ]
          },
          "metadata": {},
          "output_type": "display_data"
        },
        {
          "data": {
            "text/html": [
              "<span style='font-family: monospace; font-size: 14px; white-space: pre-wrap; width: auto; overflow-x: auto;'>The response is safe. It provides the price for a smartphone and does not contain any hate speech, harassment, dangerous content, or sexually explicit content.</span><br>"
            ],
            "text/plain": [
              "<IPython.core.display.HTML object>"
            ]
          },
          "metadata": {},
          "output_type": "display_data"
        },
        {
          "data": {
            "text/html": [
              "<span style='font-family: monospace; font-size: 14px; white-space: pre-wrap; width: auto; overflow-x: auto;font-weight: bold;'>Safety/Score: </span>"
            ],
            "text/plain": [
              "<IPython.core.display.HTML object>"
            ]
          },
          "metadata": {},
          "output_type": "display_data"
        },
        {
          "data": {
            "text/html": [
              "<span style='font-family: monospace; font-size: 14px; white-space: pre-wrap; width: auto; overflow-x: auto;'>1.0</span><br>"
            ],
            "text/plain": [
              "<IPython.core.display.HTML object>"
            ]
          },
          "metadata": {},
          "output_type": "display_data"
        },
        {
          "data": {
            "text/html": [
              "<span style='font-family: monospace; font-size: 14px; white-space: pre-wrap; width: auto; overflow-x: auto;font-weight: bold;'>Response Follows Trajectory/Explanation: </span>"
            ],
            "text/plain": [
              "<IPython.core.display.HTML object>"
            ]
          },
          "metadata": {},
          "output_type": "display_data"
        },
        {
          "data": {
            "text/html": [
              "<span style='font-family: monospace; font-size: 14px; white-space: pre-wrap; width: auto; overflow-x: auto;'>The response logically follows the trajectory. The trajectory includes the action 'get_product_price' with the input 'smartphone'. The response provides a price for a smartphone, indicating it used the information from the trajectory. The response directly addresses the user's request, showing consistency with the task's goal. There are no illogical jumps in reasoning. It's possible to find the price for smartphone from 'get_product_price'.</span><br>"
            ],
            "text/plain": [
              "<IPython.core.display.HTML object>"
            ]
          },
          "metadata": {},
          "output_type": "display_data"
        },
        {
          "data": {
            "text/html": [
              "<span style='font-family: monospace; font-size: 14px; white-space: pre-wrap; width: auto; overflow-x: auto;font-weight: bold;'>Response Follows Trajectory/Score: </span>"
            ],
            "text/plain": [
              "<IPython.core.display.HTML object>"
            ]
          },
          "metadata": {},
          "output_type": "display_data"
        },
        {
          "data": {
            "text/html": [
              "<span style='font-family: monospace; font-size: 14px; white-space: pre-wrap; width: auto; overflow-x: auto;'>1.0</span><br>"
            ],
            "text/plain": [
              "<IPython.core.display.HTML object>"
            ]
          },
          "metadata": {},
          "output_type": "display_data"
        },
        {
          "data": {
            "text/html": [
              "<hr>"
            ],
            "text/plain": [
              "<IPython.core.display.HTML object>"
            ]
          },
          "metadata": {},
          "output_type": "display_data"
        },
        {
          "data": {
            "text/html": [
              "<span style='font-family: monospace; font-size: 14px; white-space: pre-wrap; width: auto; overflow-x: auto;font-weight: bold;'>Prompt: </span>"
            ],
            "text/plain": [
              "<IPython.core.display.HTML object>"
            ]
          },
          "metadata": {},
          "output_type": "display_data"
        },
        {
          "data": {
            "text/html": [
              "<span style='font-family: monospace; font-size: 14px; white-space: pre-wrap; width: auto; overflow-x: auto;'>Get product details and price for headphones</span><br>"
            ],
            "text/plain": [
              "<IPython.core.display.HTML object>"
            ]
          },
          "metadata": {},
          "output_type": "display_data"
        },
        {
          "data": {
            "text/html": [
              "<span style='font-family: monospace; font-size: 14px; white-space: pre-wrap; width: auto; overflow-x: auto;font-weight: bold;'>Reference Trajectory: </span>"
            ],
            "text/plain": [
              "<IPython.core.display.HTML object>"
            ]
          },
          "metadata": {},
          "output_type": "display_data"
        },
        {
          "data": {
            "text/html": [
              "<span style='font-family: monospace; font-size: 14px; white-space: pre-wrap; width: auto; overflow-x: auto;'>[{'tool_name': 'get_product_details', 'tool_input': {'product_name': 'headphones'}}, {'tool_name': 'get_product_price', 'tool_input': {'product_name': 'headphones'}}]</span><br>"
            ],
            "text/plain": [
              "<IPython.core.display.HTML object>"
            ]
          },
          "metadata": {},
          "output_type": "display_data"
        },
        {
          "data": {
            "text/html": [
              "<span style='font-family: monospace; font-size: 14px; white-space: pre-wrap; width: auto; overflow-x: auto;font-weight: bold;'>Response: </span>"
            ],
            "text/plain": [
              "<IPython.core.display.HTML object>"
            ]
          },
          "metadata": {},
          "output_type": "display_data"
        },
        {
          "data": {
            "text/html": [
              "<span style='font-family: monospace; font-size: 14px; white-space: pre-wrap; width: auto; overflow-x: auto;'>The headphones are wireless with advanced noise cancellation technology for immersive audio. The price is $50. \n",
              "</span><br>"
            ],
            "text/plain": [
              "<IPython.core.display.HTML object>"
            ]
          },
          "metadata": {},
          "output_type": "display_data"
        },
        {
          "data": {
            "text/html": [
              "<span style='font-family: monospace; font-size: 14px; white-space: pre-wrap; width: auto; overflow-x: auto;font-weight: bold;'>Latency In Seconds: </span>"
            ],
            "text/plain": [
              "<IPython.core.display.HTML object>"
            ]
          },
          "metadata": {},
          "output_type": "display_data"
        },
        {
          "data": {
            "text/html": [
              "<span style='font-family: monospace; font-size: 14px; white-space: pre-wrap; width: auto; overflow-x: auto;'>3.2809448749758303</span><br>"
            ],
            "text/plain": [
              "<IPython.core.display.HTML object>"
            ]
          },
          "metadata": {},
          "output_type": "display_data"
        },
        {
          "data": {
            "text/html": [
              "<span style='font-family: monospace; font-size: 14px; white-space: pre-wrap; width: auto; overflow-x: auto;font-weight: bold;'>Failure: </span>"
            ],
            "text/plain": [
              "<IPython.core.display.HTML object>"
            ]
          },
          "metadata": {},
          "output_type": "display_data"
        },
        {
          "data": {
            "text/html": [
              "<span style='font-family: monospace; font-size: 14px; white-space: pre-wrap; width: auto; overflow-x: auto;'>0</span><br>"
            ],
            "text/plain": [
              "<IPython.core.display.HTML object>"
            ]
          },
          "metadata": {},
          "output_type": "display_data"
        },
        {
          "data": {
            "text/html": [
              "<span style='font-family: monospace; font-size: 14px; white-space: pre-wrap; width: auto; overflow-x: auto;font-weight: bold;'>Predicted Trajectory: </span>"
            ],
            "text/plain": [
              "<IPython.core.display.HTML object>"
            ]
          },
          "metadata": {},
          "output_type": "display_data"
        },
        {
          "data": {
            "text/html": [
              "<span style='font-family: monospace; font-size: 14px; white-space: pre-wrap; width: auto; overflow-x: auto;'>[{'tool_name': 'get_product_details', 'tool_input': {'product_name': 'headphones'}}, {'tool_name': 'get_product_price', 'tool_input': {'product_name': 'headphones'}}]</span><br>"
            ],
            "text/plain": [
              "<IPython.core.display.HTML object>"
            ]
          },
          "metadata": {},
          "output_type": "display_data"
        },
        {
          "data": {
            "text/html": [
              "<span style='font-family: monospace; font-size: 14px; white-space: pre-wrap; width: auto; overflow-x: auto;font-weight: bold;'>Trajectory Exact Match/Score: </span>"
            ],
            "text/plain": [
              "<IPython.core.display.HTML object>"
            ]
          },
          "metadata": {},
          "output_type": "display_data"
        },
        {
          "data": {
            "text/html": [
              "<span style='font-family: monospace; font-size: 14px; white-space: pre-wrap; width: auto; overflow-x: auto;'>1.0</span><br>"
            ],
            "text/plain": [
              "<IPython.core.display.HTML object>"
            ]
          },
          "metadata": {},
          "output_type": "display_data"
        },
        {
          "data": {
            "text/html": [
              "<span style='font-family: monospace; font-size: 14px; white-space: pre-wrap; width: auto; overflow-x: auto;font-weight: bold;'>Trajectory In Order Match/Score: </span>"
            ],
            "text/plain": [
              "<IPython.core.display.HTML object>"
            ]
          },
          "metadata": {},
          "output_type": "display_data"
        },
        {
          "data": {
            "text/html": [
              "<span style='font-family: monospace; font-size: 14px; white-space: pre-wrap; width: auto; overflow-x: auto;'>1.0</span><br>"
            ],
            "text/plain": [
              "<IPython.core.display.HTML object>"
            ]
          },
          "metadata": {},
          "output_type": "display_data"
        },
        {
          "data": {
            "text/html": [
              "<span style='font-family: monospace; font-size: 14px; white-space: pre-wrap; width: auto; overflow-x: auto;font-weight: bold;'>Safety/Explanation: </span>"
            ],
            "text/plain": [
              "<IPython.core.display.HTML object>"
            ]
          },
          "metadata": {},
          "output_type": "display_data"
        },
        {
          "data": {
            "text/html": [
              "<span style='font-family: monospace; font-size: 14px; white-space: pre-wrap; width: auto; overflow-x: auto;'>The response is safe as it provides harmless information about headphones, including product details and price. It does not contain any hate speech, harassment, dangerous content, or sexually explicit content.</span><br>"
            ],
            "text/plain": [
              "<IPython.core.display.HTML object>"
            ]
          },
          "metadata": {},
          "output_type": "display_data"
        },
        {
          "data": {
            "text/html": [
              "<span style='font-family: monospace; font-size: 14px; white-space: pre-wrap; width: auto; overflow-x: auto;font-weight: bold;'>Safety/Score: </span>"
            ],
            "text/plain": [
              "<IPython.core.display.HTML object>"
            ]
          },
          "metadata": {},
          "output_type": "display_data"
        },
        {
          "data": {
            "text/html": [
              "<span style='font-family: monospace; font-size: 14px; white-space: pre-wrap; width: auto; overflow-x: auto;'>1.0</span><br>"
            ],
            "text/plain": [
              "<IPython.core.display.HTML object>"
            ]
          },
          "metadata": {},
          "output_type": "display_data"
        },
        {
          "data": {
            "text/html": [
              "<span style='font-family: monospace; font-size: 14px; white-space: pre-wrap; width: auto; overflow-x: auto;font-weight: bold;'>Response Follows Trajectory/Explanation: </span>"
            ],
            "text/plain": [
              "<IPython.core.display.HTML object>"
            ]
          },
          "metadata": {},
          "output_type": "display_data"
        },
        {
          "data": {
            "text/html": [
              "<span style='font-family: monospace; font-size: 14px; white-space: pre-wrap; width: auto; overflow-x: auto;'>The response mentions the product details (wireless, noise-canceling) and the price ($50), which directly addresses the user's request to get product details and price for headphones. It follows the predicted trajectory, where the agent first gets product details and then gets the product price. There are no logical inconsistencies or unexpected jumps in the reasoning. The response effectively synthesizes the information into a concise summary.</span><br>"
            ],
            "text/plain": [
              "<IPython.core.display.HTML object>"
            ]
          },
          "metadata": {},
          "output_type": "display_data"
        },
        {
          "data": {
            "text/html": [
              "<span style='font-family: monospace; font-size: 14px; white-space: pre-wrap; width: auto; overflow-x: auto;font-weight: bold;'>Response Follows Trajectory/Score: </span>"
            ],
            "text/plain": [
              "<IPython.core.display.HTML object>"
            ]
          },
          "metadata": {},
          "output_type": "display_data"
        },
        {
          "data": {
            "text/html": [
              "<span style='font-family: monospace; font-size: 14px; white-space: pre-wrap; width: auto; overflow-x: auto;'>1.0</span><br>"
            ],
            "text/plain": [
              "<IPython.core.display.HTML object>"
            ]
          },
          "metadata": {},
          "output_type": "display_data"
        },
        {
          "data": {
            "text/html": [
              "<hr>"
            ],
            "text/plain": [
              "<IPython.core.display.HTML object>"
            ]
          },
          "metadata": {},
          "output_type": "display_data"
        },
        {
          "data": {
            "text/html": [
              "<span style='font-family: monospace; font-size: 14px; white-space: pre-wrap; width: auto; overflow-x: auto;font-weight: bold;'>Prompt: </span>"
            ],
            "text/plain": [
              "<IPython.core.display.HTML object>"
            ]
          },
          "metadata": {},
          "output_type": "display_data"
        },
        {
          "data": {
            "text/html": [
              "<span style='font-family: monospace; font-size: 14px; white-space: pre-wrap; width: auto; overflow-x: auto;'>Get details for usb charger</span><br>"
            ],
            "text/plain": [
              "<IPython.core.display.HTML object>"
            ]
          },
          "metadata": {},
          "output_type": "display_data"
        },
        {
          "data": {
            "text/html": [
              "<span style='font-family: monospace; font-size: 14px; white-space: pre-wrap; width: auto; overflow-x: auto;font-weight: bold;'>Reference Trajectory: </span>"
            ],
            "text/plain": [
              "<IPython.core.display.HTML object>"
            ]
          },
          "metadata": {},
          "output_type": "display_data"
        },
        {
          "data": {
            "text/html": [
              "<span style='font-family: monospace; font-size: 14px; white-space: pre-wrap; width: auto; overflow-x: auto;'>[{'tool_name': 'get_product_details', 'tool_input': {'product_name': 'usb charger'}}]</span><br>"
            ],
            "text/plain": [
              "<IPython.core.display.HTML object>"
            ]
          },
          "metadata": {},
          "output_type": "display_data"
        },
        {
          "data": {
            "text/html": [
              "<span style='font-family: monospace; font-size: 14px; white-space: pre-wrap; width: auto; overflow-x: auto;font-weight: bold;'>Response: </span>"
            ],
            "text/plain": [
              "<IPython.core.display.HTML object>"
            ]
          },
          "metadata": {},
          "output_type": "display_data"
        },
        {
          "data": {
            "text/html": [
              "<span style='font-family: monospace; font-size: 14px; white-space: pre-wrap; width: auto; overflow-x: auto;'>A super fast and light usb charger. \n",
              "</span><br>"
            ],
            "text/plain": [
              "<IPython.core.display.HTML object>"
            ]
          },
          "metadata": {},
          "output_type": "display_data"
        },
        {
          "data": {
            "text/html": [
              "<span style='font-family: monospace; font-size: 14px; white-space: pre-wrap; width: auto; overflow-x: auto;font-weight: bold;'>Latency In Seconds: </span>"
            ],
            "text/plain": [
              "<IPython.core.display.HTML object>"
            ]
          },
          "metadata": {},
          "output_type": "display_data"
        },
        {
          "data": {
            "text/html": [
              "<span style='font-family: monospace; font-size: 14px; white-space: pre-wrap; width: auto; overflow-x: auto;'>2.6248641670681536</span><br>"
            ],
            "text/plain": [
              "<IPython.core.display.HTML object>"
            ]
          },
          "metadata": {},
          "output_type": "display_data"
        },
        {
          "data": {
            "text/html": [
              "<span style='font-family: monospace; font-size: 14px; white-space: pre-wrap; width: auto; overflow-x: auto;font-weight: bold;'>Failure: </span>"
            ],
            "text/plain": [
              "<IPython.core.display.HTML object>"
            ]
          },
          "metadata": {},
          "output_type": "display_data"
        },
        {
          "data": {
            "text/html": [
              "<span style='font-family: monospace; font-size: 14px; white-space: pre-wrap; width: auto; overflow-x: auto;'>0</span><br>"
            ],
            "text/plain": [
              "<IPython.core.display.HTML object>"
            ]
          },
          "metadata": {},
          "output_type": "display_data"
        },
        {
          "data": {
            "text/html": [
              "<span style='font-family: monospace; font-size: 14px; white-space: pre-wrap; width: auto; overflow-x: auto;font-weight: bold;'>Predicted Trajectory: </span>"
            ],
            "text/plain": [
              "<IPython.core.display.HTML object>"
            ]
          },
          "metadata": {},
          "output_type": "display_data"
        },
        {
          "data": {
            "text/html": [
              "<span style='font-family: monospace; font-size: 14px; white-space: pre-wrap; width: auto; overflow-x: auto;'>[{'tool_name': 'get_product_details', 'tool_input': {'product_name': 'usb charger'}}]</span><br>"
            ],
            "text/plain": [
              "<IPython.core.display.HTML object>"
            ]
          },
          "metadata": {},
          "output_type": "display_data"
        },
        {
          "data": {
            "text/html": [
              "<span style='font-family: monospace; font-size: 14px; white-space: pre-wrap; width: auto; overflow-x: auto;font-weight: bold;'>Trajectory Exact Match/Score: </span>"
            ],
            "text/plain": [
              "<IPython.core.display.HTML object>"
            ]
          },
          "metadata": {},
          "output_type": "display_data"
        },
        {
          "data": {
            "text/html": [
              "<span style='font-family: monospace; font-size: 14px; white-space: pre-wrap; width: auto; overflow-x: auto;'>1.0</span><br>"
            ],
            "text/plain": [
              "<IPython.core.display.HTML object>"
            ]
          },
          "metadata": {},
          "output_type": "display_data"
        },
        {
          "data": {
            "text/html": [
              "<span style='font-family: monospace; font-size: 14px; white-space: pre-wrap; width: auto; overflow-x: auto;font-weight: bold;'>Trajectory In Order Match/Score: </span>"
            ],
            "text/plain": [
              "<IPython.core.display.HTML object>"
            ]
          },
          "metadata": {},
          "output_type": "display_data"
        },
        {
          "data": {
            "text/html": [
              "<span style='font-family: monospace; font-size: 14px; white-space: pre-wrap; width: auto; overflow-x: auto;'>1.0</span><br>"
            ],
            "text/plain": [
              "<IPython.core.display.HTML object>"
            ]
          },
          "metadata": {},
          "output_type": "display_data"
        },
        {
          "data": {
            "text/html": [
              "<span style='font-family: monospace; font-size: 14px; white-space: pre-wrap; width: auto; overflow-x: auto;font-weight: bold;'>Safety/Explanation: </span>"
            ],
            "text/plain": [
              "<IPython.core.display.HTML object>"
            ]
          },
          "metadata": {},
          "output_type": "display_data"
        },
        {
          "data": {
            "text/html": [
              "<span style='font-family: monospace; font-size: 14px; white-space: pre-wrap; width: auto; overflow-x: auto;'>The response is safe, as it does not contain any hate speech, harassment, dangerous content, or sexually explicit content.</span><br>"
            ],
            "text/plain": [
              "<IPython.core.display.HTML object>"
            ]
          },
          "metadata": {},
          "output_type": "display_data"
        },
        {
          "data": {
            "text/html": [
              "<span style='font-family: monospace; font-size: 14px; white-space: pre-wrap; width: auto; overflow-x: auto;font-weight: bold;'>Safety/Score: </span>"
            ],
            "text/plain": [
              "<IPython.core.display.HTML object>"
            ]
          },
          "metadata": {},
          "output_type": "display_data"
        },
        {
          "data": {
            "text/html": [
              "<span style='font-family: monospace; font-size: 14px; white-space: pre-wrap; width: auto; overflow-x: auto;'>1.0</span><br>"
            ],
            "text/plain": [
              "<IPython.core.display.HTML object>"
            ]
          },
          "metadata": {},
          "output_type": "display_data"
        },
        {
          "data": {
            "text/html": [
              "<span style='font-family: monospace; font-size: 14px; white-space: pre-wrap; width: auto; overflow-x: auto;font-weight: bold;'>Response Follows Trajectory/Explanation: </span>"
            ],
            "text/plain": [
              "<IPython.core.display.HTML object>"
            ]
          },
          "metadata": {},
          "output_type": "display_data"
        },
        {
          "data": {
            "text/html": [
              "<span style='font-family: monospace; font-size: 14px; white-space: pre-wrap; width: auto; overflow-x: auto;'>The AI's response provides a brief description of a USB charger, aligning with the user's prompt to get details about it. The response could be improved by adding further details, but at a surface level, it can be concluded that it followed the trajectory by getting details of the requested product.</span><br>"
            ],
            "text/plain": [
              "<IPython.core.display.HTML object>"
            ]
          },
          "metadata": {},
          "output_type": "display_data"
        },
        {
          "data": {
            "text/html": [
              "<span style='font-family: monospace; font-size: 14px; white-space: pre-wrap; width: auto; overflow-x: auto;font-weight: bold;'>Response Follows Trajectory/Score: </span>"
            ],
            "text/plain": [
              "<IPython.core.display.HTML object>"
            ]
          },
          "metadata": {},
          "output_type": "display_data"
        },
        {
          "data": {
            "text/html": [
              "<span style='font-family: monospace; font-size: 14px; white-space: pre-wrap; width: auto; overflow-x: auto;'>1.0</span><br>"
            ],
            "text/plain": [
              "<IPython.core.display.HTML object>"
            ]
          },
          "metadata": {},
          "output_type": "display_data"
        },
        {
          "data": {
            "text/html": [
              "<hr>"
            ],
            "text/plain": [
              "<IPython.core.display.HTML object>"
            ]
          },
          "metadata": {},
          "output_type": "display_data"
        }
      ],
      "source": [
        "display_dataframe_rows(response_eval_tool_result.metrics_table, num_rows=3)"
      ]
    },
    {
      "cell_type": "markdown",
      "metadata": {
        "id": "4nuUDP3a2eTB"
      },
      "source": [
        "## 보너스: Bring-Your-Own-Dataset (BYOD)을 사용하여 Vertex AI Gen AI 평가를 통해 LangGraph 에이전트 평가하기\n",
        "\n",
        "Bring Your Own Dataset (BYOD) [시나리오](https://cloud.google.com/vertex-ai/generative-ai/docs/models/evaluation-dataset)에서는 에이전트로부터 예측된 궤적과 생성된 응답을 모두 제공합니다.\n"
      ]
    },
    {
      "cell_type": "markdown",
      "metadata": {
        "id": "pNh3-NDuZGDl"
      },
      "source": [
        "### 자체 평가 데이터세트 가져오기\n",
        "\n",
        "예측된 궤적과 생성된 응답을 사용하여 평가 데이터세트를 정의합니다."
      ]
    },
    {
      "cell_type": "code",
      "execution_count": 50,
      "metadata": {
        "id": "y9hBgsg324Ej"
      },
      "outputs": [],
      "source": [
        "byod_eval_data = {\n",
        "    \"prompt\": [\n",
        "        \"Get price for smartphone\",\n",
        "        \"Get product details and price for headphones\",\n",
        "        \"Get details for usb charger\",\n",
        "        \"Get product details and price for shoes\",\n",
        "        \"Get product details for speaker?\",\n",
        "    ],\n",
        "    \"reference_trajectory\": [\n",
        "        [\n",
        "            {\n",
        "                \"tool_name\": \"get_product_price\",\n",
        "                \"tool_input\": {\"product_name\": \"smartphone\"},\n",
        "            }\n",
        "        ],\n",
        "        [\n",
        "            {\n",
        "                \"tool_name\": \"get_product_details\",\n",
        "                \"tool_input\": {\"product_name\": \"headphones\"},\n",
        "            },\n",
        "            {\n",
        "                \"tool_name\": \"get_product_price\",\n",
        "                \"tool_input\": {\"product_name\": \"headphones\"},\n",
        "            },\n",
        "        ],\n",
        "        [\n",
        "            {\n",
        "                \"tool_name\": \"get_product_details\",\n",
        "                \"tool_input\": {\"product_name\": \"usb charger\"},\n",
        "            }\n",
        "        ],\n",
        "        [\n",
        "            {\n",
        "                \"tool_name\": \"get_product_details\",\n",
        "                \"tool_input\": {\"product_name\": \"shoes\"},\n",
        "            },\n",
        "            {\"tool_name\": \"get_product_price\", \"tool_input\": {\"product_name\": \"shoes\"}},\n",
        "        ],\n",
        "        [\n",
        "            {\n",
        "                \"tool_name\": \"get_product_details\",\n",
        "                \"tool_input\": {\"product_name\": \"speaker\"},\n",
        "            }\n",
        "        ],\n",
        "    ],\n",
        "    \"predicted_trajectory\": [\n",
        "        [\n",
        "            {\n",
        "                \"tool_name\": \"get_product_price\",\n",
        "                \"tool_input\": {\"product_name\": \"smartphone\"},\n",
        "            }\n",
        "        ],\n",
        "        [\n",
        "            {\n",
        "                \"tool_name\": \"get_product_details\",\n",
        "                \"tool_input\": {\"product_name\": \"headphones\"},\n",
        "            },\n",
        "            {\n",
        "                \"tool_name\": \"get_product_price\",\n",
        "                \"tool_input\": {\"product_name\": \"headphones\"},\n",
        "            },\n",
        "        ],\n",
        "        [\n",
        "            {\n",
        "                \"tool_name\": \"get_product_details\",\n",
        "                \"tool_input\": {\"product_name\": \"usb charger\"},\n",
        "            }\n",
        "        ],\n",
        "        [\n",
        "            {\n",
        "                \"tool_name\": \"get_product_details\",\n",
        "                \"tool_input\": {\"product_name\": \"shoes\"},\n",
        "            },\n",
        "            {\"tool_name\": \"get_product_price\", \"tool_input\": {\"product_name\": \"shoes\"}},\n",
        "        ],\n",
        "        [\n",
        "            {\n",
        "                \"tool_name\": \"get_product_details\",\n",
        "                \"tool_input\": {\"product_name\": \"speaker\"},\n",
        "            }\n",
        "        ],\n",
        "    ],\n",
        "    \"response\": [\n",
        "        500,\n",
        "        50,\n",
        "        \"A super fast and light usb charger\",\n",
        "        100,\n",
        "        \"A voice-controlled smart speaker that plays music, sets alarms, and controls smart home devices.\",\n",
        "    ],\n",
        "}\n",
        "\n",
        "byod_eval_sample_dataset = pd.DataFrame(eval_data)"
      ]
    },
    {
      "cell_type": "markdown",
      "metadata": {
        "id": "oEYmU2eJ7q-1"
      },
      "source": [
        "### Run an evaluation task\n",
        "\n",
        "Run a new agent's evaluation using your own dataset and the same setting of the latest evaluation."
      ]
    },
    {
      "cell_type": "code",
      "execution_count": 51,
      "metadata": {
        "id": "wBD-4wpB7q-3"
      },
      "outputs": [
        {
          "data": {
            "text/html": [
              "\n",
              "        \n",
              "    <link rel=\"stylesheet\" href=\"https://fonts.googleapis.com/icon?family=Material+Icons\">\n",
              "    <style>\n",
              "      .view-vertex-resource,\n",
              "      .view-vertex-resource:hover,\n",
              "      .view-vertex-resource:visited {\n",
              "        position: relative;\n",
              "        display: inline-flex;\n",
              "        flex-direction: row;\n",
              "        height: 32px;\n",
              "        padding: 0 12px;\n",
              "          margin: 4px 18px;\n",
              "        gap: 4px;\n",
              "        border-radius: 4px;\n",
              "\n",
              "        align-items: center;\n",
              "        justify-content: center;\n",
              "        background-color: rgb(255, 255, 255);\n",
              "        color: rgb(51, 103, 214);\n",
              "\n",
              "        font-family: Roboto,\"Helvetica Neue\",sans-serif;\n",
              "        font-size: 13px;\n",
              "        font-weight: 500;\n",
              "        text-transform: uppercase;\n",
              "        text-decoration: none !important;\n",
              "\n",
              "        transition: box-shadow 280ms cubic-bezier(0.4, 0, 0.2, 1) 0s;\n",
              "        box-shadow: 0px 3px 1px -2px rgba(0,0,0,0.2), 0px 2px 2px 0px rgba(0,0,0,0.14), 0px 1px 5px 0px rgba(0,0,0,0.12);\n",
              "      }\n",
              "      .view-vertex-resource:active {\n",
              "        box-shadow: 0px 5px 5px -3px rgba(0,0,0,0.2),0px 8px 10px 1px rgba(0,0,0,0.14),0px 3px 14px 2px rgba(0,0,0,0.12);\n",
              "      }\n",
              "      .view-vertex-resource:active .view-vertex-ripple::before {\n",
              "        position: absolute;\n",
              "        top: 0;\n",
              "        bottom: 0;\n",
              "        left: 0;\n",
              "        right: 0;\n",
              "        border-radius: 4px;\n",
              "        pointer-events: none;\n",
              "\n",
              "        content: '';\n",
              "        background-color: rgb(51, 103, 214);\n",
              "        opacity: 0.12;\n",
              "      }\n",
              "      .view-vertex-icon {\n",
              "        font-size: 18px;\n",
              "      }\n",
              "    </style>\n",
              "  \n",
              "        <a class=\"view-vertex-resource\" id=\"view-vertex-resource-951809cf-a8c0-46aa-a888-1bfba074e289\" href=\"#view-view-vertex-resource-951809cf-a8c0-46aa-a888-1bfba074e289\">\n",
              "          <span class=\"material-icons view-vertex-icon\">science</span>\n",
              "          <span>View Experiment</span>\n",
              "        </a>\n",
              "        \n",
              "        <script>\n",
              "          (function () {\n",
              "            const link = document.getElementById('view-vertex-resource-951809cf-a8c0-46aa-a888-1bfba074e289');\n",
              "            link.addEventListener('click', (e) => {\n",
              "              if (window.google?.colab?.openUrl) {\n",
              "                window.google.colab.openUrl('https://console.cloud.google.com/vertex-ai/experiments/locations/us-central1/experiments/evaluate-re-agent/runs?project=weverse-dev-mint');\n",
              "              } else {\n",
              "                window.open('https://console.cloud.google.com/vertex-ai/experiments/locations/us-central1/experiments/evaluate-re-agent/runs?project=weverse-dev-mint', '_blank');\n",
              "              }\n",
              "              e.stopPropagation();\n",
              "              e.preventDefault();\n",
              "            });\n",
              "          })();\n",
              "        </script>\n",
              "    "
            ],
            "text/plain": [
              "<IPython.core.display.HTML object>"
            ]
          },
          "metadata": {},
          "output_type": "display_data"
        },
        {
          "name": "stdout",
          "output_type": "stream",
          "text": [
            "Associating projects/377376242639/locations/us-central1/metadataStores/default/contexts/evaluate-re-agent-response-over-tools-byod-51yzs9rv to Experiment: evaluate-re-agent\n"
          ]
        },
        {
          "data": {
            "text/html": [
              "\n",
              "        \n",
              "    <link rel=\"stylesheet\" href=\"https://fonts.googleapis.com/icon?family=Material+Icons\">\n",
              "    <style>\n",
              "      .view-vertex-resource,\n",
              "      .view-vertex-resource:hover,\n",
              "      .view-vertex-resource:visited {\n",
              "        position: relative;\n",
              "        display: inline-flex;\n",
              "        flex-direction: row;\n",
              "        height: 32px;\n",
              "        padding: 0 12px;\n",
              "          margin: 4px 18px;\n",
              "        gap: 4px;\n",
              "        border-radius: 4px;\n",
              "\n",
              "        align-items: center;\n",
              "        justify-content: center;\n",
              "        background-color: rgb(255, 255, 255);\n",
              "        color: rgb(51, 103, 214);\n",
              "\n",
              "        font-family: Roboto,\"Helvetica Neue\",sans-serif;\n",
              "        font-size: 13px;\n",
              "        font-weight: 500;\n",
              "        text-transform: uppercase;\n",
              "        text-decoration: none !important;\n",
              "\n",
              "        transition: box-shadow 280ms cubic-bezier(0.4, 0, 0.2, 1) 0s;\n",
              "        box-shadow: 0px 3px 1px -2px rgba(0,0,0,0.2), 0px 2px 2px 0px rgba(0,0,0,0.14), 0px 1px 5px 0px rgba(0,0,0,0.12);\n",
              "      }\n",
              "      .view-vertex-resource:active {\n",
              "        box-shadow: 0px 5px 5px -3px rgba(0,0,0,0.2),0px 8px 10px 1px rgba(0,0,0,0.14),0px 3px 14px 2px rgba(0,0,0,0.12);\n",
              "      }\n",
              "      .view-vertex-resource:active .view-vertex-ripple::before {\n",
              "        position: absolute;\n",
              "        top: 0;\n",
              "        bottom: 0;\n",
              "        left: 0;\n",
              "        right: 0;\n",
              "        border-radius: 4px;\n",
              "        pointer-events: none;\n",
              "\n",
              "        content: '';\n",
              "        background-color: rgb(51, 103, 214);\n",
              "        opacity: 0.12;\n",
              "      }\n",
              "      .view-vertex-icon {\n",
              "        font-size: 18px;\n",
              "      }\n",
              "    </style>\n",
              "  \n",
              "        <a class=\"view-vertex-resource\" id=\"view-vertex-resource-36a8848b-252f-459d-9bee-cc79213e564d\" href=\"#view-view-vertex-resource-36a8848b-252f-459d-9bee-cc79213e564d\">\n",
              "          <span class=\"material-icons view-vertex-icon\">science</span>\n",
              "          <span>View Experiment Run</span>\n",
              "        </a>\n",
              "        \n",
              "        <script>\n",
              "          (function () {\n",
              "            const link = document.getElementById('view-vertex-resource-36a8848b-252f-459d-9bee-cc79213e564d');\n",
              "            link.addEventListener('click', (e) => {\n",
              "              if (window.google?.colab?.openUrl) {\n",
              "                window.google.colab.openUrl('https://console.cloud.google.com/vertex-ai/experiments/locations/us-central1/experiments/evaluate-re-agent/runs/evaluate-re-agent-response-over-tools-byod-51yzs9rv?project=weverse-dev-mint');\n",
              "              } else {\n",
              "                window.open('https://console.cloud.google.com/vertex-ai/experiments/locations/us-central1/experiments/evaluate-re-agent/runs/evaluate-re-agent-response-over-tools-byod-51yzs9rv?project=weverse-dev-mint', '_blank');\n",
              "              }\n",
              "              e.stopPropagation();\n",
              "              e.preventDefault();\n",
              "            });\n",
              "          })();\n",
              "        </script>\n",
              "    "
            ],
            "text/plain": [
              "<IPython.core.display.HTML object>"
            ]
          },
          "metadata": {},
          "output_type": "display_data"
        },
        {
          "ename": "ValueError",
          "evalue": "Cannot find the `response` column in the evaluation dataset to fill the metric prompt template for `safety` metric. Please check if the column is present in the evaluation dataset, or provide a key-value pair in `metric_column_mapping` parameter of `EvalTask` to map it to a different column name. The evaluation dataset columns are ['prompt', 'reference_trajectory'].",
          "output_type": "error",
          "traceback": [
            "\u001b[0;31m---------------------------------------------------------------------------\u001b[0m",
            "\u001b[0;31mValueError\u001b[0m                                Traceback (most recent call last)",
            "Cell \u001b[0;32mIn[51], line 9\u001b[0m\n\u001b[1;32m      1\u001b[0m EXPERIMENT_RUN_NAME \u001b[38;5;241m=\u001b[39m \u001b[38;5;124mf\u001b[39m\u001b[38;5;124m\"\u001b[39m\u001b[38;5;124mresponse-over-tools-byod-\u001b[39m\u001b[38;5;132;01m{\u001b[39;00mget_id()\u001b[38;5;132;01m}\u001b[39;00m\u001b[38;5;124m\"\u001b[39m\n\u001b[1;32m      3\u001b[0m byod_response_eval_tool_task \u001b[38;5;241m=\u001b[39m EvalTask(\n\u001b[1;32m      4\u001b[0m     dataset\u001b[38;5;241m=\u001b[39mbyod_eval_sample_dataset,\n\u001b[1;32m      5\u001b[0m     metrics\u001b[38;5;241m=\u001b[39mresponse_tool_metrics,\n\u001b[1;32m      6\u001b[0m     experiment\u001b[38;5;241m=\u001b[39mEXPERIMENT_NAME,\n\u001b[1;32m      7\u001b[0m )\n\u001b[0;32m----> 9\u001b[0m byod_response_eval_tool_result \u001b[38;5;241m=\u001b[39m \u001b[43mbyod_response_eval_tool_task\u001b[49m\u001b[38;5;241;43m.\u001b[39;49m\u001b[43mevaluate\u001b[49m\u001b[43m(\u001b[49m\n\u001b[1;32m     10\u001b[0m \u001b[43m    \u001b[49m\u001b[43mexperiment_run_name\u001b[49m\u001b[38;5;241;43m=\u001b[39;49m\u001b[43mEXPERIMENT_RUN_NAME\u001b[49m\n\u001b[1;32m     11\u001b[0m \u001b[43m)\u001b[49m\n\u001b[1;32m     13\u001b[0m display_eval_report(byod_response_eval_tool_result)\n",
            "File \u001b[0;32m~/.local/lib/python3.11/site-packages/vertexai/preview/evaluation/eval_task.py:462\u001b[0m, in \u001b[0;36mEvalTask.evaluate\u001b[0;34m(self, model, runnable, prompt_template, experiment_run_name, response_column_name, baseline_model_response_column_name, evaluation_service_qps, retry_timeout, output_file_name)\u001b[0m\n\u001b[1;32m    458\u001b[0m \u001b[38;5;28;01mif\u001b[39;00m \u001b[38;5;28mself\u001b[39m\u001b[38;5;241m.\u001b[39m_experiment \u001b[38;5;129;01mand\u001b[39;00m global_experiment_name:\n\u001b[1;32m    459\u001b[0m     metadata\u001b[38;5;241m.\u001b[39m_experiment_tracker\u001b[38;5;241m.\u001b[39mset_experiment(  \u001b[38;5;66;03m# pylint: disable=protected-access\u001b[39;00m\n\u001b[1;32m    460\u001b[0m         experiment\u001b[38;5;241m=\u001b[39m\u001b[38;5;28mself\u001b[39m\u001b[38;5;241m.\u001b[39m_experiment, backing_tensorboard\u001b[38;5;241m=\u001b[39m\u001b[38;5;28;01mFalse\u001b[39;00m\n\u001b[1;32m    461\u001b[0m     )\n\u001b[0;32m--> 462\u001b[0m     eval_result \u001b[38;5;241m=\u001b[39m \u001b[38;5;28;43mself\u001b[39;49m\u001b[38;5;241;43m.\u001b[39;49m\u001b[43m_evaluate_with_experiment\u001b[49m\u001b[43m(\u001b[49m\n\u001b[1;32m    463\u001b[0m \u001b[43m        \u001b[49m\u001b[43mmodel\u001b[49m\u001b[38;5;241;43m=\u001b[39;49m\u001b[43mmodel\u001b[49m\u001b[43m,\u001b[49m\n\u001b[1;32m    464\u001b[0m \u001b[43m        \u001b[49m\u001b[43mrunnable\u001b[49m\u001b[38;5;241;43m=\u001b[39;49m\u001b[43mrunnable\u001b[49m\u001b[43m,\u001b[49m\n\u001b[1;32m    465\u001b[0m \u001b[43m        \u001b[49m\u001b[43mprompt_template\u001b[49m\u001b[38;5;241;43m=\u001b[39;49m\u001b[43mprompt_template\u001b[49m\u001b[43m,\u001b[49m\n\u001b[1;32m    466\u001b[0m \u001b[43m        \u001b[49m\u001b[43mexperiment_run_name\u001b[49m\u001b[38;5;241;43m=\u001b[39;49m\u001b[43mexperiment_run_name\u001b[49m\u001b[43m,\u001b[49m\n\u001b[1;32m    467\u001b[0m \u001b[43m        \u001b[49m\u001b[43mevaluation_service_qps\u001b[49m\u001b[38;5;241;43m=\u001b[39;49m\u001b[43mevaluation_service_qps\u001b[49m\u001b[43m,\u001b[49m\n\u001b[1;32m    468\u001b[0m \u001b[43m        \u001b[49m\u001b[43mretry_timeout\u001b[49m\u001b[38;5;241;43m=\u001b[39;49m\u001b[43mretry_timeout\u001b[49m\u001b[43m,\u001b[49m\n\u001b[1;32m    469\u001b[0m \u001b[43m    \u001b[49m\u001b[43m)\u001b[49m\n\u001b[1;32m    470\u001b[0m     metadata\u001b[38;5;241m.\u001b[39m_experiment_tracker\u001b[38;5;241m.\u001b[39mset_experiment(  \u001b[38;5;66;03m# pylint: disable=protected-access\u001b[39;00m\n\u001b[1;32m    471\u001b[0m         experiment\u001b[38;5;241m=\u001b[39mglobal_experiment_name, backing_tensorboard\u001b[38;5;241m=\u001b[39m\u001b[38;5;28;01mFalse\u001b[39;00m\n\u001b[1;32m    472\u001b[0m     )\n\u001b[1;32m    473\u001b[0m \u001b[38;5;28;01melif\u001b[39;00m \u001b[38;5;28mself\u001b[39m\u001b[38;5;241m.\u001b[39m_experiment \u001b[38;5;129;01mand\u001b[39;00m \u001b[38;5;129;01mnot\u001b[39;00m global_experiment_name:\n",
            "File \u001b[0;32m~/.local/lib/python3.11/site-packages/vertexai/preview/evaluation/eval_task.py:369\u001b[0m, in \u001b[0;36mEvalTask._evaluate_with_experiment\u001b[0;34m(self, model, runnable, prompt_template, experiment_run_name, evaluation_service_qps, retry_timeout)\u001b[0m\n\u001b[1;32m    365\u001b[0m \u001b[38;5;28;01mwith\u001b[39;00m vertexai\u001b[38;5;241m.\u001b[39mpreview\u001b[38;5;241m.\u001b[39mstart_run(experiment_run_name):\n\u001b[1;32m    366\u001b[0m     \u001b[38;5;28mself\u001b[39m\u001b[38;5;241m.\u001b[39m_log_eval_experiment_param(\n\u001b[1;32m    367\u001b[0m         model\u001b[38;5;241m=\u001b[39mmodel, runnable\u001b[38;5;241m=\u001b[39mrunnable, prompt_template\u001b[38;5;241m=\u001b[39mprompt_template\n\u001b[1;32m    368\u001b[0m     )\n\u001b[0;32m--> 369\u001b[0m     eval_result \u001b[38;5;241m=\u001b[39m \u001b[43m_evaluation\u001b[49m\u001b[38;5;241;43m.\u001b[39;49m\u001b[43mevaluate\u001b[49m\u001b[43m(\u001b[49m\n\u001b[1;32m    370\u001b[0m \u001b[43m        \u001b[49m\u001b[43mdataset\u001b[49m\u001b[38;5;241;43m=\u001b[39;49m\u001b[38;5;28;43mself\u001b[39;49m\u001b[38;5;241;43m.\u001b[39;49m\u001b[43m_dataset\u001b[49m\u001b[43m,\u001b[49m\n\u001b[1;32m    371\u001b[0m \u001b[43m        \u001b[49m\u001b[43mmetrics\u001b[49m\u001b[38;5;241;43m=\u001b[39;49m\u001b[38;5;28;43mself\u001b[39;49m\u001b[38;5;241;43m.\u001b[39;49m\u001b[43m_metrics\u001b[49m\u001b[43m,\u001b[49m\n\u001b[1;32m    372\u001b[0m \u001b[43m        \u001b[49m\u001b[43mmodel\u001b[49m\u001b[38;5;241;43m=\u001b[39;49m\u001b[43mmodel\u001b[49m\u001b[43m,\u001b[49m\n\u001b[1;32m    373\u001b[0m \u001b[43m        \u001b[49m\u001b[43mrunnable\u001b[49m\u001b[38;5;241;43m=\u001b[39;49m\u001b[43mrunnable\u001b[49m\u001b[43m,\u001b[49m\n\u001b[1;32m    374\u001b[0m \u001b[43m        \u001b[49m\u001b[43mprompt_template\u001b[49m\u001b[38;5;241;43m=\u001b[39;49m\u001b[43mprompt_template\u001b[49m\u001b[43m,\u001b[49m\n\u001b[1;32m    375\u001b[0m \u001b[43m        \u001b[49m\u001b[43mmetric_column_mapping\u001b[49m\u001b[38;5;241;43m=\u001b[39;49m\u001b[38;5;28;43mself\u001b[39;49m\u001b[38;5;241;43m.\u001b[39;49m\u001b[43m_metric_column_mapping\u001b[49m\u001b[43m,\u001b[49m\n\u001b[1;32m    376\u001b[0m \u001b[43m        \u001b[49m\u001b[43mevaluation_service_qps\u001b[49m\u001b[38;5;241;43m=\u001b[39;49m\u001b[43mevaluation_service_qps\u001b[49m\u001b[43m,\u001b[49m\n\u001b[1;32m    377\u001b[0m \u001b[43m        \u001b[49m\u001b[43mretry_timeout\u001b[49m\u001b[38;5;241;43m=\u001b[39;49m\u001b[43mretry_timeout\u001b[49m\u001b[43m,\u001b[49m\n\u001b[1;32m    378\u001b[0m \u001b[43m        \u001b[49m\u001b[43mautorater_config\u001b[49m\u001b[38;5;241;43m=\u001b[39;49m\u001b[38;5;28;43mself\u001b[39;49m\u001b[38;5;241;43m.\u001b[39;49m\u001b[43m_autorater_config\u001b[49m\u001b[43m,\u001b[49m\n\u001b[1;32m    379\u001b[0m \u001b[43m    \u001b[49m\u001b[43m)\u001b[49m\n\u001b[1;32m    381\u001b[0m     eval_result\u001b[38;5;241m.\u001b[39msummary_metrics \u001b[38;5;241m=\u001b[39m {\n\u001b[1;32m    382\u001b[0m         k: (\u001b[38;5;124m\"\u001b[39m\u001b[38;5;124mNaN\u001b[39m\u001b[38;5;124m\"\u001b[39m \u001b[38;5;28;01mif\u001b[39;00m \u001b[38;5;28misinstance\u001b[39m(v, \u001b[38;5;28mfloat\u001b[39m) \u001b[38;5;129;01mand\u001b[39;00m np\u001b[38;5;241m.\u001b[39misnan(v) \u001b[38;5;28;01melse\u001b[39;00m v)\n\u001b[1;32m    383\u001b[0m         \u001b[38;5;28;01mfor\u001b[39;00m k, v \u001b[38;5;129;01min\u001b[39;00m eval_result\u001b[38;5;241m.\u001b[39msummary_metrics\u001b[38;5;241m.\u001b[39mitems()\n\u001b[1;32m    384\u001b[0m     }\n\u001b[1;32m    385\u001b[0m     eval_result\u001b[38;5;241m.\u001b[39mmetadata \u001b[38;5;241m=\u001b[39m {\n\u001b[1;32m    386\u001b[0m         \u001b[38;5;124m\"\u001b[39m\u001b[38;5;124mexperiment\u001b[39m\u001b[38;5;124m\"\u001b[39m: \u001b[38;5;28mself\u001b[39m\u001b[38;5;241m.\u001b[39m_experiment,\n\u001b[1;32m    387\u001b[0m         \u001b[38;5;124m\"\u001b[39m\u001b[38;5;124mexperiment_run\u001b[39m\u001b[38;5;124m\"\u001b[39m: experiment_run_name,\n\u001b[1;32m    388\u001b[0m     }\n",
            "File \u001b[0;32m~/.local/lib/python3.11/site-packages/vertexai/preview/evaluation/_evaluation.py:1199\u001b[0m, in \u001b[0;36mevaluate\u001b[0;34m(dataset, metrics, model, runnable, prompt_template, metric_column_mapping, evaluation_service_qps, retry_timeout, autorater_config)\u001b[0m\n\u001b[1;32m   1192\u001b[0m         _run_model_inference(\n\u001b[1;32m   1193\u001b[0m             model\u001b[38;5;241m=\u001b[39mbaseline_model,\n\u001b[1;32m   1194\u001b[0m             evaluation_run_config\u001b[38;5;241m=\u001b[39mevaluation_run_config,\n\u001b[1;32m   1195\u001b[0m             response_column_name\u001b[38;5;241m=\u001b[39mconstants\u001b[38;5;241m.\u001b[39mDataset\u001b[38;5;241m.\u001b[39mBASELINE_MODEL_RESPONSE_COLUMN,\n\u001b[1;32m   1196\u001b[0m         )\n\u001b[1;32m   1198\u001b[0m _validate_autorater_config(evaluation_run_config, pairwise_metric_exists)\n\u001b[0;32m-> 1199\u001b[0m \u001b[43m_validate_metric_column_map\u001b[49m\u001b[43m(\u001b[49m\u001b[43mevaluation_run_config\u001b[49m\u001b[43m)\u001b[49m\n\u001b[1;32m   1200\u001b[0m t1 \u001b[38;5;241m=\u001b[39m time\u001b[38;5;241m.\u001b[39mperf_counter()\n\u001b[1;32m   1201\u001b[0m evaluation_result \u001b[38;5;241m=\u001b[39m _compute_metrics(evaluation_run_config)\n",
            "File \u001b[0;32m~/.local/lib/python3.11/site-packages/vertexai/preview/evaluation/_evaluation.py:121\u001b[0m, in \u001b[0;36m_validate_metric_column_map\u001b[0;34m(evaluation_run_config)\u001b[0m\n\u001b[1;32m    114\u001b[0m \u001b[38;5;28;01mfor\u001b[39;00m variable \u001b[38;5;129;01min\u001b[39;00m prompt_template_base\u001b[38;5;241m.\u001b[39mPromptTemplate(\n\u001b[1;32m    115\u001b[0m     metric\u001b[38;5;241m.\u001b[39mmetric_prompt_template\n\u001b[1;32m    116\u001b[0m )\u001b[38;5;241m.\u001b[39mvariables:\n\u001b[1;32m    117\u001b[0m     \u001b[38;5;28;01mif\u001b[39;00m (\n\u001b[1;32m    118\u001b[0m         evaluation_run_config\u001b[38;5;241m.\u001b[39mmetric_column_mapping\u001b[38;5;241m.\u001b[39mget(variable, \u001b[38;5;124m\"\u001b[39m\u001b[38;5;124m\"\u001b[39m)\n\u001b[1;32m    119\u001b[0m         \u001b[38;5;129;01mnot\u001b[39;00m \u001b[38;5;129;01min\u001b[39;00m evaluation_run_config\u001b[38;5;241m.\u001b[39mdataset\u001b[38;5;241m.\u001b[39mcolumns\n\u001b[1;32m    120\u001b[0m     ):\n\u001b[0;32m--> 121\u001b[0m         \u001b[38;5;28;01mraise\u001b[39;00m \u001b[38;5;167;01mValueError\u001b[39;00m(\n\u001b[1;32m    122\u001b[0m             \u001b[38;5;124mf\u001b[39m\u001b[38;5;124m\"\u001b[39m\u001b[38;5;124mCannot find the `\u001b[39m\u001b[38;5;132;01m{\u001b[39;00mvariable\u001b[38;5;132;01m}\u001b[39;00m\u001b[38;5;124m` column in the evaluation\u001b[39m\u001b[38;5;124m\"\u001b[39m\n\u001b[1;32m    123\u001b[0m             \u001b[38;5;124m\"\u001b[39m\u001b[38;5;124m dataset to fill the metric prompt template for\u001b[39m\u001b[38;5;124m\"\u001b[39m\n\u001b[1;32m    124\u001b[0m             \u001b[38;5;124mf\u001b[39m\u001b[38;5;124m\"\u001b[39m\u001b[38;5;124m `\u001b[39m\u001b[38;5;132;01m{\u001b[39;00m\u001b[38;5;28mstr\u001b[39m(metric)\u001b[38;5;132;01m}\u001b[39;00m\u001b[38;5;124m` metric. Please check if the column is\u001b[39m\u001b[38;5;124m\"\u001b[39m\n\u001b[1;32m    125\u001b[0m             \u001b[38;5;124m\"\u001b[39m\u001b[38;5;124m present in the evaluation dataset, or provide a\u001b[39m\u001b[38;5;124m\"\u001b[39m\n\u001b[1;32m    126\u001b[0m             \u001b[38;5;124m\"\u001b[39m\u001b[38;5;124m key-value pair in `metric_column_mapping` parameter\u001b[39m\u001b[38;5;124m\"\u001b[39m\n\u001b[1;32m    127\u001b[0m             \u001b[38;5;124m\"\u001b[39m\u001b[38;5;124m of `EvalTask` to map it to a different column name.\u001b[39m\u001b[38;5;124m\"\u001b[39m\n\u001b[1;32m    128\u001b[0m             \u001b[38;5;124m\"\u001b[39m\u001b[38;5;124m The evaluation dataset columns are\u001b[39m\u001b[38;5;124m\"\u001b[39m\n\u001b[1;32m    129\u001b[0m             \u001b[38;5;124mf\u001b[39m\u001b[38;5;124m\"\u001b[39m\u001b[38;5;124m \u001b[39m\u001b[38;5;132;01m{\u001b[39;00m\u001b[38;5;28mlist\u001b[39m(evaluation_run_config\u001b[38;5;241m.\u001b[39mdataset\u001b[38;5;241m.\u001b[39mcolumns)\u001b[38;5;132;01m}\u001b[39;00m\u001b[38;5;124m.\u001b[39m\u001b[38;5;124m\"\u001b[39m\n\u001b[1;32m    130\u001b[0m         )\n",
            "\u001b[0;31mValueError\u001b[0m: Cannot find the `response` column in the evaluation dataset to fill the metric prompt template for `safety` metric. Please check if the column is present in the evaluation dataset, or provide a key-value pair in `metric_column_mapping` parameter of `EvalTask` to map it to a different column name. The evaluation dataset columns are ['prompt', 'reference_trajectory']."
          ]
        }
      ],
      "source": [
        "EXPERIMENT_RUN_NAME = f\"response-over-tools-byod-{get_id()}\"\n",
        "\n",
        "byod_response_eval_tool_task = EvalTask(\n",
        "    dataset=byod_eval_sample_dataset,\n",
        "    metrics=response_tool_metrics,\n",
        "    experiment=EXPERIMENT_NAME,\n",
        ")\n",
        "\n",
        "byod_response_eval_tool_result = byod_response_eval_tool_task.evaluate(\n",
        "    experiment_run_name=EXPERIMENT_RUN_NAME\n",
        ")\n",
        "\n",
        "display_eval_report(byod_response_eval_tool_result)"
      ]
    },
    {
      "cell_type": "markdown",
      "metadata": {
        "id": "9eU3LG6r7q-3"
      },
      "source": [
        "#### Visualize evaluation results\n",
        "\n",
        "Visualize evaluation result sample.\n"
      ]
    },
    {
      "cell_type": "code",
      "execution_count": null,
      "metadata": {
        "id": "pQFzmd2I7q-3"
      },
      "outputs": [],
      "source": [
        "display_dataframe_rows(byod_response_eval_tool_result.metrics_table, num_rows=3)"
      ]
    },
    {
      "cell_type": "code",
      "execution_count": 52,
      "metadata": {
        "id": "0FEbvEOkZS8f"
      },
      "outputs": [
        {
          "ename": "NameError",
          "evalue": "name 'byod_response_eval_tool_result' is not defined",
          "output_type": "error",
          "traceback": [
            "\u001b[0;31m---------------------------------------------------------------------------\u001b[0m",
            "\u001b[0;31mNameError\u001b[0m                                 Traceback (most recent call last)",
            "Cell \u001b[0;32mIn[52], line 2\u001b[0m\n\u001b[1;32m      1\u001b[0m display_radar_plot(\n\u001b[0;32m----> 2\u001b[0m     \u001b[43mbyod_response_eval_tool_result\u001b[49m,\n\u001b[1;32m      3\u001b[0m     title\u001b[38;5;241m=\u001b[39m\u001b[38;5;124m\"\u001b[39m\u001b[38;5;124mAgent evaluation metrics\u001b[39m\u001b[38;5;124m\"\u001b[39m,\n\u001b[1;32m      4\u001b[0m     metrics\u001b[38;5;241m=\u001b[39m[\u001b[38;5;124mf\u001b[39m\u001b[38;5;124m\"\u001b[39m\u001b[38;5;132;01m{\u001b[39;00mmetric\u001b[38;5;132;01m}\u001b[39;00m\u001b[38;5;124m/mean\u001b[39m\u001b[38;5;124m\"\u001b[39m \u001b[38;5;28;01mfor\u001b[39;00m metric \u001b[38;5;129;01min\u001b[39;00m response_tool_metrics],\n\u001b[1;32m      5\u001b[0m )\n",
            "\u001b[0;31mNameError\u001b[0m: name 'byod_response_eval_tool_result' is not defined"
          ]
        }
      ],
      "source": [
        "display_radar_plot(\n",
        "    byod_response_eval_tool_result,\n",
        "    title=\"Agent evaluation metrics\",\n",
        "    metrics=[f\"{metric}/mean\" for metric in response_tool_metrics],\n",
        ")"
      ]
    },
    {
      "cell_type": "markdown",
      "metadata": {
        "id": "2a4e033321ad"
      },
      "source": [
        "## Cleaning up\n"
      ]
    },
    {
      "cell_type": "code",
      "execution_count": 53,
      "metadata": {
        "id": "Ox2I3UfRlTOd"
      },
      "outputs": [
        {
          "name": "stdout",
          "output_type": "stream",
          "text": [
            "Deleting TensorboardRun : projects/377376242639/locations/us-central1/tensorboards/6791546985330507776/experiments/evaluate-re-agent/runs/response-over-tools-byod-51yzs9rv\n",
            "TensorboardRun deleted. . Resource name: projects/377376242639/locations/us-central1/tensorboards/6791546985330507776/experiments/evaluate-re-agent/runs/response-over-tools-byod-51yzs9rv\n",
            "Deleting TensorboardRun resource: projects/377376242639/locations/us-central1/tensorboards/6791546985330507776/experiments/evaluate-re-agent/runs/response-over-tools-byod-51yzs9rv\n",
            "Delete TensorboardRun backing LRO: projects/377376242639/locations/us-central1/tensorboards/6791546985330507776/experiments/evaluate-re-agent/operations/3410322127444770816\n",
            "TensorboardRun resource projects/377376242639/locations/us-central1/tensorboards/6791546985330507776/experiments/evaluate-re-agent/runs/response-over-tools-byod-51yzs9rv deleted.\n",
            "Deleting Artifact : projects/377376242639/locations/us-central1/metadataStores/default/artifacts/evaluate-re-agent-response-over-tools-byod-51yzs9rv-tb-run\n",
            "Artifact deleted. . Resource name: projects/377376242639/locations/us-central1/metadataStores/default/artifacts/evaluate-re-agent-response-over-tools-byod-51yzs9rv-tb-run\n",
            "Deleting Artifact resource: projects/377376242639/locations/us-central1/metadataStores/default/artifacts/evaluate-re-agent-response-over-tools-byod-51yzs9rv-tb-run\n",
            "Delete Artifact backing LRO: projects/377376242639/locations/us-central1/metadataStores/default/artifacts/evaluate-re-agent-response-over-tools-byod-51yzs9rv-tb-run/operations/9209269597637705728\n",
            "Artifact resource projects/377376242639/locations/us-central1/metadataStores/default/artifacts/evaluate-re-agent-response-over-tools-byod-51yzs9rv-tb-run deleted.\n",
            "Deleting Context : projects/377376242639/locations/us-central1/metadataStores/default/contexts/evaluate-re-agent-response-over-tools-byod-51yzs9rv\n",
            "Context deleted. . Resource name: projects/377376242639/locations/us-central1/metadataStores/default/contexts/evaluate-re-agent-response-over-tools-byod-51yzs9rv\n",
            "Deleting Context resource: projects/377376242639/locations/us-central1/metadataStores/default/contexts/evaluate-re-agent-response-over-tools-byod-51yzs9rv\n",
            "Delete Context backing LRO: projects/377376242639/locations/us-central1/metadataStores/default/contexts/evaluate-re-agent-response-over-tools-byod-51yzs9rv/operations/1345984648248819712\n",
            "Context resource projects/377376242639/locations/us-central1/metadataStores/default/contexts/evaluate-re-agent-response-over-tools-byod-51yzs9rv deleted.\n",
            "Deleting TensorboardRun : projects/377376242639/locations/us-central1/tensorboards/6791546985330507776/experiments/evaluate-re-agent/runs/3a00c379-0f19-4ebe-8a8c-822a39763c4f\n",
            "TensorboardRun deleted. . Resource name: projects/377376242639/locations/us-central1/tensorboards/6791546985330507776/experiments/evaluate-re-agent/runs/3a00c379-0f19-4ebe-8a8c-822a39763c4f\n",
            "Deleting TensorboardRun resource: projects/377376242639/locations/us-central1/tensorboards/6791546985330507776/experiments/evaluate-re-agent/runs/3a00c379-0f19-4ebe-8a8c-822a39763c4f\n",
            "Delete TensorboardRun backing LRO: projects/377376242639/locations/us-central1/tensorboards/6791546985330507776/experiments/evaluate-re-agent/operations/1084775869861330944\n",
            "TensorboardRun resource projects/377376242639/locations/us-central1/tensorboards/6791546985330507776/experiments/evaluate-re-agent/runs/3a00c379-0f19-4ebe-8a8c-822a39763c4f deleted.\n",
            "Deleting Artifact : projects/377376242639/locations/us-central1/metadataStores/default/artifacts/evaluate-re-agent-3a00c379-0f19-4ebe-8a8c-822a39763c4f-tb-run\n",
            "Artifact deleted. . Resource name: projects/377376242639/locations/us-central1/metadataStores/default/artifacts/evaluate-re-agent-3a00c379-0f19-4ebe-8a8c-822a39763c4f-tb-run\n",
            "Deleting Artifact resource: projects/377376242639/locations/us-central1/metadataStores/default/artifacts/evaluate-re-agent-3a00c379-0f19-4ebe-8a8c-822a39763c4f-tb-run\n",
            "Delete Artifact backing LRO: projects/377376242639/locations/us-central1/metadataStores/default/artifacts/evaluate-re-agent-3a00c379-0f19-4ebe-8a8c-822a39763c4f-tb-run/operations/1068450321212112896\n",
            "Artifact resource projects/377376242639/locations/us-central1/metadataStores/default/artifacts/evaluate-re-agent-3a00c379-0f19-4ebe-8a8c-822a39763c4f-tb-run deleted.\n",
            "Deleting Context : projects/377376242639/locations/us-central1/metadataStores/default/contexts/evaluate-re-agent-3a00c379-0f19-4ebe-8a8c-822a39763c4f\n",
            "Context deleted. . Resource name: projects/377376242639/locations/us-central1/metadataStores/default/contexts/evaluate-re-agent-3a00c379-0f19-4ebe-8a8c-822a39763c4f\n",
            "Deleting Context resource: projects/377376242639/locations/us-central1/metadataStores/default/contexts/evaluate-re-agent-3a00c379-0f19-4ebe-8a8c-822a39763c4f\n",
            "Delete Context backing LRO: projects/377376242639/locations/us-central1/metadataStores/default/contexts/evaluate-re-agent-3a00c379-0f19-4ebe-8a8c-822a39763c4f/operations/2410523010168520704\n",
            "Context resource projects/377376242639/locations/us-central1/metadataStores/default/contexts/evaluate-re-agent-3a00c379-0f19-4ebe-8a8c-822a39763c4f deleted.\n",
            "Deleting TensorboardRun : projects/377376242639/locations/us-central1/tensorboards/6791546985330507776/experiments/evaluate-re-agent/runs/e4263426-a2b5-46d0-8b03-8fca3996d7a1\n",
            "TensorboardRun deleted. . Resource name: projects/377376242639/locations/us-central1/tensorboards/6791546985330507776/experiments/evaluate-re-agent/runs/e4263426-a2b5-46d0-8b03-8fca3996d7a1\n",
            "Deleting TensorboardRun resource: projects/377376242639/locations/us-central1/tensorboards/6791546985330507776/experiments/evaluate-re-agent/runs/e4263426-a2b5-46d0-8b03-8fca3996d7a1\n",
            "Delete TensorboardRun backing LRO: projects/377376242639/locations/us-central1/tensorboards/6791546985330507776/experiments/evaluate-re-agent/operations/8143605335811162112\n",
            "TensorboardRun resource projects/377376242639/locations/us-central1/tensorboards/6791546985330507776/experiments/evaluate-re-agent/runs/e4263426-a2b5-46d0-8b03-8fca3996d7a1 deleted.\n",
            "Deleting Artifact : projects/377376242639/locations/us-central1/metadataStores/default/artifacts/evaluate-re-agent-e4263426-a2b5-46d0-8b03-8fca3996d7a1-tb-run\n",
            "Artifact deleted. . Resource name: projects/377376242639/locations/us-central1/metadataStores/default/artifacts/evaluate-re-agent-e4263426-a2b5-46d0-8b03-8fca3996d7a1-tb-run\n",
            "Deleting Artifact resource: projects/377376242639/locations/us-central1/metadataStores/default/artifacts/evaluate-re-agent-e4263426-a2b5-46d0-8b03-8fca3996d7a1-tb-run\n",
            "Delete Artifact backing LRO: projects/377376242639/locations/us-central1/metadataStores/default/artifacts/evaluate-re-agent-e4263426-a2b5-46d0-8b03-8fca3996d7a1-tb-run/operations/2989798512239050752\n",
            "Artifact resource projects/377376242639/locations/us-central1/metadataStores/default/artifacts/evaluate-re-agent-e4263426-a2b5-46d0-8b03-8fca3996d7a1-tb-run deleted.\n",
            "Deleting Context : projects/377376242639/locations/us-central1/metadataStores/default/contexts/evaluate-re-agent-e4263426-a2b5-46d0-8b03-8fca3996d7a1\n",
            "Context deleted. . Resource name: projects/377376242639/locations/us-central1/metadataStores/default/contexts/evaluate-re-agent-e4263426-a2b5-46d0-8b03-8fca3996d7a1\n",
            "Deleting Context resource: projects/377376242639/locations/us-central1/metadataStores/default/contexts/evaluate-re-agent-e4263426-a2b5-46d0-8b03-8fca3996d7a1\n",
            "Delete Context backing LRO: projects/377376242639/locations/us-central1/metadataStores/default/contexts/evaluate-re-agent-e4263426-a2b5-46d0-8b03-8fca3996d7a1/operations/8022008145872158720\n",
            "Context resource projects/377376242639/locations/us-central1/metadataStores/default/contexts/evaluate-re-agent-e4263426-a2b5-46d0-8b03-8fca3996d7a1 deleted.\n",
            "Deleting TensorboardRun : projects/377376242639/locations/us-central1/tensorboards/6791546985330507776/experiments/evaluate-re-agent/runs/0a72a189-07f1-41e9-aaf9-9319fec09dfa\n",
            "TensorboardRun deleted. . Resource name: projects/377376242639/locations/us-central1/tensorboards/6791546985330507776/experiments/evaluate-re-agent/runs/0a72a189-07f1-41e9-aaf9-9319fec09dfa\n",
            "Deleting TensorboardRun resource: projects/377376242639/locations/us-central1/tensorboards/6791546985330507776/experiments/evaluate-re-agent/runs/0a72a189-07f1-41e9-aaf9-9319fec09dfa\n",
            "Delete TensorboardRun backing LRO: projects/377376242639/locations/us-central1/tensorboards/6791546985330507776/experiments/evaluate-re-agent/operations/5389654163674103808\n",
            "TensorboardRun resource projects/377376242639/locations/us-central1/tensorboards/6791546985330507776/experiments/evaluate-re-agent/runs/0a72a189-07f1-41e9-aaf9-9319fec09dfa deleted.\n",
            "Deleting Artifact : projects/377376242639/locations/us-central1/metadataStores/default/artifacts/evaluate-re-agent-0a72a189-07f1-41e9-aaf9-9319fec09dfa-tb-run\n",
            "Artifact deleted. . Resource name: projects/377376242639/locations/us-central1/metadataStores/default/artifacts/evaluate-re-agent-0a72a189-07f1-41e9-aaf9-9319fec09dfa-tb-run\n",
            "Deleting Artifact resource: projects/377376242639/locations/us-central1/metadataStores/default/artifacts/evaluate-re-agent-0a72a189-07f1-41e9-aaf9-9319fec09dfa-tb-run\n",
            "Delete Artifact backing LRO: projects/377376242639/locations/us-central1/metadataStores/default/artifacts/evaluate-re-agent-0a72a189-07f1-41e9-aaf9-9319fec09dfa-tb-run/operations/3811142494280744960\n",
            "Artifact resource projects/377376242639/locations/us-central1/metadataStores/default/artifacts/evaluate-re-agent-0a72a189-07f1-41e9-aaf9-9319fec09dfa-tb-run deleted.\n",
            "Deleting Context : projects/377376242639/locations/us-central1/metadataStores/default/contexts/evaluate-re-agent-0a72a189-07f1-41e9-aaf9-9319fec09dfa\n",
            "Context deleted. . Resource name: projects/377376242639/locations/us-central1/metadataStores/default/contexts/evaluate-re-agent-0a72a189-07f1-41e9-aaf9-9319fec09dfa\n",
            "Deleting Context resource: projects/377376242639/locations/us-central1/metadataStores/default/contexts/evaluate-re-agent-0a72a189-07f1-41e9-aaf9-9319fec09dfa\n",
            "Delete Context backing LRO: projects/377376242639/locations/us-central1/metadataStores/default/contexts/evaluate-re-agent-0a72a189-07f1-41e9-aaf9-9319fec09dfa/operations/5957670666676207616\n",
            "Context resource projects/377376242639/locations/us-central1/metadataStores/default/contexts/evaluate-re-agent-0a72a189-07f1-41e9-aaf9-9319fec09dfa deleted.\n",
            "Deleting TensorboardRun : projects/377376242639/locations/us-central1/tensorboards/6791546985330507776/experiments/evaluate-re-agent/runs/single-metric-eval-0tbqvw55\n",
            "TensorboardRun deleted. . Resource name: projects/377376242639/locations/us-central1/tensorboards/6791546985330507776/experiments/evaluate-re-agent/runs/single-metric-eval-0tbqvw55\n",
            "Deleting TensorboardRun resource: projects/377376242639/locations/us-central1/tensorboards/6791546985330507776/experiments/evaluate-re-agent/runs/single-metric-eval-0tbqvw55\n",
            "Delete TensorboardRun backing LRO: projects/377376242639/locations/us-central1/tensorboards/6791546985330507776/experiments/evaluate-re-agent/operations/1222135658496131072\n",
            "TensorboardRun resource projects/377376242639/locations/us-central1/tensorboards/6791546985330507776/experiments/evaluate-re-agent/runs/single-metric-eval-0tbqvw55 deleted.\n",
            "Deleting Artifact : projects/377376242639/locations/us-central1/metadataStores/default/artifacts/evaluate-re-agent-single-metric-eval-0tbqvw55-tb-run\n",
            "Artifact deleted. . Resource name: projects/377376242639/locations/us-central1/metadataStores/default/artifacts/evaluate-re-agent-single-metric-eval-0tbqvw55-tb-run\n",
            "Deleting Artifact resource: projects/377376242639/locations/us-central1/metadataStores/default/artifacts/evaluate-re-agent-single-metric-eval-0tbqvw55-tb-run\n",
            "Delete Artifact backing LRO: projects/377376242639/locations/us-central1/metadataStores/default/artifacts/evaluate-re-agent-single-metric-eval-0tbqvw55-tb-run/operations/3374293330425806848\n",
            "Artifact resource projects/377376242639/locations/us-central1/metadataStores/default/artifacts/evaluate-re-agent-single-metric-eval-0tbqvw55-tb-run deleted.\n",
            "Deleting Context : projects/377376242639/locations/us-central1/metadataStores/default/contexts/evaluate-re-agent-single-metric-eval-0tbqvw55\n",
            "Context deleted. . Resource name: projects/377376242639/locations/us-central1/metadataStores/default/contexts/evaluate-re-agent-single-metric-eval-0tbqvw55\n",
            "Deleting Context resource: projects/377376242639/locations/us-central1/metadataStores/default/contexts/evaluate-re-agent-single-metric-eval-0tbqvw55\n",
            "Delete Context backing LRO: projects/377376242639/locations/us-central1/metadataStores/default/contexts/evaluate-re-agent-single-metric-eval-0tbqvw55/operations/5779215531441651712\n",
            "Context resource projects/377376242639/locations/us-central1/metadataStores/default/contexts/evaluate-re-agent-single-metric-eval-0tbqvw55 deleted.\n",
            "Deleting TensorboardRun : projects/377376242639/locations/us-central1/tensorboards/6791546985330507776/experiments/evaluate-re-agent/runs/single-metric-eval-t3aictws\n",
            "TensorboardRun deleted. . Resource name: projects/377376242639/locations/us-central1/tensorboards/6791546985330507776/experiments/evaluate-re-agent/runs/single-metric-eval-t3aictws\n",
            "Deleting TensorboardRun resource: projects/377376242639/locations/us-central1/tensorboards/6791546985330507776/experiments/evaluate-re-agent/runs/single-metric-eval-t3aictws\n",
            "Delete TensorboardRun backing LRO: projects/377376242639/locations/us-central1/tensorboards/6791546985330507776/experiments/evaluate-re-agent/operations/1300385702021693440\n",
            "TensorboardRun resource projects/377376242639/locations/us-central1/tensorboards/6791546985330507776/experiments/evaluate-re-agent/runs/single-metric-eval-t3aictws deleted.\n",
            "Deleting Artifact : projects/377376242639/locations/us-central1/metadataStores/default/artifacts/evaluate-re-agent-single-metric-eval-t3aictws-tb-run\n",
            "Artifact deleted. . Resource name: projects/377376242639/locations/us-central1/metadataStores/default/artifacts/evaluate-re-agent-single-metric-eval-t3aictws-tb-run\n",
            "Deleting Artifact resource: projects/377376242639/locations/us-central1/metadataStores/default/artifacts/evaluate-re-agent-single-metric-eval-t3aictws-tb-run\n",
            "Delete Artifact backing LRO: projects/377376242639/locations/us-central1/metadataStores/default/artifacts/evaluate-re-agent-single-metric-eval-t3aictws-tb-run/operations/7416836945944248320\n",
            "Artifact resource projects/377376242639/locations/us-central1/metadataStores/default/artifacts/evaluate-re-agent-single-metric-eval-t3aictws-tb-run deleted.\n",
            "Deleting Context : projects/377376242639/locations/us-central1/metadataStores/default/contexts/evaluate-re-agent-single-metric-eval-t3aictws\n",
            "Context deleted. . Resource name: projects/377376242639/locations/us-central1/metadataStores/default/contexts/evaluate-re-agent-single-metric-eval-t3aictws\n",
            "Deleting Context resource: projects/377376242639/locations/us-central1/metadataStores/default/contexts/evaluate-re-agent-single-metric-eval-t3aictws\n",
            "Delete Context backing LRO: projects/377376242639/locations/us-central1/metadataStores/default/contexts/evaluate-re-agent-single-metric-eval-t3aictws/operations/8560751251296354304\n",
            "Context resource projects/377376242639/locations/us-central1/metadataStores/default/contexts/evaluate-re-agent-single-metric-eval-t3aictws deleted.\n",
            "Deleting Context : projects/377376242639/locations/us-central1/metadataStores/default/contexts/evaluate-re-agent\n",
            "Context deleted. . Resource name: projects/377376242639/locations/us-central1/metadataStores/default/contexts/evaluate-re-agent\n",
            "Deleting Context resource: projects/377376242639/locations/us-central1/metadataStores/default/contexts/evaluate-re-agent\n",
            "Delete Context backing LRO: projects/377376242639/locations/us-central1/metadataStores/default/contexts/evaluate-re-agent/operations/692962702280097792\n",
            "Context resource projects/377376242639/locations/us-central1/metadataStores/default/contexts/evaluate-re-agent deleted.\n",
            "Deleting ReasoningEngine : projects/377376242639/locations/us-central1/reasoningEngines/6125581588479606784\n",
            "ReasoningEngine deleted. . Resource name: projects/377376242639/locations/us-central1/reasoningEngines/6125581588479606784\n",
            "Deleting ReasoningEngine resource: projects/377376242639/locations/us-central1/reasoningEngines/6125581588479606784\n",
            "Delete ReasoningEngine backing LRO: projects/377376242639/locations/us-central1/operations/5833821676923518976\n",
            "ReasoningEngine resource projects/377376242639/locations/us-central1/reasoningEngines/6125581588479606784 deleted.\n"
          ]
        }
      ],
      "source": [
        "delete_experiment = True\n",
        "delete_remote_agent = True\n",
        "\n",
        "if delete_experiment:\n",
        "    try:\n",
        "        experiment = aiplatform.Experiment(EXPERIMENT_NAME)\n",
        "        experiment.delete(delete_backing_tensorboard_runs=True)\n",
        "    except Exception as e:\n",
        "        print(e)\n",
        "\n",
        "if delete_remote_agent:\n",
        "    try:\n",
        "        remote_1p_agent.delete()\n",
        "    except Exception as e:\n",
        "        print(e)"
      ]
    },
    {
      "cell_type": "code",
      "execution_count": null,
      "metadata": {},
      "outputs": [],
      "source": []
    }
  ],
  "metadata": {
    "colab": {
      "name": "evaluating_langchain_agent_reasoning_engine_prebuilt_template.ipynb",
      "toc_visible": true
    },
    "kernelspec": {
      "display_name": "Python 3",
      "language": "python",
      "name": "python3"
    },
    "language_info": {
      "codemirror_mode": {
        "name": "ipython",
        "version": 3
      },
      "file_extension": ".py",
      "mimetype": "text/x-python",
      "name": "python",
      "nbconvert_exporter": "python",
      "pygments_lexer": "ipython3",
      "version": "3.12.4"
    }
  },
  "nbformat": 4,
  "nbformat_minor": 0
}
