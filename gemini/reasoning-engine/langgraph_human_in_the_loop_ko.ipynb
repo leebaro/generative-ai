{
 "cells": [
  {
   "cell_type": "code",
   "execution_count": null,
   "metadata": {
    "id": "ur8xi4C7S06n"
   },
   "outputs": [],
   "source": [
    "# Copyright 2025 Google LLC\n",
    "#\n",
    "# Licensed under the Apache License, Version 2.0 (the \"License\");\n",
    "# you may not use this file except in compliance with the License.\n",
    "# You may obtain a copy of the License at\n",
    "#\n",
    "#     https://www.apache.org/licenses/LICENSE-2.0\n",
    "#\n",
    "# Unless required by applicable law or agreed to in writing, software\n",
    "# distributed under the License is distributed on an \"AS IS\" BASIS,\n",
    "# WITHOUT WARRANTIES OR CONDITIONS OF ANY KIND, either express or implied.\n",
    "# See the License for the specific language governing permissions and\n",
    "# limitations under the License."
   ]
  },
  {
   "cell_type": "markdown",
   "metadata": {
    "id": "JAPoU8Sm5E6e"
   },
   "source": [
    "# Building and Deploying a Human-in-the-Loop LangGraph Application with Reasoning Engine on Vertex AI\n",
    "\n",
    "<table align=\"left\">\n",
    "  <td style=\"text-align: center\">\n",
    "    <a href=\"https://colab.research.google.com/github/GoogleCloudPlatform/generative-ai/blob/main/gemini/reasoning-engine/langgraph_human_in_the_loop.ipynb\">\n",
    "      <img src=\"https://cloud.google.com/ml-engine/images/colab-logo-32px.png\" alt=\"Google Colaboratory logo\"><br> Open in Colab\n",
    "    </a>\n",
    "  </td>\n",
    "  <td style=\"text-align: center\">\n",
    "    <a href=\"https://console.cloud.google.com/vertex-ai/colab/import/https:%2F%2Fraw.githubusercontent.com%2FGoogleCloudPlatform%2Fgenerative-ai%2Fmain%2Fgemini%2Freasoning-engine%2Flanggraph_human_in_the_loop.ipynb\">\n",
    "      <img width=\"32px\" src=\"https://cloud.google.com/ml-engine/images/colab-enterprise-logo-32px.png\" alt=\"Google Cloud Colab Enterprise logo\"><br> Open in Colab Enterprise\n",
    "    </a>\n",
    "  </td>    \n",
    "  <td style=\"text-align: center\">\n",
    "    <a href=\"https://console.cloud.google.com/vertex-ai/workbench/deploy-notebook?download_url=https://raw.githubusercontent.com/GoogleCloudPlatform/generative-ai/main/gemini/reasoning-engine/langgraph_human_in_the_loop.ipynb\">\n",
    "      <img src=\"https://lh3.googleusercontent.com/UiNooY4LUgW_oTvpsNhPpQzsstV5W8F7rYgxgGBD85cWJoLmrOzhVs_ksK_vgx40SHs7jCqkTkCk=e14-rj-sc0xffffff-h130-w32\" alt=\"Vertex AI logo\"><br> Open in Workbench\n",
    "    </a>\n",
    "  </td>\n",
    "  <td style=\"text-align: center\">\n",
    "    <a href=\"https://github.com/GoogleCloudPlatform/generative-ai/blob/main/gemini/reasoning-engine/langgraph_human_in_the_loop.ipynb\">\n",
    "      <img src=\"https://cloud.google.com/ml-engine/images/github-logo-32px.png\" alt=\"GitHub logo\"><br> View on GitHub\n",
    "    </a>\n",
    "  </td>\n",
    "</table>\n",
    "\n",
    "<div style=\"clear: both;\"></div>\n",
    "\n",
    "<b>Share to:</b>\n",
    "\n",
    "<a href=\"https://www.linkedin.com/sharing/share-offsite/?url=https%3A//github.com/GoogleCloudPlatform/generative-ai/blob/main/gemini/reasoning-engine/langgraph_human_in_the_loop.ipynb\" target=\"_blank\">\n",
    "  <img width=\"20px\" src=\"https://upload.wikimedia.org/wikipedia/commons/8/81/LinkedIn_icon.svg\" alt=\"LinkedIn logo\">\n",
    "</a>\n",
    "\n",
    "<a href=\"https://bsky.app/intent/compose?text=https%3A//github.com/GoogleCloudPlatform/generative-ai/blob/main/gemini/reasoning-engine/langgraph_human_in_the_loop.ipynb\" target=\"_blank\">\n",
    "  <img width=\"20px\" src=\"https://upload.wikimedia.org/wikipedia/commons/7/7a/Bluesky_Logo.svg\" alt=\"Bluesky logo\">\n",
    "</a>\n",
    "\n",
    "<a href=\"https://twitter.com/intent/tweet?url=https%3A//github.com/GoogleCloudPlatform/generative-ai/blob/main/gemini/reasoning-engine/langgraph_human_in_the_loop.ipynb\" target=\"_blank\">\n",
    "  <img width=\"20px\" src=\"https://upload.wikimedia.org/wikipedia/commons/5/53/X_logo_2023_original.svg\" alt=\"X logo\">\n",
    "</a>\n",
    "\n",
    "<a href=\"https://reddit.com/submit?url=https%3A//github.com/GoogleCloudPlatform/generative-ai/blob/main/gemini/reasoning-engine/langgraph_human_in_the_loop.ipynb\" target=\"_blank\">\n",
    "  <img width=\"20px\" src=\"https://redditinc.com/hubfs/Reddit%20Inc/Brand/Reddit_Logo.png\" alt=\"Reddit logo\">\n",
    "</a>\n",
    "\n",
    "<a href=\"https://www.facebook.com/sharer/sharer.php?u=https%3A//github.com/GoogleCloudPlatform/generative-ai/blob/main/gemini/reasoning-engine/langgraph_human_in_the_loop.ipynb\" target=\"_blank\">\n",
    "  <img width=\"20px\" src=\"https://upload.wikimedia.org/wikipedia/commons/5/51/Facebook_f_logo_%282019%29.svg\" alt=\"Facebook logo\">\n",
    "</a>            "
   ]
  },
  {
   "cell_type": "markdown",
   "metadata": {
    "id": "84f0f73a0f76"
   },
   "source": [
    "| | |\n",
    "|-|-|\n",
    "| Author(s) | [Xiaolong Yang](https://github.com/shawn-yang-google) |"
   ]
  },
  {
   "cell_type": "markdown",
   "metadata": {
    "id": "tvgnzT1CKxrO"
   },
   "source": [
    "## 개요\n",
    "\n",
    "<mark>[Reasoning Engine](https://cloud.google.com/vertex-ai/generative-ai/docs/reasoning-engine/overview) (Vertex AI의 LangChain)은 에이전트 추론 프레임워크(agent reasoning frameworks)를 구축하고 배포하는 데 도움이 되는 관리형 서비스</mark>입니다. [LangGraph](https://langchain-ai.github.io/langgraph/)는 LLM을 사용하여 상태 저장(stateful) 다중 액터 애플리케이션(multi-actor applications)을 구성하기 위한 라이브러리로서, 정교한 에이전트 및 다중 에이전트 워크플로(multi-agent workflows) 생성을 가능하게 합니다.\n",
    "\n",
    "이 노트북은 Vertex AI의 [Reasoning Engine](https://cloud.google.com/vertex-ai/generative-ai/docs/reasoning-engine/overview)을 사용하여 Human-in-the-Loop LangGraph 애플리케이션을 구축, 배포 및 테스트하는 방법을 보여줍니다. LangGraph의 강력한 워크플로 오케스트레이션(workflow orchestration)과 Vertex AI의 확장성을 결합하여 Human-in-the-Loop 생성형 AI 애플리케이션을 구축하는 방법을 배우게 됩니다.\n",
    "\n",
    "이전 [노트북](https://github.com/GoogleCloudPlatform/generative-ai/blob/main/gemini/reasoning-engine/intro_reasoning_engine.ipynb)에서는 도구 정의(Defining Tools), 라우터 정의(Defining a Router), LangGraph 애플리케이션 구축(Building a LangGraph Application), 로컬 테스트(Local Testing), Vertex AI에 배포(Deploying to Vertex AI), 원격 테스트(Remote Testing) 및 리소스 정리(Cleaning Up Resources)를 다루었습니다.\n",
    "\n",
    "이 노트북은 이러한 개념을 확장하고 다음과 같은 Human-in-the-Loop 기능을 살펴봅니다.\n",
    "\n",
    "- **도구 호출 검토 (Reviewing Tool Calls):** 도구 사용 후 사람의 감독을 구현하여 진행하기 전에 작업의 확인 및 수정을 허용합니다.\n",
    "- **상태 기록 가져오기 (Fetching State History):** 감사, 분석 및 잠재적인 상태 복원을 위해 LangGraph 애플리케이션의 전체 실행 기록을 검색합니다.\n",
    "- **시간 여행 (Time Travel):** 과거 결정을 이해하기 위해 특정 시점의 에이전트 상태를 검사합니다.\n",
    "- **재생 (Replay):** 수정 없이 특정 체크포인트에서 실행을 다시 시작하여 일관된 결과를 보장합니다.\n",
    "- **분기 (Branching):** 과거 상태를 기반으로 대체 실행 경로를 생성하여 에이전트가 다양한 가능성을 탐색하거나 이전 오류를 수정할 수 있도록 합니다.\n",
    "\n",
    "이 노트북이 끝나면 LangGraph, Reasoning Engine 및 Vertex AI를 사용하여 사용자 정의된 Human-in-the-Loop 생성형 AI 애플리케이션을 구축하고 배포하는 기술을 갖추게 됩니다."
   ]
  },
  {
   "cell_type": "markdown",
   "metadata": {
    "id": "61RBz8LLbxCR"
   },
   "source": [
    "## 시작하기 (Get started)"
   ]
  },
  {
   "cell_type": "markdown",
   "metadata": {
    "id": "No17Cw5hgx12"
   },
   "source": [
    "### Vertex AI SDK 및 필수 패키지 설치 (Install the Vertex AI SDK and Required Packages)"
   ]
  },
  {
   "cell_type": "code",
   "execution_count": 1,
   "metadata": {
    "id": "tFy3H3aPgx12"
   },
   "outputs": [],
   "source": [
    "%pip install --upgrade --user --quiet \\\n",
    "    \"google-cloud-aiplatform[langchain,reasoningengine]\" \\\n",
    "    requests --force-reinstall"
   ]
  },
  {
   "cell_type": "markdown",
   "metadata": {
    "id": "R5Xep4W9lq-Z"
   },
   "source": [
    "### Restart runtime\n",
    "\n",
    "To use the newly installed packages in this Jupyter runtime, you must restart the runtime. You can do this by running the cell below, which restarts the current kernel.\n",
    "\n",
    "The restart might take a minute or longer. After it's restarted, continue to the next step."
   ]
  },
  {
   "cell_type": "code",
   "execution_count": 2,
   "metadata": {
    "id": "XRvKdaPDTznN"
   },
   "outputs": [],
   "source": [
    "import IPython\n",
    "\n",
    "app = IPython.Application.instance()\n",
    "app.kernel.do_shutdown(True)"
   ]
  },
  {
   "cell_type": "markdown",
   "metadata": {
    "id": "SbmM4z7FOBpM"
   },
   "source": [
    "<div class=\"alert alert-block alert-warning\">\n",
    "<b>⚠️ The kernel is going to restart. Wait until it's finished before continuing to the next step. ⚠️</b>\n",
    "</div>"
   ]
  },
  {
   "cell_type": "markdown",
   "metadata": {
    "id": "dmWOrTJ3gx13"
   },
   "source": [
    "### Authenticate your notebook environment (Colab only)\n",
    "\n",
    "If you're running this notebook on Google Colab, run the cell below to authenticate your environment."
   ]
  },
  {
   "cell_type": "code",
   "execution_count": 1,
   "metadata": {
    "id": "NyKGtVQjgx13"
   },
   "outputs": [],
   "source": [
    "import sys\n",
    "\n",
    "if \"google.colab\" in sys.modules:\n",
    "    from google.colab import auth\n",
    "\n",
    "    auth.authenticate_user()"
   ]
  },
  {
   "cell_type": "markdown",
   "metadata": {
    "id": "DF4l8DTdWgPY"
   },
   "source": [
    "### Google Cloud 프로젝트 정보 설정 및 Vertex AI SDK 초기화\n",
    "\n",
    "Vertex AI를 사용하기 전에 기존 Google Cloud 프로젝트가 있는지 확인하고 [Vertex AI API를 활성화](https://console.cloud.google.com/flows/enableapi?apiid=aiplatform.googleapis.com)했는지 확인하세요.\n",
    "\n",
    "자세한 내용은 [프로젝트 및 개발 환경 설정](https://cloud.google.com/vertex-ai/docs/start/cloud-environment)에 대한 문서를 참조하세요."
   ]
  },
  {
   "cell_type": "code",
   "execution_count": 8,
   "metadata": {},
   "outputs": [],
   "source": [
    "import os\n",
    "import dotenv\n",
    "\n",
    "dotenv.load_dotenv()\n",
    "\n",
    "PROJECT_ID = os.getenv(\"PROJECT_ID\")\n",
    "LOCATION = os.getenv(\"LOCATOIN\")\n",
    "\n",
    "MODEL_NAME = \"gemini-2.0-flash-001\""
   ]
  },
  {
   "cell_type": "code",
   "execution_count": 2,
   "metadata": {
    "id": "Nqwi-5ufWp_B"
   },
   "outputs": [],
   "source": [
    "# PROJECT_ID = \"[your-project-id]\"  # @param {type:\"string\"}\n",
    "# LOCATION = \"us-central1\"  # @param {type:\"string\"}\n",
    "STAGING_BUCKET = \"gs://[your-staging-bucket]\"  # @param {type:\"string\"}\n",
    "\n",
    "import vertexai\n",
    "\n",
    "vertexai.init(project=PROJECT_ID, location=LOCATION, staging_bucket=STAGING_BUCKET)"
   ]
  },
  {
   "cell_type": "markdown",
   "metadata": {
    "id": "EdvJRUWRNGHE"
   },
   "source": [
    "## Reasoning Engine에서 LangGraph 앱 구축 및 배포\n",
    "\n",
    "다음 섹션에서는 Vertex AI의 Reasoning Engine을 사용하여 LangGraph 애플리케이션을 구축하고 배포하는 방법을 안내합니다. "
   ]
  },
  {
   "cell_type": "markdown",
   "metadata": {
    "id": "3b3004f33544"
   },
   "source": [
    "### 라이브러리 가져오기 (Import Libraries)\n",
    "\n",
    "필요한 Python 라이브러리를 가져옵니다. 이러한 라이브러리는 LangGraph, Vertex AI 및 애플리케이션의 다른 구성 요소와 상호 작용하는 데 필요한 도구를 제공합니다."
   ]
  },
  {
   "cell_type": "code",
   "execution_count": 3,
   "metadata": {
    "id": "67acfba81563"
   },
   "outputs": [],
   "source": [
    "from langchain.load import load as langchain_load\n",
    "from vertexai.preview import reasoning_engines\n"
   ]
  },
  {
   "cell_type": "markdown",
   "metadata": {
    "id": "eXIykM_rDlzJ"
   },
   "source": [
    "### 도구 정의 (Define Tools)\n",
    "\n",
    "LangGraph 애플리케이션을 위한 도구를 정의하는 것으로 시작하겠습니다. 여기서는 에이전트 애플리케이션 내에서 도구 역할을 하는 사용자 정의 Python 함수를 정의합니다.\n",
    "\n",
    "이 예에서는 <mark>사용자가 요청한 환율을 검색하는 간단한 도구</mark>를 만듭니다. 실제로 API와 상호 작용하거나, 데이터베이스를 쿼리하거나, 에이전트가 실행해야 할 수 있는 다른 작업을 수행하는 함수를 정의할 수 있습니다."
   ]
  },
  {
   "cell_type": "code",
   "execution_count": 13,
   "metadata": {
    "id": "9AhaLYidDzQu"
   },
   "outputs": [],
   "source": [
    "import requests\n",
    "\n",
    "\n",
    "def get_exchange_rate(\n",
    "    currency_from: str = \"USD\",\n",
    "    currency_to: str = \"KRW\",\n",
    "    currency_date: str = \"latest\",\n",
    "):\n",
    "    \"\"\"Retrieves the exchange rate between two currencies on a specified date.\n",
    "\n",
    "    Uses the Frankfurter API (https://api.frankfurter.app/) to obtain\n",
    "    exchange rate data.\n",
    "\n",
    "    Args:\n",
    "        currency_from: The base currency (3-letter currency code).\n",
    "            Defaults to \"USD\" (US Dollar).\n",
    "        currency_to: The target currency (3-letter currency code).\n",
    "            Defaults to \"KRW\" (South Korea Won).\n",
    "        currency_date: The date for which to retrieve the exchange rate.\n",
    "            Defaults to \"latest\" for the most recent exchange rate data.\n",
    "            Can be specified in YYYY-MM-DD format for historical rates.\n",
    "\n",
    "    Returns:\n",
    "        dict: A dictionary containing the exchange rate information.\n",
    "            Example: {\"amount\": 1.0, \"base\": \"USD\", \"date\": \"2023-11-24\",\n",
    "                \"rates\": {\"KRW\": 1300}}\n",
    "    \"\"\"\n",
    "\n",
    "    response = requests.get(\n",
    "        f\"https://api.frankfurter.app/{currency_date}\",\n",
    "        params={\"from\": currency_from, \"to\": currency_to},\n",
    "    )\n",
    "    return response.json()"
   ]
  },
  {
   "cell_type": "code",
   "execution_count": 14,
   "metadata": {},
   "outputs": [
    {
     "data": {
      "text/plain": [
       "{'amount': 1.0, 'base': 'USD', 'date': '2023-11-24', 'rates': {'KRW': 1305.98}}"
      ]
     },
     "execution_count": 14,
     "metadata": {},
     "output_type": "execute_result"
    }
   ],
   "source": [
    "get_exchange_rate(\"USD\", \"KRW\", \"2023-11-24\")"
   ]
  },
  {
   "cell_type": "markdown",
   "metadata": {
    "id": "94db54ba756b"
   },
   "source": [
    "### [`Checkpointers`](https://langchain-ai.github.io/langgraph/concepts/persistence/) 정의\n",
    "\n",
    "LangGraph에서 [메모리(memory)는 체크포인팅/지속성(checkpointing/persistence)](https://github.com/langchain-ai/langgraph/discussions/352#discussioncomment-9290376)입니다. <mark style=\"background-color:#B18904\">체크포인팅은 그래프의 각 노드에서 에이전트 실행의 [상태(state)](https://langchain-ai.github.io/langgraph/concepts/low_level/#checkpointer-state)를 저장하며, 이는 `실행 재개(Resuming execution)`, `디버깅 및 검사(Debugging and Inspection)`, 그리고 `비동기 작업(Asynchronous Operations)`에 매우 중요</mark>합니다.\n",
    "\n",
    "LangGraph는 상태를 저장하고 로드하는 메서드를 정의하는 [체크포인터 인터페이스(Checkpointer Interface)](https://langchain-ai.github.io/langgraph/concepts/persistence/#checkpointer-interface)를 제공합니다. 이 인터페이스를 구현하기 위해 여러 내장 체크포인터(built-in checkpointers)를 사용할 수 있습니다.\n",
    "\n",
    "다음으로, LangGraph 애플리케이션의 체크포인터에 대한 인수를 정의하고 체크포인터 빌더(checkpointer builder) 역할을 하는 사용자 정의 Python 함수를 만듭니다. 이 경우 간단한 `In Memory` 체크포인터를 정의합니다."
   ]
  },
  {
   "cell_type": "code",
   "execution_count": 15,
   "metadata": {
    "id": "22981b2e1c59"
   },
   "outputs": [],
   "source": [
    "checkpointer_kwargs = None\n",
    "\n",
    "def checkpointer_builder(**kwargs):\n",
    "    from langgraph.checkpoint.memory import MemorySaver\n",
    "\n",
    "    return MemorySaver()"
   ]
  },
  {
   "cell_type": "markdown",
   "metadata": {
    "id": "d32ce189d989"
   },
   "source": [
    "### Human-in-the-Loop LangGraph 애플리케이션 정의\n",
    "\n",
    "이제 모든 구성 요소를 통합하여 Reasoning Engine 내에서 Human-in-the-Loop LangGraph 애플리케이션을 정의합니다.\n",
    "\n",
    "이 애플리케이션은 사용자가 정의한 도구(tools)와 체크포인터(checkpointer)를 활용합니다. LangGraph는 이러한 상호 작용을 구조화하고 LLM의 기능을 활용하기 위한 강력한 프레임워크를 제공합니다."
   ]
  },
  {
   "cell_type": "code",
   "execution_count": 16,
   "metadata": {
    "id": "6eeff14856cd"
   },
   "outputs": [],
   "source": [
    "agent = reasoning_engines.LanggraphAgent(\n",
    "    model=MODEL_NAME,\n",
    "    tools=[get_exchange_rate],\n",
    "    model_kwargs={\"temperature\": 0, \"max_retries\": 6},\n",
    "    checkpointer_kwargs=checkpointer_kwargs,\n",
    "    checkpointer_builder=checkpointer_builder,\n",
    ")"
   ]
  },
  {
   "cell_type": "markdown",
   "metadata": {
    "id": "be06c89a87aa"
   },
   "source": [
    "### Local Testing\n",
    "\n",
    "This section covers local testing of your LangGraph application before deployment to ensure it behaves as expected."
   ]
  },
  {
   "cell_type": "code",
   "execution_count": 17,
   "metadata": {
    "id": "oOJMqctkVvYA"
   },
   "outputs": [],
   "source": [
    "agent.set_up()"
   ]
  },
  {
   "cell_type": "code",
   "execution_count": 20,
   "metadata": {
    "id": "JHU5GhMrh6Xz"
   },
   "outputs": [],
   "source": [
    "inputs = {\n",
    "    \"messages\": [\n",
    "        (\"user\", \"미국 달러에서 한국 통화로의 환율은 얼마인가요?\")\n",
    "    ]\n",
    "}"
   ]
  },
  {
   "cell_type": "code",
   "execution_count": 21,
   "metadata": {},
   "outputs": [
    {
     "data": {
      "text/plain": [
       "{'messages': [('user', '미국 달러에서 한국 통화로의 환율은 얼마인가요?')]}"
      ]
     },
     "execution_count": 21,
     "metadata": {},
     "output_type": "execute_result"
    }
   ],
   "source": [
    "inputs"
   ]
  },
  {
   "cell_type": "code",
   "execution_count": 19,
   "metadata": {
    "id": "aA5s9KI2VwJv"
   },
   "outputs": [
    {
     "data": {
      "text/plain": [
       "'현재 미국 달러에서 한국 통화로의 환율은 1441.87입니다. 즉, 1 미국 달러는 1441.87 한국 원입니다.'"
      ]
     },
     "execution_count": 19,
     "metadata": {},
     "output_type": "execute_result"
    }
   ],
   "source": [
    "response = agent.query(\n",
    "    input=inputs,\n",
    "    config={\"configurable\": {\"thread_id\": \"synchronous-thread-id\"}},\n",
    ")\n",
    "\n",
    "response[\"messages\"][-1][\"kwargs\"][\"content\"]"
   ]
  },
  {
   "cell_type": "markdown",
   "metadata": {
    "id": "GfaxXCINV7cV"
   },
   "source": [
    "또한 [스트리밍](https://langchain-ai.github.io/langgraph/how-tos/stream-values/) 모드(streaming mode)를 활용하여 각 노드 실행 후 그래프의 전체 상태를 나타내는 그래프의 `values`를 스트리밍 방식으로 다시 가져올 수 있습니다."
   ]
  },
  {
   "cell_type": "code",
   "execution_count": 22,
   "metadata": {
    "id": "fc70cda0aeb0"
   },
   "outputs": [
    {
     "name": "stdout",
     "output_type": "stream",
     "text": [
      "{'messages': [{'lc': 1, 'type': 'constructor', 'id': ['langchain', 'schema', 'messages', 'HumanMessage'], 'kwargs': {'content': '미국 달러에서 한국 통화로의 환율은 얼마인가요?', 'type': 'human', 'id': '4feed81e-b2eb-4800-9412-1e9b01c83d6f'}}]}\n",
      "{'messages': [{'lc': 1, 'type': 'constructor', 'id': ['langchain', 'schema', 'messages', 'HumanMessage'], 'kwargs': {'content': '미국 달러에서 한국 통화로의 환율은 얼마인가요?', 'type': 'human', 'id': '4feed81e-b2eb-4800-9412-1e9b01c83d6f'}}, {'lc': 1, 'type': 'constructor', 'id': ['langchain', 'schema', 'messages', 'AIMessage'], 'kwargs': {'content': '', 'additional_kwargs': {'function_call': {'name': 'get_exchange_rate', 'arguments': '{\"currency_from\": \"USD\", \"currency_to\": \"KRW\"}'}}, 'response_metadata': {'is_blocked': False, 'safety_ratings': [], 'usage_metadata': {'prompt_token_count': 144, 'candidates_token_count': 14, 'total_token_count': 158, 'prompt_tokens_details': [{'modality': 1, 'token_count': 144}], 'candidates_tokens_details': [{'modality': 1, 'token_count': 14}], 'cached_content_token_count': 0, 'cache_tokens_details': []}, 'finish_reason': 'STOP', 'avg_logprobs': -0.00133492039250476}, 'type': 'ai', 'id': 'run-1b978822-f38c-40a4-a426-e5ca070c795a-0', 'tool_calls': [{'name': 'get_exchange_rate', 'args': {'currency_from': 'USD', 'currency_to': 'KRW'}, 'id': '13f3c2c1-14c0-4a2f-8d7e-7b44108001f9', 'type': 'tool_call'}], 'usage_metadata': {'input_tokens': 144, 'output_tokens': 14, 'total_tokens': 158}, 'invalid_tool_calls': []}}]}\n",
      "{'messages': [{'lc': 1, 'type': 'constructor', 'id': ['langchain', 'schema', 'messages', 'HumanMessage'], 'kwargs': {'content': '미국 달러에서 한국 통화로의 환율은 얼마인가요?', 'type': 'human', 'id': '4feed81e-b2eb-4800-9412-1e9b01c83d6f'}}, {'lc': 1, 'type': 'constructor', 'id': ['langchain', 'schema', 'messages', 'AIMessage'], 'kwargs': {'content': '', 'additional_kwargs': {'function_call': {'name': 'get_exchange_rate', 'arguments': '{\"currency_from\": \"USD\", \"currency_to\": \"KRW\"}'}}, 'response_metadata': {'is_blocked': False, 'safety_ratings': [], 'usage_metadata': {'prompt_token_count': 144, 'candidates_token_count': 14, 'total_token_count': 158, 'prompt_tokens_details': [{'modality': 1, 'token_count': 144}], 'candidates_tokens_details': [{'modality': 1, 'token_count': 14}], 'cached_content_token_count': 0, 'cache_tokens_details': []}, 'finish_reason': 'STOP', 'avg_logprobs': -0.00133492039250476}, 'type': 'ai', 'id': 'run-1b978822-f38c-40a4-a426-e5ca070c795a-0', 'tool_calls': [{'name': 'get_exchange_rate', 'args': {'currency_from': 'USD', 'currency_to': 'KRW'}, 'id': '13f3c2c1-14c0-4a2f-8d7e-7b44108001f9', 'type': 'tool_call'}], 'usage_metadata': {'input_tokens': 144, 'output_tokens': 14, 'total_tokens': 158}, 'invalid_tool_calls': []}}, {'lc': 1, 'type': 'constructor', 'id': ['langchain', 'schema', 'messages', 'ToolMessage'], 'kwargs': {'content': '{\"amount\": 1.0, \"base\": \"USD\", \"date\": \"2025-02-18\", \"rates\": {\"KRW\": 1441.87}}', 'type': 'tool', 'name': 'get_exchange_rate', 'id': '0d0f4817-6fdc-4163-ba19-f5fb7aa4e4c4', 'tool_call_id': '13f3c2c1-14c0-4a2f-8d7e-7b44108001f9', 'status': 'success'}}]}\n",
      "{'messages': [{'lc': 1, 'type': 'constructor', 'id': ['langchain', 'schema', 'messages', 'HumanMessage'], 'kwargs': {'content': '미국 달러에서 한국 통화로의 환율은 얼마인가요?', 'type': 'human', 'id': '4feed81e-b2eb-4800-9412-1e9b01c83d6f'}}, {'lc': 1, 'type': 'constructor', 'id': ['langchain', 'schema', 'messages', 'AIMessage'], 'kwargs': {'content': '', 'additional_kwargs': {'function_call': {'name': 'get_exchange_rate', 'arguments': '{\"currency_from\": \"USD\", \"currency_to\": \"KRW\"}'}}, 'response_metadata': {'is_blocked': False, 'safety_ratings': [], 'usage_metadata': {'prompt_token_count': 144, 'candidates_token_count': 14, 'total_token_count': 158, 'prompt_tokens_details': [{'modality': 1, 'token_count': 144}], 'candidates_tokens_details': [{'modality': 1, 'token_count': 14}], 'cached_content_token_count': 0, 'cache_tokens_details': []}, 'finish_reason': 'STOP', 'avg_logprobs': -0.00133492039250476}, 'type': 'ai', 'id': 'run-1b978822-f38c-40a4-a426-e5ca070c795a-0', 'tool_calls': [{'name': 'get_exchange_rate', 'args': {'currency_from': 'USD', 'currency_to': 'KRW'}, 'id': '13f3c2c1-14c0-4a2f-8d7e-7b44108001f9', 'type': 'tool_call'}], 'usage_metadata': {'input_tokens': 144, 'output_tokens': 14, 'total_tokens': 158}, 'invalid_tool_calls': []}}, {'lc': 1, 'type': 'constructor', 'id': ['langchain', 'schema', 'messages', 'ToolMessage'], 'kwargs': {'content': '{\"amount\": 1.0, \"base\": \"USD\", \"date\": \"2025-02-18\", \"rates\": {\"KRW\": 1441.87}}', 'type': 'tool', 'name': 'get_exchange_rate', 'id': '0d0f4817-6fdc-4163-ba19-f5fb7aa4e4c4', 'tool_call_id': '13f3c2c1-14c0-4a2f-8d7e-7b44108001f9', 'status': 'success'}}, {'lc': 1, 'type': 'constructor', 'id': ['langchain', 'schema', 'messages', 'AIMessage'], 'kwargs': {'content': '현재 미국 달러 환율은 1,441.87 한국 원입니다.', 'response_metadata': {'is_blocked': False, 'safety_ratings': [], 'usage_metadata': {'prompt_token_count': 180, 'candidates_token_count': 21, 'total_token_count': 201, 'prompt_tokens_details': [{'modality': 1, 'token_count': 180}], 'candidates_tokens_details': [{'modality': 1, 'token_count': 21}], 'cached_content_token_count': 0, 'cache_tokens_details': []}, 'finish_reason': 'STOP', 'avg_logprobs': -0.059743279502505346}, 'type': 'ai', 'id': 'run-6aa11839-6cb7-42a9-9b59-9f4d38277ae5-0', 'usage_metadata': {'input_tokens': 180, 'output_tokens': 21, 'total_tokens': 201}, 'tool_calls': [], 'invalid_tool_calls': []}}]}\n"
     ]
    }
   ],
   "source": [
    "for state_values in agent.stream_query(\n",
    "    input=inputs,\n",
    "    stream_mode=\"values\",\n",
    "    config={\"configurable\": {\"thread_id\": \"streaming-thread-values\"}},\n",
    "):\n",
    "    print(state_values)"
   ]
  },
  {
   "cell_type": "markdown",
   "metadata": {
    "id": "afjX7glhE4o_"
   },
   "source": [
    "또는 그래프의 `updates`를 스트리밍 방식으로 다시 가져올 수 있습니다. 이는 각 노드가 실행된 후 상태의 변경 사항을 나타냅니다."
   ]
  },
  {
   "cell_type": "code",
   "execution_count": 23,
   "metadata": {
    "id": "K4IjUrV_E3pc"
   },
   "outputs": [
    {
     "name": "stdout",
     "output_type": "stream",
     "text": [
      "{'agent': {'messages': [{'lc': 1, 'type': 'constructor', 'id': ['langchain', 'schema', 'messages', 'AIMessage'], 'kwargs': {'content': '', 'additional_kwargs': {'function_call': {'name': 'get_exchange_rate', 'arguments': '{\"currency_from\": \"USD\", \"currency_to\": \"KRW\"}'}}, 'response_metadata': {'is_blocked': False, 'safety_ratings': [], 'usage_metadata': {'prompt_token_count': 144, 'candidates_token_count': 14, 'total_token_count': 158, 'prompt_tokens_details': [{'modality': 1, 'token_count': 144}], 'candidates_tokens_details': [{'modality': 1, 'token_count': 14}], 'cached_content_token_count': 0, 'cache_tokens_details': []}, 'finish_reason': 'STOP', 'avg_logprobs': -0.00133492039250476}, 'type': 'ai', 'id': 'run-552bd820-9a5e-491c-b06b-616067431852-0', 'tool_calls': [{'name': 'get_exchange_rate', 'args': {'currency_from': 'USD', 'currency_to': 'KRW'}, 'id': '1e425ac2-3388-4eb5-8793-b95c863122bf', 'type': 'tool_call'}], 'usage_metadata': {'input_tokens': 144, 'output_tokens': 14, 'total_tokens': 158}, 'invalid_tool_calls': []}}]}}\n",
      "{'tools': {'messages': [{'lc': 1, 'type': 'constructor', 'id': ['langchain', 'schema', 'messages', 'ToolMessage'], 'kwargs': {'content': '{\"amount\": 1.0, \"base\": \"USD\", \"date\": \"2025-02-18\", \"rates\": {\"KRW\": 1441.87}}', 'type': 'tool', 'name': 'get_exchange_rate', 'id': 'acb99f6d-ad6b-418f-9b26-058711be4d0f', 'tool_call_id': '1e425ac2-3388-4eb5-8793-b95c863122bf', 'status': 'success'}}]}}\n",
      "{'agent': {'messages': [{'lc': 1, 'type': 'constructor', 'id': ['langchain', 'schema', 'messages', 'AIMessage'], 'kwargs': {'content': '현재 미국 달러에서 한국 통화로의 환율은 1441.87입니다. 즉, 1 미국 달러는 1441.87 한국 원입니다.', 'response_metadata': {'is_blocked': False, 'safety_ratings': [], 'usage_metadata': {'prompt_token_count': 180, 'candidates_token_count': 45, 'total_token_count': 225, 'prompt_tokens_details': [{'modality': 1, 'token_count': 180}], 'candidates_tokens_details': [{'modality': 1, 'token_count': 45}], 'cached_content_token_count': 0, 'cache_tokens_details': []}, 'finish_reason': 'STOP', 'avg_logprobs': -0.048041518529256186}, 'type': 'ai', 'id': 'run-357004b1-177b-48a3-8b49-b2b294e89e61-0', 'usage_metadata': {'input_tokens': 180, 'output_tokens': 45, 'total_tokens': 225}, 'tool_calls': [], 'invalid_tool_calls': []}}]}}\n"
     ]
    }
   ],
   "source": [
    "for state_updates in agent.stream_query(\n",
    "    input=inputs,\n",
    "    stream_mode=\"updates\",\n",
    "    config={\"configurable\": {\"thread_id\": \"streaming-thread-updates\"}},\n",
    "):\n",
    "    print(state_updates)"
   ]
  },
  {
   "cell_type": "markdown",
   "metadata": {
    "id": "5jOSd-DqsNW3"
   },
   "source": [
    "## Human-in-the-loop"
   ]
  },
  {
   "cell_type": "markdown",
   "metadata": {
    "id": "hRadOYCYP2V9"
   },
   "source": [
    "### 도구 호출 검토 (Reviewing Tool Calls)\n",
    "\n",
    "LangGraph의 Human-in-the-Loop 기능은 에이전트 워크플로우(상태 머신 (state machines))에 인간의 개입 및 감독을 통합하기 위한 다양한 [사용 사례 (use cases)](https://langchain-ai.github.io/langgraph/concepts/human_in_the_loop/#use-cases)를 제공합니다. 이 노트북은 도구 호출 검토 (Reviewing Tool Calls) 사용 사례에 중점을 둡니다."
   ]
  },
  {
   "cell_type": "markdown",
   "metadata": {
    "id": "XWpl6JK-dqSy"
   },
   "source": [
    "이를 달성하기 위해 에이전트는 다음 시나리오에서 실행을 [interrupt](https://langchain-ai.github.io/langgraph/concepts/human_in_the_loop/#interrupt) (중단)해야 합니다.\n",
    "\n",
    "* 도구를 호출하기 전 (Before invoking the tool) (LLM이 도구 호출 AI Message를 생성할 때).\n",
    "* 도구 응답을 받은 후 (After receiving a tool response)."
   ]
  },
  {
   "cell_type": "code",
   "execution_count": 24,
   "metadata": {
    "id": "-uvK9JJokfou"
   },
   "outputs": [
    {
     "name": "stdout",
     "output_type": "stream",
     "text": [
      "==================================\u001b[1m Ai Message \u001b[0m==================================\n",
      "Tool Calls:\n",
      "  get_exchange_rate (55ab34a9-dad9-4e25-ae92-83608b19c70a)\n",
      " Call ID: 55ab34a9-dad9-4e25-ae92-83608b19c70a\n",
      "  Args:\n",
      "    currency_from: USD\n",
      "    currency_to: KRW\n"
     ]
    },
    {
     "name": "stderr",
     "output_type": "stream",
     "text": [
      "/var/folders/g4/xm7xh85s4jd3swbhwyd0q0bh0000gn/T/ipykernel_14616/1559279857.py:7: LangChainBetaWarning: The function `load` is in beta. It is actively being worked on, so the API may change.\n",
      "  langchain_load(response[\"messages\"][-1]).pretty_print()\n"
     ]
    }
   ],
   "source": [
    "response = agent.query(\n",
    "    input=inputs,\n",
    "    interrupt_before=[\"tools\"],  # Before invoking the tool.\n",
    "    interrupt_after=[\"tools\"],  # After getting a tool message.\n",
    "    config={\"configurable\": {\"thread_id\": \"human-in-the-loop-deepdive\"}},\n",
    ")\n",
    "langchain_load(response[\"messages\"][-1]).pretty_print()"
   ]
  },
  {
   "cell_type": "markdown",
   "metadata": {
    "id": "-45J2HOaSfWb"
   },
   "source": [
    "프로세스가 *도구를 호출하기 전 (before invoking the tool)*에 중단되었습니다.\n",
    "\n",
    "검토 후, LLM이 생성한 도구 호출 (`AI Message`)이 올바르다고 가정하고 실행을 재개합니다."
   ]
  },
  {
   "cell_type": "code",
   "execution_count": 25,
   "metadata": {
    "id": "4YHPNebpkfrU"
   },
   "outputs": [
    {
     "name": "stdout",
     "output_type": "stream",
     "text": [
      "=================================\u001b[1m Tool Message \u001b[0m=================================\n",
      "Name: get_exchange_rate\n",
      "\n",
      "{\"amount\": 1.0, \"base\": \"USD\", \"date\": \"2025-02-18\", \"rates\": {\"KRW\": 1441.87}}\n"
     ]
    }
   ],
   "source": [
    "response = agent.query(\n",
    "    input=None,  # Resume (continue with the tool call AI Message).\n",
    "    interrupt_before=[\"tools\"],\n",
    "    interrupt_after=[\"tools\"],\n",
    "    config={\"configurable\": {\"thread_id\": \"human-in-the-loop-deepdive\"}},\n",
    ")\n",
    "langchain_load(response[\"messages\"][-1]).pretty_print()"
   ]
  },
  {
   "cell_type": "markdown",
   "metadata": {
    "id": "gCVylqwzUSfm"
   },
   "source": [
    "프로세스가 *도구 메시지를 받은 후 (after receiving the tool message)* 다시 중단되었습니다.\n",
    "\n",
    "검토 후, LLM이 생성한 `Tool Message`가 올바르다고 판단되면 실행을 재개할 수 있습니다."
   ]
  },
  {
   "cell_type": "code",
   "execution_count": 26,
   "metadata": {
    "id": "i8wAJxyykfuI"
   },
   "outputs": [
    {
     "name": "stdout",
     "output_type": "stream",
     "text": [
      "==================================\u001b[1m Ai Message \u001b[0m==================================\n",
      "\n",
      "현재 미국 달러 환율은 1,441.87 한국 원입니다.\n"
     ]
    }
   ],
   "source": [
    "response = agent.query(\n",
    "    input=None,  # Resume (continue with the Tool Message).\n",
    "    interrupt_before=[\"tools\"],\n",
    "    interrupt_after=[\"tools\"],\n",
    "    config={\"configurable\": {\"thread_id\": \"human-in-the-loop-deepdive\"}},\n",
    ")\n",
    "langchain_load(response[\"messages\"][-1]).pretty_print()"
   ]
  },
  {
   "cell_type": "markdown",
   "metadata": {
    "id": "Gf0msu8l1Z6v"
   },
   "source": [
    "### 상태 기록 가져오기 (Fetching State History)\n",
    "\n",
    "`.get_state_history`를 호출하여 상태 기록을 가져올 수 있습니다."
   ]
  },
  {
   "cell_type": "code",
   "execution_count": 27,
   "metadata": {
    "id": "7Kp9eqFv1fTA"
   },
   "outputs": [
    {
     "name": "stdout",
     "output_type": "stream",
     "text": [
      "step 3: {'configurable': {'thread_id': 'human-in-the-loop-deepdive', 'checkpoint_ns': '', 'checkpoint_id': '1efee6b9-e7e0-6150-8003-d80324748251'}}\n",
      "==================================\u001b[1m Ai Message \u001b[0m==================================\n",
      "\n",
      "현재 미국 달러 환율은 1,441.87 한국 원입니다.\n",
      "\n",
      "\n",
      "step 2: {'configurable': {'thread_id': 'human-in-the-loop-deepdive', 'checkpoint_ns': '', 'checkpoint_id': '1efee6b9-0d50-6e0e-8002-eaf7df76dfc1'}}\n",
      "=================================\u001b[1m Tool Message \u001b[0m=================================\n",
      "Name: get_exchange_rate\n",
      "\n",
      "{\"amount\": 1.0, \"base\": \"USD\", \"date\": \"2025-02-18\", \"rates\": {\"KRW\": 1441.87}}\n",
      "\n",
      "\n",
      "step 1: {'configurable': {'thread_id': 'human-in-the-loop-deepdive', 'checkpoint_ns': '', 'checkpoint_id': '1efee6b4-7a93-64e4-8001-ae8b0443a9a6'}}\n",
      "==================================\u001b[1m Ai Message \u001b[0m==================================\n",
      "Tool Calls:\n",
      "  get_exchange_rate (55ab34a9-dad9-4e25-ae92-83608b19c70a)\n",
      " Call ID: 55ab34a9-dad9-4e25-ae92-83608b19c70a\n",
      "  Args:\n",
      "    currency_from: USD\n",
      "    currency_to: KRW\n",
      "\n",
      "\n",
      "step 0: {'configurable': {'thread_id': 'human-in-the-loop-deepdive', 'checkpoint_ns': '', 'checkpoint_id': '1efee6b4-7423-6f3c-8000-20d519478171'}}\n",
      "================================\u001b[1m Human Message \u001b[0m=================================\n",
      "\n",
      "미국 달러에서 한국 통화로의 환율은 얼마인가요?\n",
      "\n",
      "\n"
     ]
    }
   ],
   "source": [
    "for state_snapshot in agent.get_state_history(\n",
    "    config={\"configurable\": {\"thread_id\": \"human-in-the-loop-deepdive\"}},\n",
    "):\n",
    "    if state_snapshot[\"metadata\"][\"step\"] >= 0:\n",
    "        print(f'step {state_snapshot[\"metadata\"][\"step\"]}: {state_snapshot[\"config\"]}')\n",
    "        state_snapshot[\"values\"][\"messages\"][-1].pretty_print()\n",
    "        print(\"\\n\")"
   ]
  },
  {
   "cell_type": "markdown",
   "metadata": {
    "id": "sg72Af3U1_Im"
   },
   "source": [
    "### Time Travel\n",
    "\n",
    "LangGraph의 [Time Travel](https://langchain-ai.github.io/langgraph/how-tos/human_in_the_loop/time-travel/)은 지속적인 메모리(persistent memory)를 통해 대화형 에이전트(conversational agent)를 구축하고, 사람이 개입하여 과거의 행동을 수정할 수 있도록 하는 방법을 보여줍니다. 기본적으로, 이는 대화를 이전 상태로 \"되감고(rewinds)\", 실수를 수정할 수 있도록 하며, 수정된 지점부터 에이전트가 계속 진행할 수 있도록 합니다.\n",
    "\n",
    "`.get_state`를 호출하여 \"시간 여행(time travel)\"을 할 수 있습니다. 기본적으로 에이전트는 `latest state(최신 상태)`를 검색합니다."
   ]
  },
  {
   "cell_type": "code",
   "execution_count": 29,
   "metadata": {
    "id": "UxeCODgILFN3"
   },
   "outputs": [
    {
     "name": "stdout",
     "output_type": "stream",
     "text": [
      "step 3: {'configurable': {'thread_id': 'human-in-the-loop-deepdive', 'checkpoint_ns': '', 'checkpoint_id': '1efee6b9-e7e0-6150-8003-d80324748251'}}\n",
      "==================================\u001b[1m Ai Message \u001b[0m==================================\n",
      "\n",
      "현재 미국 달러 환율은 1,441.87 한국 원입니다.\n"
     ]
    }
   ],
   "source": [
    "state = agent.get_state(\n",
    "    config={\n",
    "        \"configurable\": {\n",
    "            \"thread_id\": \"human-in-the-loop-deepdive\",\n",
    "        }\n",
    "    }\n",
    ")\n",
    "\n",
    "print(f'step {state[\"metadata\"][\"step\"]}: {state[\"config\"]}')\n",
    "state[\"values\"][\"messages\"][-1].pretty_print()"
   ]
  },
  {
   "cell_type": "markdown",
   "metadata": {
    "id": "0dT7W34i2opn"
   },
   "source": [
    "이전 상태를 검색하려면 `checkpoint_id` (및 `checkpoint_ns`)를 지정해야 합니다."
   ]
  },
  {
   "cell_type": "code",
   "execution_count": 30,
   "metadata": {
    "id": "wHK72zjAtbZi"
   },
   "outputs": [
    {
     "data": {
      "text/plain": [
       "{'configurable': {'thread_id': 'human-in-the-loop-deepdive',\n",
       "  'checkpoint_ns': '',\n",
       "  'checkpoint_id': '1efee6b4-7a93-64e4-8001-ae8b0443a9a6'}}"
      ]
     },
     "execution_count": 30,
     "metadata": {},
     "output_type": "execute_result"
    }
   ],
   "source": [
    "snapshot_config = {}\n",
    "for state_snapshot in agent.get_state_history(\n",
    "    config={\"configurable\": {\"thread_id\": \"human-in-the-loop-deepdive\"}},\n",
    "):\n",
    "    if state_snapshot[\"metadata\"][\"step\"] == 1:\n",
    "        snapshot_config = state_snapshot[\"config\"]\n",
    "        break\n",
    "\n",
    "snapshot_config"
   ]
  },
  {
   "cell_type": "code",
   "execution_count": 31,
   "metadata": {
    "id": "hpl-ElG72LUt"
   },
   "outputs": [
    {
     "name": "stdout",
     "output_type": "stream",
     "text": [
      "step 1: {'configurable': {'thread_id': 'human-in-the-loop-deepdive', 'checkpoint_ns': '', 'checkpoint_id': '1efee6b4-7a93-64e4-8001-ae8b0443a9a6'}}\n",
      "==================================\u001b[1m Ai Message \u001b[0m==================================\n",
      "Tool Calls:\n",
      "  get_exchange_rate (55ab34a9-dad9-4e25-ae92-83608b19c70a)\n",
      " Call ID: 55ab34a9-dad9-4e25-ae92-83608b19c70a\n",
      "  Args:\n",
      "    currency_from: USD\n",
      "    currency_to: KRW\n"
     ]
    }
   ],
   "source": [
    "state = agent.get_state(config=snapshot_config)\n",
    "print(f'step {state[\"metadata\"][\"step\"]}: {state[\"config\"]}')\n",
    "state[\"values\"][\"messages\"][-1].pretty_print()"
   ]
  },
  {
   "cell_type": "code",
   "execution_count": 32,
   "metadata": {
    "id": "j86TZj1s2cGW"
   },
   "outputs": [
    {
     "data": {
      "text/plain": [
       "{'values': {'messages': [HumanMessage(content='미국 달러에서 한국 통화로의 환율은 얼마인가요?', additional_kwargs={}, response_metadata={}, id='6332bdd7-e7d3-455a-97fa-1d5e66fedf26'),\n",
       "   AIMessage(content='', additional_kwargs={'function_call': {'name': 'get_exchange_rate', 'arguments': '{\"currency_from\": \"USD\", \"currency_to\": \"KRW\"}'}}, response_metadata={'is_blocked': False, 'safety_ratings': [], 'usage_metadata': {'prompt_token_count': 144, 'candidates_token_count': 14, 'total_token_count': 158, 'prompt_tokens_details': [{'modality': 1, 'token_count': 144}], 'candidates_tokens_details': [{'modality': 1, 'token_count': 14}], 'cached_content_token_count': 0, 'cache_tokens_details': []}, 'finish_reason': 'STOP', 'avg_logprobs': -0.00133492039250476}, id='run-8dee9ed3-5631-42f3-8129-ba9a6f759108-0', tool_calls=[{'name': 'get_exchange_rate', 'args': {'currency_from': 'USD', 'currency_to': 'KRW'}, 'id': '55ab34a9-dad9-4e25-ae92-83608b19c70a', 'type': 'tool_call'}], usage_metadata={'input_tokens': 144, 'output_tokens': 14, 'total_tokens': 158})]},\n",
       " 'next': ('tools',),\n",
       " 'config': {'configurable': {'thread_id': 'human-in-the-loop-deepdive',\n",
       "   'checkpoint_ns': '',\n",
       "   'checkpoint_id': '1efee6b4-7a93-64e4-8001-ae8b0443a9a6'}},\n",
       " 'metadata': {'source': 'loop',\n",
       "  'writes': {'agent': {'messages': [AIMessage(content='', additional_kwargs={'function_call': {'name': 'get_exchange_rate', 'arguments': '{\"currency_from\": \"USD\", \"currency_to\": \"KRW\"}'}}, response_metadata={'is_blocked': False, 'safety_ratings': [], 'usage_metadata': {'prompt_token_count': 144, 'candidates_token_count': 14, 'total_token_count': 158, 'prompt_tokens_details': [{'modality': 1, 'token_count': 144}], 'candidates_tokens_details': [{'modality': 1, 'token_count': 14}], 'cached_content_token_count': 0, 'cache_tokens_details': []}, 'finish_reason': 'STOP', 'avg_logprobs': -0.00133492039250476}, id='run-8dee9ed3-5631-42f3-8129-ba9a6f759108-0', tool_calls=[{'name': 'get_exchange_rate', 'args': {'currency_from': 'USD', 'currency_to': 'KRW'}, 'id': '55ab34a9-dad9-4e25-ae92-83608b19c70a', 'type': 'tool_call'}], usage_metadata={'input_tokens': 144, 'output_tokens': 14, 'total_tokens': 158})]}},\n",
       "  'thread_id': 'human-in-the-loop-deepdive',\n",
       "  'step': 1,\n",
       "  'parents': {}},\n",
       " 'created_at': '2025-02-19T02:43:20.295745+00:00',\n",
       " 'parent_config': {'configurable': {'thread_id': 'human-in-the-loop-deepdive',\n",
       "   'checkpoint_ns': '',\n",
       "   'checkpoint_id': '1efee6b4-7423-6f3c-8000-20d519478171'}},\n",
       " 'tasks': (PregelTask(id='3de06a83-5948-c2b1-cf24-40408fa8763a', name='tools', path=('__pregel_pull', 'tools'), error=None, interrupts=(), state=None, result={'messages': [ToolMessage(content='{\"amount\": 1.0, \"base\": \"USD\", \"date\": \"2025-02-18\", \"rates\": {\"KRW\": 1441.87}}', name='get_exchange_rate', tool_call_id='55ab34a9-dad9-4e25-ae92-83608b19c70a')]}),)}"
      ]
     },
     "execution_count": 32,
     "metadata": {},
     "output_type": "execute_result"
    }
   ],
   "source": [
    "state"
   ]
  },
  {
   "cell_type": "markdown",
   "metadata": {
    "id": "su91f3u02ytT"
   },
   "source": [
    "### Replay (재생)\n",
    "\n",
    "LangGraph의 [Replay](https://langchain-ai.github.io/langgraph/how-tos/human_in_the_loop/time-travel/#replay-a-state) 기능은 대화 기록의 특정 시점부터 대화를 재개하거나 다시 재생할 수 있도록 합니다.\n",
    "\n",
    "`state[\"config\"]`를 에이전트에게 다시 전달하여 재생을 시작할 수 있습니다. 실행은 중단된 지점에서 정확히 재개되어 tool call (도구 호출)을 실행합니다."
   ]
  },
  {
   "cell_type": "code",
   "execution_count": 33,
   "metadata": {
    "id": "-OTMr3Fe7kig"
   },
   "outputs": [
    {
     "data": {
      "text/plain": [
       "{'configurable': {'thread_id': 'human-in-the-loop-deepdive',\n",
       "  'checkpoint_ns': '',\n",
       "  'checkpoint_id': '1efee6b4-7a93-64e4-8001-ae8b0443a9a6'}}"
      ]
     },
     "execution_count": 33,
     "metadata": {},
     "output_type": "execute_result"
    }
   ],
   "source": [
    "state[\"config\"]"
   ]
  },
  {
   "cell_type": "code",
   "execution_count": 34,
   "metadata": {
    "id": "l5FfylrfrYAJ"
   },
   "outputs": [
    {
     "name": "stdout",
     "output_type": "stream",
     "text": [
      "==================================\u001b[1m Ai Message \u001b[0m==================================\n",
      "Tool Calls:\n",
      "  get_exchange_rate (55ab34a9-dad9-4e25-ae92-83608b19c70a)\n",
      " Call ID: 55ab34a9-dad9-4e25-ae92-83608b19c70a\n",
      "  Args:\n",
      "    currency_from: USD\n",
      "    currency_to: KRW\n",
      "=================================\u001b[1m Tool Message \u001b[0m=================================\n",
      "Name: get_exchange_rate\n",
      "\n",
      "{\"amount\": 1.0, \"base\": \"USD\", \"date\": \"2025-02-18\", \"rates\": {\"KRW\": 1441.87}}\n",
      "==================================\u001b[1m Ai Message \u001b[0m==================================\n",
      "\n",
      "현재 미국 달러 환율은 1,441.87 한국 원입니다.\n"
     ]
    }
   ],
   "source": [
    "for state_values in agent.stream_query(\n",
    "    input=None,  # resume\n",
    "    stream_mode=\"values\",\n",
    "    config=state[\"config\"],\n",
    "):\n",
    "    langchain_load(state_values[\"messages\"][-1]).pretty_print()"
   ]
  },
  {
   "cell_type": "markdown",
   "metadata": {
    "id": "RGJSM__V3zvS"
   },
   "source": [
    "### 분기 (Branching)\n",
    "\n",
    "LangGraph의 [분기 (Branching)](https://langchain-ai.github.io/langgraph/how-tos/human_in_the_loop/time-travel/#branch-off-a-past-state) 기능은 기록의 특정 시점부터 LangGraph 대화를 수정하고 다시 실행할 수 있도록 합니다 (최신 상태에서만 다시 시작하는 것이 아니라). 이를 통해 에이전트는 대체 궤적을 탐색하거나 사용자가 워크플로의 변경 사항을 \"버전 제어 (version control)\"할 수 있습니다.\n",
    "\n",
    "이 예제에서는 다음을 수행합니다.\n",
    "* 이전 단계의 도구 호출 (tool calls)을 업데이트합니다.\n",
    "* `.update_state`를 호출하여 업데이트된 구성으로 단계를 다시 실행합니다."
   ]
  },
  {
   "cell_type": "code",
   "execution_count": 35,
   "metadata": {
    "id": "Is1Ca-QE8P6T"
   },
   "outputs": [
    {
     "name": "stdout",
     "output_type": "stream",
     "text": [
      "content='' additional_kwargs={'function_call': {'name': 'get_exchange_rate', 'arguments': '{\"currency_from\": \"USD\", \"currency_to\": \"KRW\"}'}} response_metadata={'is_blocked': False, 'safety_ratings': [], 'usage_metadata': {'prompt_token_count': 144, 'candidates_token_count': 14, 'total_token_count': 158, 'prompt_tokens_details': [{'modality': 1, 'token_count': 144}], 'candidates_tokens_details': [{'modality': 1, 'token_count': 14}], 'cached_content_token_count': 0, 'cache_tokens_details': []}, 'finish_reason': 'STOP', 'avg_logprobs': -0.00133492039250476} id='run-8dee9ed3-5631-42f3-8129-ba9a6f759108-0' tool_calls=[{'name': 'get_exchange_rate', 'args': {'currency_from': 'USD', 'currency_to': 'KRW'}, 'id': '55ab34a9-dad9-4e25-ae92-83608b19c70a', 'type': 'tool_call'}] usage_metadata={'input_tokens': 144, 'output_tokens': 14, 'total_tokens': 158}\n",
      "[{'name': 'get_exchange_rate', 'args': {'currency_from': 'USD', 'currency_to': 'KRW'}, 'id': '55ab34a9-dad9-4e25-ae92-83608b19c70a', 'type': 'tool_call'}]\n"
     ]
    }
   ],
   "source": [
    "last_message = state[\"values\"][\"messages\"][-1]\n",
    "print(last_message)\n",
    "print(last_message.tool_calls)"
   ]
  },
  {
   "cell_type": "markdown",
   "metadata": {
    "id": "rLBeJAOIcPWI"
   },
   "source": [
    "이전 단계의 도구 호출 (tool calls)을 업데이트합니다."
   ]
  },
  {
   "cell_type": "code",
   "execution_count": 36,
   "metadata": {
    "id": "jP3cHIrF8VfW"
   },
   "outputs": [
    {
     "data": {
      "text/plain": [
       "[{'name': 'get_exchange_rate',\n",
       "  'args': {'currency_from': 'USD',\n",
       "   'currency_to': 'KRW',\n",
       "   'currency_date': '2024-09-01'},\n",
       "  'id': '55ab34a9-dad9-4e25-ae92-83608b19c70a',\n",
       "  'type': 'tool_call'}]"
      ]
     },
     "execution_count": 36,
     "metadata": {},
     "output_type": "execute_result"
    }
   ],
   "source": [
    "last_message.tool_calls[0][\"args\"][\"currency_date\"] = \"2024-09-01\"\n",
    "last_message.tool_calls"
   ]
  },
  {
   "cell_type": "markdown",
   "metadata": {
    "id": "2HZovMHe_cfX"
   },
   "source": [
    "`.update_state`를 호출하여 업데이트된 구성으로 단계를 다시 실행합니다."
   ]
  },
  {
   "cell_type": "code",
   "execution_count": 37,
   "metadata": {
    "id": "qB45N3eL9XiP"
   },
   "outputs": [
    {
     "data": {
      "text/plain": [
       "{'configurable': {'thread_id': 'human-in-the-loop-deepdive',\n",
       "  'checkpoint_ns': '',\n",
       "  'checkpoint_id': '1efee6be-a197-6d4c-8002-2d6ffc4105b0'}}"
      ]
     },
     "execution_count": 37,
     "metadata": {},
     "output_type": "execute_result"
    }
   ],
   "source": [
    "branch_config = agent.update_state(\n",
    "    config=state[\"config\"],\n",
    "    values={\"messages\": [last_message]},  # the update we want to make\n",
    ")\n",
    "branch_config"
   ]
  },
  {
   "cell_type": "code",
   "execution_count": 38,
   "metadata": {
    "id": "zWS9Sk_h9p8I"
   },
   "outputs": [
    {
     "name": "stdout",
     "output_type": "stream",
     "text": [
      "==================================\u001b[1m Ai Message \u001b[0m==================================\n",
      "Tool Calls:\n",
      "  get_exchange_rate (55ab34a9-dad9-4e25-ae92-83608b19c70a)\n",
      " Call ID: 55ab34a9-dad9-4e25-ae92-83608b19c70a\n",
      "  Args:\n",
      "    currency_from: USD\n",
      "    currency_to: KRW\n",
      "    currency_date: 2024-09-01\n",
      "=================================\u001b[1m Tool Message \u001b[0m=================================\n",
      "Name: get_exchange_rate\n",
      "\n",
      "{\"amount\": 1.0, \"base\": \"USD\", \"date\": \"2024-08-30\", \"rates\": {\"KRW\": 1333.63}}\n",
      "==================================\u001b[1m Ai Message \u001b[0m==================================\n",
      "\n",
      "2024-08-30 기준 미국 달러에서 한국 통화로의 환율은 1333.63입니다.\n"
     ]
    }
   ],
   "source": [
    "for state_values in agent.stream_query(\n",
    "    input=None,  # resume\n",
    "    stream_mode=\"values\",\n",
    "    config=branch_config,\n",
    "):\n",
    "    langchain_load(state_values[\"messages\"][-1]).pretty_print()"
   ]
  },
  {
   "cell_type": "markdown",
   "metadata": {
    "id": "iOYFDvqFGNqg"
   },
   "source": [
    "## Deploying the Agent"
   ]
  },
  {
   "cell_type": "code",
   "execution_count": 27,
   "metadata": {
    "id": "xi-3p8Wd0r4x"
   },
   "outputs": [],
   "source": [
    "remote_agent = reasoning_engines.ReasoningEngine.create(\n",
    "    reasoning_engines.LanggraphAgent(\n",
    "        model=\"gemini-1.5-pro\",\n",
    "        tools=[get_exchange_rate],\n",
    "        model_kwargs={\"temperature\": 0, \"max_retries\": 6},\n",
    "        checkpointer_kwargs=checkpointer_kwargs,\n",
    "        checkpointer_builder=checkpointer_builder,\n",
    "    ),\n",
    "    requirements=[\n",
    "        \"google-cloud-aiplatform[reasoningengine,langchain]\",\n",
    "        \"requests\",\n",
    "    ],\n",
    ")\n",
    "\n",
    "remote_agent"
   ]
  },
  {
   "cell_type": "markdown",
   "metadata": {
    "id": "gqt-TOmEGLL8"
   },
   "source": [
    "## Querying the Remote Agent"
   ]
  },
  {
   "cell_type": "markdown",
   "metadata": {
    "id": "2g6lOlZSsdmD"
   },
   "source": [
    "### Remote testing"
   ]
  },
  {
   "cell_type": "code",
   "execution_count": 28,
   "metadata": {
    "id": "HlbK3Bsq3LlE"
   },
   "outputs": [],
   "source": [
    "for state_updates in remote_agent.stream_query(\n",
    "    input=inputs,\n",
    "    stream_mode=\"updates\",\n",
    "    config={\"configurable\": {\"thread_id\": \"remote-streaming-thread-updates\"}},\n",
    "):\n",
    "    print(state_updates)"
   ]
  },
  {
   "cell_type": "code",
   "execution_count": 29,
   "metadata": {
    "id": "YQE8Rfyz1jcA"
   },
   "outputs": [],
   "source": [
    "for state_values in remote_agent.stream_query(\n",
    "    input=inputs,\n",
    "    stream_mode=\"values\",\n",
    "    config={\"configurable\": {\"thread_id\": \"remote-human-in-the-loop-overall\"}},\n",
    "):\n",
    "    print(state_values)"
   ]
  },
  {
   "cell_type": "markdown",
   "metadata": {
    "id": "n7ocljPjUXYx"
   },
   "source": [
    "### Reviewing Tool Calls"
   ]
  },
  {
   "cell_type": "code",
   "execution_count": 33,
   "metadata": {
    "id": "_LB3KXTUUas7"
   },
   "outputs": [],
   "source": [
    "response = remote_agent.query(\n",
    "    input=inputs,\n",
    "    interrupt_before=[\"tools\"],  # Before invoking the tool.\n",
    "    interrupt_after=[\"tools\"],  # After getting a tool message.\n",
    "    config={\"configurable\": {\"thread_id\": \"human-in-the-loop-deepdive\"}},\n",
    ")\n",
    "langchain_load(response[\"messages\"][-1]).pretty_print()"
   ]
  },
  {
   "cell_type": "code",
   "execution_count": 34,
   "metadata": {
    "id": "smWg54uqUs0g"
   },
   "outputs": [],
   "source": [
    "response = remote_agent.query(\n",
    "    input=None,  # Resume (continue with the tool call AI Message).\n",
    "    interrupt_before=[\"tools\"],\n",
    "    interrupt_after=[\"tools\"],\n",
    "    config={\"configurable\": {\"thread_id\": \"human-in-the-loop-deepdive\"}},\n",
    ")\n",
    "langchain_load(response[\"messages\"][-1]).pretty_print()"
   ]
  },
  {
   "cell_type": "code",
   "execution_count": 35,
   "metadata": {
    "id": "QRE3BCvRU0nC"
   },
   "outputs": [],
   "source": [
    "response = agent.query(\n",
    "    input=None,  # Resume (continue with the Tool Message).\n",
    "    interrupt_before=[\"tools\"],\n",
    "    interrupt_after=[\"tools\"],\n",
    "    config={\"configurable\": {\"thread_id\": \"human-in-the-loop-deepdive\"}},\n",
    ")\n",
    "langchain_load(response[\"messages\"][-1]).pretty_print()"
   ]
  },
  {
   "cell_type": "markdown",
   "metadata": {
    "id": "2a4e033321ad"
   },
   "source": [
    "## Cleaning up\n",
    "\n",
    "After you've finished experimenting, it's a good practice to clean up your cloud resources. You can delete the deployed Reasoning Engine instance to avoid any unexpected charges on your Google Cloud account."
   ]
  },
  {
   "cell_type": "code",
   "execution_count": 54,
   "metadata": {
    "id": "eb5fbfa43866"
   },
   "outputs": [],
   "source": [
    "remote_agent.delete()"
   ]
  }
 ],
 "metadata": {
  "colab": {
   "collapsed_sections": [
    "No17Cw5hgx12",
    "R5Xep4W9lq-Z",
    "dmWOrTJ3gx13",
    "DF4l8DTdWgPY"
   ],
   "name": "tutorial_langgraph_human_in_the_loop.ipynb",
   "toc_visible": true
  },
  "kernelspec": {
   "display_name": "Python 3",
   "language": "python",
   "name": "python3"
  },
  "language_info": {
   "codemirror_mode": {
    "name": "ipython",
    "version": 3
   },
   "file_extension": ".py",
   "mimetype": "text/x-python",
   "name": "python",
   "nbconvert_exporter": "python",
   "pygments_lexer": "ipython3",
   "version": "3.12.4"
  }
 },
 "nbformat": 4,
 "nbformat_minor": 0
}
