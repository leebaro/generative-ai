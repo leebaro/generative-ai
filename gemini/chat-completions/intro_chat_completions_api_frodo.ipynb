{
  "cells": [
    {
      "cell_type": "code",
      "execution_count": null,
      "metadata": {
        "id": "ur8xi4C7S06n"
      },
      "outputs": [],
      "source": [
        "# Copyright 2024 Google LLC\n",
        "#\n",
        "# Licensed under the Apache License, Version 2.0 (the \"License\");\n",
        "# you may not use this file except in compliance with the License.\n",
        "# You may obtain a copy of the License at\n",
        "#\n",
        "#     https://www.apache.org/licenses/LICENSE-2.0\n",
        "#\n",
        "# Unless required by applicable law or agreed to in writing, software\n",
        "# distributed under the License is distributed on an \"AS IS\" BASIS,\n",
        "# WITHOUT WARRANTIES OR CONDITIONS OF ANY KIND, either express or implied.\n",
        "# See the License for the specific language governing permissions and\n",
        "# limitations under the License."
      ]
    },
    {
      "cell_type": "markdown",
      "metadata": {
        "id": "JAPoU8Sm5E6e"
      },
      "source": [
        "# Call Gemini by using the OpenAI Library\n",
        "\n",
        "<table align=\"left\">\n",
        "  <td style=\"text-align: center\">\n",
        "    <a href=\"https://colab.research.google.com/github/GoogleCloudPlatform/generative-ai/blob/main/gemini/chat-completions/intro_chat_completions_api.ipynb\">\n",
        "      <img src=\"https://cloud.google.com/ml-engine/images/colab-logo-32px.png\" alt=\"Google Colaboratory logo\"><br> Open in Colab\n",
        "    </a>\n",
        "  </td>\n",
        "  <td style=\"text-align: center\">\n",
        "    <a href=\"https://console.cloud.google.com/vertex-ai/colab/import/https:%2F%2Fraw.githubusercontent.com%2FGoogleCloudPlatform%2Fgenerative-ai%2Fmain%2Fgemini%2Fchat-completions%2Fintro_chat_completions_api.ipynb\">\n",
        "      <img width=\"32px\" src=\"https://cloud.google.com/ml-engine/images/colab-enterprise-logo-32px.png\" alt=\"Google Cloud Colab Enterprise logo\"><br> Open in Colab Enterprise\n",
        "    </a>\n",
        "  </td>    \n",
        "  <td style=\"text-align: center\">\n",
        "    <a href=\"https://console.cloud.google.com/vertex-ai/workbench/deploy-notebook?download_url=https://raw.githubusercontent.com/GoogleCloudPlatform/generative-ai/main/gemini/chat-completions/intro_chat_completions_api.ipynb\">\n",
        "      <img src=\"https://lh3.googleusercontent.com/UiNooY4LUgW_oTvpsNhPpQzsstV5W8F7rYgxgGBD85cWJoLmrOzhVs_ksK_vgx40SHs7jCqkTkCk=e14-rj-sc0xffffff-h130-w32\" alt=\"Vertex AI logo\"><br> Open in Workbench\n",
        "    </a>\n",
        "  </td>\n",
        "  <td style=\"text-align: center\">\n",
        "    <a href=\"https://github.com/GoogleCloudPlatform/generative-ai/blob/main/gemini/chat-completions/intro_chat_completions_api.ipynb\">\n",
        "      <img src=\"https://cloud.google.com/ml-engine/images/github-logo-32px.png\" alt=\"GitHub logo\"><br> View on GitHub\n",
        "    </a>\n",
        "  </td>\n",
        "  <td style=\"text-align: center\">\n",
        "    <a href=\"https://goo.gle/4jeQztq\">\n",
        "      <img width=\"32px\" src=\"https://cdn.qwiklabs.com/assets/gcp_cloud-e3a77215f0b8bfa9b3f611c0d2208c7e8708ed31.svg\" alt=\"Google Cloud logo\"><br> Open in  Cloud Skills Boost\n",
        "    </a>\n",
        "  </td>\n",
        "</table>\n",
        "\n",
        "<div style=\"clear: both;\"></div>\n",
        "\n",
        "<b>Share to:</b>\n",
        "\n",
        "<a href=\"https://www.linkedin.com/sharing/share-offsite/?url=https%3A//github.com/GoogleCloudPlatform/generative-ai/blob/main/gemini/chat-completions/intro_chat_completions_api.ipynb\" target=\"_blank\">\n",
        "  <img width=\"20px\" src=\"https://upload.wikimedia.org/wikipedia/commons/8/81/LinkedIn_icon.svg\" alt=\"LinkedIn logo\">\n",
        "</a>\n",
        "\n",
        "<a href=\"https://bsky.app/intent/compose?text=https%3A//github.com/GoogleCloudPlatform/generative-ai/blob/main/gemini/chat-completions/intro_chat_completions_api.ipynb\" target=\"_blank\">\n",
        "  <img width=\"20px\" src=\"https://upload.wikimedia.org/wikipedia/commons/7/7a/Bluesky_Logo.svg\" alt=\"Bluesky logo\">\n",
        "</a>\n",
        "\n",
        "<a href=\"https://twitter.com/intent/tweet?url=https%3A//github.com/GoogleCloudPlatform/generative-ai/blob/main/gemini/chat-completions/intro_chat_completions_api.ipynb\" target=\"_blank\">\n",
        "  <img width=\"20px\" src=\"https://upload.wikimedia.org/wikipedia/commons/5/53/X_logo_2023_original.svg\" alt=\"X logo\">\n",
        "</a>\n",
        "\n",
        "<a href=\"https://reddit.com/submit?url=https%3A//github.com/GoogleCloudPlatform/generative-ai/blob/main/gemini/chat-completions/intro_chat_completions_api.ipynb\" target=\"_blank\">\n",
        "  <img width=\"20px\" src=\"https://redditinc.com/hubfs/Reddit%20Inc/Brand/Reddit_Logo.png\" alt=\"Reddit logo\">\n",
        "</a>\n",
        "\n",
        "<a href=\"https://www.facebook.com/sharer/sharer.php?u=https%3A//github.com/GoogleCloudPlatform/generative-ai/blob/main/gemini/chat-completions/intro_chat_completions_api.ipynb\" target=\"_blank\">\n",
        "  <img width=\"20px\" src=\"https://upload.wikimedia.org/wikipedia/commons/5/51/Facebook_f_logo_%282019%29.svg\" alt=\"Facebook logo\">\n",
        "</a>            "
      ]
    },
    {
      "cell_type": "markdown",
      "metadata": {
        "id": "84f0f73a0f76"
      },
      "source": [
        "| | |\n",
        "|-|-|\n",
        "|Author(s) | [Eric Dong](https://github.com/gericdong)|"
      ]
    },
    {
      "cell_type": "markdown",
      "metadata": {
        "id": "tvgnzT1CKxrO"
      },
      "source": [
        "## Overview\n",
        "\n",
        "Developers already working with OpenAI's libraries can easily tap into the power of Gemini by leveraging the Gemini Chat Completions API. The Gemini Chat Completions API offers a streamlined way to experiment with and incorporate Gemini's capabilities into your existing AI applications.\n",
        "\n",
        "Learn more about [calling Gemini by using the OpenAI library](https://cloud.google.com/vertex-ai/generative-ai/docs/multimodal/call-gemini-using-openai-library).\n",
        "\n",
        "In this tutorial, you learn how to call Gemini using the OpenAI library. You will complete the following tasks:\n",
        "\n",
        "- Configure OpenAI SDK for the Gemini Chat Completions API\n",
        "- Send a chat completions request\n",
        "- Stream chat completions response\n",
        "- Send a multimodal request\n",
        "- Send a function calling request\n",
        "- Send a function calling request with the `tool_choice` parameter\n"
      ]
    },
    {
      "cell_type": "markdown",
      "metadata": {
        "id": "61RBz8LLbxCR"
      },
      "source": [
        "## Get started"
      ]
    },
    {
      "cell_type": "markdown",
      "metadata": {
        "id": "No17Cw5hgx12"
      },
      "source": [
        "### Install required packages\n"
      ]
    },
    {
      "cell_type": "code",
      "execution_count": null,
      "metadata": {
        "id": "tFy3H3aPgx12"
      },
      "outputs": [],
      "source": [
        "%pip install --upgrade --quiet openai google-auth requests"
      ]
    },
    {
      "cell_type": "markdown",
      "metadata": {
        "id": "R5Xep4W9lq-Z"
      },
      "source": [
        "### Restart runtime\n",
        "\n",
        "To use the newly installed packages in this Jupyter runtime, you must restart the runtime. You can do this by running the cell below, which restarts the current kernel."
      ]
    },
    {
      "cell_type": "code",
      "execution_count": 1,
      "metadata": {
        "id": "XRvKdaPDTznN"
      },
      "outputs": [
        {
          "data": {
            "text/plain": [
              "{'status': 'ok', 'restart': True}"
            ]
          },
          "execution_count": 1,
          "metadata": {},
          "output_type": "execute_result"
        },
        {
          "ename": "",
          "evalue": "",
          "output_type": "error",
          "traceback": [
            "\u001b[1;31m현재 셀 또는 이전 셀에서 코드를 실행하는 동안 Kernel이 충돌했습니다. \n",
            "\u001b[1;31m셀의 코드를 검토하여 가능한 오류 원인을 식별하세요. \n",
            "\u001b[1;31m자세한 내용을 보려면 <a href='https://aka.ms/vscodeJupyterKernelCrash'>여기</a>를 클릭하세요. \n",
            "\u001b[1;31m자세한 내용은 Jupyter <a href='command:jupyter.viewOutput'>로그</a>를 참조하세요."
          ]
        }
      ],
      "source": [
        "import IPython\n",
        "\n",
        "app = IPython.Application.instance()\n",
        "app.kernel.do_shutdown(True)"
      ]
    },
    {
      "cell_type": "markdown",
      "metadata": {
        "id": "SbmM4z7FOBpM"
      },
      "source": [
        "<div class=\"alert alert-block alert-warning\">\n",
        "<b>⚠️ The kernel is going to restart. The restart might take a minute or longer. After it's restarted, continue to the next step. ⚠️</b>\n",
        "</div>\n"
      ]
    },
    {
      "cell_type": "markdown",
      "metadata": {
        "id": "dmWOrTJ3gx13"
      },
      "source": [
        "### Authenticate your notebook environment (Colab only)\n",
        "\n",
        "If you're running this notebook on Google Colab, run the cell below to authenticate your environment."
      ]
    },
    {
      "cell_type": "code",
      "execution_count": 2,
      "metadata": {
        "id": "NyKGtVQjgx13"
      },
      "outputs": [],
      "source": [
        "import sys\n",
        "\n",
        "if \"google.colab\" in sys.modules:\n",
        "    from google.colab import auth\n",
        "\n",
        "    auth.authenticate_user()"
      ]
    },
    {
      "cell_type": "markdown",
      "metadata": {
        "id": "DF4l8DTdWgPY"
      },
      "source": [
        "### Set Google Cloud project information and initialize Vertex AI SDK\n",
        "\n",
        "To get started using Vertex AI, you must have an existing Google Cloud project and [enable the Vertex AI API](https://console.cloud.google.com/flows/enableapi?apiid=aiplatform.googleapis.com).\n",
        "\n",
        "Learn more about [setting up a project and development environment](https://cloud.google.com/vertex-ai/docs/start/cloud-environment)."
      ]
    },
    {
      "cell_type": "code",
      "execution_count": 1,
      "metadata": {},
      "outputs": [
        {
          "data": {
            "text/plain": [
              "True"
            ]
          },
          "execution_count": 1,
          "metadata": {},
          "output_type": "execute_result"
        }
      ],
      "source": [
        "import dotenv\n",
        "import os\n",
        "\n",
        "dotenv.load_dotenv()\n"
      ]
    },
    {
      "cell_type": "code",
      "execution_count": null,
      "metadata": {
        "id": "Nqwi-5ufWp_B"
      },
      "outputs": [],
      "source": [
        "import os\n",
        "\n",
        "PROJECT_ID = \"[your-project-id]\"  # @param {type: \"string\", placeholder: \"[your-project-id]\", isTemplate: true}\n",
        "if not PROJECT_ID or PROJECT_ID == \"[your-project-id]\":\n",
        "    PROJECT_ID = str(os.environ.get(\"GOOGLE_CLOUD_PROJECT\"))\n",
        "\n",
        "LOCATION = os.environ.get(\"GOOGLE_CLOUD_REGION\", \"us-central1\")\n",
        "\n",
        "print(f\"Using Vertex AI with project: {PROJECT_ID} in location: {LOCATION}\")"
      ]
    },
    {
      "cell_type": "markdown",
      "metadata": {
        "id": "EdvJRUWRNGHE"
      },
      "source": [
        "## Chat Completions API Examples"
      ]
    },
    {
      "cell_type": "markdown",
      "metadata": {
        "id": "vHwJCyNF6u0O"
      },
      "source": [
        "### Configure OpenAI SDK for the Gemini Chat Completions API\n",
        "\n",
        "#### Import libraries\n",
        "\n",
        "The `google-auth` library is used to programmatically get Google credentials. Colab already has this library pre-installed."
      ]
    },
    {
      "cell_type": "code",
      "execution_count": 3,
      "metadata": {
        "id": "kolJkBLdHaw0"
      },
      "outputs": [],
      "source": [
        "from IPython.display import Markdown\n",
        "from google.auth import default\n",
        "from google.auth.transport.requests import Request\n",
        "import openai"
      ]
    },
    {
      "cell_type": "markdown",
      "metadata": {
        "id": "W0K6VSJRHhH2"
      },
      "source": [
        "#### Authentication\n",
        "\n",
        "You can request an access token from the default credentials for the current environment. Note that the access token lives for [1 hour by default](https://cloud.google.com/docs/authentication/token-types#at-lifetime); after expiration, it must be refreshed.\n"
      ]
    },
    {
      "cell_type": "code",
      "execution_count": 4,
      "metadata": {
        "id": "i0qceuiQEPHv"
      },
      "outputs": [],
      "source": [
        "# Programmatically get an access token\n",
        "credentials, _ = default(scopes=[\"https://www.googleapis.com/auth/cloud-platform\"])\n",
        "credentials.refresh(Request())"
      ]
    },
    {
      "cell_type": "markdown",
      "metadata": {
        "id": "Q04wJmA0HT6X"
      },
      "source": [
        "Then configure the OpenAI SDK to point to the Gemini Chat Completions API endpoint."
      ]
    },
    {
      "cell_type": "code",
      "execution_count": 5,
      "metadata": {
        "id": "c-MRhsnlj6iw"
      },
      "outputs": [],
      "source": [
        "client = openai.OpenAI(\n",
        "    base_url=f\"https://{LOCATION}-aiplatform.googleapis.com/v1beta1/projects/{PROJECT_ID}/locations/{LOCATION}/endpoints/openapi\",\n",
        "    api_key=credentials.token,\n",
        ")"
      ]
    },
    {
      "cell_type": "markdown",
      "metadata": {
        "id": "UGokrtdiIHrX"
      },
      "source": [
        "### Gemini models\n",
        "\n",
        "You can experiment with [various supported Gemini models](https://cloud.google.com/vertex-ai/generative-ai/docs/multimodal/call-gemini-using-openai-library#supported_models).\n",
        "\n",
        "If you are not sure which model to use, then try `gemini-2.0-flash-001`.\n",
        "\n",
        "`gemini-2.0-flash-001` is optimized for multimodal use cases where speed and cost are important."
      ]
    },
    {
      "cell_type": "code",
      "execution_count": 6,
      "metadata": {
        "id": "r7OhyH46H2H5"
      },
      "outputs": [],
      "source": [
        "MODEL_ID = \"google/gemini-2.0-flash-001\"  # @param {type:\"string\"}"
      ]
    },
    {
      "cell_type": "markdown",
      "metadata": {
        "id": "uiWrF7U4Q5-E"
      },
      "source": [
        "### [Example] Send a chat completions request\n",
        "\n",
        "The Chat Completions API takes a list of messages as input and returns a generated message as output. Although the message format is designed to make multi-turn conversations easy, it's just as useful for single-turn tasks without any conversation.\n",
        "\n",
        "In this example, you use the Chat Completions API to send a request to the Gemini model."
      ]
    },
    {
      "cell_type": "code",
      "execution_count": 7,
      "metadata": {
        "id": "JQTWLCzoHyUA"
      },
      "outputs": [],
      "source": [
        "response = client.chat.completions.create(\n",
        "    model=MODEL_ID, messages=[{\"role\": \"user\", \"content\": \"Why is the sky blue?\"}]\n",
        ")"
      ]
    },
    {
      "cell_type": "markdown",
      "metadata": {
        "id": "jLNZGyOVOr1C"
      },
      "source": [
        "An example Chat Completions API response looks as follows:"
      ]
    },
    {
      "cell_type": "code",
      "execution_count": 8,
      "metadata": {
        "id": "DdfWBfggOvtf"
      },
      "outputs": [
        {
          "name": "stdout",
          "output_type": "stream",
          "text": [
            "ChatCompletion(id='2025-03-19|20:37:15.095528-07|0.140.68.17|-1256395048', choices=[Choice(finish_reason='stop', index=0, logprobs=None, message=ChatCompletionMessage(content=\"The sky is blue due to a phenomenon called **Rayleigh scattering**. Here's a breakdown:\\n\\n*   **Sunlight enters the Earth's atmosphere:** Sunlight is composed of all the colors of the rainbow.\\n\\n*   **Scattering by air molecules:** When sunlight enters the Earth's atmosphere, it collides with tiny air molecules (mostly nitrogen and oxygen). This collision causes the light to scatter in different directions.\\n\\n*   **Wavelength and scattering:** The amount of scattering depends on the wavelength of the light. Shorter wavelengths (blue and violet) are scattered much more strongly than longer wavelengths (red and orange).\\n\\n*   **Why blue, not violet?** While violet light is scattered even more than blue, our eyes are more sensitive to blue light. Additionally, the sun emits slightly less violet light than blue, and the upper atmosphere absorbs some of the violet light. Therefore, we see the sky as blue.\\n\\n*   **Sunsets and sunrises:** At sunset and sunrise, the sunlight has to travel through much more of the atmosphere to reach our eyes. This means that most of the blue light has already been scattered away. As a result, we see more of the longer wavelengths (red, orange, and yellow), giving us those beautiful colorful sunsets and sunrises.\\n\\nIn summary, **Rayleigh scattering** preferentially scatters blue light from sunlight, making the sky appear blue to our eyes.\\n\", refusal=None, role='assistant', audio=None, function_call=None, tool_calls=None))], created=1742441835, model='google/gemini-2.0-flash-001', object='chat.completion', service_tier=None, system_fingerprint='', usage=CompletionUsage(completion_tokens=289, prompt_tokens=6, total_tokens=295, completion_tokens_details=None, prompt_tokens_details=None))\n"
          ]
        }
      ],
      "source": [
        "print(response)"
      ]
    },
    {
      "cell_type": "markdown",
      "metadata": {
        "id": "Ipbzw5FmO5zX"
      },
      "source": [
        "The generated content can be extracted with:"
      ]
    },
    {
      "cell_type": "code",
      "execution_count": 9,
      "metadata": {
        "id": "LxpdxYCxH51u"
      },
      "outputs": [
        {
          "data": {
            "text/plain": [
              "\"The sky is blue due to a phenomenon called **Rayleigh scattering**. Here's a breakdown:\\n\\n*   **Sunlight enters the Earth's atmosphere:** Sunlight is composed of all the colors of the rainbow.\\n\\n*   **Scattering by air molecules:** When sunlight enters the Earth's atmosphere, it collides with tiny air molecules (mostly nitrogen and oxygen). This collision causes the light to scatter in different directions.\\n\\n*   **Wavelength and scattering:** The amount of scattering depends on the wavelength of the light. Shorter wavelengths (blue and violet) are scattered much more strongly than longer wavelengths (red and orange).\\n\\n*   **Why blue, not violet?** While violet light is scattered even more than blue, our eyes are more sensitive to blue light. Additionally, the sun emits slightly less violet light than blue, and the upper atmosphere absorbs some of the violet light. Therefore, we see the sky as blue.\\n\\n*   **Sunsets and sunrises:** At sunset and sunrise, the sunlight has to travel through much more of the atmosphere to reach our eyes. This means that most of the blue light has already been scattered away. As a result, we see more of the longer wavelengths (red, orange, and yellow), giving us those beautiful colorful sunsets and sunrises.\\n\\nIn summary, **Rayleigh scattering** preferentially scatters blue light from sunlight, making the sky appear blue to our eyes.\\n\""
            ]
          },
          "execution_count": 9,
          "metadata": {},
          "output_type": "execute_result"
        }
      ],
      "source": [
        "response.choices[0].message.content"
      ]
    },
    {
      "cell_type": "markdown",
      "metadata": {
        "id": "nSIVXw7bMr4F"
      },
      "source": [
        "You can use `Markdown` to display the formatted text."
      ]
    },
    {
      "cell_type": "code",
      "execution_count": 10,
      "metadata": {
        "id": "zOwEvNkCMiMF"
      },
      "outputs": [
        {
          "data": {
            "text/markdown": [
              "The sky is blue due to a phenomenon called **Rayleigh scattering**. Here's a breakdown:\n",
              "\n",
              "*   **Sunlight enters the Earth's atmosphere:** Sunlight is composed of all the colors of the rainbow.\n",
              "\n",
              "*   **Scattering by air molecules:** When sunlight enters the Earth's atmosphere, it collides with tiny air molecules (mostly nitrogen and oxygen). This collision causes the light to scatter in different directions.\n",
              "\n",
              "*   **Wavelength and scattering:** The amount of scattering depends on the wavelength of the light. Shorter wavelengths (blue and violet) are scattered much more strongly than longer wavelengths (red and orange).\n",
              "\n",
              "*   **Why blue, not violet?** While violet light is scattered even more than blue, our eyes are more sensitive to blue light. Additionally, the sun emits slightly less violet light than blue, and the upper atmosphere absorbs some of the violet light. Therefore, we see the sky as blue.\n",
              "\n",
              "*   **Sunsets and sunrises:** At sunset and sunrise, the sunlight has to travel through much more of the atmosphere to reach our eyes. This means that most of the blue light has already been scattered away. As a result, we see more of the longer wavelengths (red, orange, and yellow), giving us those beautiful colorful sunsets and sunrises.\n",
              "\n",
              "In summary, **Rayleigh scattering** preferentially scatters blue light from sunlight, making the sky appear blue to our eyes.\n"
            ],
            "text/plain": [
              "<IPython.core.display.Markdown object>"
            ]
          },
          "execution_count": 10,
          "metadata": {},
          "output_type": "execute_result"
        }
      ],
      "source": [
        "Markdown(response.choices[0].message.content)"
      ]
    },
    {
      "cell_type": "markdown",
      "metadata": {
        "id": "DpHc6sC6PIcI"
      },
      "source": [
        "### [Example] Stream chat completions response\n",
        "\n",
        "By default, the model returns a response after completing the entire generation process. You can also stream the response as it is being generated, and the model will return chunks of the response as soon as they are generated."
      ]
    },
    {
      "cell_type": "code",
      "execution_count": 11,
      "metadata": {
        "id": "3hO8yLqnJEgh"
      },
      "outputs": [
        {
          "name": "stdout",
          "output_type": "stream",
          "text": [
            "The sky is blue due to a phenomenon called **Rayleigh scattering**. Here's a breakdown of why:\n",
            "\n",
            "*   **Sunlight and its Colors:** Sunlight is actually made up of all the colors of the rainbow (red, orange, yellow, green, blue, indigo, and violet).\n",
            "\n",
            "*   **Entering the Atmosphere:** When sunlight enters the Earth's atmosphere, it collides with tiny air molecules (mostly nitrogen and oxygen).\n",
            "\n",
            "*   **Scattering of Light:** This collision causes the sunlight to scatter in different directions.\n",
            "\n",
            "*   **Rayleigh Scattering and Wavelength:** Rayleigh scattering is the type of scattering that's most relevant here. It's much more effective at scattering shorter wavelengths of light (blue and violet) than longer wavelengths (red and orange).\n",
            "\n",
            "*   **Why Blue, Not Violet?** While violet light is scattered even more than blue light, there are a couple of reasons why we perceive the sky as blue:\n",
            "\n",
            "    *   **Less Violet in Sunlight:** The sun emits slightly less violet light than blue light.\n",
            "    *   **Our Eyes' Sensitivity:** Our eyes are also more sensitive to blue light than violet light.\n",
            "    *   **Absorption of Violet Light:** The upper atmosphere absorbs some violet light.\n",
            "\n",
            "*   **The Result:** Because blue light is scattered so much more than other colors, it gets bounced around the atmosphere and reaches our eyes from all directions. This is why the sky appears blue to us.\n",
            "\n",
            "**In simpler terms:**\n",
            "\n",
            "Imagine you're throwing marbles (sunlight) at a bunch of small pebbles (air molecules). The smaller marbles (blue light) get bounced around a lot more easily than the bigger marbles (red light). Since the blue marbles are being scattered all over the place, that's the color you see when you look up.\n",
            "\n",
            "**Why sunsets are red/orange:**\n",
            "\n",
            "As the sun sets, sunlight has to travel through more of the atmosphere to reach our eyes. This means that most of the blue light is scattered away before it can get to us. The longer wavelengths of light, like red and orange, are able to pass through the atmosphere more easily, resulting in the beautiful sunset colors.\n"
          ]
        }
      ],
      "source": [
        "response = client.chat.completions.create(\n",
        "    model=MODEL_ID,\n",
        "    messages=[{\"role\": \"user\", \"content\": \"Why is the sky blue?\"}],\n",
        "    stream=True,\n",
        ")\n",
        "\n",
        "for chunk in response:\n",
        "    print(chunk.choices[0].delta.content, end=\"\")"
      ]
    },
    {
      "cell_type": "markdown",
      "metadata": {
        "id": "kqNdZLK8VLaf"
      },
      "source": [
        "### [Example] Send a multimodal request\n",
        "You can send a multimodal prompt in a request to Gemini and get a text output.\n",
        "\n",
        "In this example, you ask the model to create a blog post for [this image](https://storage.googleapis.com/cloud-samples-data/generative-ai/image/meal.png) stored in a Cloud Storage bucket.\n"
      ]
    },
    {
      "cell_type": "code",
      "execution_count": 12,
      "metadata": {
        "id": "KOIu1Me-PQ6e"
      },
      "outputs": [
        {
          "data": {
            "text/markdown": [
              "## Level Up Your Lunch Game: Meal Prep Magic!\n",
              "\n",
              "Tired of sad desk lunches? Craving something healthy and delicious that doesn't require a last-minute scramble? I've got you covered!\n",
              "\n",
              "Meal prepping doesn't have to be a daunting task. Look at these vibrant, flavorful lunch boxes – proof that a little planning can lead to serious food satisfaction.\n",
              "\n",
              "**Why Meal Prep?**\n",
              "\n",
              "*   **Healthier Choices:** You control the ingredients, keeping things nutritious and delicious.\n",
              "*   **Saves Time:** One cooking session = multiple meals ready to go.\n",
              "*   **Saves Money:** Avoid pricey takeout and impulse buys.\n",
              "\n",
              "**Inspired by these boxes? Here's the breakdown:**\n",
              "\n",
              "*   **Protein Power:** Sesame chicken adds a savory kick. (You can easily swap for tofu for a vegetarian option!)\n",
              "*   **Veggie Boost:** Broccoli and sliced peppers deliver essential vitamins and vibrant color.\n",
              "*   **Grain Goodness:** Fluffy rice provides a satisfying base.\n",
              "\n",
              "**Pro Tip:** Invest in some good quality glass containers for easy storage and reheating.\n",
              "\n",
              "Ready to transform your lunchtime routine? Start small, choose a simple recipe, and get prepping! Your future self (and your taste buds) will thank you.\n",
              "\n",
              "**What are your favorite meal prep recipes? Share them in the comments below!**\n"
            ],
            "text/plain": [
              "<IPython.core.display.Markdown object>"
            ]
          },
          "execution_count": 12,
          "metadata": {},
          "output_type": "execute_result"
        }
      ],
      "source": [
        "response = client.chat.completions.create(\n",
        "    model=MODEL_ID,\n",
        "    messages=[\n",
        "        {\n",
        "            \"role\": \"user\",\n",
        "            \"content\": [\n",
        "                {\n",
        "                    \"type\": \"text\",\n",
        "                    \"text\": \"Write a short, engaging blog post based on this picture.\",\n",
        "                },\n",
        "                {\n",
        "                    \"type\": \"image_url\",\n",
        "                    \"image_url\": \"gs://cloud-samples-data/generative-ai/image/meal.png\",\n",
        "                },\n",
        "            ],\n",
        "        }\n",
        "    ],\n",
        ")\n",
        "\n",
        "Markdown(response.choices[0].message.content)"
      ]
    },
    {
      "cell_type": "markdown",
      "metadata": {
        "id": "JPJot5D_dE6G"
      },
      "source": [
        "### [Example] Send a function calling request\n",
        "\n",
        "You can use the Chat Completions API for function calling with the Gemini models. The `tools` parameter in the API is used to provide function specifications. This is to enable models to generate function arguments which adhere to the provided specifications.\n",
        "\n",
        "In this example, you create function specifications to interface with a hypothetical weather API, then pass these function specifications to the Chat Completions API to generate function arguments that adhere to the specification.\n",
        "\n",
        "**Note** that in this example, the API will not actually execute any function calls. It is up to developers to execute function calls using model outputs."
      ]
    },
    {
      "cell_type": "code",
      "execution_count": 13,
      "metadata": {
        "id": "arshz2C4W_ck"
      },
      "outputs": [
        {
          "name": "stdout",
          "output_type": "stream",
          "text": [
            "[ChatCompletionMessageToolCall(id='get_current_weather', function=Function(arguments='{\"location\":\"Boston, MA\"}', name='get_current_weather'), type='function')]\n"
          ]
        }
      ],
      "source": [
        "tools = [\n",
        "    {\n",
        "        \"type\": \"function\",\n",
        "        \"function\": {\n",
        "            \"name\": \"get_current_weather\",\n",
        "            \"description\": \"Get the current weather in a given location\",\n",
        "            \"parameters\": {\n",
        "                \"type\": \"object\",\n",
        "                \"properties\": {\n",
        "                    \"location\": {\n",
        "                        \"type\": \"string\",\n",
        "                        \"description\": \"The city and state, e.g. San Francisco, CA or a zip code e.g. 95616\",\n",
        "                    },\n",
        "                },\n",
        "                \"required\": [\"location\"],\n",
        "            },\n",
        "        },\n",
        "    }\n",
        "]\n",
        "\n",
        "messages = [\n",
        "    {\n",
        "        \"role\": \"system\",\n",
        "        \"content\": \"Don't make assumptions about what values to plug into functions. Ask for clarification if a user request is ambiguous.\",\n",
        "    },\n",
        "    {\"role\": \"user\", \"content\": \"What is the weather in Boston?\"},\n",
        "]\n",
        "\n",
        "response = client.chat.completions.create(\n",
        "    model=MODEL_ID,\n",
        "    messages=messages,\n",
        "    tools=tools,\n",
        ")\n",
        "\n",
        "print(response.choices[0].message.tool_calls)"
      ]
    },
    {
      "cell_type": "markdown",
      "metadata": {
        "id": "B82QRs9Oc1HL"
      },
      "source": [
        "### [Example] Send a function calling request with the `tool_choice` parameter\n",
        "\n",
        "Using the `tools` parameter, if the functions parameter is provided then by default the model will decide when it is appropriate to use one of the functions.\n",
        "\n",
        "By default, `tool_choice` is set to `auto`. This lets the model decide whether to call functions and, if so, which functions to call. To disable function calling and force the model to only generate a user-facing message, you can set `tool_choice` to `none`."
      ]
    },
    {
      "cell_type": "code",
      "execution_count": 14,
      "metadata": {
        "id": "GoEv7CKNXZu1"
      },
      "outputs": [
        {
          "name": "stdout",
          "output_type": "stream",
          "text": [
            "[ChatCompletionMessageToolCall(id='get_current_weather', function=Function(arguments='{\"location\":\"Boston, MA\"}', name='get_current_weather'), type='function')]\n"
          ]
        }
      ],
      "source": [
        "tools = [\n",
        "    {\n",
        "        \"type\": \"function\",\n",
        "        \"function\": {\n",
        "            \"name\": \"get_current_weather\",\n",
        "            \"description\": \"Get the current weather in a given location\",\n",
        "            \"parameters\": {\n",
        "                \"type\": \"object\",\n",
        "                \"properties\": {\n",
        "                    \"location\": {\n",
        "                        \"type\": \"string\",\n",
        "                        \"description\": \"The city and state, e.g. San Francisco, CA or a zip code e.g. 95616\",\n",
        "                    },\n",
        "                },\n",
        "                \"required\": [\"location\"],\n",
        "            },\n",
        "        },\n",
        "    }\n",
        "]\n",
        "\n",
        "messages = [\n",
        "    {\n",
        "        \"role\": \"system\",\n",
        "        \"content\": \"Don't make assumptions about what values to plug into functions. Ask for clarification if a user request is ambiguous.\",\n",
        "    },\n",
        "    {\"role\": \"user\", \"content\": \"What is the weather in Boston?\"},\n",
        "]\n",
        "\n",
        "response = client.chat.completions.create(\n",
        "    model=MODEL_ID,\n",
        "    messages=messages,\n",
        "    tools=tools,\n",
        "    tool_choice=\"auto\",\n",
        ")\n",
        "\n",
        "print(response.choices[0].message.tool_calls)"
      ]
    },
    {
      "cell_type": "code",
      "execution_count": null,
      "metadata": {},
      "outputs": [],
      "source": []
    }
  ],
  "metadata": {
    "colab": {
      "name": "intro_chat_completions_api.ipynb",
      "toc_visible": true
    },
    "kernelspec": {
      "display_name": "py11",
      "language": "python",
      "name": "python3"
    },
    "language_info": {
      "codemirror_mode": {
        "name": "ipython",
        "version": 3
      },
      "file_extension": ".py",
      "mimetype": "text/x-python",
      "name": "python",
      "nbconvert_exporter": "python",
      "pygments_lexer": "ipython3",
      "version": "3.11.11"
    }
  },
  "nbformat": 4,
  "nbformat_minor": 0
}
