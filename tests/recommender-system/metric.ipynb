{
 "cells": [
  {
   "cell_type": "code",
   "execution_count": 2,
   "metadata": {},
   "outputs": [
    {
     "name": "stdout",
     "output_type": "stream",
     "text": [
      "MAE: 0.8600\n",
      "\n",
      "[설명]\n",
      "MAE (Mean Absolute Error)는 예측값과 실제값 사이의 평균적인 오차 크기를 나타내는 지표입니다.\n",
      "값이 작을수록 예측 성능이 좋다고 평가할 수 있습니다.\n",
      "이 예제에서는 실제 평점과 예측 평점 사이의 MAE를 계산하여 추천 시스템의 성능을 평가합니다.\n"
     ]
    }
   ],
   "source": [
    "import numpy as np\n",
    "\n",
    "def calculate_mae(predictions, actuals):\n",
    "    \"\"\"\n",
    "    예측값과 실제값 사이의 MAE(Mean Absolute Error)를 계산합니다.\n",
    "\n",
    "    Args:\n",
    "        predictions (list or numpy array): 예측된 값들의 리스트 또는 배열.\n",
    "        actuals (list or numpy array): 실제 값들의 리스트 또는 배열.\n",
    "\n",
    "    Returns:\n",
    "        float: MAE 값.\n",
    "    \"\"\"\n",
    "    predictions = np.array(predictions)\n",
    "    actuals = np.array(actuals)\n",
    "    \n",
    "    # 예측값과 실제값의 차이의 절대값 계산\n",
    "    absolute_errors = np.abs(predictions - actuals)\n",
    "    \n",
    "    # 절대 오차의 평균 계산\n",
    "    mae = np.mean(absolute_errors)\n",
    "    \n",
    "    return mae\n",
    "\n",
    "if __name__ == '__main__':\n",
    "    # 샘플 데이터 생성\n",
    "    # actual_ratings = [5, 3, 4, 2, 5, 1, 3, 4, 5, 2]  # 실제 사용자 평점\n",
    "    # predicted_ratings = [4, 3.5, 3, 2.5, 4.5, 2, 2.5, 3.5, 4, 1.5]  # 추천 시스템이 예측한 평점\n",
    "    actual_ratings = [3, 4, 5, 5, 3]  # 실제 사용자 평점\n",
    "    predicted_ratings = [3.9, 4.3, 4.5, 2.7, 3.3]  # 추천 시스템이 예측한 평점\n",
    "\n",
    "    # MAE 계산\n",
    "    mae_score = calculate_mae(predicted_ratings, actual_ratings)\n",
    "    \n",
    "    print(f\"MAE: {mae_score:.4f}\")\n",
    "    \n",
    "    # 추가 설명\n",
    "    print(\"\\n[설명]\")\n",
    "    print(\"MAE (Mean Absolute Error)는 예측값과 실제값 사이의 평균적인 오차 크기를 나타내는 지표입니다.\")\n",
    "    print(\"값이 작을수록 예측 성능이 좋다고 평가할 수 있습니다.\")\n",
    "    print(\"이 예제에서는 실제 평점과 예측 평점 사이의 MAE를 계산하여 추천 시스템의 성능을 평가합니다.\")"
   ]
  },
  {
   "cell_type": "code",
   "execution_count": 4,
   "metadata": {},
   "outputs": [
    {
     "name": "stdout",
     "output_type": "stream",
     "text": [
      "RMSE: 0.6971\n",
      "\n",
      "[설명]\n",
      "RMSE (Root Mean Squared Error)는 예측값과 실제값 사이의 오차를 제곱하여 평균을 낸 후 제곱근을 취한 값입니다.\n",
      "MAE와 마찬가지로 값이 작을수록 예측 성능이 좋다고 평가할 수 있습니다.\n",
      "RMSE는 오차에 제곱을 취하기 때문에 MAE보다 큰 오차에 더 큰 가중치를 부여합니다.\n",
      "이 예제에서는 실제 평점과 예측 평점 사이의 RMSE를 계산하여 추천 시스템의 성능을 평가합니다.\n"
     ]
    }
   ],
   "source": [
    "import numpy as np\n",
    "\n",
    "def calculate_rmse(predictions, actuals):\n",
    "    \"\"\"\n",
    "    예측값과 실제값 사이의 RMSE(Root Mean Squared Error)를 계산합니다.\n",
    "\n",
    "    Args:\n",
    "        predictions (list or numpy array): 예측된 값들의 리스트 또는 배열.\n",
    "        actuals (list or numpy array): 실제 값들의 리스트 또는 배열.\n",
    "\n",
    "    Returns:\n",
    "        float: RMSE 값.\n",
    "    \"\"\"\n",
    "    predictions = np.array(predictions)\n",
    "    actuals = np.array(actuals)\n",
    "    \n",
    "    # 예측값과 실제값의 차이(오차)를 계산\n",
    "    errors = predictions - actuals\n",
    "    \n",
    "    # 오차의 제곱 계산\n",
    "    squared_errors = errors ** 2\n",
    "    \n",
    "    # 제곱 오차의 평균 계산\n",
    "    mean_squared_error = np.mean(squared_errors)\n",
    "    \n",
    "    # 제곱 오차 평균의 제곱근 계산\n",
    "    rmse = np.sqrt(mean_squared_error)\n",
    "    \n",
    "    return rmse\n",
    "\n",
    "if __name__ == '__main__':\n",
    "    # 데이터 생성\n",
    "    actual_ratings = [3, 4, 5, 5, 3]  # 실제 사용자 평점\n",
    "    predicted_ratings = [3.2, 4.1, 3.5, 4.8, 3.3]  # 추천 시스템이 예측한 평점\n",
    "\n",
    "\n",
    "    # RMSE 계산\n",
    "    rmse_score = calculate_rmse(predicted_ratings, actual_ratings)\n",
    "    \n",
    "    print(f\"RMSE: {rmse_score:.4f}\")\n",
    "    \n",
    "    # 추가 설명\n",
    "    print(\"\\n[설명]\")\n",
    "    print(\"RMSE (Root Mean Squared Error)는 예측값과 실제값 사이의 오차를 제곱하여 평균을 낸 후 제곱근을 취한 값입니다.\")\n",
    "    print(\"MAE와 마찬가지로 값이 작을수록 예측 성능이 좋다고 평가할 수 있습니다.\")\n",
    "    print(\"RMSE는 오차에 제곱을 취하기 때문에 MAE보다 큰 오차에 더 큰 가중치를 부여합니다.\")\n",
    "    print(\"이 예제에서는 실제 평점과 예측 평점 사이의 RMSE를 계산하여 추천 시스템의 성능을 평가합니다.\")"
   ]
  },
  {
   "cell_type": "code",
   "execution_count": null,
   "metadata": {},
   "outputs": [],
   "source": []
  }
 ],
 "metadata": {
  "kernelspec": {
   "display_name": "Python 3",
   "language": "python",
   "name": "python3"
  },
  "language_info": {
   "codemirror_mode": {
    "name": "ipython",
    "version": 3
   },
   "file_extension": ".py",
   "mimetype": "text/x-python",
   "name": "python",
   "nbconvert_exporter": "python",
   "pygments_lexer": "ipython3",
   "version": "3.12.4"
  }
 },
 "nbformat": 4,
 "nbformat_minor": 2
}
