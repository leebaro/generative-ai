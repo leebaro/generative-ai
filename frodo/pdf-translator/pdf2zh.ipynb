{
 "cells": [
  {
   "cell_type": "code",
   "execution_count": null,
   "metadata": {},
   "outputs": [],
   "source": [
    "!pip install pdf2zh"
   ]
  },
  {
   "cell_type": "code",
   "execution_count": 2,
   "metadata": {},
   "outputs": [
    {
     "name": "stdout",
     "output_type": "stream",
     "text": [
      "argos-translate is not installed, if you want to use argostranslate, please install it. If you don't use argostranslate translator, you can safely ignore this warning.\n",
      "not in git repo\n",
      "\u001b[2;36m[03/05/25 17:15:01]\u001b[0m\u001b[2;36m \u001b[0m\u001b[34mINFO    \u001b[0m INFO:babeldoc.assets.assets:doclayout \u001b]8;id=289480;file:///Users/frodo/micromamba/envs/py11/lib/python3.11/site-packages/babeldoc/assets/assets.py\u001b\\\u001b[2massets.py\u001b[0m\u001b]8;;\u001b\\\u001b[2m:\u001b[0m\u001b]8;id=597654;file:///Users/frodo/micromamba/envs/py11/lib/python3.11/site-packages/babeldoc/assets/assets.py#191\u001b\\\u001b[2m191\u001b[0m\u001b]8;;\u001b\\\n",
      "\u001b[2;36m                    \u001b[0m         onnx model not found or corrupted,    \u001b[2m             \u001b[0m\n",
      "\u001b[2;36m                    \u001b[0m         downloading\u001b[33m...\u001b[0m                        \u001b[2m             \u001b[0m\n",
      "\u001b[2;36m[03/05/25 17:15:05]\u001b[0m\u001b[2;36m \u001b[0m\u001b[34mINFO    \u001b[0m INFO:babeldoc.assets.assets:Download  \u001b]8;id=72968;file:///Users/frodo/micromamba/envs/py11/lib/python3.11/site-packages/babeldoc/assets/assets.py\u001b\\\u001b[2massets.py\u001b[0m\u001b]8;;\u001b\\\u001b[2m:\u001b[0m\u001b]8;id=321209;file:///Users/frodo/micromamba/envs/py11/lib/python3.11/site-packages/babeldoc/assets/assets.py#202\u001b\\\u001b[2m202\u001b[0m\u001b]8;;\u001b\\\n",
      "\u001b[2;36m                    \u001b[0m         doclayout onnx model from huggingface \u001b[2m             \u001b[0m\n",
      "\u001b[2;36m                    \u001b[0m         success                               \u001b[2m             \u001b[0m\n",
      "\u001b[2;36m[03/05/25 17:15:08]\u001b[0m\u001b[2;36m \u001b[0m\u001b[34mINFO    \u001b[0m INFO:babeldoc.docvision.doclayout:L \u001b]8;id=338380;file:///Users/frodo/micromamba/envs/py11/lib/python3.11/site-packages/babeldoc/docvision/doclayout.py\u001b\\\u001b[2mdoclayout.py\u001b[0m\u001b]8;;\u001b\\\u001b[2m:\u001b[0m\u001b]8;id=644167;file:///Users/frodo/micromamba/envs/py11/lib/python3.11/site-packages/babeldoc/docvision/doclayout.py#21\u001b\\\u001b[2m21\u001b[0m\u001b]8;;\u001b\\\n",
      "\u001b[2;36m                    \u001b[0m         oading ONNX model\u001b[33m...\u001b[0m                \u001b[2m               \u001b[0m\n",
      "* Running on local URL:  http://0.0.0.0:7860\n",
      "\n",
      "To create a public link, set `share=True` in `launch()`.\n",
      "Files before translation: ['hhl_tutorial copy.pdf']\n",
      "\u001b[2;36m[03/05/25 17:16:00]\u001b[0m\u001b[2;36m \u001b[0m\u001b[34mINFO    \u001b[0m INFO:babeldoc.assets.assets:Font      \u001b]8;id=784938;file:///Users/frodo/micromamba/envs/py11/lib/python3.11/site-packages/babeldoc/assets/assets.py\u001b\\\u001b[2massets.py\u001b[0m\u001b]8;;\u001b\\\u001b[2m:\u001b[0m\u001b]8;id=517992;file:///Users/frodo/micromamba/envs/py11/lib/python3.11/site-packages/babeldoc/assets/assets.py#230\u001b\\\u001b[2m230\u001b[0m\u001b]8;;\u001b\\\n",
      "\u001b[2;36m                    \u001b[0m         \u001b[35m/Users/frodo/.cache/babeldoc/fonts/\u001b[0m\u001b[95mSo\u001b[0m \u001b[2m             \u001b[0m\n",
      "\u001b[2;36m                    \u001b[0m         \u001b[95murceHanSerifKR-Regular.ttf\u001b[0m not found  \u001b[2m             \u001b[0m\n",
      "\u001b[2;36m                    \u001b[0m         or corrupted, downloading\u001b[33m...\u001b[0m          \u001b[2m             \u001b[0m\n",
      "\u001b[2;36m[03/05/25 17:16:01]\u001b[0m\u001b[2;36m \u001b[0m\u001b[34mINFO    \u001b[0m INFO:pdf2zh.high_level:use font:  \u001b]8;id=946372;file:///Users/frodo/micromamba/envs/py11/lib/python3.11/site-packages/pdf2zh/high_level.py\u001b\\\u001b[2mhigh_level.py\u001b[0m\u001b]8;;\u001b\\\u001b[2m:\u001b[0m\u001b]8;id=459687;file:///Users/frodo/micromamba/envs/py11/lib/python3.11/site-packages/pdf2zh/high_level.py#410\u001b\\\u001b[2m410\u001b[0m\u001b]8;;\u001b\\\n",
      "\u001b[2;36m                    \u001b[0m         \u001b[35m/Users/frodo/.cache/babeldoc/font\u001b[0m \u001b[2m                 \u001b[0m\n",
      "\u001b[2;36m                    \u001b[0m         \u001b[35ms/\u001b[0m\u001b[95mSourceHanSerifKR-Regular.ttf\u001b[0m    \u001b[2m                 \u001b[0m\n",
      "100%|███████████████████████████████████████████| 21/21 [01:16<00:00,  3.66s/it]\n",
      "Files after translation: ['hhl_tutorial copy-mono.pdf', 'hhl_tutorial copy.pdf', 'hhl_tutorial copy-dual.pdf']\n",
      "^C\n",
      "Keyboard interruption in main thread... closing server.\n"
     ]
    }
   ],
   "source": [
    "!pdf2zh -i"
   ]
  },
  {
   "cell_type": "code",
   "execution_count": null,
   "metadata": {},
   "outputs": [],
   "source": []
  }
 ],
 "metadata": {
  "kernelspec": {
   "display_name": "py11",
   "language": "python",
   "name": "python3"
  },
  "language_info": {
   "codemirror_mode": {
    "name": "ipython",
    "version": 3
   },
   "file_extension": ".py",
   "mimetype": "text/x-python",
   "name": "python",
   "nbconvert_exporter": "python",
   "pygments_lexer": "ipython3",
   "version": "3.11.11"
  }
 },
 "nbformat": 4,
 "nbformat_minor": 2
}
