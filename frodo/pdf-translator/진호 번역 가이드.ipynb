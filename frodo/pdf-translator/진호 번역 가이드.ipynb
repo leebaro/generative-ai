{
  "cells": [
    {
      "cell_type": "markdown",
      "metadata": {},
      "source": [
        "노트북 파일 -> py 파일 -> 번역 -> py 파일을 노트북 파일로 변환"
      ]
    },
    {
      "cell_type": "code",
      "execution_count": null,
      "metadata": {},
      "outputs": [],
      "source": [
        "!pip install jupytext"
      ]
    },
    {
      "cell_type": "code",
      "execution_count": 1,
      "metadata": {},
      "outputs": [
        {
          "name": "stdout",
          "output_type": "stream",
          "text": [
            "[jupytext] Reading _hhl_tutorial.ipynb in format ipynb\n",
            "[jupytext] Writing _hhl_tutorial.py (destination file replaced)\n"
          ]
        }
      ],
      "source": [
        "!jupytext --to py _hhl_tutorial.ipynb"
      ]
    },
    {
      "cell_type": "code",
      "execution_count": 7,
      "metadata": {},
      "outputs": [
        {
          "name": "stdout",
          "output_type": "stream",
          "text": [
            "[jupytext] Reading hhl_tutorial.py in format py\n",
            "[jupytext] Writing hhl_tutorial.ipynb\n"
          ]
        }
      ],
      "source": [
        "!jupytext --to notebook hhl_tutorial.py"
      ]
    }
  ],
  "metadata": {
    "anaconda-cloud": {},
    "kernelspec": {
      "display_name": "py11",
      "language": "python",
      "name": "python3"
    },
    "language_info": {
      "codemirror_mode": {
        "name": "ipython",
        "version": 3
      },
      "file_extension": ".py",
      "mimetype": "text/x-python",
      "name": "python",
      "nbconvert_exporter": "python",
      "pygments_lexer": "ipython3",
      "version": "3.11.11"
    }
  },
  "nbformat": 4,
  "nbformat_minor": 4
}
