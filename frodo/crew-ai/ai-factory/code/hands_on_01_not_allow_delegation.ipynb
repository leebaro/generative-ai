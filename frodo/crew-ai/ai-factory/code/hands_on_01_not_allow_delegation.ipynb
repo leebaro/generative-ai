{
 "cells": [
  {
   "cell_type": "markdown",
   "metadata": {
    "vscode": {
     "languageId": "plaintext"
    }
   },
   "source": [
    "# 연구 및 기사 작성을 위한 에이전트 생성하기\n",
    "\n",
    "멀티 에이전트 시스템(multi-agent systems)의 기본 개념을 소개하고, CrewAI 프레임워크에 대한 개요를 제공합니다."
   ]
  },
  {
   "cell_type": "code",
   "execution_count": 1,
   "metadata": {},
   "outputs": [],
   "source": [
    "# pip install crewai crewai-tools\n",
    "# %pip install 'crewai[tools]'"
   ]
  },
  {
   "cell_type": "code",
   "execution_count": 12,
   "metadata": {
    "height": 64
   },
   "outputs": [],
   "source": [
    "# Warning control\n",
    "import warnings\n",
    "warnings.filterwarnings('ignore')"
   ]
  },
  {
   "cell_type": "markdown",
   "metadata": {},
   "source": [
    "- Import from the crewAI libray."
   ]
  },
  {
   "cell_type": "code",
   "execution_count": 13,
   "metadata": {
    "height": 30
   },
   "outputs": [],
   "source": [
    "from crewai import Agent, Task, Crew"
   ]
  },
  {
   "cell_type": "code",
   "execution_count": 14,
   "metadata": {},
   "outputs": [],
   "source": [
    "import os\n",
    "from crew_ai_utils import pretty_print_result, get_openai_api_key\n",
    "\n",
    "import dotenv\n",
    "\n",
    "dotenv.load_dotenv()\n",
    "openai_api_key = get_openai_api_key()\n",
    "os.environ[\"OPENAI_MODEL_NAME\"] = 'gpt-3.5-turbo'\n",
    "os.environ[\"SERPER_API_KEY\"] = os.getenv(\"SERPER_API_KEY\")\n"
   ]
  },
  {
   "cell_type": "markdown",
   "metadata": {},
   "source": [
    "## 에이전트 생성\n",
    "- 에이전트를 정의하고, `role` (역할), `goal` (목표) 및 `backstory` (배경 이야기) 정의\n",
    "- LLM(Large Language Model)은 역할극을 할 때 성능이 더 좋은 것으로 알려져 있음"
   ]
  },
  {
   "cell_type": "markdown",
   "metadata": {},
   "source": [
    "### Agent: Planner(콘텐츠 기획자)\n"
   ]
  },
  {
   "cell_type": "code",
   "execution_count": 15,
   "metadata": {
    "height": 234
   },
   "outputs": [],
   "source": [
    "planner = Agent(\n",
    "    role=\"콘텐츠 기획자 (Content Planner)\",\n",
    "    goal=\"매력적이고 사실에 근거한 콘텐츠를 {topic}(주제)에 대해 기획합니다.\",\n",
    "    backstory=\"당신은 {topic}(주제)에 대한 블로그 기사 기획 작업을 하고 있습니다.\"\n",
    "              \"당신은 독자들에게 유용한 정보를 수집하여 독자들이 학습하고 \"\n",
    "              \"정보에 입각한 결정을 내릴 수 있도록 돕습니다. \"\n",
    "              \"당신의 작업은 콘텐츠 작가(Content Writer)가 이 주제에 대한 기사를 작성하는 데 기초가 됩니다.\",\n",
    "    allow_delegation=False,\n",
    "\tverbose=True\n",
    ")"
   ]
  },
  {
   "cell_type": "markdown",
   "metadata": {},
   "source": [
    "### Agent: Writer(콘텐츠 작가)"
   ]
  },
  {
   "cell_type": "code",
   "execution_count": 16,
   "metadata": {
    "height": 370
   },
   "outputs": [],
   "source": [
    "writer = Agent(\n",
    "    role=\"콘텐츠 작가 (Content Writer)\",\n",
    "    goal=\"주제({topic})에 대해 통찰력 있고 사실에 근거한 의견(opinion)을 작성합니다.\",\n",
    "    backstory=\"당신은 주제({topic})에 대한 새로운 의견(opinion)을 작성하고 있습니다. \"\n",
    "              \"당신은 콘텐츠 기획자(Content Planner)의 작업, 즉 개요(outline)와 주제에 대한 관련 맥락(context)을 기반으로 글을 씁니다. \"\n",
    "              \"당신은 콘텐츠 기획자(Content Planner)가 제공한 개요(outline)의 주요 목표와 방향을 따릅니다. \"\n",
    "              \"또한 객관적이고 공정한 통찰력(insights)을 제공하고 콘텐츠 기획자(Content Planner)가 제공한 정보를 통해 이를 뒷받침합니다. \"\n",
    "              \"당신은 당신의 진술이 객관적인 진술이 아닌 의견(opinions)일 때 의견(opinion)에서 인정합니다.\",\n",
    "    allow_delegation=False,\n",
    "    verbose=True\n",
    ")"
   ]
  },
  {
   "cell_type": "markdown",
   "metadata": {},
   "source": [
    "### Agent: Editor(편집자)"
   ]
  },
  {
   "cell_type": "code",
   "execution_count": 17,
   "metadata": {
    "height": 268
   },
   "outputs": [],
   "source": [
    "editor = Agent(\n",
    "    role=\"편집자 (Editor)\",\n",
    "    goal=\"제공된 블로그 게시물을 편집하여 조직의 글쓰기 스타일에 맞춥니다.\",\n",
    "    backstory=\"당신은 콘텐츠 작가(Content Writer)로부터 블로그 게시물을 받는 편집자입니다. \"\n",
    "              \"당신의 목표는 블로그 게시물을 검토하여 저널리즘의 모범 사례를 따르고,\"\n",
    "              \"의견이나 주장을 제시할 때 균형 잡힌 관점을 제공하고,\"\n",
    "              \"가능한 경우 주요 논쟁 거리가 되는 주제나 의견을 피하는 것입니다.\",\n",
    "    allow_delegation=False,\n",
    "    verbose=True\n",
    ")"
   ]
  },
  {
   "cell_type": "code",
   "execution_count": 26,
   "metadata": {},
   "outputs": [],
   "source": [
    "japanese_translator = Agent(\n",
    "    role=\"일본어 번역가 (Japanese Translator)\",\n",
    "    goal=\"텍스트를 고품질의 일본어로 정확하게 번역합니다.\",\n",
    "    backstory=\"당신은 다양한 텍스트를 일본어로 번역하는 데 능숙한 전문 번역가입니다. \"\n",
    "              \"당신의 목표는 원본 텍스트의 의미, 어조 및 스타일을 유지하면서 \"\n",
    "              \"정확하고 자연스러운 번역을 제공하는 것입니다.\",\n",
    "    allow_delegation=False,\n",
    "    verbose=True\n",
    ")"
   ]
  },
  {
   "cell_type": "markdown",
   "metadata": {},
   "source": [
    "## 작업 생성\n",
    "\n",
    "- `task`, `description`, `expected_output`, `agent` 정의"
   ]
  },
  {
   "cell_type": "markdown",
   "metadata": {},
   "source": [
    "### Task: Plan(콘텐츠 계획)"
   ]
  },
  {
   "cell_type": "code",
   "execution_count": 27,
   "metadata": {
    "height": 268
   },
   "outputs": [],
   "source": [
    "plan = Task(\n",
    "    description=(\n",
    "        \"1. {topic}에 대한 최신 트렌드(latest trends), 주요 업체(key players) 및 주목할 만한 뉴스(noteworthy news)를 우선적으로 고려합니다.\\n\"\n",
    "        \"2. 대상 독자(target audience)의 관심사(interests)와 고충(pain points)을 고려하여 파악합니다.\\n\"\n",
    "        \"3. 서론(introduction), 핵심 내용(key points), 행동 촉구(call to action)를 포함한 상세한 콘텐츠 개요(content outline)를 작성합니다.\\n\"\n",
    "        \"4. SEO 키워드(SEO keywords)와 관련된 데이터(data) 또는 소스(sources)를 포함합니다.\"\n",
    "    ),\n",
    "    expected_output=\"개요(outline), 대상 독자 분석(audience analysis), \"\n",
    "        \"SEO 키워드(SEO keywords) 및 리소스(resources)를 포함하는 포괄적인 콘텐츠 계획 문서(comprehensive content plan document)입니다.\",\n",
    "    agent=planner,\n",
    ")"
   ]
  },
  {
   "cell_type": "markdown",
   "metadata": {},
   "source": [
    "### Task: Write(콘텐츠 작성)"
   ]
  },
  {
   "cell_type": "code",
   "execution_count": 28,
   "metadata": {
    "height": 319
   },
   "outputs": [],
   "source": [
    "write = Task(\n",
    "    description=(\n",
    "        \"1. 콘텐츠 계획(content plan)을 활용하여 {topic}에 대한 설득력 있는 블로그 게시물(blog post)을 작성합니다.\\n\"\n",
    "        \"2. SEO 키워드(SEO keywords)를 자연스럽게 통합합니다.\\n\"\n",
    "        \"3. 섹션/소제목(Sections/Subtitles)이 매력적인 방식으로 적절하게 명명되었는지 확인합니다.\\n\"\n",
    "        \"4. 게시물이 매력적인 서론(introduction), 통찰력 있는 본문(insightful body) 및 요약 결론(summarizing conclusion)으로 구성되었는지 확인합니다.\\n\"\n",
    "        \"5. 문법적 오류(grammatical errors)가 없는지, 브랜드의 목소리(brand's voice)와 일치하는지 교정합니다(Proofread).\\n\"\n",
    "    ),\n",
    "    expected_output=\"잘 작성된 블로그 게시물(blog post)을 마크다운 형식(markdown format)으로 제공하며, 각 섹션은 2~3개의 단락(paragraphs)으로 구성되어 출판 준비가 완료되어야 합니다.\",\n",
    "    agent=writer,\n",
    ")"
   ]
  },
  {
   "cell_type": "markdown",
   "metadata": {},
   "source": [
    "### Task: Edit(콘텐츠 편집)"
   ]
  },
  {
   "cell_type": "code",
   "execution_count": 20,
   "metadata": {
    "height": 166
   },
   "outputs": [],
   "source": [
    "edit = Task(\n",
    "    description=(\n",
    "        \"주어진 블로그 게시물(blog post)에서 문법적 오류(grammatical errors)를 교정하고 브랜드의 목소리(brand's voice)와 일치하는지 확인합니다.\"\n",
    "    ),\n",
    "    expected_output=(\n",
    "        \"잘 작성된 블로그 게시물(blog post)을 마크다운 형식(markdown format)으로 제공하며, \"\n",
    "        \"각 섹션은 2~3개의 단락(paragraphs)으로 구성되어 출판 준비가 완료되어야 합니다.\"\n",
    "    ),\n",
    "    agent=editor,\n",
    ")"
   ]
  },
  {
   "cell_type": "code",
   "execution_count": 29,
   "metadata": {},
   "outputs": [],
   "source": [
    "translate = Task(\n",
    "    description=(\n",
    "        \"주어진 블로그 게시물을 일본어로 번역합니다.\"\n",
    "    ),\n",
    "    expected_output=(\n",
    "        \"잘 작성된 블로그 게시물(blog post)을 마크다운 형식(markdown format)으로 제공하며, \"\n",
    "        \"각 섹션은 2~3개의 단락(paragraphs)으로 구성되어 출판 준비가 완료되어야 합니다.\"\n",
    "    ),\n",
    "    agent=japanese_translator,\n",
    ")"
   ]
  },
  {
   "cell_type": "markdown",
   "metadata": {},
   "source": [
    "## Crew 구성\n",
    "\n",
    "- 에이전트(Agents)로 Crew를 구성\n",
    "- 해당 에이전트(agents)가 수행할 작업(tasks)을 전달\n",
    "    - 이 간단한 예제에서는* 작업(tasks)이 순차적으로 수행 됨.(즉, 서로 종속적)  \n",
    "    - 따라서 목록에서 작업(task)의 _순서(order)_ 가 중요함.\n",
    "- `verbose=True`를 설정하면 실행에 대한 모든 로그를 볼 수 있음"
   ]
  },
  {
   "cell_type": "code",
   "execution_count": 30,
   "metadata": {
    "height": 98
   },
   "outputs": [
    {
     "name": "stderr",
     "output_type": "stream",
     "text": [
      "Overriding of current TracerProvider is not allowed\n"
     ]
    }
   ],
   "source": [
    "crew = Crew(\n",
    "    agents=[planner, writer, editor, japanese_translator],\n",
    "    tasks=[plan, write, edit, translate],    \n",
    "    verbose=True\n",
    ")"
   ]
  },
  {
   "cell_type": "markdown",
   "metadata": {},
   "source": [
    "## Running the Crew"
   ]
  },
  {
   "cell_type": "code",
   "execution_count": 31,
   "metadata": {
    "height": 30
   },
   "outputs": [
    {
     "name": "stdout",
     "output_type": "stream",
     "text": [
      "\u001b[1m\u001b[95m# Agent:\u001b[00m \u001b[1m\u001b[92m콘텐츠 기획자 (Content Planner)\u001b[00m\n",
      "\u001b[95m## Task:\u001b[00m \u001b[92m1. 인공지능에 대한 최신 트렌드(latest trends), 주요 업체(key players) 및 주목할 만한 뉴스(noteworthy news)를 우선적으로 고려합니다.\n",
      "2. 대상 독자(target audience)의 관심사(interests)와 고충(pain points)을 고려하여 파악합니다.\n",
      "3. 서론(introduction), 핵심 내용(key points), 행동 촉구(call to action)를 포함한 상세한 콘텐츠 개요(content outline)를 작성합니다.\n",
      "4. SEO 키워드(SEO keywords)와 관련된 데이터(data) 또는 소스(sources)를 포함합니다.\u001b[00m\n",
      "\n",
      "\n",
      "\u001b[1m\u001b[95m# Agent:\u001b[00m \u001b[1m\u001b[92m콘텐츠 기획자 (Content Planner)\u001b[00m\n",
      "\u001b[95m## Final Answer:\u001b[00m \u001b[92m\n",
      "개요(Outline):\n",
      "이 콘텐츠 계획 문서는 인공지능에 대한 최신 트렌드, 핵심 기업, 주목할 만한 뉴스를 중점적으로 다루며 대상 독자의 관심사와 고충을 고려하여 구성될 것입니다.\n",
      "\n",
      "대상 독자 분석(Audience Analysis):\n",
      "1. 학습자: 기술에 관심이 있는 학생 및 전문가\n",
      "2. 기업 리더: 비즈니스 자동화 및 혁신에 관심이 있는 경영진\n",
      "3. 일반 대중: 일상 생활에서의 활용 가능성에 관심 있는 일반 사용자\n",
      "\n",
      "SEO 키워드 및 리소스(SEO Keywords and Resources):\n",
      "1. 인공지능 최신 트렌드: GPT-3, 자율주행 자동차, 음성 인식 기술\n",
      "2. 주요 업체: 구글, 아마존, IBM Watson\n",
      "3. 주목할 만한 뉴스: AI 윤리, 인간과의 상호작용\n",
      "\n",
      "콘텐츠 개요(Content Outline):\n",
      "- 서론(Introduction):\n",
      "  - AI의 역사와 발전\n",
      "  - AI가 현재 사회 및 비즈니스에 미치는 영향\n",
      "\n",
      "- 핵심 내용(Key Points):\n",
      "  1. 최신 트렌드 소개\n",
      "     - GPT-3 및 자율주행 자동차의 현황\n",
      "     - 음성 AI 기술의 발전과 응용 사례\n",
      "\n",
      "  2. 주요 업체 분석\n",
      "     - 구글의 AI 연구 및 제품\n",
      "     - 아마존의 AI 기반 서비스\n",
      "     - IBM Watson의 기업 솔루션\n",
      "\n",
      "  3. 주목할 만한 뉴스 요약\n",
      "     - AI 윤리 문제와 해결 방안\n",
      "     - 인간과 AI의 상호작용 발전\n",
      "\n",
      "- 행동 촉구(Call to Action):\n",
      "  - AI에 대한 깊은 이해를 위해 추가 자료 조사\n",
      "  - AI 기술을 활용한 프로젝트 아이디어 고민해보기\n",
      "\n",
      "이 콘텐츠 계획 문서는 다양한 관점에서 인공지능에 대한 이해를 높일 수 있도록 구성될 것이며, 독자들이 향후 의사 결정이나 프로젝트에 활용할 수 있는 유용한 정보를 제공할 것입니다.\u001b[00m\n",
      "\n",
      "\n",
      "\u001b[1m\u001b[95m# Agent:\u001b[00m \u001b[1m\u001b[92m콘텐츠 작가 (Content Writer)\u001b[00m\n",
      "\u001b[95m## Task:\u001b[00m \u001b[92m1. 콘텐츠 계획(content plan)을 활용하여 인공지능에 대한 설득력 있는 블로그 게시물(blog post)을 작성합니다.\n",
      "2. SEO 키워드(SEO keywords)를 자연스럽게 통합합니다.\n",
      "3. 섹션/소제목(Sections/Subtitles)이 매력적인 방식으로 적절하게 명명되었는지 확인합니다.\n",
      "4. 게시물이 매력적인 서론(introduction), 통찰력 있는 본문(insightful body) 및 요약 결론(summarizing conclusion)으로 구성되었는지 확인합니다.\n",
      "5. 문법적 오류(grammatical errors)가 없는지, 브랜드의 목소리(brand's voice)와 일치하는지 교정합니다(Proofread).\n",
      "\u001b[00m\n",
      "\n",
      "\n",
      "\u001b[1m\u001b[95m# Agent:\u001b[00m \u001b[1m\u001b[92m콘텐츠 작가 (Content Writer)\u001b[00m\n",
      "\u001b[95m## Final Answer:\u001b[00m \u001b[92m\n",
      "# 인공지능: 현재와 미래를 이끌어가는 기술\n",
      "\n",
      "## 서론\n",
      "\n",
      "인공지능(AI)은 지난 몇년 동안 엄청난 발전을 이루었습니다. 그 역사는 인류의 기술적 발전과 긴밀하게 뒤양합니다. 현재, 우리는 AI가 사회와 비즈니스를 어떻게 변화시키고 있는지에 대해 집중적으로 살펴볼 필요가 있습니다. \n",
      "\n",
      "## 핵심 내용\n",
      "\n",
      "### 최신 트렌드 소개\n",
      "\n",
      "AI의 최신 트렌드 중 GPT-3와 자율주행 자동차가 주목을 받고 있습니다. GPT-3는 자연어 생성 모델로, 이전보다 훨씬 더 자연스러운 텍스트를 생성해냅니다. 또한 자율주행 자동차 기술은 운전의 편의성을 높일 뿐만 아니라 교통 안전성을 향상시키는 데 기여하고 있습니다. 더불어 음성 AI 기술의 발전은 음성 인식 기술을 통해 우리의 일상을 혁신하고 있습니다.\n",
      "\n",
      "### 주요 업체 분석\n",
      "\n",
      "주요 기업들인 구글, 아마존, IBM Watson은 AI 분야에서 혁신적인 역할을 맡고 있습니다. 구글은 광범위한 AI 연구를 통해 다양한 제품을 선보이고 있으며, 아마존은 AI를 기반으로 한 다양한 서비스를 제공하여 고객들에게 혁신을 주도하고 있습니다. 또한 IBM Watson은 기업들이 AI 기술을 적용하는 데 도움을 주는 솔루션을 제공하고 있습니다.\n",
      "\n",
      "### 주목할 만한 뉴스 요약\n",
      "\n",
      "AI의 발전은 도덕적인 쟁점을 불러일으키기도 합니다. AI 윤리에 대한 문제들이 제기되고 있는 가운데, 이를 해결하기 위한 다양한 방안들이 논의되고 있습니다. 더불어 인간과 AI의 상호작용은 더욱 깊어지고 있으며, 이에 대한 연구와 발전이 계속되고 있습니다.\n",
      "\n",
      "## 행동 촉구\n",
      "\n",
      "AI에 대한 깊은 이해를 위해서는 최신 자료를 참고하고 관련 프로젝트에 참여해보는 등 더 많은 시간을 투자해야 합니다. AI 기술의 활용 가능성을 고민해보면서, 더 나은 미래를 위한 프로젝트 아이디어를 개발해보세요.\n",
      "\n",
      "이제 인공지능에 대한 이해를 높일 수 있는 이 블로그 게시물을 통해 독자들이 AI의 세계로 더 깊이 파고들 수 있기를 기대합니다. 인공지능은 우리의 삶과 사회를 변화시키는 힘을 지니고 있으며, 이에 대한 이해는 더욱 중요해지고 있습니다. 이를 통해 미래를 준비하는 데 도움이 되길 바랍니다.\u001b[00m\n",
      "\n",
      "\n",
      "\u001b[1m\u001b[95m# Agent:\u001b[00m \u001b[1m\u001b[92m편집자 (Editor)\u001b[00m\n",
      "\u001b[95m## Task:\u001b[00m \u001b[92m주어진 블로그 게시물(blog post)에서 문법적 오류(grammatical errors)를 교정하고 브랜드의 목소리(brand's voice)와 일치하는지 확인합니다.\u001b[00m\n",
      "\n",
      "\n",
      "\u001b[1m\u001b[95m# Agent:\u001b[00m \u001b[1m\u001b[92m편집자 (Editor)\u001b[00m\n",
      "\u001b[95m## Final Answer:\u001b[00m \u001b[92m\n",
      "# 인공지능: 현재와 미래를 이끌어가는 기술\n",
      "\n",
      "## 서론\n",
      "\n",
      "인공지능(AI)은 지난 몇 년 동안 엄청난 발전을 이루었습니다. 그 역사는 인류의 기술적 발전과 긴밀하게 뒤양합니다. 현재, 우리는 AI가 사회와 비즈니스를 어떻게 변화시키고 있는지에 대해 집중적으로 살펴볼 필요가 있습니다.\n",
      "\n",
      "## 핵심 내용\n",
      "\n",
      "### 최신 트렌드 소개\n",
      "\n",
      "AI의 최신 트렌드 중 GPT-3와 자율주행 자동차가 주목을 받고 있습니다. GPT-3는 자연어 생성 모델로, 이전보다 훨씬 더 자연스러운 텍스트를 생성해냅니다. 또한 자율주행 자동차 기술은 운전의 편의성을 높일 뿐만 아니라 교통 안전성을 향상시키는 데 기여하고 있습니다. 더불어 음성 AI 기술의 발전은 음성 인식 기술을 통해 우리의 일상을 혁신하고 있습니다.\n",
      "\n",
      "### 주요 업체 분석\n",
      "\n",
      "주요 기업들인 구글, 아마존, IBM Watson은 AI 분야에서 혁신적인 역할을 맡고 있습니다. 구글은 광범위한 AI 연구를 통해 다양한 제품을 선보이고 있으며, 아마존은 AI를 기반으로 한 다양한 서비스를 제공하여 고객들에게 혁신을 주도하고 있습니다. 또한 IBM Watson은 기업들이 AI 기술을 적용하는 데 도움을 주는 솔루션을 제공하고 있습니다.\n",
      "\n",
      "### 주목할 만한 뉴스 요약\n",
      "\n",
      "AI의 발전은 도덕적인 쟁점을 불러일으키기도 합니다. AI 윤리에 대한 문제들이 제기되고 있는 가운데, 이를 해결하기 위한 다양한 방안들이 논의되고 있습니다. 더불어 인간과 AI의 상호작용은 더욱 깊어지고 있으며, 이에 대한 연구와 발전이 계속되고 있습니다.\n",
      "\n",
      "## 행동 촉구\n",
      "\n",
      "AI에 대한 깊은 이해를 위해서는 최신 자료를 참고하고 관련 프로젝트에 참여해보는 등 더 많은 시간을 투자해야 합니다. AI 기술의 활용 가능성을 고민해보면서, 더 나은 미래를 위한 프로젝트 아이디어를 개발해보세요.\n",
      "\n",
      "이제 인공지능에 대한 이해를 높일 수 있는 이 블로그 게시물을 통해 독자들이 AI의 세계로 더 깊이 파고들 수 있기를 기대합니다. 인공지능은 우리의 삶과 사회를 변화시키는 힘을 지니고 있으며, 이에 대한 이해는 더욱 중요해지고 있습니다. 이를 통해 미래를 준비하는 데 도움이 되길 바랍니다.\u001b[00m\n",
      "\n",
      "\n",
      "\u001b[1m\u001b[95m# Agent:\u001b[00m \u001b[1m\u001b[92m일본어 번역가 (Japanese Translator)\u001b[00m\n",
      "\u001b[95m## Task:\u001b[00m \u001b[92m주어진 블로그 게시물을 일본어로 번역합니다.\u001b[00m\n",
      "\n",
      "\n",
      "\u001b[1m\u001b[95m# Agent:\u001b[00m \u001b[1m\u001b[92m일본어 번역가 (Japanese Translator)\u001b[00m\n",
      "\u001b[95m## Final Answer:\u001b[00m \u001b[92m\n",
      "# インテリジェント: 現在と未来をリードするテクノロジー\n",
      "\n",
      "## 序文\n",
      "\n",
      "人工知能（AI）は過去数年間で著しい発展を遂げています。その歴史は人類の技術的進歩と密接に結びついています。現在、私たちはAIが社会とビジネスにどのように影響を与えているかに焦点を当てる必要があります。\n",
      "\n",
      "## 主要内容\n",
      "\n",
      "### 最新トレンドの紹介\n",
      "\n",
      "AIの最新トレンドには、GPT-3や自動運転車が注目されています。 GPT-3は自然言語生成モデルであり、以前よりもより自然なテキストを生成しています。また、自動運転車技術は運転の利便性だけでなく、交通安全性の向上に貢献しています。さらに、音声AI技術の発展は音声認識技術を通じて私たちの日常生活を革新しています。\n",
      "\n",
      "### 主要企業の分析\n",
      "\n",
      "Google、Amazon、IBM Watsonなどの主要企業は、AI分野で革新的な役割を果たしています。 Googleは幅広いAI研究を通じてさまざまな製品を展開しており、AmazonはAIを基盤としたさまざまなサービスを提供し、顧客に革新をもたらしています。さらに、IBM Watsonは企業がAI技術を導入するのに役立つソリューションを提供しています。\n",
      "\n",
      "### 注目すべきニュースの要約\n",
      "\n",
      "AIの発展は倫理的な問題を引き起こすこともあります。 AI倫理に関する問題が提起されている中、それらを解決するためのさまざまな手段が議論されています。また、人間とAIの相互作用はより深まっており、その研究と発展が継続しています。\n",
      "\n",
      "## 行動を促す\n",
      "\n",
      "AIに対する深い理解を得るためには、最新情報を参照し関連プロジェクトに参加するなど、さらに時間を投資する必要があります。 AI技術の活用可能性を考えながら、より良い未来のためのプロジェクトアイデアを考えてみてください。\n",
      "\n",
      "このブログ投稿を通じて、読者がAIの世界により深く没入できることを期待します。人工知能は私たちの生活と社会を変革する力を持ち、その理解はますます重要になっています。これにより、将来に備える助けとなることを願っています。\u001b[00m\n",
      "\n",
      "\n"
     ]
    }
   ],
   "source": [
    "result = crew.kickoff(inputs={\"topic\": \"인공지능\"})"
   ]
  },
  {
   "cell_type": "markdown",
   "metadata": {},
   "source": [
    "- Display the results of your execution as markdown in the notebook."
   ]
  },
  {
   "cell_type": "code",
   "execution_count": 23,
   "metadata": {},
   "outputs": [
    {
     "data": {
      "text/plain": [
       "CrewOutput(raw='# 인공지능: 혁신과 미래 전망\\n\\n## 최신 트렌드와 뉴스\\n\\n인공지능(AI)은 현재 기술 산업의 중심에서 주목을 받고 있습니다. 2021년 AI 트렌드를 살펴보면, Gartner의 최신 보고서와 Forbes 기사들이 AI 혁신에 대한 통찰력을 제공하고 있습니다. 이러한 리소스들을 통해 AI 기술의 최신 발전과 미래 전망에 대해 엿볼 수 있습니다.\\n\\n## 주요 기업의 역할과 프로젝트\\n\\nAI 산업의 핵심 업체들은 현재 AI 기술을 산업에 어떻게 적용하고 있는지를 살펴보는 것이 중요합니다. 이러한 기업들이 추진하는 혁신적인 프로젝트는 다양한 산업 분야에서 혁신을 이끌어 내고 있습니다.\\n\\n## 해결해야 할 고충과 해법\\n\\n학업이나 비즈니스에서 AI 기술을 적용할 때 마주치는 고충들을 해결하기 위해 AI의 효과적 활용 방안을 알아야 합니다. AI가 산업을 어떻게 형태화하고 있는지 이해하면 미래를 대비하는 데 도움이 될 것입니다.\\n\\n## 인공지능의 효과적 활용 방법\\n\\nAI의 다양한 응용 분야와 산업에 미치는 영향을 탐구하고, 비즈니스를 위한 AI 응용 방안에 대해 알아봅시다. AI 기술이 어떻게 기존 비즈니스 모델을 혁신하고 있는지를 살펴보며, 미래를 준비하는 데 도움이 될 것입니다.\\n\\n## 조언과 전문가 의견\\n\\n최신 AI 트렌드와 산업에 대한 전문가들의 견해를 살펴보고, AI를 보다 효과적으로 활용하기 위한 조언을 찾아보세요. TED Talks나 산업 리더들의 인터뷰를 통해 AI의 미래에 대한 통찰력을 얻을 수 있을 것입니다.\\n\\n이러한 정보를 통해 대학생, 비즈니스 전문가, 개발자들이 AI 기술과 산업의 혁신에 대한 통찰력을 높이고, 미래를 위해 현명한 결정을 내릴 수 있을 것입니다. 인공지능은 우리의 삶과 비즈니스에 혁명을 일으키고 있으며, 그 미래를 준비하는 데 필수적인 역할을 하고 있습니다.', pydantic=None, json_dict=None, tasks_output=[TaskOutput(description='1. 인공지능에 대한 최신 트렌드(latest trends), 주요 업체(key players) 및 주목할 만한 뉴스(noteworthy news)를 우선적으로 고려합니다.\\n2. 대상 독자(target audience)의 관심사(interests)와 고충(pain points)을 고려하여 파악합니다.\\n3. 서론(introduction), 핵심 내용(key points), 행동 촉구(call to action)를 포함한 상세한 콘텐츠 개요(content outline)를 작성합니다.\\n4. SEO 키워드(SEO keywords)와 관련된 데이터(data) 또는 소스(sources)를 포함합니다.', name=None, expected_output='개요(outline), 대상 독자 분석(audience analysis), SEO 키워드(SEO keywords) 및 리소스(resources)를 포함하는 포괄적인 콘텐츠 계획 문서(comprehensive content plan document)입니다.', summary='1. 인공지능에 대한 최신 트렌드(latest trends), 주요 업체(key players) 및...', raw=\"**개요 (Outline):**\\n1. 인공지능의 최신 트렌드 및 주목할 만한 뉴스 소개\\n2. 주요 업체 및 기업들의 역할 및 혁신적인 프로젝트 소개\\n3. 대상 독자의 인공지능에 대한 흥미로운 관심사와 해결해야 할 고충 파악\\n4. 인공지능을 활용한 가장 효과적인 방법에 대한 상세 내용 제시\\n5. 보다 효과적인 인공지능 사용을 위한 조언과 업계 전문가의 견해 소개\\n\\n**대상 독자 분석 (Audience Analysis):**\\n1. 대학생 및 대학원생: 학업 및 연구를 위해 최신 인공지능 트렌드와 기술에 관심이 있는 사람들\\n2. 비즈니스 전문가 및 기업 리더: 인공지능이 비즈니스 전략에 미치는 영향을 이해하고 싶어하는 사람들\\n3. 개발자 및 기술 엔지니어: 신기술 및 도구를 활용한 혁신적인 프로젝트를 추구하는 사람들\\n\\n**SEO 키워드 (SEO Keywords):**\\n1. Artificial Intelligence trends 2021\\n2. Key players in AI industry\\n3. Latest news on artificial intelligence innovations\\n4. How AI is shaping industries\\n5. AI applications for businesses\\n\\n**리소스 (Resources):**\\n1. Gartner's latest report on AI trends\\n2. Forbes articles on AI advancements\\n3. Research papers on AI applications in various sectors\\n4. Interviews with AI experts in leading companies\\n5. TED Talks on the future of artificial intelligence\\n\\n이러한 포괄적인 콘텐츠 계획을 기반으로 작성된 기사는 대상 독자들에게 유용한 정보를 제공하여 인공지능에 대한 이해를 높이고 현명한 결정을 내릴 수 있도록 도움을 줄 것입니다.\", pydantic=None, json_dict=None, agent='콘텐츠 기획자 (Content Planner)', output_format=<OutputFormat.RAW: 'raw'>), TaskOutput(description=\"1. 콘텐츠 계획(content plan)을 활용하여 인공지능에 대한 설득력 있는 블로그 게시물(blog post)을 작성합니다.\\n2. SEO 키워드(SEO keywords)를 자연스럽게 통합합니다.\\n3. 섹션/소제목(Sections/Subtitles)이 매력적인 방식으로 적절하게 명명되었는지 확인합니다.\\n4. 게시물이 매력적인 서론(introduction), 통찰력 있는 본문(insightful body) 및 요약 결론(summarizing conclusion)으로 구성되었는지 확인합니다.\\n5. 문법적 오류(grammatical errors)가 없는지, 브랜드의 목소리(brand's voice)와 일치하는지 교정합니다(Proofread).\\n\", name=None, expected_output='잘 작성된 블로그 게시물(blog post)을 마크다운 형식(markdown format)으로 제공하며, 각 섹션은 2~3개의 단락(paragraphs)으로 구성되어 출판 준비가 완료되어야 합니다.', summary='1. 콘텐츠 계획(content plan)을 활용하여 인공지능에 대한 설득력 있는 블로그...', raw='# 인공지능: 혁신과 미래 전망\\n\\n## 최신 트렌드와 뉴스\\n\\n인공지능(AI)은 현재 기술 산업의 중심에서 주목을 받고 있습니다. 2021년 AI 트렌드를 살펴보면, Gartner의 최신 보고서와 Forbes 기사들이 AI 혁신에 대한 통찰력을 제공하고 있습니다. 이러한 리소스들을 통해 AI 기술의 최신 발전과 미래 전망에 대해 엿볼 수 있습니다.\\n\\n## 주요 기업의 역할과 프로젝트\\n\\nAI 산업의 핵심 업체들은 현재 AI 기술을 산업에 어떻게 적용하고 있는지를 살펴보는 것이 중요합니다. 이러한 기업들이 추진하는 혁신적인 프로젝트는 다양한 산업 분야에서 혁신을 이끌어 내고 있습니다.\\n\\n## 해결해야 할 고충과 해법\\n\\n학업이나 비즈니스에서 AI 기술을 적용할 때 마주치는 고충들을 해결하기 위해 AI의 효과적 활용 방안을 알아야 합니다. AI가 산업을 어떻게 형태화하고 있는지 이해하면 미래를 대비하는 데 도움이 될 것입니다.\\n\\n## 인공지능의 효과적 활용 방법\\n\\nAI의 다양한 응용 분야와 산업에 미치는 영향을 탐구하고, 비즈니스를 위한 AI 응용 방안에 대해 알아봅시다. AI 기술이 어떻게 기존 비즈니스 모델을 혁신하고 있는지를 살펴보며, 미래를 준비하는 데 도움이 될 것입니다.\\n\\n## 조언과 전문가 의견\\n\\n최신 AI 트렌드와 산업에 대한 전문가들의 견해를 살펴보고, AI를 보다 효과적으로 활용하기 위한 조언을 찾아보세요. TED Talks나 산업 리더들의 인터뷰를 통해 AI의 미래에 대한 통찰력을 얻을 수 있을 것입니다.\\n\\n이러한 정보를 통해 대학생, 비즈니스 전문가, 개발자들이 AI 기술과 산업의 혁신에 대한 통찰력을 높이고, 미래를 위해 현명한 결정을 내릴 수 있을 것입니다. 인공지능은 우리의 삶과 비즈니스에 혁명을 일으키고 있으며, 그 미래를 준비하는 데 필수적인 역할을 하고 있습니다.', pydantic=None, json_dict=None, agent='콘텐츠 작가 (Content Writer)', output_format=<OutputFormat.RAW: 'raw'>), TaskOutput(description=\"주어진 블로그 게시물(blog post)에서 문법적 오류(grammatical errors)를 교정하고 브랜드의 목소리(brand's voice)와 일치하는지 확인합니다.\", name=None, expected_output='잘 작성된 블로그 게시물(blog post)을 마크다운 형식(markdown format)으로 제공하며, 각 섹션은 2~3개의 단락(paragraphs)으로 구성되어 출판 준비가 완료되어야 합니다.', summary=\"주어진 블로그 게시물(blog post)에서 문법적 오류(grammatical errors)를 교정하고 브랜드의 목소리(brand's...\", raw='# 인공지능: 혁신과 미래 전망\\n\\n## 최신 트렌드와 뉴스\\n\\n인공지능(AI)은 현재 기술 산업의 중심에서 주목을 받고 있습니다. 2021년 AI 트렌드를 살펴보면, Gartner의 최신 보고서와 Forbes 기사들이 AI 혁신에 대한 통찰력을 제공하고 있습니다. 이러한 리소스들을 통해 AI 기술의 최신 발전과 미래 전망에 대해 엿볼 수 있습니다.\\n\\n## 주요 기업의 역할과 프로젝트\\n\\nAI 산업의 핵심 업체들은 현재 AI 기술을 산업에 어떻게 적용하고 있는지를 살펴보는 것이 중요합니다. 이러한 기업들이 추진하는 혁신적인 프로젝트는 다양한 산업 분야에서 혁신을 이끌어 내고 있습니다.\\n\\n## 해결해야 할 고충과 해법\\n\\n학업이나 비즈니스에서 AI 기술을 적용할 때 마주치는 고충들을 해결하기 위해 AI의 효과적 활용 방안을 알아야 합니다. AI가 산업을 어떻게 형태화하고 있는지 이해하면 미래를 대비하는 데 도움이 될 것입니다.\\n\\n## 인공지능의 효과적 활용 방법\\n\\nAI의 다양한 응용 분야와 산업에 미치는 영향을 탐구하고, 비즈니스를 위한 AI 응용 방안에 대해 알아봅시다. AI 기술이 어떻게 기존 비즈니스 모델을 혁신하고 있는지를 살펴보며, 미래를 준비하는 데 도움이 될 것입니다.\\n\\n## 조언과 전문가 의견\\n\\n최신 AI 트렌드와 산업에 대한 전문가들의 견해를 살펴보고, AI를 보다 효과적으로 활용하기 위한 조언을 찾아보세요. TED Talks나 산업 리더들의 인터뷰를 통해 AI의 미래에 대한 통찰력을 얻을 수 있을 것입니다.\\n\\n이러한 정보를 통해 대학생, 비즈니스 전문가, 개발자들이 AI 기술과 산업의 혁신에 대한 통찰력을 높이고, 미래를 위해 현명한 결정을 내릴 수 있을 것입니다. 인공지능은 우리의 삶과 비즈니스에 혁명을 일으키고 있으며, 그 미래를 준비하는 데 필수적인 역할을 하고 있습니다.', pydantic=None, json_dict=None, agent='편집자 (Editor)', output_format=<OutputFormat.RAW: 'raw'>)], token_usage=UsageMetrics(total_tokens=5972, prompt_tokens=3758, cached_prompt_tokens=0, completion_tokens=2214, successful_requests=3))"
      ]
     },
     "execution_count": 23,
     "metadata": {},
     "output_type": "execute_result"
    }
   ],
   "source": [
    "result"
   ]
  },
  {
   "cell_type": "code",
   "execution_count": 24,
   "metadata": {
    "height": 47
   },
   "outputs": [
    {
     "data": {
      "text/markdown": [
       "# 인공지능: 혁신과 미래 전망\n",
       "\n",
       "## 최신 트렌드와 뉴스\n",
       "\n",
       "인공지능(AI)은 현재 기술 산업의 중심에서 주목을 받고 있습니다. 2021년 AI 트렌드를 살펴보면, Gartner의 최신 보고서와 Forbes 기사들이 AI 혁신에 대한 통찰력을 제공하고 있습니다. 이러한 리소스들을 통해 AI 기술의 최신 발전과 미래 전망에 대해 엿볼 수 있습니다.\n",
       "\n",
       "## 주요 기업의 역할과 프로젝트\n",
       "\n",
       "AI 산업의 핵심 업체들은 현재 AI 기술을 산업에 어떻게 적용하고 있는지를 살펴보는 것이 중요합니다. 이러한 기업들이 추진하는 혁신적인 프로젝트는 다양한 산업 분야에서 혁신을 이끌어 내고 있습니다.\n",
       "\n",
       "## 해결해야 할 고충과 해법\n",
       "\n",
       "학업이나 비즈니스에서 AI 기술을 적용할 때 마주치는 고충들을 해결하기 위해 AI의 효과적 활용 방안을 알아야 합니다. AI가 산업을 어떻게 형태화하고 있는지 이해하면 미래를 대비하는 데 도움이 될 것입니다.\n",
       "\n",
       "## 인공지능의 효과적 활용 방법\n",
       "\n",
       "AI의 다양한 응용 분야와 산업에 미치는 영향을 탐구하고, 비즈니스를 위한 AI 응용 방안에 대해 알아봅시다. AI 기술이 어떻게 기존 비즈니스 모델을 혁신하고 있는지를 살펴보며, 미래를 준비하는 데 도움이 될 것입니다.\n",
       "\n",
       "## 조언과 전문가 의견\n",
       "\n",
       "최신 AI 트렌드와 산업에 대한 전문가들의 견해를 살펴보고, AI를 보다 효과적으로 활용하기 위한 조언을 찾아보세요. TED Talks나 산업 리더들의 인터뷰를 통해 AI의 미래에 대한 통찰력을 얻을 수 있을 것입니다.\n",
       "\n",
       "이러한 정보를 통해 대학생, 비즈니스 전문가, 개발자들이 AI 기술과 산업의 혁신에 대한 통찰력을 높이고, 미래를 위해 현명한 결정을 내릴 수 있을 것입니다. 인공지능은 우리의 삶과 비즈니스에 혁명을 일으키고 있으며, 그 미래를 준비하는 데 필수적인 역할을 하고 있습니다."
      ],
      "text/plain": [
       "<IPython.core.display.Markdown object>"
      ]
     },
     "execution_count": 24,
     "metadata": {},
     "output_type": "execute_result"
    }
   ],
   "source": [
    "from IPython.display import Markdown\n",
    "Markdown(result.raw)"
   ]
  },
  {
   "cell_type": "markdown",
   "metadata": {},
   "source": [
    "## Try it Yourself\n",
    "\n",
    "- Pass in a topic of your choice and see what the agents come up with!"
   ]
  },
  {
   "cell_type": "code",
   "execution_count": null,
   "metadata": {
    "height": 47
   },
   "outputs": [],
   "source": [
    "topic = \"YOUR TOPIC HERE\"\n",
    "result = crew.kickoff(inputs={\"topic\": topic})"
   ]
  },
  {
   "cell_type": "code",
   "execution_count": null,
   "metadata": {
    "height": 30
   },
   "outputs": [],
   "source": [
    "Markdown(result)"
   ]
  }
 ],
 "metadata": {
  "colab": {
   "gpuType": "T4",
   "provenance": []
  },
  "kernelspec": {
   "display_name": "Python 3 (ipykernel)",
   "language": "python",
   "name": "python3"
  },
  "language_info": {
   "codemirror_mode": {
    "name": "ipython",
    "version": 3
   },
   "file_extension": ".py",
   "mimetype": "text/x-python",
   "name": "python",
   "nbconvert_exporter": "python",
   "pygments_lexer": "ipython3",
   "version": "3.12.9"
  }
 },
 "nbformat": 4,
 "nbformat_minor": 4
}
