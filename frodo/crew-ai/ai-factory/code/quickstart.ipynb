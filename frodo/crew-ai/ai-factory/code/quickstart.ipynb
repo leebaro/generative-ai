{
 "cells": [
  {
   "cell_type": "markdown",
   "metadata": {},
   "source": [
    "1. Create your crew"
   ]
  },
  {
   "cell_type": "markdown",
   "metadata": {},
   "source": [
    "터미널에서 다음 명령어를 실행하여 새로운 크루 프로젝트를 생성하십시오. 이는 크루(crew)의 기본 구조를 갖춘 `latest-ai-development`라는 새로운 디렉토리(directory)를 생성합니다.\n"
   ]
  },
  {
   "cell_type": "code",
   "execution_count": 2,
   "metadata": {},
   "outputs": [
    {
     "name": "stdout",
     "output_type": "stream",
     "text": [
      "\u001b[32m\u001b[1mCreating folder latest_ai_development...\u001b[0m\n",
      "\u001b[36mCache expired or not found. Fetching provider data from the web...\u001b[0m\n",
      "\u001b[?25lDownloading  [####################################]  346617/16629\u001b[?25h\n",
      "\u001b[36mSelect a provider to set up:\u001b[0m\n",
      "\u001b[36m1. openai\u001b[0m\n",
      "\u001b[36m2. anthropic\u001b[0m\n",
      "\u001b[36m3. gemini\u001b[0m\n",
      "\u001b[36m4. nvidia_nim\u001b[0m\n",
      "\u001b[36m5. groq\u001b[0m\n",
      "\u001b[36m6. ollama\u001b[0m\n",
      "\u001b[36m7. watson\u001b[0m\n",
      "\u001b[36m8. bedrock\u001b[0m\n",
      "\u001b[36m9. azure\u001b[0m\n",
      "\u001b[36m10. cerebras\u001b[0m\n",
      "\u001b[36m11. sambanova\u001b[0m\n",
      "\u001b[36m12. other\u001b[0m\n",
      "\u001b[36mq. Quit\u001b[0m\n",
      "Enter the number of your choice or 'q' to quit: ^C\n",
      "Aborted!\n"
     ]
    }
   ],
   "source": [
    "!crewai create crew latest-ai-development"
   ]
  },
  {
   "cell_type": "markdown",
   "metadata": {},
   "source": [
    "2. `agents.yaml` 파일을 수정하십시오."
   ]
  },
  {
   "cell_type": "markdown",
   "metadata": {},
   "source": [
    "에이전트를 사용 사례에 맞게 수정하거나 프로젝트에 있는 그대로 복사하여 붙여넣을 수도 있습니다. `agents.yaml` 및 `tasks.yaml` 파일에서 `{topic}`과 같이 보간된 변수(variable)는 `main.py` 파일에 있는 변수 값으로 대체됩니다."
   ]
  },
  {
   "cell_type": "markdown",
   "metadata": {},
   "source": [
    "agents.yaml\n",
    "\n",
    "```yaml\n",
    "# src/latest_ai_development/config/agents.yaml\n",
    "researcher:\n",
    "  role: >\n",
    "    {topic} Senior Data Researcher\n",
    "  goal: >\n",
    "    Uncover cutting-edge developments in {topic}\n",
    "  backstory: >\n",
    "    You're a seasoned researcher with a knack for uncovering the latest\n",
    "    developments in {topic}. Known for your ability to find the most relevant\n",
    "    information and present it in a clear and concise manner.\n",
    "\n",
    "reporting_analyst:\n",
    "  role: >\n",
    "    {topic} Reporting Analyst\n",
    "  goal: >\n",
    "    Create detailed reports based on {topic} data analysis and research findings\n",
    "  backstory: >\n",
    "    You're a meticulous analyst with a keen eye for detail. You're known for\n",
    "    your ability to turn complex data into clear and concise reports, making\n",
    "    it easy for others to understand and act on the information you provide.\n",
    "```"
   ]
  },
  {
   "cell_type": "markdown",
   "metadata": {},
   "source": [
    "3. `tasks.yaml` 파일 수정"
   ]
  },
  {
   "cell_type": "markdown",
   "metadata": {},
   "source": [
    "```yaml\n",
    "# src/latest_ai_development/config/tasks.yaml\n",
    "research_task:\n",
    "  description: >\n",
    "    Conduct a thorough research about {topic}\n",
    "    Make sure you find any interesting and relevant information given\n",
    "    the current year is 2025.\n",
    "  expected_output: >\n",
    "    A list with 10 bullet points of the most relevant information about {topic}\n",
    "  agent: researcher\n",
    "\n",
    "reporting_task:\n",
    "  description: >\n",
    "    Review the context you got and expand each topic into a full section for a report.\n",
    "    Make sure the report is detailed and contains any and all relevant information.\n",
    "  expected_output: >\n",
    "    A fully fledge reports with the mains topics, each with a full section of information.\n",
    "    Formatted as markdown without '```'\n",
    "  agent: reporting_analyst\n",
    "  output_file: report.md\n",
    "``` "
   ]
  },
  {
   "cell_type": "markdown",
   "metadata": {},
   "source": [
    "4. Modify your `crew.py` file"
   ]
  },
  {
   "cell_type": "code",
   "execution_count": null,
   "metadata": {},
   "outputs": [],
   "source": [
    "# src/latest_ai_development/crew.py\n",
    "from crewai import Agent, Crew, Process, Task\n",
    "from crewai.project import CrewBase, agent, crew, task\n",
    "from crewai_tools import SerperDevTool\n",
    "\n",
    "@CrewBase\n",
    "class LatestAiDevelopmentCrew():\n",
    "  \"\"\"LatestAiDevelopment crew\"\"\"\n",
    "\n",
    "  @agent\n",
    "  def researcher(self) -> Agent:\n",
    "    return Agent(\n",
    "      config=self.agents_config['researcher'],\n",
    "      verbose=True,\n",
    "      tools=[SerperDevTool()]\n",
    "    )\n",
    "\n",
    "  @agent\n",
    "  def reporting_analyst(self) -> Agent:\n",
    "    return Agent(\n",
    "      config=self.agents_config['reporting_analyst'],\n",
    "      verbose=True\n",
    "    )\n",
    "\n",
    "  @task\n",
    "  def research_task(self) -> Task:\n",
    "    return Task(\n",
    "      config=self.tasks_config['research_task'],\n",
    "    )\n",
    "\n",
    "  @task\n",
    "  def reporting_task(self) -> Task:\n",
    "    return Task(\n",
    "      config=self.tasks_config['reporting_task'],\n",
    "      output_file='output/report.md' # 이 파일은 최종 보고서를 담게 될 파일입니다. (This is the file that will be contain the final report.)\n",
    "    )\n",
    "\n",
    "  @crew\n",
    "  def crew(self) -> Crew:\n",
    "    \"\"\"Creates the LatestAiDevelopment crew\"\"\"\n",
    "    return Crew(\n",
    "      agents=self.agents, # @agent 데코레이터에 의해 자동 생성됩니다. (Automatically created by the @agent decorator)\n",
    "      tasks=self.tasks, # @task 데코레이터에 의해 자동 생성됩니다. (Automatically created by the @task decorator)\n",
    "      process=Process.sequential,\n",
    "      verbose=True,\n",
    "    )"
   ]
  },
  {
   "cell_type": "markdown",
   "metadata": {},
   "source": [
    "\n",
    "5. [Optional] Add before and after crew functions"
   ]
  },
  {
   "cell_type": "markdown",
   "metadata": {},
   "source": [
    "```python\n",
    "# src/latest_ai_development/crew.py\n",
    "from crewai import Agent, Crew, Process, Task\n",
    "from crewai.project import CrewBase, agent, crew, task, before_kickoff, after_kickoff\n",
    "from crewai_tools import SerperDevTool\n",
    "\n",
    "@CrewBase\n",
    "class LatestAiDevelopmentCrew():\n",
    "  \"\"\"LatestAiDevelopment crew\"\"\"\n",
    "\n",
    "  @before_kickoff\n",
    "  def before_kickoff_function(self, inputs):\n",
    "    print(f\"Before kickoff function with inputs: {inputs}\")\n",
    "    return inputs # You can return the inputs or modify them as needed\n",
    "\n",
    "  @after_kickoff\n",
    "  def after_kickoff_function(self, result):\n",
    "    print(f\"After kickoff function with result: {result}\")\n",
    "    return result # You can return the result or modify it as needed\n",
    "\n",
    "  # ... remaining code\n",
    "```\n"
   ]
  },
  {
   "cell_type": "markdown",
   "metadata": {},
   "source": [
    "6. 자유롭게 당신의 크루에 커스텀 입력값(custom inputs)을 전달하세요.\n"
   ]
  },
  {
   "cell_type": "markdown",
   "metadata": {},
   "source": [
    "예를 들어, 당신의 크루에 주제 입력값(topic input)을 전달하여 리서치(research)와 보고(reporting)를 커스터마이징할 수 있습니다."
   ]
  },
  {
   "cell_type": "markdown",
   "metadata": {},
   "source": [
    "```python\n",
    "#!/usr/bin/env python\n",
    "# src/latest_ai_development/main.py\n",
    "import sys\n",
    "from latest_ai_development.crew import LatestAiDevelopmentCrew\n",
    "\n",
    "def run():\n",
    "  \"\"\"\n",
    "  Run the crew.\n",
    "  \"\"\"\n",
    "  inputs = {\n",
    "    'topic': 'AI Agents'\n",
    "  }\n",
    "  LatestAiDevelopmentCrew().crew().kickoff(inputs=inputs)\n",
    "```\n"
   ]
  },
  {
   "cell_type": "markdown",
   "metadata": {},
   "source": [
    "7. 환경 변수(environment variables)를 설정하세요."
   ]
  },
  {
   "cell_type": "markdown",
   "metadata": {},
   "source": [
    "크루를 실행하기 전에 다음 키(keys)들이 `.env` 파일에 환경 변수로 설정되었는지 확인하세요:"
   ]
  },
  {
   "cell_type": "code",
   "execution_count": null,
   "metadata": {},
   "outputs": [],
   "source": [
    "8. 의존성 고정 및 설치 (Lock and install the dependencies)\n",
    "\n",
    "CLI (command-line interface) 명령어를 사용하여 의존성을 고정하고 설치하세요. 먼저 프로젝트 디렉토리로 이동해야 합니다."
   ]
  },
  {
   "cell_type": "markdown",
   "metadata": {},
   "source": [
    "\n",
    "```bash\n",
    "cd latest-ai-development\n",
    "crewai install\n",
    "```"
   ]
  },
  {
   "cell_type": "markdown",
   "metadata": {},
   "source": [
    "9. 크루 실행하기 (Run your crew)\n",
    "\n",
    "크루를 실행하려면 프로젝트의 루트 디렉토리에서 다음 명령을 실행하세요:\n"
   ]
  },
  {
   "cell_type": "markdown",
   "metadata": {},
   "source": [
    "\n",
    "```bash\n",
    "crewai run\n",
    "```"
   ]
  },
  {
   "cell_type": "code",
   "execution_count": null,
   "metadata": {},
   "outputs": [],
   "source": [
    "10. 최종 보고서 보기 (View your final report)\n",
    "\n",
    "콘솔에서 출력을 확인하고, 프로젝트의 루트에 `report.md` 파일이 생성되어 최종 보고서가 저장된 것을 확인할 수 있습니다.\n",
    "\n",
    "다음은 보고서의 예시입니다:"
   ]
  },
  {
   "cell_type": "markdown",
   "metadata": {},
   "source": [
    "# Comprehensive Report on the Rise and Impact of AI Agents in 2025\n",
    "\n",
    "## 1. Introduction to AI Agents\n",
    "In 2025, Artificial Intelligence (AI) agents are at the forefront of innovation across various industries. As intelligent systems that can perform tasks typically requiring human cognition, AI agents are paving the way for significant advancements in operational efficiency, decision-making, and overall productivity within sectors like Human Resources (HR) and Finance. This report aims to detail the rise of AI agents, their frameworks, applications, and potential implications on the workforce.\n",
    "\n",
    "## 2. Benefits of AI Agents\n",
    "AI agents bring numerous advantages that are transforming traditional work environments. Key benefits include:\n",
    "\n",
    "- **Task Automation**: AI agents can carry out repetitive tasks such as data entry, scheduling, and payroll processing without human intervention, greatly reducing the time and resources spent on these activities.\n",
    "- **Improved Efficiency**: By quickly processing large datasets and performing analyses that would take humans significantly longer, AI agents enhance operational efficiency. This allows teams to focus on strategic tasks that require higher-level thinking.\n",
    "- **Enhanced Decision-Making**: AI agents can analyze trends and patterns in data, provide insights, and even suggest actions, helping stakeholders make informed decisions based on factual data rather than intuition alone.\n",
    "\n",
    "## 3. Popular AI Agent Frameworks\n",
    "Several frameworks have emerged to facilitate the development of AI agents, each with its own unique features and capabilities. Some of the most popular frameworks include:\n",
    "\n",
    "- **Autogen**: A framework designed to streamline the development of AI agents through automation of code generation.\n",
    "- **Semantic Kernel**: Focuses on natural language processing and understanding, enabling agents to comprehend user intentions better.\n",
    "- **Promptflow**: Provides tools for developers to create conversational agents that can navigate complex interactions seamlessly.\n",
    "- **Langchain**: Specializes in leveraging various APIs to ensure agents can access and utilize external data effectively.\n",
    "- **CrewAI**: Aimed at collaborative environments, CrewAI strengthens teamwork by facilitating communication through AI-driven insights.\n",
    "- **MemGPT**: Combines memory-optimized architectures with generative capabilities, allowing for more personalized interactions with users.\n",
    "\n",
    "These frameworks empower developers to build versatile and intelligent agents that can engage users, perform advanced analytics, and execute various tasks aligned with organizational goals.\n",
    "\n",
    "## 4. AI Agents in Human Resources\n",
    "AI agents are revolutionizing HR practices by automating and optimizing key functions:\n",
    "\n",
    "- **Recruiting**: AI agents can screen resumes, schedule interviews, and even conduct initial assessments, thus accelerating the hiring process while minimizing biases.\n",
    "- **Succession Planning**: AI systems analyze employee performance data and potential, helping organizations identify future leaders and plan appropriate training.\n",
    "- **Employee Engagement**: Chatbots powered by AI can facilitate feedback loops between employees and management, promoting an open culture and addressing concerns promptly.\n",
    "\n",
    "As AI continues to evolve, HR departments leveraging these agents can realize substantial improvements in both efficiency and employee satisfaction.\n",
    "\n",
    "## 5. AI Agents in Finance\n",
    "The finance sector is seeing extensive integration of AI agents that enhance financial practices:\n",
    "\n",
    "- **Expense Tracking**: Automated systems manage and monitor expenses, flagging anomalies and offering recommendations based on spending patterns.\n",
    "- **Risk Assessment**: AI models assess credit risk and uncover potential fraud by analyzing transaction data and behavioral patterns.\n",
    "- **Investment Decisions**: AI agents provide stock predictions and analytics based on historical data and current market conditions, empowering investors with informative insights.\n",
    "\n",
    "The incorporation of AI agents into finance is fostering a more responsive and risk-aware financial landscape.\n",
    "\n",
    "## 6. Market Trends and Investments\n",
    "The growth of AI agents has attracted significant investment, especially amidst the rising popularity of chatbots and generative AI technologies. Companies and entrepreneurs are eager to explore the potential of these systems, recognizing their ability to streamline operations and improve customer engagement.\n",
    "\n",
    "Conversely, corporations like Microsoft are taking strides to integrate AI agents into their product offerings, with enhancements to their Copilot 365 applications. This strategic move emphasizes the importance of AI literacy in the modern workplace and indicates the stabilizing of AI agents as essential business tools.\n",
    "\n",
    "## 7. Future Predictions and Implications\n",
    "Experts predict that AI agents will transform essential aspects of work life. As we look toward the future, several anticipated changes include:\n",
    "\n",
    "- Enhanced integration of AI agents across all business functions, creating interconnected systems that leverage data from various departmental silos for comprehensive decision-making.\n",
    "- Continued advancement of AI technologies, resulting in smarter, more adaptable agents capable of learning and evolving from user interactions.\n",
    "- Increased regulatory scrutiny to ensure ethical use, especially concerning data privacy and employee surveillance as AI agents become more prevalent.\n",
    "\n",
    "To stay competitive and harness the full potential of AI agents, organizations must remain vigilant about latest developments in AI technology and consider continuous learning and adaptation in their strategic planning.\n",
    "\n",
    "## 8. Conclusion\n",
    "The emergence of AI agents is undeniably reshaping the workplace landscape in 5. With their ability to automate tasks, enhance efficiency, and improve decision-making, AI agents are critical in driving operational success. Organizations must embrace and adapt to AI developments to thrive in an increasingly digital business environment."
   ]
  }
 ],
 "metadata": {
  "kernelspec": {
   "display_name": "Python 3",
   "language": "python",
   "name": "python3"
  },
  "language_info": {
   "codemirror_mode": {
    "name": "ipython",
    "version": 3
   },
   "file_extension": ".py",
   "mimetype": "text/x-python",
   "name": "python",
   "nbconvert_exporter": "python",
   "pygments_lexer": "ipython3",
   "version": "3.12.9"
  }
 },
 "nbformat": 4,
 "nbformat_minor": 2
}
