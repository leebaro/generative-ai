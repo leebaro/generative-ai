{
 "cells": [
  {
   "cell_type": "markdown",
   "id": "bae53a09-c04c-4916-a146-00e0bb188954",
   "metadata": {},
   "source": [
    "# L4: Support Data Insight Analysis"
   ]
  },
  {
   "cell_type": "markdown",
   "id": "fd08797e-0262-47f6-a5ba-0f933b06b06a",
   "metadata": {},
   "source": [
    "<p style=\"background-color:#fff6e4; padding:15px; border-width:3px; border-color:#f5ecda; border-style:solid; border-radius:6px\"> ⏳ <b>Note <code>(Kernel Starting)</code>:</b> This notebook takes about 30 seconds to be ready to use. You may start and watch the video while you wait.</p>"
   ]
  },
  {
   "cell_type": "markdown",
   "id": "cc6c1339-5278-4daf-8e97-04c280bde548",
   "metadata": {},
   "source": [
    "## Initial Imports"
   ]
  },
  {
   "cell_type": "code",
   "execution_count": 1,
   "id": "41d1ce58-9d2e-4349-acbd-49227e37d31c",
   "metadata": {
    "height": 200
   },
   "outputs": [],
   "source": [
    "# Warning control\n",
    "import warnings\n",
    "warnings.filterwarnings('ignore')\n",
    "\n",
    "# Load environment variables\n",
    "from helper import load_env\n",
    "load_env()\n",
    "\n",
    "import os\n",
    "import yaml\n",
    "from crewai import Agent, Task, Crew"
   ]
  },
  {
   "cell_type": "markdown",
   "id": "7f583209-37a0-41a6-b5e8-3eee9c7127b6",
   "metadata": {},
   "source": [
    "<p style=\"background-color:#fff6ff; padding:15px; border-width:3px; border-color:#efe6ef; border-style:solid; border-radius:6px\"> 💻 &nbsp; <b>Access <code>requirements.txt</code> and <code>helper.py</code> files:</b> 1) click on the <em>\"File\"</em> option on the top menu of the notebook and then 2) click on <em>\"Open\"</em>. For more help, please see the <em>\"Appendix - Tips and Help\"</em> Lesson.</p>"
   ]
  },
  {
   "cell_type": "markdown",
   "id": "fe1b574a-502a-49ec-9dc4-1e4e32754986",
   "metadata": {},
   "source": [
    "## Loading Tasks and Agents YAML files"
   ]
  },
  {
   "cell_type": "code",
   "execution_count": 2,
   "id": "0f171b23-b3cc-48c9-a8ba-07358e271e63",
   "metadata": {
    "height": 268
   },
   "outputs": [],
   "source": [
    "# Define file paths for YAML configurations\n",
    "files = {\n",
    "    'agents': 'config/agents.yaml',\n",
    "    'tasks': 'config/tasks.yaml'\n",
    "}\n",
    "\n",
    "# Load configurations from YAML files\n",
    "configs = {}\n",
    "for config_type, file_path in files.items():\n",
    "    with open(file_path, 'r') as file:\n",
    "        configs[config_type] = yaml.safe_load(file)\n",
    "\n",
    "# Assign loaded configurations to specific variables\n",
    "agents_config = configs['agents']\n",
    "tasks_config = configs['tasks']"
   ]
  },
  {
   "cell_type": "markdown",
   "id": "27064ec0-4a12-4dbd-b9b2-c77d4aaaedb5",
   "metadata": {},
   "source": [
    "## Using FileReadTool"
   ]
  },
  {
   "cell_type": "code",
   "execution_count": 3,
   "id": "f58e827a-8e2e-4f1d-8f8c-9486828f951d",
   "metadata": {
    "height": 47
   },
   "outputs": [
    {
     "name": "stderr",
     "output_type": "stream",
     "text": [
      "/Users/frodo/Documents/project/frodo-generative-ai/frodo/crew-ai/deeplearning.ai/Multi_AI_Agent_Systems_with_crewAI/crewai-env/lib/python3.12/site-packages/pydantic/_internal/_config.py:295: PydanticDeprecatedSince20: Support for class-based `config` is deprecated, use ConfigDict instead. Deprecated in Pydantic V2.0 to be removed in V3.0. See Pydantic V2 Migration Guide at https://errors.pydantic.dev/2.10/migration/\n",
      "  warnings.warn(DEPRECATION_MESSAGE, DeprecationWarning)\n",
      "/Users/frodo/Documents/project/frodo-generative-ai/frodo/crew-ai/deeplearning.ai/Multi_AI_Agent_Systems_with_crewAI/crewai-env/lib/python3.12/site-packages/crewai_tools/tools/scrapegraph_scrape_tool/scrapegraph_scrape_tool.py:34: PydanticDeprecatedSince20: Pydantic V1 style `@validator` validators are deprecated. You should migrate to Pydantic V2 style `@field_validator` validators, see the migration guide for more details. Deprecated in Pydantic V2.0 to be removed in V3.0. See Pydantic V2 Migration Guide at https://errors.pydantic.dev/2.10/migration/\n",
      "  @validator(\"website_url\")\n",
      "/Users/frodo/Documents/project/frodo-generative-ai/frodo/crew-ai/deeplearning.ai/Multi_AI_Agent_Systems_with_crewAI/crewai-env/lib/python3.12/site-packages/crewai_tools/tools/selenium_scraping_tool/selenium_scraping_tool.py:26: PydanticDeprecatedSince20: Pydantic V1 style `@validator` validators are deprecated. You should migrate to Pydantic V2 style `@field_validator` validators, see the migration guide for more details. Deprecated in Pydantic V2.0 to be removed in V3.0. See Pydantic V2 Migration Guide at https://errors.pydantic.dev/2.10/migration/\n",
      "  @validator(\"website_url\")\n",
      "/Users/frodo/Documents/project/frodo-generative-ai/frodo/crew-ai/deeplearning.ai/Multi_AI_Agent_Systems_with_crewAI/crewai-env/lib/python3.12/site-packages/crewai_tools/tools/vision_tool/vision_tool.py:15: PydanticDeprecatedSince20: Pydantic V1 style `@validator` validators are deprecated. You should migrate to Pydantic V2 style `@field_validator` validators, see the migration guide for more details. Deprecated in Pydantic V2.0 to be removed in V3.0. See Pydantic V2 Migration Guide at https://errors.pydantic.dev/2.10/migration/\n",
      "  @validator(\"image_path_url\")\n"
     ]
    }
   ],
   "source": [
    "from crewai_tools import FileReadTool\n",
    "csv_tool = FileReadTool(file_path='./support_tickets_data.csv')"
   ]
  },
  {
   "cell_type": "markdown",
   "id": "7dc509e7-5aae-4795-a5f1-822cd5bfaefa",
   "metadata": {},
   "source": [
    "## Creating Agents, Tasks and Crew"
   ]
  },
  {
   "cell_type": "code",
   "execution_count": 4,
   "id": "33d2c719-9823-4d12-bd87-219f5145f7dc",
   "metadata": {
    "height": 948
   },
   "outputs": [
    {
     "ename": "RuntimeError",
     "evalue": "Docker is not installed. Please install Docker to use code execution with agent: Chart Specialist\n",
     "output_type": "error",
     "traceback": [
      "\u001b[0;31m---------------------------------------------------------------------------\u001b[0m",
      "\u001b[0;31mRuntimeError\u001b[0m                              Traceback (most recent call last)",
      "Cell \u001b[0;32mIn[4], line 12\u001b[0m\n\u001b[1;32m      2\u001b[0m suggestion_generation_agent \u001b[38;5;241m=\u001b[39m Agent(\n\u001b[1;32m      3\u001b[0m   config\u001b[38;5;241m=\u001b[39magents_config[\u001b[38;5;124m'\u001b[39m\u001b[38;5;124msuggestion_generation_agent\u001b[39m\u001b[38;5;124m'\u001b[39m],\n\u001b[1;32m      4\u001b[0m   tools\u001b[38;5;241m=\u001b[39m[csv_tool]\n\u001b[1;32m      5\u001b[0m )\n\u001b[1;32m      7\u001b[0m reporting_agent \u001b[38;5;241m=\u001b[39m Agent(\n\u001b[1;32m      8\u001b[0m   config\u001b[38;5;241m=\u001b[39magents_config[\u001b[38;5;124m'\u001b[39m\u001b[38;5;124mreporting_agent\u001b[39m\u001b[38;5;124m'\u001b[39m],\n\u001b[1;32m      9\u001b[0m   tools\u001b[38;5;241m=\u001b[39m[csv_tool]\n\u001b[1;32m     10\u001b[0m )\n\u001b[0;32m---> 12\u001b[0m chart_generation_agent \u001b[38;5;241m=\u001b[39m \u001b[43mAgent\u001b[49m\u001b[43m(\u001b[49m\n\u001b[1;32m     13\u001b[0m \u001b[43m  \u001b[49m\u001b[43mconfig\u001b[49m\u001b[38;5;241;43m=\u001b[39;49m\u001b[43magents_config\u001b[49m\u001b[43m[\u001b[49m\u001b[38;5;124;43m'\u001b[39;49m\u001b[38;5;124;43mchart_generation_agent\u001b[39;49m\u001b[38;5;124;43m'\u001b[39;49m\u001b[43m]\u001b[49m\u001b[43m,\u001b[49m\n\u001b[1;32m     14\u001b[0m \u001b[43m  \u001b[49m\u001b[43mallow_code_execution\u001b[49m\u001b[38;5;241;43m=\u001b[39;49m\u001b[38;5;28;43;01mTrue\u001b[39;49;00m\n\u001b[1;32m     15\u001b[0m \u001b[43m)\u001b[49m\n\u001b[1;32m     17\u001b[0m \u001b[38;5;66;03m# Creating Tasks\u001b[39;00m\n\u001b[1;32m     18\u001b[0m suggestion_generation \u001b[38;5;241m=\u001b[39m Task(\n\u001b[1;32m     19\u001b[0m   config\u001b[38;5;241m=\u001b[39mtasks_config[\u001b[38;5;124m'\u001b[39m\u001b[38;5;124msuggestion_generation\u001b[39m\u001b[38;5;124m'\u001b[39m],\n\u001b[1;32m     20\u001b[0m   agent\u001b[38;5;241m=\u001b[39msuggestion_generation_agent\n\u001b[1;32m     21\u001b[0m )\n",
      "    \u001b[0;31m[... skipping hidden 1 frame]\u001b[0m\n",
      "File \u001b[0;32m~/Documents/project/frodo-generative-ai/frodo/crew-ai/deeplearning.ai/Multi_AI_Agent_Systems_with_crewAI/crewai-env/lib/python3.12/site-packages/crewai/agent.py:136\u001b[0m, in \u001b[0;36mAgent.post_init_setup\u001b[0;34m(self)\u001b[0m\n\u001b[1;32m    133\u001b[0m     \u001b[38;5;28mself\u001b[39m\u001b[38;5;241m.\u001b[39m_setup_agent_executor()\n\u001b[1;32m    135\u001b[0m \u001b[38;5;28;01mif\u001b[39;00m \u001b[38;5;28mself\u001b[39m\u001b[38;5;241m.\u001b[39mallow_code_execution:\n\u001b[0;32m--> 136\u001b[0m     \u001b[38;5;28;43mself\u001b[39;49m\u001b[38;5;241;43m.\u001b[39;49m\u001b[43m_validate_docker_installation\u001b[49m\u001b[43m(\u001b[49m\u001b[43m)\u001b[49m\n\u001b[1;32m    138\u001b[0m \u001b[38;5;28;01mreturn\u001b[39;00m \u001b[38;5;28mself\u001b[39m\n",
      "File \u001b[0;32m~/Documents/project/frodo-generative-ai/frodo/crew-ai/deeplearning.ai/Multi_AI_Agent_Systems_with_crewAI/crewai-env/lib/python3.12/site-packages/crewai/agent.py:431\u001b[0m, in \u001b[0;36mAgent._validate_docker_installation\u001b[0;34m(self)\u001b[0m\n\u001b[1;32m    429\u001b[0m \u001b[38;5;250m\u001b[39m\u001b[38;5;124;03m\"\"\"Check if Docker is installed and running.\"\"\"\u001b[39;00m\n\u001b[1;32m    430\u001b[0m \u001b[38;5;28;01mif\u001b[39;00m \u001b[38;5;129;01mnot\u001b[39;00m shutil\u001b[38;5;241m.\u001b[39mwhich(\u001b[38;5;124m\"\u001b[39m\u001b[38;5;124mdocker\u001b[39m\u001b[38;5;124m\"\u001b[39m):\n\u001b[0;32m--> 431\u001b[0m     \u001b[38;5;28;01mraise\u001b[39;00m \u001b[38;5;167;01mRuntimeError\u001b[39;00m(\n\u001b[1;32m    432\u001b[0m         \u001b[38;5;124mf\u001b[39m\u001b[38;5;124m\"\u001b[39m\u001b[38;5;124mDocker is not installed. Please install Docker to use code execution with agent: \u001b[39m\u001b[38;5;132;01m{\u001b[39;00m\u001b[38;5;28mself\u001b[39m\u001b[38;5;241m.\u001b[39mrole\u001b[38;5;132;01m}\u001b[39;00m\u001b[38;5;124m\"\u001b[39m\n\u001b[1;32m    433\u001b[0m     )\n\u001b[1;32m    435\u001b[0m \u001b[38;5;28;01mtry\u001b[39;00m:\n\u001b[1;32m    436\u001b[0m     subprocess\u001b[38;5;241m.\u001b[39mrun(\n\u001b[1;32m    437\u001b[0m         [\u001b[38;5;124m\"\u001b[39m\u001b[38;5;124mdocker\u001b[39m\u001b[38;5;124m\"\u001b[39m, \u001b[38;5;124m\"\u001b[39m\u001b[38;5;124minfo\u001b[39m\u001b[38;5;124m\"\u001b[39m],\n\u001b[1;32m    438\u001b[0m         check\u001b[38;5;241m=\u001b[39m\u001b[38;5;28;01mTrue\u001b[39;00m,\n\u001b[1;32m    439\u001b[0m         stdout\u001b[38;5;241m=\u001b[39msubprocess\u001b[38;5;241m.\u001b[39mPIPE,\n\u001b[1;32m    440\u001b[0m         stderr\u001b[38;5;241m=\u001b[39msubprocess\u001b[38;5;241m.\u001b[39mPIPE,\n\u001b[1;32m    441\u001b[0m     )\n",
      "\u001b[0;31mRuntimeError\u001b[0m: Docker is not installed. Please install Docker to use code execution with agent: Chart Specialist\n"
     ]
    }
   ],
   "source": [
    "# Creating Agents\n",
    "suggestion_generation_agent = Agent(\n",
    "  config=agents_config['suggestion_generation_agent'],\n",
    "  tools=[csv_tool]\n",
    ")\n",
    "\n",
    "reporting_agent = Agent(\n",
    "  config=agents_config['reporting_agent'],\n",
    "  tools=[csv_tool]\n",
    ")\n",
    "\n",
    "chart_generation_agent = Agent(\n",
    "  config=agents_config['chart_generation_agent'],\n",
    "  allow_code_execution=True\n",
    ")\n",
    "\n",
    "# Creating Tasks\n",
    "suggestion_generation = Task(\n",
    "  config=tasks_config['suggestion_generation'],\n",
    "  agent=suggestion_generation_agent\n",
    ")\n",
    "\n",
    "table_generation = Task(\n",
    "  config=tasks_config['table_generation'],\n",
    "  agent=reporting_agent\n",
    ")\n",
    "\n",
    "chart_generation = Task(\n",
    "  config=tasks_config['chart_generation'],\n",
    "  agent=chart_generation_agent\n",
    ")\n",
    "\n",
    "final_report_assembly = Task(\n",
    "  config=tasks_config['final_report_assembly'],\n",
    "  agent=reporting_agent,\n",
    "  context=[suggestion_generation, table_generation, chart_generation]\n",
    ")\n",
    "\n",
    "\n",
    "# Creating Crew\n",
    "support_report_crew = Crew(\n",
    "  agents=[\n",
    "    suggestion_generation_agent,\n",
    "    reporting_agent,\n",
    "    chart_generation_agent\n",
    "  ],\n",
    "  tasks=[\n",
    "    suggestion_generation,\n",
    "    table_generation,\n",
    "    chart_generation,\n",
    "    final_report_assembly\n",
    "  ],\n",
    "  verbose=True\n",
    ")\n"
   ]
  },
  {
   "cell_type": "markdown",
   "id": "299bca36-395b-45f2-92e7-27b403e32a27",
   "metadata": {},
   "source": [
    "## Testing our Crew"
   ]
  },
  {
   "cell_type": "code",
   "execution_count": null,
   "id": "b6646acc-e280-44cc-8968-08db37115eba",
   "metadata": {
    "height": 30
   },
   "outputs": [],
   "source": [
    "support_report_crew.test(n_iterations=1, openai_model_name='gpt-4o')"
   ]
  },
  {
   "cell_type": "markdown",
   "id": "3d1fa2c2-6256-4420-8b7b-c8d5e09bbc01",
   "metadata": {},
   "source": [
    "## Training your crew and agents"
   ]
  },
  {
   "cell_type": "code",
   "execution_count": null,
   "id": "5a4e362d-c010-43dd-88c4-e7db87834fb4",
   "metadata": {
    "height": 30
   },
   "outputs": [],
   "source": [
    "support_report_crew.train(n_iterations=1, filename='training.pkl')"
   ]
  },
  {
   "cell_type": "markdown",
   "id": "39e94a74-8700-4f83-b732-01b8d63dd774",
   "metadata": {},
   "source": [
    "## Comparing new test results"
   ]
  },
  {
   "cell_type": "code",
   "execution_count": null,
   "id": "0fc73842-8162-49f9-b4a1-5dc7d86f3e48",
   "metadata": {
    "height": 30
   },
   "outputs": [],
   "source": [
    "support_report_crew.test(n_iterations=1, openai_model_name='gpt-4o')"
   ]
  },
  {
   "cell_type": "code",
   "execution_count": null,
   "id": "0e8626d2-e48a-4b7e-a061-a8eb492c9036",
   "metadata": {
    "height": 115
   },
   "outputs": [],
   "source": [
    "# Display the Trello screenshot\n",
    "from IPython.display import Image, display\n",
    "\n",
    "# Load and display the image\n",
    "test_image = Image(filename='test_before_training.png', width=368)\n",
    "display(test_image)"
   ]
  },
  {
   "cell_type": "markdown",
   "id": "1d1437cf-ebc1-4e46-b982-7eeec5462479",
   "metadata": {},
   "source": [
    "## Kicking off Crew"
   ]
  },
  {
   "cell_type": "code",
   "execution_count": null,
   "id": "a655927f-c10c-4c06-852a-d9c96fdfbfb9",
   "metadata": {
    "height": 30
   },
   "outputs": [],
   "source": [
    "result = support_report_crew.kickoff()"
   ]
  },
  {
   "cell_type": "markdown",
   "id": "d039f919-2d28-4871-b316-8813e9adebde",
   "metadata": {},
   "source": [
    "## Result"
   ]
  },
  {
   "cell_type": "code",
   "execution_count": null,
   "id": "9e861574-0f9b-4f2c-b2d1-a230fc3a53a3",
   "metadata": {
    "height": 47
   },
   "outputs": [],
   "source": [
    "from IPython.display import display, Markdown\n",
    "display(Markdown(result.raw))"
   ]
  },
  {
   "cell_type": "code",
   "execution_count": null,
   "id": "1a951d6a-8363-44f4-8783-e8397f435a32",
   "metadata": {
    "height": 30
   },
   "outputs": [],
   "source": []
  },
  {
   "cell_type": "code",
   "execution_count": null,
   "id": "fa40b53e-0a49-4198-a263-c79a6a3af603",
   "metadata": {
    "height": 30
   },
   "outputs": [],
   "source": []
  },
  {
   "cell_type": "code",
   "execution_count": null,
   "id": "f5fb6a8a-7ae7-4ae6-99a7-92aa09d97d7f",
   "metadata": {
    "height": 30
   },
   "outputs": [],
   "source": []
  },
  {
   "cell_type": "code",
   "execution_count": null,
   "id": "66b3b165-2a4b-46cc-93f7-696dffff1e10",
   "metadata": {
    "height": 30
   },
   "outputs": [],
   "source": []
  },
  {
   "cell_type": "code",
   "execution_count": null,
   "id": "a7c2a2af-3e55-4de9-86bb-d33c21ade238",
   "metadata": {
    "height": 30
   },
   "outputs": [],
   "source": []
  },
  {
   "cell_type": "code",
   "execution_count": null,
   "id": "109926d3-50e5-43e7-87f8-a1d38e45d79d",
   "metadata": {
    "height": 30
   },
   "outputs": [],
   "source": []
  }
 ],
 "metadata": {
  "kernelspec": {
   "display_name": "Python 3 (ipykernel)",
   "language": "python",
   "name": "python3"
  },
  "language_info": {
   "codemirror_mode": {
    "name": "ipython",
    "version": 3
   },
   "file_extension": ".py",
   "mimetype": "text/x-python",
   "name": "python",
   "nbconvert_exporter": "python",
   "pygments_lexer": "ipython3",
   "version": "3.12.9"
  }
 },
 "nbformat": 4,
 "nbformat_minor": 5
}
